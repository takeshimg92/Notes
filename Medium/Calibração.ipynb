{
 "cells": [
  {
   "cell_type": "markdown",
   "id": "42d9efb9",
   "metadata": {},
   "source": [
    "# Você deveria estar calibrando seu modelo (ou não?)"
   ]
  },
  {
   "cell_type": "markdown",
   "id": "f01c1a0b",
   "metadata": {},
   "source": [
    "## Introdução"
   ]
  },
  {
   "cell_type": "markdown",
   "id": "dbfaaf44",
   "metadata": {},
   "source": [
    "Se você é um(a) cientista de dados, provavelmente sabe que a maior parte dos algoritmos de classificação do Scikit-Learn tem dois métodos: `.predict()` e `.predict_proba()`, em que o primeiro devolve um número inteiro (0 ou 1 no caso binário) enquanto o segundo devolve um número real (*entre* 0 e 1 no caso binário)."
   ]
  },
  {
   "cell_type": "markdown",
   "id": "bb815afa",
   "metadata": {},
   "source": [
    "O que alguns cientistas às vezes não percebem é que este número em [0,1] não necessariamente é uma *probabilidade*, no sentido matemático, mas somente um score: ou seja, se uma entrada $x_1$ tem previsão 0.3 e outra $x_2$ tem previsão 0.4, então é verdade que $x_2$ tem maior probabilidade de ser 1 do que $x_1$; mas **não** quer dizer que esta probabilidade em si seja 0.4."
   ]
  },
  {
   "cell_type": "markdown",
   "id": "a05f2c98",
   "metadata": {},
   "source": [
    "> Scores nos permitem *ordenar*; probabilidades são exemplos de scores, mas possuem estrutura extra."
   ]
  },
  {
   "cell_type": "markdown",
   "id": "423c1af1",
   "metadata": {},
   "source": [
    "No contexto de modelos de classificação, o processo de **calibração de modelos** é o que permite que você interprete o output `0.4` do seu `model.predict_proba(X)` como querendo dizer que \"existe uma probabilidade de 40% de $y$ ser igual a 1\"."
   ]
  },
  {
   "cell_type": "markdown",
   "id": "33aadd05",
   "metadata": {},
   "source": [
    "## Para o apressado"
   ]
  },
  {
   "cell_type": "markdown",
   "id": "b0b93f43",
   "metadata": {},
   "source": [
    "Ver a seção de conclusão, que contém um passo-a-passo de como realizar a calibração."
   ]
  },
  {
   "cell_type": "markdown",
   "id": "726456d4",
   "metadata": {},
   "source": [
    "## Contexto matemático"
   ]
  },
  {
   "cell_type": "markdown",
   "id": "b1561b4d",
   "metadata": {},
   "source": [
    "Consideremos o cenário de duas variáveis aleatórias $(X,Y)$ distribuidas conjuntamente, em que $X$ assume valores reais e $Y$ assume valores em $\\{0,1\\}$."
   ]
  },
  {
   "cell_type": "markdown",
   "id": "414fe631",
   "metadata": {},
   "source": [
    "O problema de classificação binária se resume a encontrar uma função $f$ tal que\n",
    "\n",
    "$$f(x) = \\mathbb P(Y=1|X=x),$$\n",
    "\n",
    "isto é, a probabilidade de $Y$ ser 1 quando a variável $X$ assume o valor $x$. \n",
    "\n",
    "Na prática, nós não temos acesso a $\\mathbb P$, e tentamos encontrar uma aproximação (que chamaremos de $\\widehat{\\mathbb P}$). \n",
    "\n",
    "O processo de treinar um modelo de classificação nos dá acesso a uma função $s$ (que chamaremos de **função score**) tal que\n",
    "\n",
    "$$s(x) = \\widehat{\\mathbb P}(Y=1|X=x)$$"
   ]
  },
  {
   "cell_type": "markdown",
   "id": "5a406fd0",
   "metadata": {},
   "source": [
    "Disso, o processo de calibração se propõe a identificar uma função $\\phi$ que converte scores em probabilidades:\n",
    "\n",
    "$$\\boxed{\\phi \\circ s \\approx f}$$\n",
    "\n",
    "ou, em outras palavras, \n",
    "\n",
    "$$\\mathbb P(Y=1|X=x) \\approx \\phi(\\widehat{\\mathbb P}(Y=1|X=x))$$"
   ]
  },
  {
   "cell_type": "markdown",
   "id": "b603c2ab",
   "metadata": {},
   "source": [
    "## Mas... scores não são suficientes?"
   ]
  },
  {
   "cell_type": "markdown",
   "id": "32740f82",
   "metadata": {},
   "source": [
    "Muitas vezes, sim:\n",
    "* Em crédito, um banco tem uma lista de pessoas pedindo crédito, e precisa ordená-las das menos às mais propensas a ser inadimplentes no pagamento deste crédito. Aqui, um modelo de score é o bastante\n",
    "* Num site de e-commerce que queira recomendar produtos ao seu cliente, ele não precisa saber exatamente a probabilidade do cliente clicar e comprar um produto; somente é necessário saber quais produtos são mais propensos que outros."
   ]
  },
  {
   "cell_type": "markdown",
   "id": "7dd697e3",
   "metadata": {},
   "source": [
    "Em outras situações, como fraude ou seguros, isso deixa de ser verdade e probabilidades reais são necessárias."
   ]
  },
  {
   "cell_type": "markdown",
   "id": "797c0232",
   "metadata": {},
   "source": [
    "> Decida se no seu caso de uso / aplicação você precisa mesmo de calibração, ou se scores bastam."
   ]
  },
  {
   "cell_type": "markdown",
   "id": "a8505b39",
   "metadata": {},
   "source": [
    "## Como realizar uma análise de calibração?\n",
    "\n",
    "Existem duas etapas:\n",
    "1. **Diagnóstico**: entender se seu modelo está mal-calibrado ou não\n",
    "2. **Calibração**: rodar um algoritmo de calibração."
   ]
  },
  {
   "cell_type": "markdown",
   "id": "957347be",
   "metadata": {},
   "source": [
    "Para o diagnóstico, existem **4 métricas** importantes a considerarmos:\n",
    "1. Brier score \n",
    "2. Expected Calibration Error (ECE)\n",
    "3. Curva de calibração\n",
    "4. Brier score estratificado (para problemas desbalanceados)"
   ]
  },
  {
   "cell_type": "markdown",
   "id": "28e5507e",
   "metadata": {},
   "source": [
    "Para a calibração, por outro lado, usaremos **2 algoritmos**:\n",
    "1. Regressão isotônica, que se propõe a melhorar o Brier score\n",
    "2. Calibração via \"underbagging\" (undersampling+bagging), discutida no artigo [1] de Wallace & Dahabreh."
   ]
  },
  {
   "cell_type": "markdown",
   "id": "e0372133",
   "metadata": {},
   "source": [
    "## Montar base de exemplo e alguns modelos"
   ]
  },
  {
   "cell_type": "markdown",
   "id": "948a2036",
   "metadata": {},
   "source": [
    "Vamos instanciar três modelos: um gradient boosting, uma random forest, e uma regressão logística."
   ]
  },
  {
   "cell_type": "code",
   "execution_count": 124,
   "id": "b824fe40",
   "metadata": {},
   "outputs": [],
   "source": [
    "import numpy as np\n",
    "import matplotlib.pyplot as plt\n",
    "import pandas as pd\n",
    "\n",
    "from sklearn.datasets import make_classification\n",
    "from sklearn.model_selection import train_test_split\n",
    "from sklearn.ensemble import HistGradientBoostingClassifier, RandomForestClassifier\n",
    "from sklearn.linear_model import LogisticRegression\n",
    "from sklearn.metrics import roc_auc_score\n",
    "\n",
    "\n",
    "# criar dados\n",
    "X, y = make_classification(n_samples=20000, n_features=10, n_informative=8, n_redundant=1, n_repeated=1, \n",
    "                           random_state=10)\n",
    "X_train, X_test, y_train, y_test = train_test_split(X, y, test_size=0.3, random_state=10)\n",
    "\n",
    "# instanciar alguns modelos \n",
    "gb = HistGradientBoostingClassifier(max_depth=5, random_state=1).fit(X_train, y_train)\n",
    "rf = RandomForestClassifier(max_depth=5, random_state=2).fit(X_train, y_train)\n",
    "lr = LogisticRegression().fit(X_train, y_train);"
   ]
  },
  {
   "cell_type": "markdown",
   "id": "84987305",
   "metadata": {},
   "source": [
    "## Parte 1: diagnóstico"
   ]
  },
  {
   "cell_type": "markdown",
   "id": "ace98363",
   "metadata": {},
   "source": [
    "Suponha que, para um ponto $X=x$ dado, seu score seja de $s(x) = 0.3$. O que significa que essa probabilidade seja de 30%?\n",
    "\n",
    "A interpretação é: considere todos os pontos (além de $x$) $x_1, x_2, \\ldots, x_k$ cujo score é 30%. Então, destes, 30%  devem ter $Y=1$, e os outros $Y=0$."
   ]
  },
  {
   "cell_type": "markdown",
   "id": "00d5898d",
   "metadata": {},
   "source": [
    "Se isso for verdade não apenas para o valor 30%, mas qualquer outro, então o modelo está bem calibrado. Afinal, dos pontos com score de 30%, realmente houve 30% com $Y=1$."
   ]
  },
  {
   "cell_type": "markdown",
   "id": "eb7513d3",
   "metadata": {},
   "source": [
    "Claro que, numa dada amostra, podemos ter quaisquer valores de score: 0.2998, 0.3005, 0.30873 etc. Para conseguirmos pontos o suficiente para estudar se um score de 0.3 é bem calibrado, precisamos agrupar scores próximos em **bins**, como fazemos na hora de construir um histograma."
   ]
  },
  {
   "cell_type": "markdown",
   "id": "3d6cb47f",
   "metadata": {},
   "source": [
    "**Como montar uma curva de calibração:**\n",
    "* Calcular as previsões do modelo `y_probs`\n",
    "* Criar bins (segundo alguma estratégia) de scores próximos\n",
    "* Calcular: quantos % pontos dentro de cada bin tem $Y=1$?\n",
    "* Calcular: qual a média dos scores dentro de cada bin?"
   ]
  },
  {
   "cell_type": "markdown",
   "id": "297d15b7",
   "metadata": {},
   "source": [
    "A função `calibration_curve` do Scikit-Learn faz estas etapas para nós:"
   ]
  },
  {
   "cell_type": "code",
   "execution_count": 125,
   "id": "e70fd24f",
   "metadata": {},
   "outputs": [],
   "source": [
    "from sklearn.calibration import calibration_curve"
   ]
  },
  {
   "cell_type": "code",
   "execution_count": 126,
   "id": "73641c1f",
   "metadata": {},
   "outputs": [
    {
     "data": {
      "image/png": "[encoded data removed]",
      "text/plain": [
       "<Figure size 432x288 with 1 Axes>"
      ]
     },
     "metadata": {
      "needs_background": "light"
     },
     "output_type": "display_data"
    }
   ],
   "source": [
    "fig, ax = plt.subplots()\n",
    "models, names = [lr, rf, gb], ['Logistic', 'RF', 'GBDT']\n",
    "for model, name in zip(models, names):\n",
    "    y_probs = model.predict_proba(X_test)[:,1]\n",
    "    proportion_true, prob_pred = calibration_curve(y_test, y_probs, n_bins=8)\n",
    "    ax.plot(prob_pred, proportion_true, label=name, marker='o')\n",
    "\n",
    "plt.plot([0,1], color='gray', linestyle='--')\n",
    "plt.xlabel(\"Mean predicted scores\")\n",
    "plt.ylabel(\"True proportion\")\n",
    "plt.legend()\n",
    "plt.show()"
   ]
  },
  {
   "cell_type": "markdown",
   "id": "aa380980",
   "metadata": {},
   "source": [
    "O que podemos inferir destas curvas:\n",
    "* Regressão logística é bem-calibrada de fábrica\n",
    "> Isso acontece pois regressão logística é um modelo que explicitamente modela a probabilidade: $$\\mathbb P(Y=1|X=x) = \\frac{1}{\\displaystyle 1 + e^{-w \\cdot x}},$$o que pode ser interpretado como sendo um modelo que penaliza tanto performance ruim quanto má calibração ao mesmo tempo.\n",
    "* Tanto random forests quanto gradient boosted trees possuem uma curva de calibração em formato de \"S\":\n",
    "> O formato \"S\" para random forests pode ser interpretado da seguinte forma. O modelo está sendo otimista demais para scores baixos (e pessimista demais para scores altos). Isso acontece porque o random forest é um voto - uma média - entre várias árvores de decisão; e é difícil que essa média seja 0 (ou 1), porque precisaria de scores menores que zero (ou maiores que 1) para isso acontecer. Em outras palavras, random forests evitarão scores extremamente pequenos ou grandes, e calibração se torna necessária."
   ]
  },
  {
   "cell_type": "markdown",
   "id": "8f6e8c32",
   "metadata": {},
   "source": [
    "### Existem métricas quantitativas para medir calibração?"
   ]
  },
  {
   "cell_type": "markdown",
   "id": "38dc907a",
   "metadata": {},
   "source": [
    "A métrica mais comunmente citada para calibração é o **Brier score**\n",
    "\n",
    "$$\\boxed{B = \\frac{1}{N} \\sum_{i=1}^N (y_i - q_i)^2}$$\n",
    "\n",
    "em que $y_i \\in \\{0,1\\}$ é o label real do i-ésimo ponto, e $q_i \\in [0,1]$ é o score previsto, $q_i \\equiv s(x_i)$. Basicamente, o Brier score é um nome chique para o erro quadrático médio num problema de classificação.\n",
    "\n",
    "**Cuidado: o Brier score não nos permite comparar dois algoritmos diferentes**, como regressão logística e random forest. Isso porque o Brier score depende de duas componentes:\n",
    "1. O quão bom é seu modelo\n",
    "2. A calibração dele\n",
    "\n",
    "Esquematicamente,\n",
    "\n",
    "$$\\mbox{Brier} \\sim \\mbox{Calibração} + \\mbox{Performance}$$\n",
    "\n",
    "Assim, modelos com performances diferentes terão Brier scores diferentes naturalmente."
   ]
  },
  {
   "cell_type": "markdown",
   "id": "1181b0b5",
   "metadata": {},
   "source": [
    "Por exemplo, no nosso caso atual, a performance dos nossos modelos (medida via a ROC AUC, por exemplo) é:"
   ]
  },
  {
   "cell_type": "code",
   "execution_count": 5,
   "id": "b498d58c",
   "metadata": {},
   "outputs": [
    {
     "name": "stdout",
     "output_type": "stream",
     "text": [
      "AUC = 0.798 (Logistic)\n",
      "AUC = 0.955 (RF)\n",
      "AUC = 0.981 (GBDT)\n"
     ]
    }
   ],
   "source": [
    "for model, name in zip(models, names):\n",
    "    y_probs = model.predict_proba(X_test)[:,1]\n",
    "    print(f\"AUC = {round(roc_auc_score(y_test, y_probs),3)} ({name})\")"
   ]
  },
  {
   "cell_type": "markdown",
   "id": "35b207e2",
   "metadata": {},
   "source": [
    "Então, para que serve o Brier score?\n",
    "> **Se fixarmos o modelo** (por exemplo, uma random forest) e somente **mexermos a função de calibração** (que chamamos de $\\phi$ na discussão acima), aí sim faz sentido usarmos o Brier score - como a performance está fixa, a variação do Brier score se dará por melhoria de calibração somente."
   ]
  },
  {
   "cell_type": "markdown",
   "id": "2a385814",
   "metadata": {},
   "source": [
    "Em Scikit-Learn, o Brier score pode ser calculado da forma abaixo:"
   ]
  },
  {
   "cell_type": "code",
   "execution_count": 6,
   "id": "4090263c",
   "metadata": {},
   "outputs": [
    {
     "name": "stdout",
     "output_type": "stream",
     "text": [
      "BS = 0.183 (Logistic)\n",
      "BS = 0.118 (RF)\n",
      "BS = 0.053 (GBDT)\n"
     ]
    }
   ],
   "source": [
    "from sklearn.metrics import brier_score_loss\n",
    "\n",
    "for model, name in zip(models, names):\n",
    "    y_probs = model.predict_proba(X_test)[:,1]\n",
    "    print(f\"BS = {round(brier_score_loss(y_test, y_probs),3)} ({name})\")"
   ]
  },
  {
   "cell_type": "markdown",
   "id": "1ba73e0c",
   "metadata": {},
   "source": [
    "Uma métrica alternativa, que podemos usar diretamente para comparar calibrações, é a **Expected Calibration Error** ou ECE. Citada em [3], ela usa a curva de calibração (ponderada pelo volume em cada bin), segundo a expressão\n",
    "\n",
    "$$\\boxed{\\mathrm{ECE} = \\sum_{b=1}^B p_b |\\bar{q}_b - \\bar{y}_b|}$$"
   ]
  },
  {
   "cell_type": "markdown",
   "id": "aa788e21",
   "metadata": {},
   "source": [
    "em que:\n",
    "* $p_b$ é a proporção de pontos caindo no bin $b$, ie. $p_b = N_b / N$\n",
    "* $\\bar q_b$ é o score médio no bin $b$,\n",
    "  $$\\bar q_b = \\frac{1}{N_b} \\sum_{i: i \\in b} q_i$$\n",
    "* $\\bar y_b$ é a proporção de $Y=1$'s no bin $b$,\n",
    "  $$\\bar y_b = \\frac{1}{N_b} \\sum_{i:i \\in b} y_i$$"
   ]
  },
  {
   "cell_type": "markdown",
   "id": "df3d87db",
   "metadata": {},
   "source": [
    "Em outras palavras: o ECE é a **distância média (no sentido $L_1$, e ponderada) de o quanto a curva de calibração se afasta da identidade**."
   ]
  },
  {
   "cell_type": "markdown",
   "id": "9be70864",
   "metadata": {},
   "source": [
    "Abaixo, fazemos uma implementação da ECE. Para isso, precisamos criar uma versão modificada da `calibration_curve` do Scikit-Learn, para termos acesso ao volume por bin."
   ]
  },
  {
   "cell_type": "code",
   "execution_count": 7,
   "id": "4e1d92d0",
   "metadata": {},
   "outputs": [],
   "source": [
    "def calib_curve_proportions(y_true, y_probs, n_bins=10, method='uniform'):\n",
    "    from sklearn.calibration import calibration_curve\n",
    "    assert method in ['quantile', 'uniform'], \"Unrecognized method\"\n",
    "    \n",
    "    predictions = pd.DataFrame({\n",
    "        'label': y_true,\n",
    "        'scores': y_probs,\n",
    "        })\n",
    "    \n",
    "    predictions = predictions.sort_values('scores')\n",
    "    \n",
    "    if method == 'quantile':\n",
    "        quantiles = [predictions['scores'].quantile(q) for q in np.linspace(0, 1, n_bins+1)] \n",
    "        predictions['bins'] = pd.cut(predictions['scores'], quantiles)\n",
    "\n",
    "    else:\n",
    "        bins=np.linspace(0, 1, n_bins+1) \n",
    "        predictions['bins'] = pd.cut(predictions['scores'], bins)\n",
    "        \n",
    "    # we can now aggregate: average y=1 per chunk and average score per chunk\n",
    "    calibration = predictions.groupby('bins').mean().reset_index(drop=True)\n",
    "    calibration.columns = ['Fraction of positives', 'Average score']\n",
    "    \n",
    "    x, y = calibration['Average score'], calibration['Fraction of positives']\n",
    "    p = predictions.groupby('bins').\\\n",
    "                   apply(lambda x: len(x)).\\\n",
    "                   values\n",
    "    p = p/len(y_true)\n",
    "    \n",
    "    return x, y, p"
   ]
  },
  {
   "cell_type": "code",
   "execution_count": 8,
   "id": "b5ad936d",
   "metadata": {},
   "outputs": [],
   "source": [
    "def ece(y_true, y_probs, n_bins=10, method='uniform'):\n",
    "    x, y, p = calib_curve_proportions(y_true, y_probs, n_bins=n_bins, method=method)\n",
    "    return np.sum(p*np.abs(x - y))"
   ]
  },
  {
   "cell_type": "code",
   "execution_count": 9,
   "id": "89b5cf8e",
   "metadata": {},
   "outputs": [
    {
     "name": "stdout",
     "output_type": "stream",
     "text": [
      "ECE = 0.016 (Logistic)\n",
      "ECE = 0.175 (RF)\n",
      "ECE = 0.057 (GBDT)\n"
     ]
    }
   ],
   "source": [
    "for model, name in zip(models, names):\n",
    "    y_probs = model.predict_proba(X_test)[:,1]\n",
    "    print(f\"ECE = {round(ece(y_test, y_probs, method='quantile'),3)} ({name})\")"
   ]
  },
  {
   "cell_type": "markdown",
   "id": "23e18c11",
   "metadata": {},
   "source": [
    "Vemos que essa métrica reflete bem a visão que a regressão logística é mais bem calibrada, com um ECE de ~1/5 em relação ao gradient boosting e ~1/15 em relação à random forest."
   ]
  },
  {
   "cell_type": "markdown",
   "id": "72b11d5a",
   "metadata": {},
   "source": [
    "Por fim, **para problemas desabalanceados** (em que uma classe é muito mais predominante que a outra), existe uma versão alternativa do Brier score que podemos usar, segundo [1]: o **Brier score estratificado**, dado por\n",
    "\n",
    "$$\\boxed{\\mathrm{BS}_1 = \\frac{1}{N_1} \\sum_{i: y_i = 1} (q_i - 1)^2}$$\n",
    "\n",
    "$$\\boxed{\\mathrm{BS}_0 = \\frac{1}{N_0} \\sum_{i: y_i = 0} (q_i - 0)^2}$$"
   ]
  },
  {
   "cell_type": "markdown",
   "id": "1203c952",
   "metadata": {},
   "source": [
    "isto é, os Brier scores de cada uma das classes. Aqui, $N_1$ representa o total de pontos na classe 1, e similarmente para $N_0.$ Veremos na seção abaixo como usar esta métrica.\n",
    "\n",
    "> No caso balanceado (que é do da base que estamos mexendo), os Brier scores estratificados são basicamente iguais entre si:"
   ]
  },
  {
   "cell_type": "code",
   "execution_count": 10,
   "id": "da16c670",
   "metadata": {},
   "outputs": [],
   "source": [
    "def stratified_brier_score(y_true, y_probs):\n",
    "    dic= {\n",
    "        1: ((y_probs[y_true==1] - 1)**2).mean(),\n",
    "        0: ((y_probs[y_true==0])**2).mean()\n",
    "    }\n",
    "    \n",
    "    return pd.DataFrame(dic, index=['Brier'])"
   ]
  },
  {
   "cell_type": "code",
   "execution_count": 11,
   "id": "ad086f3f",
   "metadata": {},
   "outputs": [
    {
     "name": "stdout",
     "output_type": "stream",
     "text": [
      "Brier estratificado (Logistic)\n",
      "-----------------------------\n",
      "          1      0\n",
      "Brier  0.19  0.177\n",
      "=============================\n",
      "Brier estratificado (RF)\n",
      "-----------------------------\n",
      "           1      0\n",
      "Brier  0.121  0.116\n",
      "=============================\n",
      "Brier estratificado (GBDT)\n",
      "-----------------------------\n",
      "           1      0\n",
      "Brier  0.051  0.054\n",
      "=============================\n"
     ]
    }
   ],
   "source": [
    "for model, name in zip(models, names):\n",
    "    y_probs = model.predict_proba(X_test)[:,1]\n",
    "    print(f\"Brier estratificado ({name})\")\n",
    "    print(\"-\"*29)\n",
    "    print(stratified_brier_score(y_test, y_probs).round(3))\n",
    "    print(\"=\"*29)"
   ]
  },
  {
   "cell_type": "markdown",
   "id": "e15f02a9",
   "metadata": {},
   "source": [
    "# Parte 2: Calibração"
   ]
  },
  {
   "cell_type": "markdown",
   "id": "e0019e75",
   "metadata": {},
   "source": [
    "Uma vez feito o diagnóstico da calibração do seu modelo, passamos à pergunta seguinte: como calibrá-lo?"
   ]
  },
  {
   "cell_type": "markdown",
   "id": "e2f0367e",
   "metadata": {},
   "source": [
    "O pessoal do Google [4] diz que você não deveria calibrar. Os pontos deles são, essencialmente:\n",
    "* Calibração simplesmente joga questões estruturais do seu modelo embaixo do tapete\n",
    "* Adiciona uma camada de complexidade a mais, que precisa ser mantida e testada\n",
    "\n",
    "Em vez de calibrar, a sugestão deles é de entender - por que o modelo está mal-calibrado? Problemas com os dados? Viés? Regularização muito forte?\n",
    "> De fato, como vimos acima, regularização em excesso pode levar à pioras na calibração, mas às vezes é um mal necessário; muitas vezes não temos como conseguir mais dados, ou de melhor qualidade, no dia-a-dia."
   ]
  },
  {
   "cell_type": "markdown",
   "id": "ca706f08",
   "metadata": {},
   "source": [
    "Como vimos na introdução, o processo de calibração pressupõe o treinamento de uma função $\\phi$ que recebe um score $q$ e devolve uma (melhor estimativa de) probabilidade. Chamamos este processo de fixar um modelo e mexer na função de calibração de **\"calibração por pós-processamento\"**, e existem basicamente duas estratégias:\n",
    "1. **Paramétrica**, o melhor exemplo sendo Platt (1999) com uma curva logística\n",
    "2. **Não-paramétrica**, cujo melhor exemplo é o da regressão isotônica via o algoritmo PAV."
   ]
  },
  {
   "cell_type": "markdown",
   "id": "142dc88f",
   "metadata": {},
   "source": [
    "Na nossa experiência, **pressupondo que você tem dados o suficiente** (pelo menos 1000 em cada fold de calibração, veja abaixo), **o método não-paramétrico via regressão isotônica performa melhor**. "
   ]
  },
  {
   "cell_type": "markdown",
   "id": "da0f2ca5",
   "metadata": {},
   "source": [
    "O Scikit-Learn oferece uma interface simples para calibração, via o objeto `CalibratedClassifierCV`. Dado um objeto `model` pre-treinado, a interface é:"
   ]
  },
  {
   "cell_type": "markdown",
   "id": "fcf561dc",
   "metadata": {},
   "source": [
    "```\n",
    "calibrator = CalibratedClassifierCV(base_estimator=model, cv='prefit', method='isotonic')\n",
    "calibrator.fit(X_calib, y_calib)\n",
    "```"
   ]
  },
  {
   "cell_type": "markdown",
   "id": "4d21e300",
   "metadata": {},
   "source": [
    "onde `X_calib` e `y_calib` são uma base separada da de treino e teste, somente para fim de calibração."
   ]
  },
  {
   "cell_type": "markdown",
   "id": "89dd8b5c",
   "metadata": {},
   "source": [
    "### Calibrando nossos modelos"
   ]
  },
  {
   "cell_type": "markdown",
   "id": "039fb53f",
   "metadata": {},
   "source": [
    "Primeiro, separamos uma base de calibração avulsa:"
   ]
  },
  {
   "cell_type": "code",
   "execution_count": 12,
   "id": "87600464",
   "metadata": {},
   "outputs": [],
   "source": [
    "def train_calib_test_split(X, y, train_size=0.5, calib_size=0.25, test_size=0.25, random_state=1):\n",
    "\n",
    "    from sklearn.model_selection import train_test_split\n",
    "    assert train_size + calib_size + test_size == 1, \"Sizes do not sum to 1\"\n",
    "    \n",
    "    X_train_val, X_test, y_train_val, y_test = train_test_split(X, y, test_size=test_size,\n",
    "                                                                stratify=y, random_state=random_state)\n",
    "    \n",
    "    X_train, X_val, y_train, y_val = train_test_split(X_train_val, y_train_val, test_size=calib_size/(train_size+calib_size), \n",
    "                                                      stratify=y_train_val, random_state=random_state+12)\n",
    "    \n",
    "    return X_train, X_val, X_test, y_train, y_val, y_test"
   ]
  },
  {
   "cell_type": "code",
   "execution_count": 13,
   "id": "b397d1da",
   "metadata": {},
   "outputs": [],
   "source": [
    "X_train, X_calib, X_test, y_train, y_calib, y_test = \\\n",
    "    train_calib_test_split(X, y,\n",
    "                           train_size=0.6,\n",
    "                           calib_size=0.15,\n",
    "                           test_size=0.25,\n",
    "                           random_state=42)"
   ]
  },
  {
   "cell_type": "markdown",
   "id": "ab134a34",
   "metadata": {},
   "source": [
    "Treinamos os modelos somente na base de treino:"
   ]
  },
  {
   "cell_type": "code",
   "execution_count": 14,
   "id": "9e7e804a",
   "metadata": {},
   "outputs": [],
   "source": [
    "models = [\n",
    "    HistGradientBoostingClassifier(max_depth=5, random_state=1).fit(X_train, y_train),\n",
    "    RandomForestClassifier(max_depth=5, random_state=2).fit(X_train, y_train),\n",
    "    LogisticRegression().fit(X_train, y_train)\n",
    "]"
   ]
  },
  {
   "cell_type": "markdown",
   "id": "24bc7b85",
   "metadata": {},
   "source": [
    "E por fim calibramos:"
   ]
  },
  {
   "cell_type": "code",
   "execution_count": 15,
   "id": "024c2ee1",
   "metadata": {},
   "outputs": [],
   "source": [
    "from sklearn.calibration import CalibratedClassifierCV\n",
    "\n",
    "calibrated_models = []\n",
    "for model in models:\n",
    "    calibrator = CalibratedClassifierCV(base_estimator=model, cv='prefit', method='isotonic')\n",
    "    calibrator.fit(X_calib, y_calib)\n",
    "    calibrated_models.append(calibrator)"
   ]
  },
  {
   "cell_type": "markdown",
   "id": "dfcf051a",
   "metadata": {},
   "source": [
    "Vejamos os resultados segundo a curva de calibração e as métricas que discutimos **no conjunto de teste**:"
   ]
  },
  {
   "cell_type": "code",
   "execution_count": 16,
   "id": "c7900cbc",
   "metadata": {},
   "outputs": [
    {
     "data": {
      "image/png": "[encoded data removed]",
      "text/plain": [
       "<Figure size 864x288 with 3 Axes>"
      ]
     },
     "metadata": {
      "needs_background": "light"
     },
     "output_type": "display_data"
    }
   ],
   "source": [
    "fig, ax = plt.subplots(ncols=3, figsize=(12,4))\n",
    "\n",
    "for axx, model, calibrated_model in zip(ax, models, calibrated_models):\n",
    "    \n",
    "    model_name = type(model).__name__\n",
    "\n",
    "    ###\n",
    "    # base model: metrics\n",
    "    y_probs = model.predict_proba(X_test)[:,1]\n",
    "    AUC = roc_auc_score(y_test, y_probs)\n",
    "    ECE = ece(y_test, y_probs).round(3)\n",
    "    BS = brier_score_loss(y_test, y_probs).round(3)\n",
    "    \n",
    "    # base model: calibration curve\n",
    "    proportion_true, prob_pred = calibration_curve(y_test, y_probs, n_bins=8)\n",
    "    axx.plot(prob_pred, proportion_true, label=f\"Modelo-base:\\n  - {ECE=}\\n  - {BS=}\", marker='o')\n",
    "    \n",
    "    ####\n",
    "    # calibrated model: metrics\n",
    "    y_probs = calibrated_model.predict_proba(X_test)[:,1]\n",
    "    ECE = ece(y_test, y_probs).round(3)\n",
    "    BS = brier_score_loss(y_test, y_probs).round(3)\n",
    "    # calibrated model: calibration curve\n",
    "    proportion_true, prob_pred = calibration_curve(y_test, y_probs, n_bins=8)\n",
    "    axx.plot(prob_pred, proportion_true, label=f\"Calibrado:\\n  - {ECE=}\\n  - {BS=}\", marker='o')\n",
    "\n",
    "    axx.legend()\n",
    "    axx.plot([0,1], color='gray', linestyle='--')\n",
    "\n",
    "    axx.set_title( f\"{model_name}\\n (AUC={round(AUC,3)})\")\n",
    "plt.tight_layout()\n",
    "plt.show()"
   ]
  },
  {
   "cell_type": "markdown",
   "id": "f2f79c0f",
   "metadata": {},
   "source": [
    "Essa análise nos permite obter alguns insights:\n",
    "* Entre os modelos pré-calibração, a regressão logística é a melhor calibrada segundo ECE, mas é a menos performante, com a ROC AUC de teste mais baixa;\n",
    "* O processo de calibração *piorou* a regressão logística (o ECE aumentou) - isso é comum acontecer, pois a regressão logística já é naturalmente bem-calibrada\n",
    "* O processo de calibração foi muito efetivo para GBDT e Random Forest neste exemplo:\n",
    "  * Para HistGradientBoost, o ECE reduziu em 86% e o Brier Score em 8%, com ECE final em 0.007\n",
    "  * Para RandomForest, o ECE reduziu em 93% e o Brier score em 27%, com ECE final em 0.011\n",
    "  \n",
    "Claramente, o modelo de HistGradientBoostingClassifier calibrado foi nosso melhor, com a maior performance e a melhor calibração!"
   ]
  },
  {
   "cell_type": "markdown",
   "id": "88b320b0",
   "metadata": {},
   "source": [
    "### E as métricas?"
   ]
  },
  {
   "cell_type": "markdown",
   "id": "f64c3255",
   "metadata": {},
   "source": [
    "Começando pela conclusão: **podemos usar as métricas de ROC AUC, KS e Avg. Precision do modelo original (sem calibrar) sem grandes problemas**.\n",
    "\n",
    "É preciso cuidado para entender o porquê disso. Deixamos essa discussão para o Apêndice no fim deste artigo."
   ]
  },
  {
   "cell_type": "markdown",
   "id": "01de018c",
   "metadata": {},
   "source": [
    "# Parte 3: tudo de novo, em casos desbalanceados"
   ]
  },
  {
   "cell_type": "markdown",
   "id": "715176d7",
   "metadata": {},
   "source": [
    "Para nós, um problema desbalanceado é aquele em que pelo menos um dos itens abaixo é verdadeiro:\n",
    "* Uma das classes tem presença muito menor que a outra (eg. em proporção 99:1 ou 999:1)\n",
    "* O número absoluto de pontos de uma das classes é muito baixo (por exemplo, na ordem de dezenas ou centenas)"
   ]
  },
  {
   "cell_type": "markdown",
   "id": "cd4a7948",
   "metadata": {},
   "source": [
    "Nesse caso,\n",
    "(1) o processo de construir bins é menos confiável, com poucos ou nenhum ponto da classe de minoria por bin\n",
    "(2) scores podem se concentrar em valores muito baixos ou muito altos\n",
    "(3) temos que tomar cuidado com métricas sensíveis ao desbalanço de classe"
   ]
  },
  {
   "cell_type": "markdown",
   "id": "999f6668",
   "metadata": {},
   "source": [
    "Como indicado em [1]:\n",
    "\n",
    "> Class probability estimates attained via supervised learning in imbalanced scenarios systematically underestimate the probabilities for minority class instances, despite ostensibly good overall calibration\n",
    "\n",
    "O ponto principal aqui é: a calibração geral pode parecer boa mesmo que nossas estimativas para a classe de minoria estejam ruins (elas são mascaradas pelo desbalanço). Novamente, [1] reitera que\n",
    "\n",
    "> Probability estimates for the minority instances in imbalanced datasets are unreliable, and methods for mitigating class imbalance for classification do not automatically fix calibration."
   ]
  },
  {
   "cell_type": "markdown",
   "id": "e7da55c5",
   "metadata": {},
   "source": [
    "O approach sugerido pelos autores em [1] se baseia nas seguintes observações:\n",
    "\n",
    "1. O processo de **random undersampling** (sub-amostragem aleatória?) da classe de maioria na hora da calibração resolve a questão de desbalanço, mas pode introduzir viés dada a natureza aleatória do undersampling;\n",
    "2. Nisso, **bagging** (bootstrap aggregating) resolve a questão do viés ao criar diferentes amostras de boostrapping para a classe undersampled, e então agregando os resultados\n",
    "\n",
    "Chamaremos esta estratégia de **underbagging** (ou de Wallace-Dahabreh)."
   ]
  },
  {
   "cell_type": "markdown",
   "id": "f62e3e7e",
   "metadata": {},
   "source": [
    "### Resumo da nossa estratégia (que mostraremos abaixo)"
   ]
  },
  {
   "cell_type": "markdown",
   "id": "f299fcb5",
   "metadata": {},
   "source": [
    "1. Treine um bom modelo adequado ao desbalanço (por exemplo, usando `class_weight`) e verifique o Brier score estratificado dele / performance\n",
    "2. Use underbagging com o modelo, e verifique o Brier score estratificado dele / performance"
   ]
  },
  {
   "cell_type": "markdown",
   "id": "84066020",
   "metadata": {},
   "source": [
    "### Testando difentes estratégias"
   ]
  },
  {
   "cell_type": "markdown",
   "id": "0a7b8597",
   "metadata": {},
   "source": [
    "Primeiro, criamos uma base com proporção de 99:1:"
   ]
  },
  {
   "cell_type": "code",
   "execution_count": 17,
   "id": "d8853b7c",
   "metadata": {},
   "outputs": [],
   "source": [
    "X, y = make_classification(n_samples=20000, n_features=10, n_informative=8, n_redundant=1, n_repeated=1, \n",
    "                           random_state=10,\n",
    "                           weights=(0.99,))"
   ]
  },
  {
   "cell_type": "markdown",
   "id": "fa94265b",
   "metadata": {},
   "source": [
    "Em seguida, dividimos (**de forma estratificada**) em treino, teste e calibração:"
   ]
  },
  {
   "cell_type": "code",
   "execution_count": 18,
   "id": "a552c261",
   "metadata": {},
   "outputs": [],
   "source": [
    "X_train, X_calib, X_test, y_train, y_calib, y_test = train_calib_test_split(X, y,\n",
    "                                                                     train_size=0.5,\n",
    "                                                                     calib_size=0.3,\n",
    "                                                                     test_size=0.2,\n",
    "                                                                     random_state=21)"
   ]
  },
  {
   "cell_type": "code",
   "execution_count": 19,
   "id": "0e35f02d",
   "metadata": {},
   "outputs": [
    {
     "name": "stdout",
     "output_type": "stream",
     "text": [
      "Proporção de 1's nas bases:\n",
      "  - Treino:     0.0154 , Volume de 1's: 154\n",
      "  - Teste:      0.0152 , Volume de 1's: 61\n",
      "  - Calibração: 0.0153 , Volume de 1's: 92\n"
     ]
    }
   ],
   "source": [
    "print(\"Proporção de 1's nas bases:\")\n",
    "print(\"  - Treino:    \", round(y_train.mean(),4), \", Volume de 1's:\", y_train.sum())\n",
    "print(\"  - Teste:     \", round(y_test.mean(),4), \", Volume de 1's:\", y_test.sum())\n",
    "print(\"  - Calibração:\", round(y_calib.mean(),4), \", Volume de 1's:\", y_calib.sum())"
   ]
  },
  {
   "cell_type": "markdown",
   "id": "5c3b7b6b",
   "metadata": {},
   "source": [
    "#### Como se distribuem os scores de um modelo \"naive\" nesses dados?"
   ]
  },
  {
   "cell_type": "markdown",
   "id": "d838401a",
   "metadata": {},
   "source": [
    "Vamos treinar uma random forest \"naive\", ou seja, uma na qual fingimos que não há problemas "
   ]
  },
  {
   "cell_type": "code",
   "execution_count": 20,
   "id": "ac43370b",
   "metadata": {},
   "outputs": [],
   "source": [
    "model = RandomForestClassifier(max_depth=8, random_state=1).fit(X_train, y_train)\n",
    "model_calib = CalibratedClassifierCV(model, cv='prefit', method='isotonic').fit(X_calib, y_calib)"
   ]
  },
  {
   "cell_type": "code",
   "execution_count": 21,
   "id": "9206617f",
   "metadata": {},
   "outputs": [
    {
     "name": "stdout",
     "output_type": "stream",
     "text": [
      "ROC AUC (modelo naive): 0.804\n"
     ]
    }
   ],
   "source": [
    "print(\"ROC AUC (modelo naive): {0:.3f}\".format(\n",
    "    roc_auc_score(\n",
    "        y_test, \n",
    "        model.predict_proba(X_test)[:,1])\n",
    "))"
   ]
  },
  {
   "cell_type": "code",
   "execution_count": 22,
   "id": "1970c4bb",
   "metadata": {},
   "outputs": [
    {
     "data": {
      "image/png": "[encoded data removed]",
      "text/plain": [
       "<Figure size 432x288 with 1 Axes>"
      ]
     },
     "metadata": {
      "needs_background": "light"
     },
     "output_type": "display_data"
    }
   ],
   "source": [
    "y_probs = model.predict_proba(X_test)[:,1]\n",
    "x, y, p = calib_curve_proportions(y_test, y_probs, n_bins=10)\n",
    "plt.bar(np.arange(0.1, 1.1, 0.1), p, width=0.05)\n",
    "plt.yscale('log'); plt.ylabel(\"Fração de pontos no bin\")\n",
    "plt.xticks(np.arange(0.1, 1.1, 0.1)); plt.xlabel(\"Score máximo do bin\")\n",
    "plt.text(0.15, p[0]*0.90, f\"{round(p[0]*100)}%\")\n",
    "plt.show()"
   ]
  },
  {
   "cell_type": "markdown",
   "id": "d61d33fb",
   "metadata": {},
   "source": [
    "99% dos scores são menores que 0.1. A maior parte dos bins está vazia, e métricas como ECE vão quebrar."
   ]
  },
  {
   "cell_type": "code",
   "execution_count": 23,
   "id": "03cd3792",
   "metadata": {},
   "outputs": [
    {
     "name": "stdout",
     "output_type": "stream",
     "text": [
      "Modelo original\n",
      "              1         0\n",
      "Brier  0.796723  0.000482\n",
      "------------------------------\n",
      "Model calibrado\n",
      "              1         0\n",
      "Brier  0.723635  0.000802\n",
      "------------------------------\n"
     ]
    }
   ],
   "source": [
    "print(\"Modelo original\")\n",
    "print(stratified_brier_score(\n",
    "    y_true=y_test, \n",
    "    y_probs=model.predict_proba(X_test)[:,1]\n",
    "))\n",
    "print(\"-\"*30)\n",
    "print(\"Model calibrado\")\n",
    "print(stratified_brier_score(\n",
    "    y_true=y_test, \n",
    "    y_probs=model_calib.predict_proba(X_test)[:,1]\n",
    "))\n",
    "print(\"-\"*30)"
   ]
  },
  {
   "cell_type": "markdown",
   "id": "d67a32d1",
   "metadata": {},
   "source": [
    "O que percebemos aqui? O modelo original é muito bem calibrado na classe 0 e mal na classe 1, com o Brier score dela sendo 0.04% do Brier score da classe 1. \n",
    "\n",
    "O processo de calibração padrão de fato melhorou esse Brier score, em detrimento do da classe 0; porém, a diferença de qualidade de calibração entre as duas se mantém gritante."
   ]
  },
  {
   "cell_type": "markdown",
   "id": "682e03f8",
   "metadata": {},
   "source": [
    "### Com um modelo um pouco melhor (com pesos)"
   ]
  },
  {
   "cell_type": "code",
   "execution_count": 24,
   "id": "b615853b",
   "metadata": {},
   "outputs": [],
   "source": [
    "model = RandomForestClassifier(max_depth=8, random_state=1,\n",
    "                               class_weight=\"balanced_subsample\")\\\n",
    "                              .fit(X_train, y_train)\n",
    "model_calib = CalibratedClassifierCV(model, cv='prefit', method='isotonic').fit(X_calib, y_calib)"
   ]
  },
  {
   "cell_type": "code",
   "execution_count": 25,
   "id": "46a6e9e2",
   "metadata": {},
   "outputs": [
    {
     "name": "stdout",
     "output_type": "stream",
     "text": [
      "ROC AUC (modelo com pesos): 0.838\n"
     ]
    }
   ],
   "source": [
    "print(\"ROC AUC (modelo com pesos): {0:.3f}\".format(\n",
    "    roc_auc_score(\n",
    "        y_test, \n",
    "        model.predict_proba(X_test)[:,1])\n",
    "))"
   ]
  },
  {
   "cell_type": "markdown",
   "id": "dc450767",
   "metadata": {},
   "source": [
    "Já percebemos que o modelo tem uma melhoria na performance, com aumento da ROC AUC. Vejamos os scores:"
   ]
  },
  {
   "cell_type": "code",
   "execution_count": 26,
   "id": "d242b1d3",
   "metadata": {},
   "outputs": [
    {
     "data": {
      "image/png": "[encoded data removed]",
      "text/plain": [
       "<Figure size 432x288 with 1 Axes>"
      ]
     },
     "metadata": {
      "needs_background": "light"
     },
     "output_type": "display_data"
    }
   ],
   "source": [
    "y_probs = model.predict_proba(X_test)[:,1]\n",
    "x, y, p = calib_curve_proportions(y_test, y_probs, n_bins=10)\n",
    "plt.bar(np.arange(0.1, 1.1, 0.1), p, width=0.05)\n",
    "plt.yscale('log'); plt.ylabel(\"Fração de pontos no bin\")\n",
    "plt.xticks(np.arange(0.1, 1.1, 0.1)); plt.xlabel(\"Score máximo do bin\")\n",
    "plt.text(0.08, p[0]*1.1, f\"{round(p[0]*100)}%\")\n",
    "plt.show()"
   ]
  },
  {
   "cell_type": "markdown",
   "id": "d7723c2a",
   "metadata": {},
   "source": [
    "Note que agora os scores se distribuem de forma mais uniforme entre os bins, apesar da maior parte ainda estar concentrado em scores baixos."
   ]
  },
  {
   "cell_type": "code",
   "execution_count": 27,
   "id": "bec12983",
   "metadata": {},
   "outputs": [
    {
     "name": "stdout",
     "output_type": "stream",
     "text": [
      "Modelo original\n",
      "              1         0\n",
      "Brier  0.413937  0.028966\n",
      "------------------------------\n",
      "Model calibrado\n",
      "              1         0\n",
      "Brier  0.710228  0.001229\n",
      "------------------------------\n"
     ]
    }
   ],
   "source": [
    "print(\"Modelo original\")\n",
    "print(stratified_brier_score(\n",
    "    y_true=y_test, \n",
    "    y_probs=model.predict_proba(X_test)[:,1]\n",
    "))\n",
    "print(\"-\"*30)\n",
    "print(\"Model calibrado\")\n",
    "print(stratified_brier_score(\n",
    "    y_true=y_test, \n",
    "    y_probs=model_calib.predict_proba(X_test)[:,1]\n",
    "))\n",
    "print(\"-\"*30)"
   ]
  },
  {
   "cell_type": "markdown",
   "id": "badb4646",
   "metadata": {},
   "source": [
    "Vemos que agora algo interessante acontece. O modelo original, adaptado ao caso desbalanceado, tem o melhor Brier score para a classe 1 que vimos até agora (e o pior para a classe 0); ao rodar a calibração, nós na verdade *pioramos* a calibração da classe 1 em favor da 0, simplesmente por causa do desbalanço!"
   ]
  },
  {
   "cell_type": "markdown",
   "id": "e1203cd2",
   "metadata": {},
   "source": [
    "### A estratégia de underbagging"
   ]
  },
  {
   "cell_type": "code",
   "execution_count": 38,
   "id": "208f3596",
   "metadata": {},
   "outputs": [],
   "source": [
    "from sklearn.base import BaseEstimator, ClassifierMixin\n",
    "\n",
    "class BaggedCalibratedPredictor(BaseEstimator, ClassifierMixin):\n",
    "    \n",
    "    def __init__(self,\n",
    "                 model,\n",
    "                 target_balance=0.1,\n",
    "                 bootstrap_samples=100,\n",
    "                ):\n",
    "        self.model = model\n",
    "        self.target_balance = target_balance\n",
    "        self.bootstrap_samples = bootstrap_samples\n",
    "        \n",
    "        self.trained = False\n",
    "        \n",
    "    def calibrate(self, X_calib, y_calib):\n",
    "        \n",
    "        calibrator_list = []\n",
    "        for _ in range(self.bootstrap_samples):\n",
    "            calibrator = CalibratedClassifierCV(base_estimator=self.model,\n",
    "                                                cv='prefit', \n",
    "                                                method='isotonic')\n",
    "\n",
    "            X_boot, y_boot = self._undersample_boostrap(X_calib, y_calib, \n",
    "                                                  target_balance=self.target_balance)\n",
    "            calibrator.fit(X_boot, y_boot)\n",
    "            calibrator_list.append(calibrator)\n",
    "\n",
    "        self.calibrator_list = calibrator_list\n",
    "        self.trained = True\n",
    "        return self\n",
    "    \n",
    "    def predict_proba(self, X):\n",
    "        \n",
    "        if not self.trained:\n",
    "            raise Exception(\"Calibrator not calibrated yet\")\n",
    "        \n",
    "        results = []\n",
    "        for calibrator in self.calibrator_list:\n",
    "            results.append(calibrator.predict_proba(X))\n",
    "        \n",
    "        mean_pred = np.array(results).mean(axis=0)\n",
    "        return mean_pred\n",
    "    \n",
    "    def predict(self, X):\n",
    "        # Not implemented\n",
    "        return None\n",
    "    \n",
    "    def _undersample_boostrap(self, X_calib, y_calib, target_balance=0.5):\n",
    "    \n",
    "        # separate positive and negative classes\n",
    "        X1 = X_calib[y_calib==1]; n1 = len(X1)\n",
    "        X0 = X_calib[y_calib==0]; n0 = len(X0)\n",
    "\n",
    "        # undersample X0\n",
    "        bs_indices = np.random.choice(np.arange(0,n0), \n",
    "                                size=int(n1*(1-target_balance)/target_balance),\n",
    "                                replace=True)\n",
    "\n",
    "        X0_u = X0[bs_indices]; n0_u = len(X0_u)\n",
    "\n",
    "        # rebuild\n",
    "        X_calib_u = np.concatenate([X1, X0_u])\n",
    "        y_calib_u = np.concatenate([np.ones(n1), np.zeros(n0_u)])\n",
    "\n",
    "        # shuffle - or should it be bootstrap ?\n",
    "        indices = np.arange(0, len(X_calib_u))\n",
    "        np.random.shuffle(indices)\n",
    "\n",
    "        X_calib_u = X_calib_u[indices]\n",
    "        y_calib_u = y_calib_u[indices]\n",
    "\n",
    "        return X_calib_u, y_calib_u"
   ]
  },
  {
   "cell_type": "markdown",
   "id": "6aa9cb16",
   "metadata": {},
   "source": [
    "Vamos usar isso para calibrar, focando na classe de minoria:"
   ]
  },
  {
   "cell_type": "code",
   "execution_count": 39,
   "id": "b40293dc",
   "metadata": {},
   "outputs": [
    {
     "data": {
      "text/plain": [
       "BaggedCalibratedPredictor(bootstrap_samples=400,\n",
       "                          model=RandomForestClassifier(class_weight='balanced_subsample',\n",
       "                                                       max_depth=8,\n",
       "                                                       random_state=1),\n",
       "                          target_balance=0.3)"
      ]
     },
     "execution_count": 39,
     "metadata": {},
     "output_type": "execute_result"
    }
   ],
   "source": [
    "model = RandomForestClassifier(max_depth=8, random_state=1,\n",
    "                               class_weight=\"balanced_subsample\")\\\n",
    "                              .fit(X_train, y_train)\n",
    "\n",
    "bagged_calib = BaggedCalibratedPredictor(model, \n",
    "                                         target_balance=0.3,\n",
    "                                         bootstrap_samples=400)\n",
    "bagged_calib.calibrate(X_calib, y_calib)"
   ]
  },
  {
   "cell_type": "code",
   "execution_count": 40,
   "id": "b6d407fa",
   "metadata": {},
   "outputs": [
    {
     "data": {
      "text/html": [
       "<div>\n",
       "<style scoped>\n",
       "    .dataframe tbody tr th:only-of-type {\n",
       "        vertical-align: middle;\n",
       "    }\n",
       "\n",
       "    .dataframe tbody tr th {\n",
       "        vertical-align: top;\n",
       "    }\n",
       "\n",
       "    .dataframe thead th {\n",
       "        text-align: right;\n",
       "    }\n",
       "</style>\n",
       "<table border=\"1\" class=\"dataframe\">\n",
       "  <thead>\n",
       "    <tr style=\"text-align: right;\">\n",
       "      <th></th>\n",
       "      <th>1</th>\n",
       "      <th>0</th>\n",
       "    </tr>\n",
       "  </thead>\n",
       "  <tbody>\n",
       "    <tr>\n",
       "      <th>Brier</th>\n",
       "      <td>0.255308</td>\n",
       "      <td>0.061889</td>\n",
       "    </tr>\n",
       "  </tbody>\n",
       "</table>\n",
       "</div>"
      ],
      "text/plain": [
       "              1         0\n",
       "Brier  0.255308  0.061889"
      ]
     },
     "execution_count": 40,
     "metadata": {},
     "output_type": "execute_result"
    }
   ],
   "source": [
    "stratified_brier_score(\n",
    "    y_true=y_test, \n",
    "    y_probs=bagged_calib.predict_proba(X_test)[:,1]\n",
    ")"
   ]
  },
  {
   "cell_type": "code",
   "execution_count": 41,
   "id": "98615502",
   "metadata": {},
   "outputs": [
    {
     "name": "stdout",
     "output_type": "stream",
     "text": [
      "ROC AUC (modelo calibrado underbagged): 0.836\n"
     ]
    }
   ],
   "source": [
    "print(\"ROC AUC (modelo calibrado underbagged): {0:.3f}\".format(\n",
    "    roc_auc_score(\n",
    "        y_test, \n",
    "        bagged_calib.predict_proba(X_test)[:,1])\n",
    "))"
   ]
  },
  {
   "cell_type": "markdown",
   "id": "5d1f505e",
   "metadata": {},
   "source": [
    "Conseguimos agora sim ver uma grande melhoria! O Brier score da classe 1 está o mais baixo possível, com um sacrifício claro da calibração da classe 0. A ROC AUC é basicamente a mesma do modelo base."
   ]
  },
  {
   "cell_type": "markdown",
   "id": "753fd88a",
   "metadata": {},
   "source": [
    "### Quer dizer que sempre vale a pena usar underbagging?"
   ]
  },
  {
   "cell_type": "markdown",
   "id": "6f008db9",
   "metadata": {},
   "source": [
    "Não. Novamente, vejamos a regressão logística:"
   ]
  },
  {
   "cell_type": "code",
   "execution_count": 42,
   "id": "5136207d",
   "metadata": {},
   "outputs": [
    {
     "data": {
      "text/html": [
       "<div>\n",
       "<style scoped>\n",
       "    .dataframe tbody tr th:only-of-type {\n",
       "        vertical-align: middle;\n",
       "    }\n",
       "\n",
       "    .dataframe tbody tr th {\n",
       "        vertical-align: top;\n",
       "    }\n",
       "\n",
       "    .dataframe thead th {\n",
       "        text-align: right;\n",
       "    }\n",
       "</style>\n",
       "<table border=\"1\" class=\"dataframe\">\n",
       "  <thead>\n",
       "    <tr style=\"text-align: right;\">\n",
       "      <th></th>\n",
       "      <th>1</th>\n",
       "      <th>0</th>\n",
       "    </tr>\n",
       "  </thead>\n",
       "  <tbody>\n",
       "    <tr>\n",
       "      <th>Original</th>\n",
       "      <td>0.197718</td>\n",
       "      <td>0.207776</td>\n",
       "    </tr>\n",
       "    <tr>\n",
       "      <th>Simple</th>\n",
       "      <td>0.710228</td>\n",
       "      <td>0.001229</td>\n",
       "    </tr>\n",
       "    <tr>\n",
       "      <th>Underbagged</th>\n",
       "      <td>0.255308</td>\n",
       "      <td>0.061889</td>\n",
       "    </tr>\n",
       "  </tbody>\n",
       "</table>\n",
       "</div>"
      ],
      "text/plain": [
       "                    1         0\n",
       "Original     0.197718  0.207776\n",
       "Simple       0.710228  0.001229\n",
       "Underbagged  0.255308  0.061889"
      ]
     },
     "execution_count": 42,
     "metadata": {},
     "output_type": "execute_result"
    }
   ],
   "source": [
    "# 3 modelos: base, calibrado normalmente, calibrado com underbagging\n",
    "model = LogisticRegression(class_weight=\"balanced\",\n",
    "                           random_state=1).fit(X_train, y_train)\n",
    "model_calib_naive = CalibratedClassifierCV(model, cv='prefit', method='isotonic').fit(X_calib, y_calib)\n",
    "model_calib_underbag = BaggedCalibratedPredictor(model,\n",
    "                                                 target_balance=0.3,\n",
    "                                                 bootstrap_samples=400).calibrate(X_calib, y_calib)\n",
    "\n",
    "# Resultados\n",
    "\n",
    "df_base = stratified_brier_score(\n",
    "    y_true=y_test, \n",
    "    y_probs=model.predict_proba(X_test)[:,1]\n",
    ")\n",
    "df_cal = stratified_brier_score(\n",
    "    y_true=y_test, \n",
    "    y_probs=model_calib.predict_proba(X_test)[:,1]\n",
    ")\n",
    "df_bagcal = stratified_brier_score(\n",
    "    y_true=y_test, \n",
    "    y_probs=bagged_calib.predict_proba(X_test)[:,1]\n",
    ")\n",
    "# join everything together\n",
    "res = pd.concat([df_base, df_cal, df_bagcal])\n",
    "res.index = index=['Original', 'Simple', 'Underbagged']\n",
    "res"
   ]
  },
  {
   "cell_type": "markdown",
   "id": "8951da5d",
   "metadata": {},
   "source": [
    "Vemos aqui que:\n",
    "* O modelo original tem o melhor Brier score estratificado para a classe 1\n",
    "* Calibração simples leva a melhora do Brier score da classe 0, dado o desbalanço\n",
    "* Mesmo o underbagging não consegue voltar ao Brier score da classe 1 que o modelo base tem"
   ]
  },
  {
   "cell_type": "markdown",
   "id": "a7b3ddca",
   "metadata": {},
   "source": [
    "Ou seja: aqui, também, a regressão logística se vira melhor sem calibração à posteriori."
   ]
  },
  {
   "cell_type": "markdown",
   "id": "6ef21c21",
   "metadata": {},
   "source": [
    "## Conclusão / guia prático"
   ]
  },
  {
   "cell_type": "markdown",
   "id": "dac083a5",
   "metadata": {},
   "source": [
    "1. Decida se calibração é importante para você\n",
    "  * Se você somente precisa ordenar os pontos corretamente, calibração não importa muito\n",
    "  \n",
    "2. Se você decidir calibrar:\n",
    "  * Além de conjuntos de treino e teste, sempre separe um conjunto para calibração\n",
    "  * Garanta que esse conjunto seja grande o bastante, idealmente com 1000-2000 ou mais pontos\n",
    "  * No caso de redes neurais ou regressão logística, é pouco provável que calibração tenha grandes efeitos - mas vale a pena checar\n",
    "  * Modelos baseados em árvores, assim como SVM, se beneficiam de calibração. As curvas de calibração terão majoritariamente um formato em S\n",
    "3. Se seu dataset é balanceado:\n",
    "  * Para comparar modelos distintos: usar ECE / inspeção visual das curvas de calibração \n",
    "  * Para comparar um modelo com sua versão calibrada: usar ECE / Brier Score\n",
    "  * Tente rodar calibração padrão via Scikit-Learn: `CalibratedClassifierCV` com `cv='prefit'` e `method='isotonic'` \n",
    "  \n",
    "4. Se seu dataset é desbalanceado:\n",
    "  * Treine o melhor modelo possível (muitas vezes passar `class_weight` ou `sample_weight` é o suficiente), focando em performance\n",
    "  * Use Brier scores estratificados como métrica (para comparar um modelo com sua versão calibrada)\n",
    "  * Calibração via undersampling+bagging (underbagging) com regressão isotônica deve ser uma boa escolha, especialmente para modelos baseados em árvores."
   ]
  },
  {
   "cell_type": "markdown",
   "id": "3905dc3a",
   "metadata": {},
   "source": [
    "## Referências\n",
    "[1] B. C. Wallace and I. J. Dahabreh, \"Class Probability Estimates are Unreliable for Imbalanced Data (and How to Fix Them),\" 2012 IEEE 12th International Conference on Data Mining, 2012, pp. 695-704, doi: 10.1109/ICDM.2012.115.\n",
    "\n",
    "[2] Predicting Good Probabilities With Supervised Learning \n",
    "https://www.cs.cornell.edu/~alexn/papers/calibration.icml05.crc.rev3.pdf\n",
    "\n",
    "[3] Mahdi Pakdaman Naeini, Gregory F Cooper, and Milos Hauskrecht. 2015. “Obtaining Well Calibrated Probabilities Using Bayesian Binning.” In AAAI, Pp. 2901–2907.\n",
    "\n",
    "[4] https://developers.google.com/machine-learning/crash-course/classification/prediction-bias\n",
    "\n",
    "[5] Fawcett, T., Niculescu-Mizil, A. PAV and the ROC convex hull. Mach Learn 68, 97–106 (2007). https://doi.org/10.1007/s10994-007-5011-0"
   ]
  },
  {
   "cell_type": "markdown",
   "id": "8040b81e",
   "metadata": {},
   "source": [
    "## Apêndices"
   ]
  },
  {
   "cell_type": "markdown",
   "id": "7e7f223c",
   "metadata": {},
   "source": [
    "### 1. ROC AUC e score KS são invariantes sob calibração; o average precision é quase!"
   ]
  },
  {
   "cell_type": "markdown",
   "id": "1e2fd6f7",
   "metadata": {},
   "source": [
    "A calibração é um procedimento que altera os scores preditos de forma monotônica, de forma que se temos dois scores $q_1 \\geq q_2$ inicialmente, então a calibração $\\phi$ deve satisfazer $\\phi(q_1) \\geq \\phi(q_2)$: a ordem não se altera."
   ]
  },
  {
   "cell_type": "markdown",
   "id": "88df22fa",
   "metadata": {},
   "source": [
    "Isso significa que métricas como a **ROC AUC** ou o **score KS** (que somente dependem da *ordem* relativa dos scores) não são alteradas, e um modelo calibrado deve dar a mesma ROC AUC / KS do modelo original.\n",
    "\n"
   ]
  },
  {
   "cell_type": "markdown",
   "id": "29cc9e9d",
   "metadata": {},
   "source": [
    "> Para ver isso, basta ver que a ROC AUC (também conhecida como estatística C) pode ser definida como $\\mathbb P(X_1 \\geq X_0)$ em que $X_1$ são os scores preditos para membros da classe 1, e $X_0$ são os scores da classe 0. Similarmente, o score KS depende somente da curva ROC, que também não se modifica sob calibração."
   ]
  },
  {
   "cell_type": "markdown",
   "id": "985e5048",
   "metadata": {},
   "source": [
    "E o **average precision** (ie a área debaixo da curva de precision/recall)? Se o calcularmos de forma ingênua usando o Scikit-Learn, parece que ele é diferente:"
   ]
  },
  {
   "cell_type": "code",
   "execution_count": 48,
   "id": "8236c69f",
   "metadata": {},
   "outputs": [],
   "source": [
    "from sklearn.metrics import average_precision_score"
   ]
  },
  {
   "cell_type": "code",
   "execution_count": 115,
   "id": "535cd71f",
   "metadata": {},
   "outputs": [],
   "source": [
    "X, y = make_classification(n_samples=20000, n_features=10, n_informative=8, n_redundant=1, n_repeated=1, \n",
    "                           random_state=10)\n",
    "\n",
    "X_train, X_calib, X_test, y_train, y_calib, y_test = \\\n",
    "    train_calib_test_split(X, y,\n",
    "                           train_size=0.6,\n",
    "                           calib_size=0.15,\n",
    "                           test_size=0.25,\n",
    "                           random_state=42)\n",
    "\n",
    "mod = LogisticRegression(random_state=2).fit(X_train, y_train)\n",
    "mod_calib = CalibratedClassifierCV(base_estimator=mod, cv='prefit', method='isotonic').fit(X_calib, y_calib)"
   ]
  },
  {
   "cell_type": "code",
   "execution_count": 116,
   "id": "5b44cc4f",
   "metadata": {},
   "outputs": [
    {
     "name": "stdout",
     "output_type": "stream",
     "text": [
      "AP modelo base: 0.803\n",
      "AP calibrado  : 0.785\n"
     ]
    }
   ],
   "source": [
    "print(\"AP modelo base:\", round(average_precision_score(y_test, mod.predict_proba(X_test)[:,1]),3))\n",
    "print(\"AP calibrado  :\", round(average_precision_score(y_test, mod_calib.predict_proba(X_test)[:,1]),3))"
   ]
  },
  {
   "cell_type": "markdown",
   "id": "ff81fdb5",
   "metadata": {},
   "source": [
    "Se usarmos a função `PrecisionRecallDisplay`, que mostra a curva de precision-recall e a Avg. Precision, vemos o porque disso:"
   ]
  },
  {
   "cell_type": "code",
   "execution_count": 117,
   "id": "0fe61a48",
   "metadata": {},
   "outputs": [
    {
     "data": {
      "image/png": "[encoded data removed]",
      "text/plain": [
       "<Figure size 432x288 with 1 Axes>"
      ]
     },
     "metadata": {
      "needs_background": "light"
     },
     "output_type": "display_data"
    }
   ],
   "source": [
    "from sklearn.metrics import PrecisionRecallDisplay\n",
    "\n",
    "fig, ax = plt.subplots()\n",
    "PrecisionRecallDisplay.from_estimator(mod, X_test, y_test, ax=ax)\n",
    "PrecisionRecallDisplay.from_estimator(mod_calib, X_test, y_test, ax=ax)\n",
    "plt.show()"
   ]
  },
  {
   "cell_type": "markdown",
   "id": "ceb31d21",
   "metadata": {},
   "source": [
    "Por algum motivo, parece que temos uma função escada."
   ]
  },
  {
   "cell_type": "markdown",
   "id": "3dd9e185",
   "metadata": {},
   "source": [
    "Na verdade, isso é um artifício gráfico. O que acontece é que o processo de calibrar um modelo efetivamente acaba tomando o fecho convexo (*convex hull* em inglês) dele na curva ROC (vide [5] para uma prova). O fecho convexo liga pontos da curva ROC com segmentos de reta, de forma a torná-la convexa. \n",
    "\n",
    "O Scikit-Learn não guarda a curva toda; ele somente mantém os vértices conectados por estes segmentos de reta. Ao mapear esses pontos para o plano PR(Precision/Recall), temos somente alguns pontos, e devido à geometria particular do plano PR, não podemos simplesmente conectá-los com retas.\n",
    "> É possível provar, via teorema de Bayes, o seguinte fato. Sejam $(x,y)$ as coordenadas do plano ROC (ou seja, $x$ é a false positive rate e $y$ é a true positive rate). Seja também $d$ a taxa de desbalanço (por exemplo, se temos uma proporção de 1:2 entre a classe 1 e a classe 0, $d = 1/2$). Se chamarmos de $(x', y')$ as coordenadas no plano PR, com $x'$ sendo o recall e $y'$ sendo precision, então \n",
    "$$\\begin{align*}\n",
    "x' &= y\\\\\n",
    "y' &= \\frac{y}{y+ x/r}\n",
    "\\end{align*}$$\n",
    "Retas no plano $(x,y)$ não são mapeadas em retas no plano $(x', y')$. Logo, não podemos simplesmente falar que a curva de precision/recall do modelo calibrado possa ser obtida por interpolação linear dos vértices."
   ]
  },
  {
   "cell_type": "markdown",
   "id": "a2c08b77",
   "metadata": {},
   "source": [
    "Abaixo, resolvemos esse problema da seguinte forma:\n",
    "* Calculamos a curva ROC do modelo calibrado\n",
    "* Usamos `scipy.interpolate` para criar uma interpolação linear\n",
    "* Amostramos vários pontos\n",
    "* Passamos para o plano PR\n",
    "* Usamos integração numérica para calcular a área sob a curva, ie. a Average Precision do modelo calibrado"
   ]
  },
  {
   "cell_type": "code",
   "execution_count": 118,
   "id": "e85fce30",
   "metadata": {},
   "outputs": [],
   "source": [
    "def average_precision_improved(y_true, y_probs):\n",
    "    from sklearn.metrics import auc, roc_curve\n",
    "    from scipy.interpolate import interp1d\n",
    "    \n",
    "    fpr, tpr, _ = roc_curve(y_true, y_probs)\n",
    "    \n",
    "    x = np.linspace(1e-8, 1-1e-8, 1000)\n",
    "    y = interp1d(fpr, tpr)(x)\n",
    "    d = y_true.mean()/(1-y_true.mean())\n",
    "\n",
    "    rec  = y\n",
    "    prec = y/(y + x/d)\n",
    "    \n",
    "    rec = np.append(rec[::-1], 0)[::-1]\n",
    "    prec = np.append(prec[::-1], 1)[::-1]\n",
    "    \n",
    "    return rec, prec, auc(rec, prec)"
   ]
  },
  {
   "cell_type": "code",
   "execution_count": 119,
   "id": "e67b5b03",
   "metadata": {},
   "outputs": [],
   "source": [
    "rec, prec, ap = average_precision_improved(y_true=y_test,\n",
    "                                              y_probs=mod_calib.predict_proba(X_test)[:,1])"
   ]
  },
  {
   "cell_type": "code",
   "execution_count": 123,
   "id": "83ed4c8a",
   "metadata": {},
   "outputs": [
    {
     "data": {
      "image/png": "[encoded data removed]",
      "text/plain": [
       "<Figure size 432x288 with 1 Axes>"
      ]
     },
     "metadata": {
      "needs_background": "light"
     },
     "output_type": "display_data"
    }
   ],
   "source": [
    "fig, ax = plt.subplots()\n",
    "PrecisionRecallDisplay.from_estimator(mod, X_test, y_test, ax=ax)\n",
    "ax.plot(rec, prec, label=f'Calibrated (AP = {round(ap,2)})')\n",
    "plt.legend()\n",
    "plt.show()"
   ]
  },
  {
   "cell_type": "markdown",
   "id": "0cdf2606",
   "metadata": {},
   "source": [
    "Como vemos, a área é basicamente a mesma. Assim, não há problemas em utilizar a Avg. Precision do modelo original como proxy."
   ]
  }
 ],
 "metadata": {
  "kernelspec": {
   "display_name": "Python 3",
   "language": "python",
   "name": "python3"
  },
  "language_info": {
   "codemirror_mode": {
    "name": "ipython",
    "version": 3
   },
   "file_extension": ".py",
   "mimetype": "text/x-python",
   "name": "python",
   "nbconvert_exporter": "python",
   "pygments_lexer": "ipython3",
   "version": "3.8.8"
  }
 },
 "nbformat": 4,
 "nbformat_minor": 5
}
