{
 "cells": [
  {
   "cell_type": "code",
   "execution_count": 25,
   "id": "8647d33c",
   "metadata": {},
   "outputs": [],
   "source": [
    "import numpy as np\n",
    "import pandas as pd\n",
    "import matplotlib.pyplot as plt"
   ]
  },
  {
   "cell_type": "markdown",
   "id": "d15e1ea7",
   "metadata": {},
   "source": [
    "Comparando com (para distribuição normal):"
   ]
  },
  {
   "cell_type": "markdown",
   "id": "919756ed",
   "metadata": {},
   "source": [
    "$$S = \\frac 12 \\log (2\\pi\\sigma^2) + \\frac 12$$"
   ]
  },
  {
   "cell_type": "code",
   "execution_count": 75,
   "id": "04ddb328",
   "metadata": {},
   "outputs": [],
   "source": [
    "x = np.random.randn(10000)"
   ]
  },
  {
   "cell_type": "code",
   "execution_count": 104,
   "id": "fdfcfe1b",
   "metadata": {},
   "outputs": [],
   "source": [
    "def freedman_draconis_bins(x):\n",
    "    iqr = np.quantile(x, 0.75) - np.quantile(x, 0.25)\n",
    "    n = len(x)\n",
    "\n",
    "    bin_width = 2*iqr/(n**(1/3))\n",
    "    opt_bins = int((x.max() - x.min())/bin_width)\n",
    "    return opt_bins"
   ]
  },
  {
   "cell_type": "code",
   "execution_count": 105,
   "id": "ec5ee3a9",
   "metadata": {},
   "outputs": [],
   "source": [
    "def entropy(y_pred, bins='auto'):\n",
    "    if bins == 'auto':\n",
    "        n_bins = freedman_draconis_bins(y_pred)\n",
    "    elif isinstance(bins, int):\n",
    "        n_bins = bins\n",
    "    else:\n",
    "        raise ValueError(\"Invalid bins argument\")\n",
    "        \n",
    "    f, bins = np.histogram(y_pred, bins=n_bins, density=True)\n",
    "    f = f[f>0]\n",
    "    \n",
    "    dx = bins[1]-bins[0]\n",
    "    \n",
    "    return -np.sum(f*np.log(f))*dx"
   ]
  },
  {
   "cell_type": "code",
   "execution_count": 106,
   "id": "029c448a",
   "metadata": {},
   "outputs": [],
   "source": [
    "S = 0.5*np.log(2*np.pi) + 0.5"
   ]
  },
  {
   "cell_type": "code",
   "execution_count": 107,
   "id": "f227356d",
   "metadata": {},
   "outputs": [
    {
     "name": "stdout",
     "output_type": "stream",
     "text": [
      "Theoretical: 1.4189\n"
     ]
    }
   ],
   "source": [
    "print(\"Theoretical:\", round(S,4))"
   ]
  },
  {
   "cell_type": "code",
   "execution_count": 108,
   "id": "0204f854",
   "metadata": {},
   "outputs": [
    {
     "name": "stdout",
     "output_type": "stream",
     "text": [
      "Empirical: 1.4151\n"
     ]
    }
   ],
   "source": [
    "print(\"Empirical:\", round(entropy(x),4))"
   ]
  },
  {
   "cell_type": "code",
   "execution_count": 84,
   "id": "f20ee620",
   "metadata": {},
   "outputs": [],
   "source": [
    "bins = range(10,200,10)\n",
    "ents = [entropy(x, bins=bin) for bin in bins]"
   ]
  },
  {
   "cell_type": "code",
   "execution_count": 93,
   "id": "179583eb",
   "metadata": {},
   "outputs": [
    {
     "data": {
      "image/png": "[encoded data removed]",
      "text/plain": [
       "<Figure size 432x288 with 1 Axes>"
      ]
     },
     "metadata": {
      "needs_background": "light"
     },
     "output_type": "display_data"
    }
   ],
   "source": [
    "plt.plot(bins, ents, label=\"Approx\")\n",
    "plt.axhline(S, linestyle='--', label=\"Theory\")\n",
    "plt.xlabel(\"n_bins\")\n",
    "plt.legend()\n",
    "plt.show()"
   ]
  },
  {
   "cell_type": "code",
   "execution_count": null,
   "id": "f9ec3283",
   "metadata": {},
   "outputs": [],
   "source": []
  }
 ],
 "metadata": {
  "kernelspec": {
   "display_name": "Python 3",
   "language": "python",
   "name": "python3"
  },
  "language_info": {
   "codemirror_mode": {
    "name": "ipython",
    "version": 3
   },
   "file_extension": ".py",
   "mimetype": "text/x-python",
   "name": "python",
   "nbconvert_exporter": "python",
   "pygments_lexer": "ipython3",
   "version": "3.8.8"
  }
 },
 "nbformat": 4,
 "nbformat_minor": 5
}
