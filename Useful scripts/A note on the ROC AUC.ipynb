{
 "cells": [
  {
   "cell_type": "markdown",
   "id": "99ef15f9",
   "metadata": {},
   "source": [
    "# Extreme class imbalance in AUC estimation"
   ]
  },
  {
   "cell_type": "markdown",
   "id": "d6a5a472",
   "metadata": {},
   "source": [
    "## Recap: the C statistic "
   ]
  },
  {
   "cell_type": "markdown",
   "id": "a448f64c",
   "metadata": {},
   "source": [
    "Recall that the area under the ROC curve, the ROC AUC (denoted simply as AUC below) can be shown to be equivalent to the C-statistic, ie. it has a probabilistic interpration as\n",
    "\n",
    "$$\\boxed{\\mathrm{AUC} := \\mathbb P(Q_1 \\geq Q_0)}$$\n",
    "\n",
    "where $Q_i = f(X)|Y=i$ is the score distribution for class $i \\in \\{0,1\\}$ under a model $f$."
   ]
  },
  {
   "cell_type": "markdown",
   "id": "bb726bf5",
   "metadata": {},
   "source": [
    "Consider a dataset $\\{x_i, y_i\\}_{i=1}^N$ with $n$ entries of class 1 and $N - n$ entries of class 0. Denote the index sets for these classes as $I \\equiv \\{i: y_i=1\\}$ and $J \\equiv \\{j: y_j = 0\\}$.\n",
    "\n",
    "Let us write $p_i = f(x_i)$ to be the model-forecasted score for entry $x_i$. Then, the quantity\n",
    "\n",
    "$$\\boxed{\\widehat{\\mathrm{AUC}} := \\frac{1}{n(N-n)} \\sum_{i\\in I}\\sum_{j\\in J} 1_{p_i \\geq p_j}}$$"
   ]
  },
  {
   "cell_type": "markdown",
   "id": "a489a9d1",
   "metadata": {},
   "source": [
    "is an estimator for the real AUC."
   ]
  },
  {
   "cell_type": "markdown",
   "id": "96454750",
   "metadata": {},
   "source": [
    "### Example (to show that this is true)"
   ]
  },
  {
   "cell_type": "code",
   "execution_count": 3,
   "id": "4c5f7f02",
   "metadata": {},
   "outputs": [],
   "source": [
    "import numpy as np\n",
    "from sklearn.datasets import make_classification\n",
    "from sklearn.metrics import roc_auc_score\n",
    "from sklearn.linear_model import LogisticRegression"
   ]
  },
  {
   "cell_type": "code",
   "execution_count": 12,
   "id": "6bfd6691",
   "metadata": {},
   "outputs": [],
   "source": [
    "X, y = make_classification(2000, n_features=20, class_sep=0.6, weights=(0.8,), random_state=2)"
   ]
  },
  {
   "cell_type": "code",
   "execution_count": 18,
   "id": "136e56a5",
   "metadata": {},
   "outputs": [],
   "source": [
    "model = LogisticRegression().fit(X, y)\n",
    "\n",
    "y_probs = model.predict_proba(X)[:,1]\n",
    "auc_area = roc_auc_score(y, y_probs)"
   ]
  },
  {
   "cell_type": "code",
   "execution_count": 19,
   "id": "bd00e305",
   "metadata": {},
   "outputs": [
    {
     "name": "stdout",
     "output_type": "stream",
     "text": [
      "ROC AUC calculated as an area: 0.93089\n"
     ]
    }
   ],
   "source": [
    "print(\"ROC AUC calculated as an area:\", round(auc_area,5))"
   ]
  },
  {
   "cell_type": "code",
   "execution_count": 20,
   "id": "3ab3a5f6",
   "metadata": {},
   "outputs": [],
   "source": [
    "n0, n1 = np.bincount(y)\n",
    "total_sum = 0\n",
    "for pi in y_probs[y==1]:\n",
    "    for pj in y_probs[y==0]:\n",
    "        if pi >= pj:\n",
    "            total_sum += 1\n",
    "auc_estimator = total_sum/(n0*n1)"
   ]
  },
  {
   "cell_type": "code",
   "execution_count": 22,
   "id": "9ee29d94",
   "metadata": {},
   "outputs": [
    {
     "name": "stdout",
     "output_type": "stream",
     "text": [
      "ROC AUC calculated as an area: 0.93089\n"
     ]
    }
   ],
   "source": [
    "print(\"ROC AUC calculated as an area:\", round(auc_estimator,5))"
   ]
  },
  {
   "cell_type": "markdown",
   "id": "1159faef",
   "metadata": {},
   "source": [
    "Notice how both results are identical."
   ]
  },
  {
   "cell_type": "markdown",
   "id": "991bf91d",
   "metadata": {},
   "source": [
    "## How far away from the actual AUC does the estimator go?"
   ]
  },
  {
   "cell_type": "markdown",
   "id": "1f1054d0",
   "metadata": {},
   "source": [
    "When calculating the AUC from a finite sample, one might wonder how precise is the estimator. This problem can be tackled by bootstrap."
   ]
  },
  {
   "cell_type": "markdown",
   "id": "e74f2b1d",
   "metadata": {},
   "source": [
    "We want to obtain some feeling for an analytical result, so let us get the simplest possible estimator: a random one, where all scores are uniformly sampled from $[0,1]$. In this context, how likely are we to get a spuriously large AUC?"
   ]
  },
  {
   "cell_type": "markdown",
   "id": "9f3e9bc2",
   "metadata": {},
   "source": [
    "In particular, we want to consider an **extreme imbalance scenario** where\n",
    "\n",
    "1. $n$ is small (say, less than 100)\n",
    "\n",
    "2. The ratio $n/N$ is small: $n/N \\ll 1$ (say, 1% or less)"
   ]
  },
  {
   "cell_type": "markdown",
   "id": "5513c1be",
   "metadata": {},
   "source": [
    "Our intuition tells us that this case should be more interesting than the big-data, balanced one: since one has only a few ($n$) points in class 1, if we are \"lucky\" to get high scores for all of them, the AUC will end up being high. "
   ]
  },
  {
   "cell_type": "markdown",
   "id": "bd41662e",
   "metadata": {},
   "source": [
    "We will use the AUC estimator as defined above. First, we have a trivial result: for all $i \\in I$, $j \\in J$, if $p_i, p_j$ iid distributed as $\\mathrm{Uniform}([0,1])$ then\n",
    "\n",
    "$$1_{p_i \\geq p_j} | p_i \\; \\sim \\;\\mathrm{Bernoulli}(p_i)$$"
   ]
  },
  {
   "cell_type": "markdown",
   "id": "f30265d1",
   "metadata": {},
   "source": [
    "Since a binomial variable is built from a sum of independent Bernoulli ones, we have a corollary: for all $i \\in I$, \n",
    "\n",
    "$$\\sum_{j \\in J}\\left. 1_{p_i \\geq p_j} \\right| p_i \\; \\sim \\; \\mathrm{Binomial}(N-n, p_i)$$"
   ]
  },
  {
   "cell_type": "markdown",
   "id": "15ca9a6b",
   "metadata": {},
   "source": [
    "Now, for large $N-n$, we may use the normal approximation to the binomial, namely a $\\mathrm{Binomial}(n,p)$ variable converges to a $\\mathcal N(\\mu=np, \\sigma^2 = np(1-p))$ variable as $n$ grows. Hence\n",
    "\n",
    "$$\\sum_{j \\in J}\\left. 1_{p_i \\geq p_j} \\right| p_i \\; \\sim \\; \\mathcal N\\left( (N-n)p_i,  (N-n)p_i (1-p_i) \\right)$$"
   ]
  },
  {
   "cell_type": "markdown",
   "id": "0b2002c4",
   "metadata": {},
   "source": [
    "It follows that, for all $i\\in I$,\n",
    "\n",
    "$$Z_i |p_i := \\frac{1}{N-n} \\sum_{j \\in J} \\left.1_{p_i \\geq p_j}\\right| \\, p_i \\;\\sim \\; \\mathcal N \\left(p_i, \\frac{p_i (1-p_i)}{N-n}\\right)$$"
   ]
  },
  {
   "cell_type": "markdown",
   "id": "2b3facf6",
   "metadata": {},
   "source": [
    "This defines a set of $n$ variables $Z_i$. To obtain their marginal distribution, notice that for any $Z_i$ its PDF is given by\n",
    "\n",
    "$$p_{Z_i}(z) = \\int p(z|p_i) p(p_i) dp_i;$$"
   ]
  },
  {
   "cell_type": "markdown",
   "id": "0e591397",
   "metadata": {},
   "source": [
    "but $p_i \\; \\sim \\; \\mathrm{Uniform}([0,1])$, and hence its PDF is just the identity on $[0,1]$. Letting\n",
    "\n",
    "$$f(x|\\mu,\\sigma^2) \\equiv \\frac{1}{\\sqrt{2\\pi \\sigma^2}} \\exp\\left\\{ - \\frac{(x-\\mu)^2}{2\\sigma^2} \\right\\}$$"
   ]
  },
  {
   "cell_type": "markdown",
   "id": "6bf98d24",
   "metadata": {},
   "source": [
    "be the Gaussian PDF, we obtain\n",
    "\n",
    "$$p_{Z_i}(z) = \\int_0^1 f \\left(z \\left. \\frac{}{} \\right|\\, p, \\frac{p(1-p)}{N-n} \\right) dp$$"
   ]
  },
  {
   "cell_type": "markdown",
   "id": "fbf83106",
   "metadata": {},
   "source": [
    "For $N-n$ large (as is our hypothesis), the integrand (as a function of $p$) is basically a very sharp peak centered at $p=z$. In fact, we may approximate it as a Dirac delta function\n",
    "\n",
    "$$f\\left(z \\left. \\frac{}{} \\right|\\, p, \\frac{p(1-p)}{N-n} \\right) \\approx \\delta(z-p)$$"
   ]
  },
  {
   "cell_type": "markdown",
   "id": "f35f776b",
   "metadata": {},
   "source": [
    "to obtain\n",
    "\n",
    "$$p_{Z_i}(z) = 1_{z \\in [0,1]} \\quad \\Rightarrow \\quad Z_i \\; \\sim \\; \\mathrm{Uniform}([0,1])$$"
   ]
  },
  {
   "cell_type": "markdown",
   "id": "a608bbe1",
   "metadata": {},
   "source": [
    "> We have also tested this numerically - even for $n/N$ not that small this holds surprisingly well."
   ]
  },
  {
   "cell_type": "markdown",
   "id": "84d99ff5",
   "metadata": {},
   "source": [
    "**If we assume all $Z_i$'s are independent among themselves**, the it means that $n \\widehat{\\mathrm{AUC}}$ is the sum of $n$ independent uniform variables: it follows the so-called Irwin-Hall distribution, and we have our most important result:\n",
    "\n",
    "> Notice: we have not proven this independence assumption.\n",
    "\n",
    "**Theorem**. Let $\\widehat{\\mathrm{AUC}}_\\mathrm{random}$ denote the ROC AUC estimator for a *uniformly random scoring function*. Let there be $n$ instances of class 1 and $N-n$ instances of class 0, where $N\\geq n$. Then\n",
    "\n",
    "$$\\boxed{n \\widehat{\\mathrm{AUC}}_\\mathrm{random} \\; \\sim \\; \\mathrm{IrwinHall}(n)};$$"
   ]
  },
  {
   "cell_type": "markdown",
   "id": "fa5b0772",
   "metadata": {},
   "source": [
    "notice that this result **does not depend on $N$ explicitly**; we've only used that $N$ is large and also much larger than $n$."
   ]
  },
  {
   "cell_type": "markdown",
   "id": "6a0ad528",
   "metadata": {},
   "source": [
    "As Wikipedia can tell us, if $A \\sim \\mathrm{IrwinHall}(n)$ then\n",
    "\n",
    "$$\\mathbb E[A] = \\frac{n}{2};\\qquad \\mathrm{Var}(A) = \\frac{n}{12};$$\n",
    "\n",
    "for the AUC, this gives \n",
    "\n",
    "$$\\boxed{\\mathbb E[\\widehat{\\mathrm{AUC}}_\\mathrm{random}] = \\frac{1}{2};\\qquad \\mathrm{Var}[\\widehat{\\mathrm{AUC}}_\\mathrm{random}] = \\frac{1}{12 n}}$$"
   ]
  },
  {
   "cell_type": "markdown",
   "id": "318f14c5",
   "metadata": {},
   "source": [
    "The first result is not surprising: we know that for a random scoring function the AUC should be 1/2. The second one is more surprising, and shows that as we increase $n$, we get an increasingly more precise AUC at 0.5."
   ]
  },
  {
   "cell_type": "markdown",
   "id": "b85b7eb1",
   "metadata": {},
   "source": [
    "We can now use this result to calculate how likely a statistical fluke is to happen: recall Chebyshev's inequality for any (square-integrable) random variable $X$:\n",
    "\n",
    "$$\\mathbb P(|X - \\mu| \\geq t) \\leq \\frac{\\mathrm{Var} \\, X}{t^2}$$"
   ]
  },
  {
   "cell_type": "markdown",
   "id": "c536b6dc",
   "metadata": {},
   "source": [
    "for our random AUC, this gives\n",
    "\n",
    "$$\\boxed{\\mathbb P \\left( \\left|\\widehat{\\mathrm{AUC}}_\\mathrm{random} - \\frac 12 \\right| \\geq t \\right) \\leq \\frac{1}{12 n t^2}}$$"
   ]
  },
  {
   "cell_type": "markdown",
   "id": "b9434c03",
   "metadata": {},
   "source": [
    "> Example: let $n = 20$:"
   ]
  },
  {
   "cell_type": "code",
   "execution_count": 24,
   "id": "2c707682",
   "metadata": {},
   "outputs": [
    {
     "name": "stdout",
     "output_type": "stream",
     "text": [
      "Probability of AUC > 0.6 is less than 41.67%\n",
      "Probability of AUC > 0.7 is less than 10.42%\n",
      "Probability of AUC > 0.8 is less than 4.63%\n",
      "Probability of AUC > 0.9 is less than 2.6%\n"
     ]
    }
   ],
   "source": [
    "n = 20\n",
    "for t in [0.1, 0.2, 0.3, 0.4]:\n",
    "    print(f\"Probability of AUC > {0.5+t} is less than {round(100/(12*n*t**2), 2)}%\")"
   ]
  },
  {
   "cell_type": "markdown",
   "id": "de8ced21",
   "metadata": {},
   "source": [
    "Notice that there is a significant probability of AUC > 0.7: around 10%."
   ]
  },
  {
   "cell_type": "markdown",
   "id": "a9a3e4f6",
   "metadata": {},
   "source": [
    "### In real-life models"
   ]
  },
  {
   "cell_type": "markdown",
   "id": "e0f99da1",
   "metadata": {},
   "source": [
    "For any model which is even slightly better than random, the reasoning above might be expanded: we can probably reach higher AUCs more easily, "
   ]
  },
  {
   "cell_type": "markdown",
   "id": "75231f45",
   "metadata": {},
   "source": [
    "## Future outlook"
   ]
  },
  {
   "cell_type": "markdown",
   "id": "2aee056c",
   "metadata": {},
   "source": [
    "Read this paper by Mohri:"
   ]
  },
  {
   "cell_type": "markdown",
   "id": "4ce40b4d",
   "metadata": {},
   "source": [
    "https://cs.nyu.edu/~mohri/pub/area.pdf"
   ]
  },
  {
   "cell_type": "code",
   "execution_count": null,
   "id": "be7ec64d",
   "metadata": {},
   "outputs": [],
   "source": []
  }
 ],
 "metadata": {
  "kernelspec": {
   "display_name": "Python 3",
   "language": "python",
   "name": "python3"
  },
  "language_info": {
   "codemirror_mode": {
    "name": "ipython",
    "version": 3
   },
   "file_extension": ".py",
   "mimetype": "text/x-python",
   "name": "python",
   "nbconvert_exporter": "python",
   "pygments_lexer": "ipython3",
   "version": "3.8.8"
  }
 },
 "nbformat": 4,
 "nbformat_minor": 5
}
