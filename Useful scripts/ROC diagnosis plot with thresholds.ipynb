{
 "cells": [
  {
   "cell_type": "code",
   "execution_count": 118,
   "id": "7bd66fec",
   "metadata": {},
   "outputs": [],
   "source": [
    "import numpy as np\n",
    "import matplotlib.pyplot as plt\n",
    "from sklearn.ensemble import HistGradientBoostingClassifier, RandomForestClassifier\n",
    "from sklearn.datasets import load_breast_cancer\n",
    "from sklearn.model_selection import train_test_split\n",
    "from sklearn.calibration import CalibratedClassifierCV, CalibrationDisplay"
   ]
  },
  {
   "cell_type": "code",
   "execution_count": 119,
   "id": "08849a0f",
   "metadata": {},
   "outputs": [],
   "source": [
    "X, y = load_breast_cancer(return_X_y=True, as_frame=True)\n",
    "X_train, X_test, y_train, y_test = train_test_split(X, y, test_size=0.3, random_state=2)"
   ]
  },
  {
   "cell_type": "code",
   "execution_count": 120,
   "id": "d9d32de1",
   "metadata": {},
   "outputs": [],
   "source": [
    "model = RandomForestClassifier(max_depth=8) #RandomForestClassifier(max_depth=4)\n",
    "calib = CalibratedClassifierCV(model, method='isotonic', cv=3)\n",
    "calib.fit(X_train, y_train)\n",
    "y_probs = calib.predict_proba(X_test)[:,1]\n",
    "y_probs_train = calib.predict_proba(X_train)[:,1]"
   ]
  },
  {
   "cell_type": "code",
   "execution_count": 121,
   "id": "9d3fcd69",
   "metadata": {},
   "outputs": [],
   "source": [
    "def complete_plot_roc(y_true, y_probs, ax, threshold_step=0.1):\n",
    "   \n",
    "    \"\"\"\n",
    "    Run full ROC diagnostic\n",
    "    \"\"\"\n",
    "   \n",
    "    from sklearn.metrics import roc_curve, roc_auc_score\n",
    "    from matplotlib.cm import viridis as mycolormap\n",
    "    import matplotlib as mpl\n",
    "    \n",
    "    fpr, tpr, thresh = roc_curve(y_true, y_probs)\n",
    "\n",
    "    # x axis, y axis\n",
    "    x = fpr\n",
    "    y = tpr\n",
    "\n",
    "    auc = roc_auc_score(y_true, y_probs)\n",
    "    cmap = plt.get_cmap('viridis', 10)\n",
    "\n",
    "    # color\n",
    "    c = thresh\n",
    "    c[0] = c[0]-1\n",
    "    c = (c - c.min())/(c.max() - c.min())\n",
    "\n",
    "    base = 1.0 - threshold_step\n",
    "    for i in range(len(x)):\n",
    "        ax.plot(x[i:i+2], y[i:i+2], c=mycolormap(c[i]))\n",
    "\n",
    "        if thresh[i] <= base:\n",
    "            ax.scatter(x[i], y[i], color=mycolormap(c[i]))\n",
    "    #            plt.annotate(\"  {0:.1f}\".format(thresh[i]), (x[i]*1.03, y[i]*0.96), fontsize=8)\n",
    "            base -= threshold_step\n",
    "\n",
    "    ax.annotate(\"AUC = {0:.2f}\".format(auc), (0.77, 0.01), fontsize=8,\n",
    "               bbox=dict(facecolor='none', edgecolor='black', pad=5.0))\n",
    "    ax.set_xlabel(\"FPR\")\n",
    "    ax.set_ylabel(\"TPR\")\n",
    "\n",
    "\n",
    "    norm = mpl.colors.Normalize(vmin=0, vmax=1)\n",
    "\n",
    "    # creating ScalarMappable\n",
    "    sm = plt.cm.ScalarMappable(cmap=cmap, norm=norm)\n",
    "    sm.set_array([])\n",
    "\n",
    "    #plt.colorbar(sm, ticks=np.linspace(0, 2, N))\n",
    "    plt.colorbar(sm, ax=ax, label=\"Threshold\", orientation=\"vertical\")\n"
   ]
  },
  {
   "cell_type": "code",
   "execution_count": 122,
   "id": "c6ac2e65",
   "metadata": {},
   "outputs": [
    {
     "data": {
      "image/png": "[encoded data removed]",
      "text/plain": [
       "<Figure size 720x360 with 4 Axes>"
      ]
     },
     "metadata": {
      "needs_background": "light"
     },
     "output_type": "display_data"
    }
   ],
   "source": [
    "fig, ax = plt.subplots(ncols=2, figsize=(10,5))\n",
    "\n",
    "complete_plot_roc(y_train, y_probs_train, ax[0])\n",
    "complete_plot_roc(y_test, y_probs, ax[1])\n",
    "plt.tight_layout()\n",
    "plt.show()"
   ]
  },
  {
   "cell_type": "code",
   "execution_count": null,
   "id": "a33a86c8",
   "metadata": {},
   "outputs": [],
   "source": []
  }
 ],
 "metadata": {
  "kernelspec": {
   "display_name": "Python 3",
   "language": "python",
   "name": "python3"
  },
  "language_info": {
   "codemirror_mode": {
    "name": "ipython",
    "version": 3
   },
   "file_extension": ".py",
   "mimetype": "text/x-python",
   "name": "python",
   "nbconvert_exporter": "python",
   "pygments_lexer": "ipython3",
   "version": "3.8.8"
  }
 },
 "nbformat": 4,
 "nbformat_minor": 5
}
