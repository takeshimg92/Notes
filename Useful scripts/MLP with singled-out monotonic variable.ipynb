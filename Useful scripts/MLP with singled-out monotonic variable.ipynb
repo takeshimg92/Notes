{
 "cells": [
  {
   "cell_type": "markdown",
   "id": "6ecba7ef",
   "metadata": {},
   "source": [
    "Build a neural network which is separated in two blocks:\n",
    "* A common set of \"base\" features\n",
    "* One feature with a special dependence"
   ]
  },
  {
   "cell_type": "code",
   "execution_count": 60,
   "id": "41b0bd72",
   "metadata": {},
   "outputs": [],
   "source": [
    "import numpy as np\n",
    "import pandas as pd\n",
    "import matplotlib.pyplot as plt\n",
    "import tensorflow as tf\n",
    "from tensorflow import keras"
   ]
  },
  {
   "cell_type": "code",
   "execution_count": 57,
   "id": "44a1535f",
   "metadata": {},
   "outputs": [],
   "source": [
    "from sklearn.datasets import make_classification\n",
    "from sklearn.linear_model import LogisticRegression\n",
    "from sklearn.metrics import roc_auc_score\n",
    "from sklearn.calibration import CalibrationDisplay\n",
    "from sklearn.model_selection import train_test_split"
   ]
  },
  {
   "cell_type": "markdown",
   "id": "080e7267",
   "metadata": {},
   "source": [
    "## Build artificial dataset with one monotonic variable"
   ]
  },
  {
   "cell_type": "markdown",
   "id": "53df8011",
   "metadata": {},
   "source": [
    "We will build a classification problem where the dependence on one of the variables is monotonic"
   ]
  },
  {
   "cell_type": "code",
   "execution_count": 53,
   "id": "0aa1078e",
   "metadata": {},
   "outputs": [],
   "source": [
    "X, y = make_classification(n_samples=3000, n_features=9, n_informative=9, n_redundant=0, n_repeated=0,\n",
    "                          random_state=2)\n",
    "\n",
    "X = pd.DataFrame(X, columns=[f'col_{i}' for i in range(9)])\n",
    "y = pd.Series(y)"
   ]
  },
  {
   "cell_type": "markdown",
   "id": "6f1c6e82",
   "metadata": {},
   "source": [
    "Artificially introduce a tenth feature based on the results of a logistic regression applied to the model"
   ]
  },
  {
   "cell_type": "code",
   "execution_count": 54,
   "id": "ae2c6199",
   "metadata": {},
   "outputs": [
    {
     "data": {
      "text/plain": [
       "0.9194776496188416"
      ]
     },
     "execution_count": 54,
     "metadata": {},
     "output_type": "execute_result"
    }
   ],
   "source": [
    "lr = LogisticRegression(C=1e-3)\n",
    "lr.fit(X, y)\n",
    "predictions = lr.predict_proba(X)[:,1]\n",
    "roc_auc_score(y, predictions)"
   ]
  },
  {
   "cell_type": "code",
   "execution_count": 55,
   "id": "2ff25af6",
   "metadata": {},
   "outputs": [
    {
     "data": {
      "text/plain": [
       "0.7369243514620548"
      ]
     },
     "execution_count": 55,
     "metadata": {},
     "output_type": "execute_result"
    }
   ],
   "source": [
    "# add noise to avoid extreme overfitting\n",
    "np.random.seed(3)\n",
    "new_feat = predictions + 0.4*np.random.randn(*y.shape)\n",
    "roc_auc_score(y, new_feat)"
   ]
  },
  {
   "cell_type": "code",
   "execution_count": 56,
   "id": "69ff4368",
   "metadata": {},
   "outputs": [],
   "source": [
    "X['delta'] = new_feat"
   ]
  },
  {
   "cell_type": "markdown",
   "id": "66352727",
   "metadata": {},
   "source": [
    "## Create neural network"
   ]
  },
  {
   "cell_type": "markdown",
   "id": "6099f98c",
   "metadata": {},
   "source": [
    "From https://stackoverflow.com/questions/64116920/how-to-input-single-variable-at-the-last-layer-in-keras"
   ]
  },
  {
   "cell_type": "code",
   "execution_count": 58,
   "id": "71ac4c71",
   "metadata": {},
   "outputs": [],
   "source": [
    "X_train, X_test, y_train, y_test = train_test_split(X, y, test_size=0.3, random_state=2)"
   ]
  },
  {
   "cell_type": "code",
   "execution_count": 68,
   "id": "b142aba8",
   "metadata": {},
   "outputs": [],
   "source": [
    "from keras.layers import Input, Dense, Concatenate\n",
    "from keras.models import Model\n",
    "from keras.optimizers import Adam"
   ]
  },
  {
   "cell_type": "code",
   "execution_count": 62,
   "id": "f0c24a1f",
   "metadata": {},
   "outputs": [],
   "source": [
    "# separate into delta vs. other columns\n",
    "feature_x = X_train.drop(columns='delta')\n",
    "single_feature_x = X_train[['delta']]\n",
    "\n",
    "input_x = Input(shape=feature_x.shape[1], name='feature_input')\n",
    "single_input_x = Input(shape=single_feature_x.shape[1], name='single_input')"
   ]
  },
  {
   "cell_type": "code",
   "execution_count": 159,
   "id": "c8dcaf09",
   "metadata": {},
   "outputs": [],
   "source": [
    "# build network for the other features\n",
    "x1 = Dense(4, activation='relu')(input_x)\n",
    "x2 = Dense(4, activation='relu')(x1)\n",
    "\n",
    "# you can keep increasing here, using the functional API\n",
    "\n",
    "# concatenate\n",
    "concat_feat = Concatenate(axis=-1, name='concat_fc')([x2, single_input_x])\n",
    "\n",
    "outputs = Dense(1, activation='sigmoid')(concat_feat)\n",
    "\n",
    "model = Model(inputs=[input_x, single_input_x], outputs=outputs)\n",
    "model.compile(loss='binary_crossentropy',\n",
    "              metrics=[keras.metrics.AUC()],\n",
    "              optimizer=Adam(lr=0.001))\n",
    "\n",
    "model.fit({'feature_input': feature_x,\n",
    "           'single_input': single_feature_x},\n",
    "          y_train,\n",
    "          epochs=100,\n",
    "          batch_size=256,\n",
    "          verbose=0);"
   ]
  },
  {
   "cell_type": "markdown",
   "id": "e3d98809",
   "metadata": {},
   "source": [
    "## Predicting on new data; compare to baseline"
   ]
  },
  {
   "cell_type": "markdown",
   "id": "1da54531",
   "metadata": {},
   "source": [
    "Baseline logistic regression"
   ]
  },
  {
   "cell_type": "code",
   "execution_count": 160,
   "id": "d89dd96f",
   "metadata": {},
   "outputs": [
    {
     "data": {
      "text/plain": [
       "0.9244057381098224"
      ]
     },
     "execution_count": 160,
     "metadata": {},
     "output_type": "execute_result"
    }
   ],
   "source": [
    "baseline = LogisticRegression()\n",
    "baseline.fit(X_train, y_train)\n",
    "roc_auc_score(y_test, baseline.predict_proba(X_test)[:,1])"
   ]
  },
  {
   "cell_type": "markdown",
   "id": "4690972e",
   "metadata": {},
   "source": [
    "Neural network"
   ]
  },
  {
   "cell_type": "code",
   "execution_count": 234,
   "id": "27214915",
   "metadata": {},
   "outputs": [],
   "source": [
    "y_probs = model.predict([X_test.drop('delta', axis=1), X_test[['delta']]])\n",
    "y_probs = y_probs.reshape(len(y_probs),)"
   ]
  },
  {
   "cell_type": "code",
   "execution_count": 162,
   "id": "339d7f43",
   "metadata": {},
   "outputs": [
    {
     "data": {
      "text/plain": [
       "0.9463781145646031"
      ]
     },
     "execution_count": 162,
     "metadata": {},
     "output_type": "execute_result"
    }
   ],
   "source": [
    "roc_auc_score(y_test, y_probs)"
   ]
  },
  {
   "cell_type": "code",
   "execution_count": 232,
   "id": "1c689cf7",
   "metadata": {},
   "outputs": [
    {
     "data": {
      "text/plain": [
       "<sklearn.calibration.CalibrationDisplay at 0x7f1dc0a11af0>"
      ]
     },
     "execution_count": 232,
     "metadata": {},
     "output_type": "execute_result"
    },
    {
     "data": {
      "image/png": "[encoded data removed]",
      "text/plain": [
       "<Figure size 432x288 with 1 Axes>"
      ]
     },
     "metadata": {
      "needs_background": "light"
     },
     "output_type": "display_data"
    }
   ],
   "source": [
    "CalibrationDisplay.from_predictions(y_test, y_probs, n_bins=10)"
   ]
  },
  {
   "cell_type": "markdown",
   "id": "b64a0856",
   "metadata": {},
   "source": [
    "## Build simulator"
   ]
  },
  {
   "cell_type": "code",
   "execution_count": 228,
   "id": "eb9cfac4",
   "metadata": {},
   "outputs": [
    {
     "name": "stdout",
     "output_type": "stream",
     "text": [
      "Real:  0\n",
      "Predicted:  0.031107575\n"
     ]
    }
   ],
   "source": [
    "i = 1\n",
    "person = X_test.iloc[i]\n",
    "his_delta = person['delta']\n",
    "print('Real: ', y_test.iloc[i])\n",
    "print('Predicted: ', y_probs[i])"
   ]
  },
  {
   "cell_type": "code",
   "execution_count": 229,
   "id": "075d4ab8",
   "metadata": {},
   "outputs": [],
   "source": [
    "simulated_deltas = np.arange(-10, 40, 0.1)\n",
    "X_sim = pd.concat([pd.DataFrame(person).T]*len(simulated_deltas))\n",
    "X_sim['delta'] = simulated_deltas"
   ]
  },
  {
   "cell_type": "code",
   "execution_count": 230,
   "id": "82fe3e4e",
   "metadata": {},
   "outputs": [],
   "source": [
    "y_sim = model.predict([X_sim.drop('delta', axis=1), X_sim[['delta']]])"
   ]
  },
  {
   "cell_type": "code",
   "execution_count": 231,
   "id": "d9ef6144",
   "metadata": {},
   "outputs": [
    {
     "data": {
      "text/plain": [
       "[<matplotlib.lines.Line2D at 0x7f1dcc7a7670>]"
      ]
     },
     "execution_count": 231,
     "metadata": {},
     "output_type": "execute_result"
    },
    {
     "data": {
      "image/png": "[encoded data removed]",
      "text/plain": [
       "<Figure size 432x288 with 1 Axes>"
      ]
     },
     "metadata": {
      "needs_background": "light"
     },
     "output_type": "display_data"
    }
   ],
   "source": [
    "plt.plot(simulated_deltas, y_sim)"
   ]
  },
  {
   "cell_type": "markdown",
   "id": "4688b50f",
   "metadata": {},
   "source": [
    "Simulator works"
   ]
  },
  {
   "cell_type": "markdown",
   "id": "fba669d9",
   "metadata": {},
   "source": [
    "### Sklearn API"
   ]
  },
  {
   "cell_type": "code",
   "execution_count": 252,
   "id": "2d59f337",
   "metadata": {},
   "outputs": [],
   "source": [
    "from sklearn.base import BaseEstimator, ClassifierMixin\n",
    "from tensorflow import keras\n",
    "from keras.layers import Input, Dense, Concatenate\n",
    "from keras.models import Model\n",
    "from keras.optimizers import Adam\n",
    "\n",
    "class SingleMonotonicFeatureNN(BaseEstimator, ClassifierMixin):\n",
    "    \n",
    "    def __init__(self,\n",
    "                 single_feature: str):\n",
    "        self.single_feature = single_feature\n",
    "        self.model = None\n",
    "        \n",
    "   \n",
    "    def fit(self, X: pd.DataFrame, y: pd.Series,\n",
    "            epochs=100,\n",
    "            batch_size=256,\n",
    "            verbose=0,\n",
    "            learning_rate=0.001):\n",
    "        \n",
    "        feature_x = X.drop(columns=self.single_feature)\n",
    "        single_feature_x = X[[self.single_feature]]\n",
    "        \n",
    "        self._build_model(feature_x, single_feature_x)\n",
    "        \n",
    "        self.model.compile(loss='binary_crossentropy',\n",
    "                           metrics=[keras.metrics.AUC()],\n",
    "                           optimizer=Adam(lr=learning_rate))\n",
    "        \n",
    "        self.model.fit({'feature_input': feature_x,\n",
    "                        'single_input': single_feature_x},\n",
    "                        y,\n",
    "                        epochs=epochs,\n",
    "                        batch_size=batch_size,\n",
    "                        verbose=verbose);\n",
    "        return self\n",
    "\n",
    "    def _build_model(self, feature_x, single_feature_x):\n",
    "\n",
    "        input_x = Input(shape=feature_x.shape[1], name='feature_input')\n",
    "        single_input_x = Input(shape=single_feature_x.shape[1], name='single_input')\n",
    "        \n",
    "        # this is where you edit the model\n",
    "        x1 = Dense(4, activation='relu')(input_x)\n",
    "        x2 = Dense(4, activation='relu')(x1)\n",
    "\n",
    "        # concatenate\n",
    "        concat_feat = Concatenate(axis=-1, name='concat_fc')([x2, single_input_x])\n",
    "        outputs = Dense(1, activation='sigmoid')(concat_feat)\n",
    "\n",
    "        self.model = Model(inputs=[input_x, single_input_x], outputs=outputs)\n",
    "    \n",
    "    def predict_proba(self, X):\n",
    "        y_probs = self.model.predict([X.drop(self.single_feature, axis=1), X[[self.single_feature]]])\n",
    "        y_probs = y_probs.reshape(len(y_probs),)\n",
    "        \n",
    "        sklearn_probs = np.array([1-y_probs, y_probs]).T\n",
    "        return sklearn_probs\n",
    "    \n",
    "    def predict(self, X):\n",
    "        raise Exception(\"Never use .predict! Only .predict_proba :)\")"
   ]
  },
  {
   "cell_type": "code",
   "execution_count": 253,
   "id": "2fe6e772",
   "metadata": {},
   "outputs": [],
   "source": [
    "model = SingleMonotonicFeatureNN(single_feature='delta')"
   ]
  },
  {
   "cell_type": "code",
   "execution_count": 258,
   "id": "94490573",
   "metadata": {},
   "outputs": [
    {
     "data": {
      "text/plain": [
       "0.9689778497895631"
      ]
     },
     "execution_count": 258,
     "metadata": {},
     "output_type": "execute_result"
    }
   ],
   "source": [
    "model.fit(X_train, y_train)\n",
    "y_probs = model.predict_proba(X_test)[:,1]\n",
    "roc_auc_score(y_test, y_probs)"
   ]
  }
 ],
 "metadata": {
  "kernelspec": {
   "display_name": "Python 3 (ipykernel)",
   "language": "python",
   "name": "python3"
  },
  "language_info": {
   "codemirror_mode": {
    "name": "ipython",
    "version": 3
   },
   "file_extension": ".py",
   "mimetype": "text/x-python",
   "name": "python",
   "nbconvert_exporter": "python",
   "pygments_lexer": "ipython3",
   "version": "3.8.2"
  }
 },
 "nbformat": 4,
 "nbformat_minor": 5
}
