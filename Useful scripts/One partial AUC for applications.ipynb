{
 "cells": [
  {
   "cell_type": "markdown",
   "id": "8eac6010",
   "metadata": {},
   "source": [
    "Below, we consider the standard binary classification problem."
   ]
  },
  {
   "cell_type": "markdown",
   "id": "fdc076ff",
   "metadata": {},
   "source": [
    "## Misclassification cost-based ROC AUC"
   ]
  },
  {
   "cell_type": "markdown",
   "id": "113076c4",
   "metadata": {},
   "source": [
    "Assume we pay a cost $c_{FN} >0 $ in case we classify a point of the positive class as a negative, and, similarly, pay a cost $c_{FP} > 0$ in case of a false positive. \n",
    "\n",
    "With no loss of generality, we assume these costs are normalized and sum to one:\n",
    "\n",
    "$$\\boxed{c_{FN} + c_{FP} = 1.}$$\n",
    "\n",
    "(if they are not, we can normalize via $c_{FN} \\to c_{FN}/(c_{FN} + c_{FP})$ and similarly for $c_{FP}$)."
   ]
  },
  {
   "cell_type": "markdown",
   "id": "153fbdc3",
   "metadata": {},
   "source": [
    "For a given classification threshold $\\lambda \\in ]0,1[$, what is the total misclassification cost? Assume we have $n$ total points, out of which $P$ real positives and $N$ real negatives, where\n",
    "\n",
    "$$P = \\pi n, \\quad N = (1-\\pi) n,\\quad \\pi \\in [0,1] \\;\\;\\mbox{(imbalance ratio).}$$"
   ]
  },
  {
   "cell_type": "markdown",
   "id": "cb4ab630",
   "metadata": {},
   "source": [
    "Then the total false positives and false negatives is, written in terms of the coordinates $(\\mathrm{FPR}(\\lambda), \\mathrm{TPR}(\\lambda))$ of the ROC curve,\n",
    "\n",
    "$$\n",
    "\\begin{align*}\n",
    "\\mathrm{FP}(\\lambda) &= N \\; \\mathrm{FPR}(\\lambda)\\\\\n",
    "\\mathrm{FN}(\\lambda) &= P - \\mathrm{TP}(\\lambda) = P(1 - \\mathrm{TPR}(\\lambda));\n",
    "\\end{align*}$$"
   ]
  },
  {
   "cell_type": "markdown",
   "id": "b370aac2",
   "metadata": {},
   "source": [
    "multiplying these by the specific costs we get\n",
    "\n",
    "$$\\begin{align*}\n",
    "C(\\lambda) &= c_{FP} \\mathrm{FP}(\\lambda) + c_{FN} \\mathrm{FN}(\\lambda)\\\\\n",
    "           &= c_{FP} N\\, \\mathrm{FPR} (\\lambda) + c_{FN} P (1 - \\mathrm{TPR}(\\lambda))\\\\\n",
    "           &= n c_{FP} (1-\\pi) \\mathrm{FPR} (\\lambda) + n c_{FN} \\pi (1 - \\mathrm{TPR}(\\lambda)) \\\\\n",
    "c(\\lambda) \\equiv \\frac{C(\\lambda)}{n}           &= (1- c_{FN}) (1-\\pi) \\mathrm{FPR} (\\lambda) + c_{FN} \\pi (1 - \\mathrm{TPR}(\\lambda)) \\quad (*)\n",
    "\\end{align*}$$"
   ]
  },
  {
   "cell_type": "markdown",
   "id": "da282c87",
   "metadata": {},
   "source": [
    "Equation $(*)$ is the general cost at any given $\\lambda$. \n",
    "\n",
    "Now, what is our baseline of comparison? That would be the *random model* where we set\n",
    "\n",
    "$$\\mathbb P(\\hat y = 1) = \\pi,\\quad \\mathbb P(\\hat y = 0) = 1 - \\pi$$"
   ]
  },
  {
   "cell_type": "markdown",
   "id": "cfd6bddb",
   "metadata": {},
   "source": [
    "It is easy to see that this model leads to $\\mathrm{FPR} = \\mathrm{TPR} = \\pi$ regardless of the threshold, hence a cost of\n",
    "\n",
    "$$\\begin{align*}\n",
    "c_\\mathrm{random} &= (1-c_{FN}) (1-\\pi) \\pi + c_{FN} \\pi (1-\\pi)\\\\\n",
    "&= \\pi(1-\\pi)\n",
    "\\end{align*}$$"
   ]
  },
  {
   "cell_type": "markdown",
   "id": "7215cbec",
   "metadata": {},
   "source": [
    "Thus, a good model needs to give a cost *lower* than random guessing, ie. $c(\\lambda) \\leq \\pi(1-\\pi)$, ie. \n",
    "\n",
    "$$(1- c_{FN}) (1-\\pi) \\mathrm{FPR} (\\lambda) + c_{FN} \\pi (1 - \\mathrm{TPR}(\\lambda)) \\leq \\pi(1-\\pi)$$\n",
    "\n",
    "or\n",
    "\n",
    "$$\\mathrm{TPR} \\geq 1 - \\frac{1-\\pi}{c_{FN}} + \\frac{1-c_{FN}}{c_{FN}} \\frac{1-\\pi}{\\pi} \\mathrm{FPR}$$"
   ]
  },
  {
   "cell_type": "markdown",
   "id": "c55c9e0d",
   "metadata": {},
   "source": [
    "We then arrive at the following criterion:\n",
    "\n",
    "### Cost based partial AUC\n",
    "* Let $\\pi = \\widehat{\\mathbb P}(Y=1)$ denote the prevalence of the positive class\n",
    "* Let $\\rho \\in [0,1]$ denote the cost of a false negative\n",
    "\n",
    "Then, the region in the $(x,y)$ ROC plane bounded below by\n",
    "\n",
    "$$\\boxed{y = 1 - \\frac{1-\\pi}{\\rho} + \\frac{1-\\rho}{\\rho} \\frac{1-\\pi}{\\pi} x}$$\n",
    "\n",
    "defines the useful lower bound on the ROC curve."
   ]
  },
  {
   "cell_type": "markdown",
   "id": "777a691e",
   "metadata": {},
   "source": [
    "### Example and implementation"
   ]
  },
  {
   "cell_type": "code",
   "execution_count": 49,
   "id": "aef8922b",
   "metadata": {},
   "outputs": [],
   "source": [
    "import numpy as np\n",
    "from numba import jit\n",
    "import matplotlib.pyplot as plt\n",
    "\n",
    "from sklearn.metrics import roc_curve, auc, roc_auc_score\n",
    "from sklearn.datasets import make_classification\n",
    "from sklearn.linear_model import LogisticRegression"
   ]
  },
  {
   "cell_type": "markdown",
   "id": "52088294",
   "metadata": {},
   "source": [
    "#### (a) Balanced case"
   ]
  },
  {
   "cell_type": "code",
   "execution_count": 106,
   "id": "95eedfee",
   "metadata": {},
   "outputs": [
    {
     "data": {
      "image/png": "[encoded data removed]",
      "text/plain": [
       "<Figure size 432x288 with 1 Axes>"
      ]
     },
     "metadata": {
      "needs_background": "light"
     },
     "output_type": "display_data"
    }
   ],
   "source": [
    "X, y = make_classification(n_classes=2,\n",
    "                           n_samples=3000,\n",
    "                           random_state=2, \n",
    "                           n_features=10,\n",
    "                           n_informative=10,\n",
    "                           weights=(0.5,),\n",
    "                           n_redundant=0,\n",
    "                           n_repeated=0)\n",
    "\n",
    "model = LogisticRegression()\n",
    "model.fit(X, y)\n",
    "\n",
    "y_probs = model.predict_proba(X)[:,1]\n",
    "\n",
    "fpr, tpr, thresh = roc_curve(y, y_probs)\n",
    "\n",
    "pi = y.mean()\n",
    "\n",
    "for cost_fn in [0.3, 0.5, 0.8]:\n",
    "    cost_fp = 1 - cost_fn\n",
    "    rho = cost_fn\n",
    "    \n",
    "    tpr_base = 1 - (1-pi)/rho + (1-rho)/rho * (1-pi)/pi * fpr\n",
    "    pauc = auc(fpr, np.maximum(tpr-np.maximum(0,tpr_base),0))\n",
    "\n",
    "    # maximum value\n",
    "    aux = np.clip(tpr_base,0,1)\n",
    "    max_pauc = 1 - auc(fpr, aux)\n",
    "    \n",
    "    \n",
    "    plt.plot(fpr, tpr_base, \n",
    "             label=f'FN cost: {cost_fn}\\n(pAUC: {round(pauc,2)}\\nMaxpAUC: {round(max_pauc,2)})', \n",
    "             linestyle='--')\n",
    "    \n",
    "    \n",
    "plt.plot(fpr, tpr)\n",
    "plt.xlim(0,1)\n",
    "plt.ylim(0,1)\n",
    "plt.legend()\n",
    "plt.show()"
   ]
  },
  {
   "cell_type": "markdown",
   "id": "c4d65f43",
   "metadata": {},
   "source": [
    "#### (b) Imbalanced case"
   ]
  },
  {
   "cell_type": "code",
   "execution_count": 110,
   "id": "a4e8bf89",
   "metadata": {},
   "outputs": [
    {
     "data": {
      "image/png": "[encoded data removed]",
      "text/plain": [
       "<Figure size 432x288 with 1 Axes>"
      ]
     },
     "metadata": {
      "needs_background": "light"
     },
     "output_type": "display_data"
    }
   ],
   "source": [
    "X, y = make_classification(n_classes=2,\n",
    "                           n_samples=3000,\n",
    "                           random_state=2, \n",
    "                           n_features=10,\n",
    "                           n_informative=10,\n",
    "                           weights=(0.8,),\n",
    "                           n_redundant=0,\n",
    "                           n_repeated=0)\n",
    "\n",
    "model = LogisticRegression()\n",
    "model.fit(X, y)\n",
    "\n",
    "y_probs = model.predict_proba(X)[:,1]\n",
    "\n",
    "fpr, tpr, thresh = roc_curve(y, y_probs)\n",
    "\n",
    "pi = y.mean()\n",
    "\n",
    "for cost_fn in [0.3, 0.5, 0.8]:\n",
    "    cost_fp = 1 - cost_fn\n",
    "    rho = cost_fn\n",
    "    \n",
    "    tpr_base = 1 - (1-pi)/rho + (1-rho)/rho * (1-pi)/pi * fpr\n",
    "    pauc = auc(fpr, np.maximum(tpr-np.maximum(0,tpr_base),0))\n",
    "\n",
    "    # maximum value\n",
    "    aux = np.clip(tpr_base,0,1)\n",
    "    max_pauc = 1 - auc(fpr, aux)\n",
    "    \n",
    "    \n",
    "    plt.plot(fpr, tpr_base, \n",
    "             label=f'FN cost: {cost_fn}\\n(pAUC: {round(pauc,2)}\\nMaxpAUC: {round(max_pauc,2)})', \n",
    "             linestyle='--')\n",
    "    \n",
    "    \n",
    "plt.plot(fpr, tpr)\n",
    "plt.xlim(0,1)\n",
    "plt.ylim(0,1)\n",
    "plt.legend()\n",
    "plt.show()"
   ]
  },
  {
   "cell_type": "markdown",
   "id": "e3a3002d",
   "metadata": {},
   "source": [
    "Notice how adding imbalance changes the game significantly.\n",
    "\n",
    "## Functional implementation"
   ]
  },
  {
   "cell_type": "code",
   "execution_count": 115,
   "id": "85386f85",
   "metadata": {},
   "outputs": [],
   "source": [
    "def cost_based_roc_auc(y_true, y_probs, \n",
    "                       cost_fn=None,\n",
    "                       cost_fp=None,\n",
    "                       return_curves=False):\n",
    "    from sklearn.metrics import roc_curve, auc\n",
    "    \n",
    "    fpr, tpr, thresh = roc_curve(y_true, y_probs)\n",
    "\n",
    "    is_fn_none = cost_fn is None\n",
    "    is_fp_none = cost_fp is None\n",
    "    \n",
    "    assert not all([is_fn_none, is_fp_none]), \"At least one out of cost_fn and cost_fp needs to be not None\"\n",
    "    \n",
    "    if is_fn_none:\n",
    "        assert 0 <= cost_fp <= 1\n",
    "        cost_fn = 1 - cost_fp\n",
    "    else:\n",
    "        assert 0 <= cost_fn <= 1\n",
    "    \n",
    "    pi = y_true.mean()\n",
    "\n",
    "    rho = cost_fn\n",
    "\n",
    "    tpr_base = 1 - (1-pi)/rho + (1-rho)/rho * (1-pi)/pi * fpr\n",
    "    pauc = auc(fpr, np.maximum(tpr-np.maximum(0,tpr_base),0))\n",
    "\n",
    "    # maximum value\n",
    "    max_pauc = auc(fpr, 1 - np.clip(tpr_base,0,1))\n",
    "\n",
    "    if not return_curves:\n",
    "        return pauc, max_pauc\n",
    "    else:\n",
    "        return pauc, max_pauc, fpr, tpr, tpr_base"
   ]
  },
  {
   "cell_type": "code",
   "execution_count": 116,
   "id": "9f6a3b5c",
   "metadata": {},
   "outputs": [
    {
     "name": "stdout",
     "output_type": "stream",
     "text": [
      "Cost FN 0.1: 0.75 %\n",
      "Cost FN 0.3: 0.76 %\n",
      "Cost FN 0.5: 0.78 %\n",
      "Cost FN 0.8: 0.86 %\n",
      "Cost FN 0.9: 0.9 %\n"
     ]
    }
   ],
   "source": [
    "for cost_fn in [0.1, 0.3, 0.5, 0.8, 0.9]:\n",
    "    pauc, pauc_max = cost_based_roc_auc(y, y_probs, cost_fn=cost_fn)\n",
    "    print(f\"Cost FN {cost_fn}: {round(pauc/pauc_max,2)} %\")"
   ]
  },
  {
   "cell_type": "code",
   "execution_count": null,
   "id": "6df4d742",
   "metadata": {},
   "outputs": [],
   "source": []
  }
 ],
 "metadata": {
  "kernelspec": {
   "display_name": "Python 3",
   "language": "python",
   "name": "python3"
  },
  "language_info": {
   "codemirror_mode": {
    "name": "ipython",
    "version": 3
   },
   "file_extension": ".py",
   "mimetype": "text/x-python",
   "name": "python",
   "nbconvert_exporter": "python",
   "pygments_lexer": "ipython3",
   "version": "3.7.9"
  },
  "toc": {
   "base_numbering": 1,
   "nav_menu": {},
   "number_sections": true,
   "sideBar": true,
   "skip_h1_title": false,
   "title_cell": "Table of Contents",
   "title_sidebar": "Contents",
   "toc_cell": false,
   "toc_position": {},
   "toc_section_display": true,
   "toc_window_display": false
  }
 },
 "nbformat": 4,
 "nbformat_minor": 5
}
