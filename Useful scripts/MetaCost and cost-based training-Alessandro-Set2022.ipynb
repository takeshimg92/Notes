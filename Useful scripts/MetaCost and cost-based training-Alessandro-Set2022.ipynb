{
 "cells": [
  {
   "cell_type": "markdown",
   "id": "9a67eae2",
   "metadata": {},
   "source": [
    "# Introduction"
   ]
  },
  {
   "cell_type": "markdown",
   "id": "ca7bfa49",
   "metadata": {},
   "source": [
    "Here, we introduce and implement the MetaCost meta-learning algorithm for cost-based learning. This is an approach to imbalanced classification problems where we essentially make a classifier minimize the (expected) cost of misclassifying labels. We learned about it in [Learning from Imbalanced Data Sets](https://link.springer.com/book/10.1007/978-3-319-98074-4), chapter 4.\n",
    "\n",
    "It requires us to specify the cost of classifying a point in class A if it actually belongs in any other class B, ie. if there are $K$ different labls, then we must provide a $K\\times K$ **cost matrix** which can be pre-determined (eg. by business requirements) or cross-validated."
   ]
  },
  {
   "cell_type": "markdown",
   "id": "796e19c2",
   "metadata": {},
   "source": [
    "# Theory behind MetaCost"
   ]
  },
  {
   "cell_type": "markdown",
   "id": "377cc5f0",
   "metadata": {},
   "source": [
    "Consider the standard multiclass classification problem where we have $N$ iid observations of variables $(X,Y)$, where $X$ takes values on some set $\\mathcal X$ and $y$ takes values on $\\{0,1,\\ldots,K-1\\}$. These observations compose a training set $S = \\{(x_i, y_i)\\}_{i=1}^N$ and an untrained probabilistic classifier $f: \\mathcal X \\to [0,1]^K$, i.e. a function \n",
    "\n",
    "$$x \\mapsto f(x) = (f_1(x), \\ldots, f_K(x)),\\quad \\mbox{with}\\quad \\sum_{i=1}^K f_i(x) = 1.$$"
   ]
  },
  {
   "cell_type": "markdown",
   "id": "33ebc9f6",
   "metadata": {},
   "source": [
    "We now consider a cost random variable $C$ which gives the (positive) cost of misclassifying a point in class $k$ as being in class $l$, or the (non-positive) cost of correctly classifying it. This cost induces a matrix\n",
    "\n",
    "$$\\boxed{C_{lk} := \\mathbb E[C | \\hat Y = l, Y = k].}$$"
   ]
  },
  {
   "cell_type": "markdown",
   "id": "91f9bac9",
   "metadata": {},
   "source": [
    "We may then calculate the *expected cost of classifying a point as being in class $l$* as\n",
    "\n",
    "\\begin{align*}\n",
    "C_l(x) &:= \\mathbb E[C | \\hat Y = l, X=x] = \\mathbb E[\\mathbb E[C|\\hat Y = l, Y, X=x]]\\quad \\mbox{via iterated expectation}\\\\\n",
    "&= \\sum_k \\mathbb E[C | \\hat Y = l, Y = k] \\mathbb P(Y=k|X=x)\\\\\n",
    "\\end{align*}"
   ]
  },
  {
   "cell_type": "markdown",
   "id": "2ae626fd",
   "metadata": {},
   "source": [
    "$$\\boxed{\\Rightarrow  C_l(x) = \\sum_k C_{lk} \\mathbb P(Y=k|X=x)\\quad (1)}$$"
   ]
  },
  {
   "cell_type": "markdown",
   "id": "e450f239",
   "metadata": {},
   "source": [
    "What estimate should we use for $\\mathbb P(Y=k|X=x)$? We could, in principle, train the probabilistic classifier on the training set and use that as an estimate. A more robust approach, however, is to consider classifiers trained on **bootstrap copies** of that set, and average them. "
   ]
  },
  {
   "cell_type": "markdown",
   "id": "d1cb1ec6",
   "metadata": {},
   "source": [
    "The [MetaCost algorithm](https://homes.cs.washington.edu/~pedrod/papers/kdd99.pdf) [(Pedro Domingos, 1999)](https://homes.cs.washington.edu/~pedrod/papers/kdd99.pdf) is a wrapper to any probabilistic classifier that uses this intuition. It:\n",
    "\n",
    "* Creates $m$ bootstrap samples $S_b$ of the training set; these do not need to be (although they can be) the same size as the original training set, ie. it is OK to have $|S_b| \\leq |S| = N$;\n",
    "\n",
    "* Trains $m$ classifiers over these datasets.\n",
    "\n",
    "From these, one can take any point $(X_i=x_i, Y_i=y_i)$ and can estimate $p_b(Y_i=k| X_i=x_i) \\equiv \\mathbb P(Y_i=k|X_i=x_i, S_b)$ for any class $k$."
   ]
  },
  {
   "cell_type": "markdown",
   "id": "5f28bde1",
   "metadata": {},
   "source": [
    "Hence, we can estimate\n",
    "\n",
    "$$\\boxed{\\mathbb P(Y=k|X=x) \\approx \\frac{1}{m} \\sum_{b=1}^m p_b(Y=k|X=x)\\qquad (2a)}$$"
   ]
  },
  {
   "cell_type": "markdown",
   "id": "0b485a60",
   "metadata": {},
   "source": [
    "Another option is to take the sum over different bootstrap samples depending on $x$. Namely, instead of $\\{1,\\ldots, m\\}$, we can take it over $m(x) \\subseteq \\{1,\\ldots,m\\}$ where \n",
    "\n",
    "$$b \\in m(x) \\iff x \\notin S_b$$"
   ]
  },
  {
   "cell_type": "markdown",
   "id": "a4968c4a",
   "metadata": {},
   "source": [
    "In that way, we avoid overfitting by only summing over bootstrap samples who never \"saw\" $x$. Then\n",
    "\n",
    "$$\\boxed{\\mathbb P(Y=k|X=x) \\approx \\frac{1}{|m(x)|} \\sum_{b\\in m(x)} p_b(Y=k|X=x)\\qquad (2b)}$$"
   ]
  },
  {
   "cell_type": "markdown",
   "id": "21426073",
   "metadata": {},
   "source": [
    "So what? With either (2a) or (2b), we can use (1) to estimate the cost of classifying instance $x$ as $l$. Then, we might ask: **what class $l$ minimizes this cost?** We may define, for each $x_i$,\n",
    "\n",
    "$$\\boxed{y'_i := \\arg \\min_l C_l(x_i)}$$"
   ]
  },
  {
   "cell_type": "markdown",
   "id": "a85b5894",
   "metadata": {},
   "source": [
    "as the \"best\" label for that instance. Notice that this might be **different** from the original label $y_i$!\n",
    "\n",
    "Then, with the modified dataset $S'= \\{x_i, y_i'\\}_{i=1}^N$, we train a classifier on it. This is a model that, in principle, has learned how to best classify points in such a way as to minimize total cost."
   ]
  },
  {
   "cell_type": "markdown",
   "id": "d70fded7",
   "metadata": {},
   "source": [
    "# Implementation"
   ]
  },
  {
   "cell_type": "code",
   "execution_count": 1,
   "id": "5a163894",
   "metadata": {},
   "outputs": [],
   "source": [
    "import matplotlib.pyplot as plt\n",
    "\n",
    "from sklearn.datasets import make_classification\n",
    "from sklearn.ensemble import HistGradientBoostingClassifier\n",
    "from sklearn.model_selection import train_test_split\n",
    "from sklearn.metrics import roc_auc_score, average_precision_score, RocCurveDisplay, PrecisionRecallDisplay\n",
    "from sklearn.linear_model import LogisticRegression"
   ]
  },
  {
   "cell_type": "code",
   "execution_count": 2,
   "id": "8992051c",
   "metadata": {},
   "outputs": [],
   "source": [
    "import numpy as np\n",
    "import pandas as pd\n",
    "from tqdm.auto import tqdm\n",
    "from itertools import product\n",
    "from joblib import delayed, Parallel\n",
    "\n",
    "from sklearn.base import clone\n",
    "from sklearn.base import BaseEstimator, ClassifierMixin\n",
    "from sklearn.utils.validation import check_X_y, check_array, check_is_fitted, as_float_array\n",
    "from sklearn.utils.multiclass import unique_labels\n",
    "from sklearn.linear_model import LogisticRegression\n",
    "from sklearn.metrics import euclidean_distances\n",
    "\n",
    "\n",
    "class MetaCost(BaseEstimator, ClassifierMixin):\n",
    "    \n",
    "    def __init__(self,\n",
    "                 base_model=LogisticRegression(),\n",
    "                 total_bootstrap_samples=10,\n",
    "                 frac_samples=1.0,\n",
    "                 cost_matrix=None,\n",
    "                 use_all_samples=True,\n",
    "                 random_state=None,\n",
    "                 n_jobs=1):\n",
    "        \n",
    "        self.base_model = base_model\n",
    "        self.total_bootstrap_samples = total_bootstrap_samples\n",
    "        self.frac_samples = frac_samples\n",
    "        self.cost_matrix = cost_matrix\n",
    "        self.use_all_samples = use_all_samples\n",
    "        self.random_state = random_state\n",
    "        self.n_jobs = n_jobs\n",
    "\n",
    "    \n",
    "    def _validate_parameters(self):\n",
    "            \n",
    "        if self.random_state is None:\n",
    "            self.random_state = np.random.randint(0,1000)\n",
    "            \n",
    "        assert (self.n_jobs == -1) or (self.n_jobs > 0)\n",
    "            \n",
    "        # make an identity matrix cost matrix if none is given\n",
    "        cost_keys = list(product(self.classes_, self.classes_))\n",
    "        if self.cost_matrix is None:\n",
    "            self.cost_matrix = {(i,j): 1 - (i==j) for i, j in cost_keys}\n",
    "        else:\n",
    "            assert set(self.cost_matrix.keys()) == set(cost_keys)\n",
    "        \n",
    "        assert 0 < self.frac_samples <= 1.0, \"frac_samples must be a float in ]0,1]\"\n",
    "        assert isinstance(self.frac_samples, float), \"frac_samples must be a float in ]0,1]\"\n",
    "        assert isinstance(self.total_bootstrap_samples, int), \"total_bootstrap_samples must be an integer\"\n",
    "        assert self.total_bootstrap_samples > 1, \"total_bootstrap_samples must be an integer greater than 1\"\n",
    "        \n",
    "        if not self.use_all_samples:\n",
    "            raise ValueError(\"fit method for use_all_samples=False not implemented yet\")     \n",
    "\n",
    "        self.model_dict = {i: {'indices': None,\n",
    "                               'model': clone(self.base_model)\n",
    "                              }\n",
    "                            for i in range(self.total_bootstrap_samples)}\n",
    "\n",
    "        # add some random noise if the base model allows it\n",
    "        self.can_add_random_state_ = hasattr(self.base_model, \"random_state\")\n",
    "        if self.can_add_random_state_:\n",
    "            for i in range(self.total_bootstrap_samples):\n",
    "                self.model_dict[i]['model'].set_params(random_state=i + self.random_state)\n",
    "                \n",
    "        return\n",
    "\n",
    "    def fit(self, X, y):\n",
    "    \n",
    "        check_X_y(X, y)        \n",
    "\n",
    "        if not isinstance(X, pd.DataFrame):\n",
    "            X = pd.DataFrame(X).copy()\n",
    "        \n",
    "        if not isinstance(y, pd.Series):\n",
    "            y = pd.Series(y).copy()\n",
    "            \n",
    "        self.classes_ = unique_labels(y)\n",
    "        self.X_ = X\n",
    "        self.y_ = y\n",
    "        \n",
    "        self._validate_parameters()\n",
    "        \n",
    "        n_samples = int(self.frac_samples * X.shape[0])\n",
    "\n",
    "        # train models on bootstrap samples\n",
    "#         for i in tqdm(range(self.total_bootstrap_samples)):\n",
    "#             X_bs, y_bs = self._bootstrap(X, y, total_size=n_samples, seed=self.random_state+i)\n",
    "#             self.model_dict[i]['model'].fit(X_bs, y_bs)\n",
    "#             self.model_dict[i]['indices'] = X_bs.index\n",
    "\n",
    "        models_and_indices = Parallel(n_jobs=self.n_jobs)(delayed(self._train_bootstrap)(\n",
    "            X, y, model=self.model_dict[i]['model'],\n",
    "            total_size=n_samples,\n",
    "            seed=self.random_state+i)\n",
    "            for i in range(self.total_bootstrap_samples)\n",
    "            )\n",
    "    \n",
    "        for i in range(self.total_bootstrap_samples):\n",
    "            self.model_dict[i]['model'] = models_and_indices[i][0]\n",
    "            self.model_dict[i]['indices'] = models_and_indices[i][1]\n",
    "        \n",
    "        del models_and_indices\n",
    "\n",
    "        df = pd.DataFrame(y, columns=['y_true'])\n",
    "        for i in range(self.total_bootstrap_samples):\n",
    "            probs = self.model_dict[i]['model'].predict_proba(X)\n",
    "            df[f'sample_in_bs_sample_{i}'] = df.index.isin(self.model_dict[i]['indices'])\n",
    "            for j, label in enumerate(self.classes_):\n",
    "                df[f'y_{i}_{label}'] = probs[:,j]\n",
    "\n",
    "        if self.use_all_samples:\n",
    "\n",
    "            # take mean over all bootstrap samples for category j\n",
    "            for j, label in enumerate(self.classes_):\n",
    "                df[f'pred_{label}'] = df[[f'y_{i}_{label}' for i in range(self.total_bootstrap_samples)]].mean(axis=1)\n",
    "\n",
    "            for i, label_i in enumerate(self.classes_):\n",
    "                df[label_i] = np.sum([df[f'pred_{label_j}'] * self.cost_matrix[(label_i, label_j)] \n",
    "                                                       for j, label_j in enumerate(self.classes_)], axis=0)\n",
    "\n",
    "            # assign new category based on argmax of prediction times cost\n",
    "            y_new = df[list(self.classes_)].idxmin(axis=1)\n",
    "            self.y_new_ = y_new\n",
    "\n",
    "        else:\n",
    "            pass\n",
    "            # TODO: add this; already taken care of in validation method\n",
    "\n",
    "        self.model = clone(self.base_model)\n",
    "        if self.can_add_random_state_:\n",
    "            self.model.set_params(random_state=self.random_state)\n",
    "\n",
    "        new_classes  = len(np.unique(y_new))\n",
    "        if new_classes < 2:\n",
    "            self.predict = lambda self, X: np.array([self.classes_[0]]*len(X))\n",
    "            self.predict_proba = lambda self, X: np.array([self.classes_[0]]*len(X))\n",
    "            \n",
    "        else:\n",
    "            self.model.fit(X, y_new.values)\n",
    "\n",
    "        return self\n",
    "    \n",
    "    def predict_proba(self, X):\n",
    "        check_is_fitted(self)\n",
    "        check_array(X)\n",
    "        \n",
    "        X = as_float_array(X)\n",
    "        \n",
    "        return self.model.predict_proba(X)\n",
    "    \n",
    "    def predict(self, X):\n",
    "        check_is_fitted(self)\n",
    "        check_array(X)\n",
    "        X = as_float_array(X)\n",
    "\n",
    "        return np.argmax(self.model.predict_proba(X), axis=1)\n",
    "     \n",
    "    def _bootstrap(self, X: pd.DataFrame, y: pd.Series, total_size: int, seed=None):\n",
    "        assert X.shape[0]  == y.shape[0], \"X and y must be the same length\"\n",
    "        if seed is not None:\n",
    "            np.random.seed(seed)\n",
    "        indices = np.random.choice(X.index, size=total_size)\n",
    "    \n",
    "        return X.loc[indices], y.loc[indices]\n",
    "\n",
    "        \n",
    "    def _train_bootstrap(self, X, y, model, total_size, seed):\n",
    "        X_bs, y_bs = self._bootstrap(X, y, total_size, seed)\n",
    "        model.fit(X_bs, y_bs)\n",
    "        return model, X_bs.index\n",
    "\n",
    "# TODO: still not passing all tests\n",
    "# from sklearn.utils.estimator_checks import check_estimator\n",
    "# check_estimator(MetaCost())"
   ]
  },
  {
   "cell_type": "code",
   "execution_count": 23,
   "id": "315b0907",
   "metadata": {},
   "outputs": [],
   "source": [
    "# first index is predicted class, second is real class\n",
    "cost = {\n",
    "    (1,0): 1.0,\n",
    "    (0,1): 100.0,\n",
    "    (1,1): -50.0,\n",
    "    (0,0): -1.0\n",
    "}"
   ]
  },
  {
   "cell_type": "code",
   "execution_count": 24,
   "id": "f260f043",
   "metadata": {},
   "outputs": [],
   "source": [
    "aux = MetaCost(HistGradientBoostingClassifier(max_depth=10),\n",
    "                total_bootstrap_samples=20,\n",
    "                frac_samples=0.4,\n",
    "                cost_matrix=cost,\n",
    "                random_state=3,\n",
    "                n_jobs=-1)"
   ]
  },
  {
   "cell_type": "code",
   "execution_count": 25,
   "id": "ad3bc019",
   "metadata": {},
   "outputs": [],
   "source": [
    "X, y = make_classification(n_samples=30000, class_sep=0.7, flip_y=0.02, weights=(0.99,), random_state=3)\n",
    "\n",
    "X_train, X_test, y_train, y_test = train_test_split(X, y, stratify=y, random_state=3)"
   ]
  },
  {
   "cell_type": "code",
   "execution_count": 26,
   "id": "47045ffe",
   "metadata": {},
   "outputs": [
    {
     "name": "stdout",
     "output_type": "stream",
     "text": [
      "CPU times: user 10 s, sys: 505 ms, total: 10.5 s\n",
      "Wall time: 5.51 s\n"
     ]
    },
    {
     "data": {
      "text/plain": [
       "MetaCost(base_model=HistGradientBoostingClassifier(max_depth=10),\n",
       "         cost_matrix={(0, 0): -1.0, (0, 1): 100.0, (1, 0): 1.0, (1, 1): -50.0},\n",
       "         frac_samples=0.4, n_jobs=-1, random_state=3,\n",
       "         total_bootstrap_samples=20)"
      ]
     },
     "execution_count": 26,
     "metadata": {},
     "output_type": "execute_result"
    }
   ],
   "source": [
    "%%time\n",
    "aux.fit(X_train, y_train)"
   ]
  },
  {
   "cell_type": "markdown",
   "id": "9ee389d7",
   "metadata": {},
   "source": [
    "The training process has increased the minority class:"
   ]
  },
  {
   "cell_type": "code",
   "execution_count": 27,
   "id": "5deedeb2",
   "metadata": {},
   "outputs": [
    {
     "data": {
      "text/plain": [
       "0    22055\n",
       "1      445\n",
       "dtype: int64"
      ]
     },
     "execution_count": 27,
     "metadata": {},
     "output_type": "execute_result"
    }
   ],
   "source": [
    "aux.y_.value_counts()"
   ]
  },
  {
   "cell_type": "code",
   "execution_count": 28,
   "id": "ff3e2f04",
   "metadata": {},
   "outputs": [
    {
     "data": {
      "text/plain": [
       "0    21988\n",
       "1      512\n",
       "dtype: int64"
      ]
     },
     "execution_count": 28,
     "metadata": {},
     "output_type": "execute_result"
    }
   ],
   "source": [
    "aux.y_new_.value_counts()"
   ]
  },
  {
   "cell_type": "code",
   "execution_count": 29,
   "id": "b47af11d",
   "metadata": {},
   "outputs": [
    {
     "name": "stdout",
     "output_type": "stream",
     "text": [
      "ROC AUC MetaCost: 0.712\n",
      "AP MetaCost: 0.411\n"
     ]
    }
   ],
   "source": [
    "print(\"ROC AUC MetaCost: {0:.3f}\".format(roc_auc_score(y_test, aux.predict_proba(X_test)[:,1])))\n",
    "print(\"AP MetaCost: {0:.3f}\".format(average_precision_score(y_test, aux.predict_proba(X_test)[:,1])))"
   ]
  },
  {
   "cell_type": "markdown",
   "id": "134d8a7e",
   "metadata": {},
   "source": [
    "Compare to a baseline HistGradientBoost classifier with same parameters:"
   ]
  },
  {
   "cell_type": "code",
   "execution_count": 30,
   "id": "4f862c9a",
   "metadata": {},
   "outputs": [
    {
     "name": "stdout",
     "output_type": "stream",
     "text": [
      "ROC AUC baseline: 0.704\n",
      "AP baseline: 0.400\n"
     ]
    }
   ],
   "source": [
    "baseline = HistGradientBoostingClassifier(max_depth=10, random_state=3).fit(X_train, y_train)\n",
    "print(\"ROC AUC baseline: {0:.3f}\".format(roc_auc_score(y_test, baseline.predict_proba(X_test)[:,1])))\n",
    "print(\"AP baseline: {0:.3f}\".format(average_precision_score(y_test, baseline.predict_proba(X_test)[:,1])))"
   ]
  },
  {
   "cell_type": "code",
   "execution_count": 31,
   "id": "497c4ed1",
   "metadata": {},
   "outputs": [
    {
     "data": {
      "image/png": "[encoded data removed]",
      "text/plain": [
       "<Figure size 720x360 with 2 Axes>"
      ]
     },
     "metadata": {
      "needs_background": "light"
     },
     "output_type": "display_data"
    }
   ],
   "source": [
    "fig, ax = plt.subplots(ncols=2, figsize=(10,5))\n",
    "\n",
    "RocCurveDisplay.from_estimator(aux, X_test, y_test, ax=ax[0], name='MetaCost')\n",
    "RocCurveDisplay.from_estimator(baseline, X_test, y_test, ax=ax[0], name='base model')\n",
    "\n",
    "PrecisionRecallDisplay.from_estimator(aux, X_test, y_test, ax=ax[1], name='MetaCost')\n",
    "PrecisionRecallDisplay.from_estimator(baseline, X_test, y_test, ax=ax[1], name='base model')\n",
    "\n",
    "plt.show()"
   ]
  },
  {
   "cell_type": "markdown",
   "id": "9ab92b0e",
   "metadata": {},
   "source": [
    "### Let us look at the costs!"
   ]
  },
  {
   "cell_type": "markdown",
   "id": "9f91a3c5",
   "metadata": {},
   "source": [
    "Given the cost matrix $C_{lk} = \\mathrm{cost}(\\hat y = l| y = k)$ and the estimated probabilities $\\mathbb P(Y = k|X=x)$, the estimated cost for instance $(x_i, y_i)$ is\n",
    "\n",
    "$$\\mathbb E[C|Y=y_i] = \\sum_k \\mathbb E[C|\\hat Y_i = k, Y=y_i] \\mathbb P(\\hat Y_i = k)$$\n",
    "$$\\mathbb E[C|Y=y_i] = \\sum_k  C_{k,y_i} \\mathbb P(\\hat Y_i = k)$$"
   ]
  },
  {
   "cell_type": "markdown",
   "id": "59a9ba16",
   "metadata": {},
   "source": [
    "To simplify, if we denote $C_i$ as the variable with expectation given by $\\mathbb E[C_i] = \\mathbb E[C|Y=y_i]$ as above, then we can define the **mean total cost** as\n",
    "\n",
    "$$C := \\frac 1N \\sum_{i=1}^N C_i,$$\n",
    "\n",
    "whose expected value is\n",
    "\n",
    "$$\\mathbb E[C] = \\frac 1 N \\sum_{i=1}^N \\mathbb E[C|Y=y_i] = \\frac{1}{N} \\sum_{i=1}^N \\sum_k  C_{k,y_i} \\mathbb P(\\hat Y_i = k)$$"
   ]
  },
  {
   "cell_type": "markdown",
   "id": "ec3d4d78",
   "metadata": {},
   "source": [
    "and whose standard deviation is \n",
    "\n",
    "$$\\begin{align*}\n",
    "\\sqrt{\\mathrm{Var}\\,C} &= \\left[\\frac{1}{N^2} \\sum_{i=1}^N \\mathrm{Var}\\, C_i\\right]^{1/2}\\\\\n",
    "&= \\frac{1}{N} \\left[\\sum_{i=1}^N \\mathrm{Var}\\, C_i\\right]^{1/2}\n",
    "\\end{align*}$$"
   ]
  },
  {
   "cell_type": "markdown",
   "id": "72a3a685",
   "metadata": {},
   "source": [
    "which can be calculated as follows:"
   ]
  },
  {
   "cell_type": "code",
   "execution_count": 32,
   "id": "7943d519",
   "metadata": {},
   "outputs": [],
   "source": [
    "def total_cost_and_std(y_true, y_probs, cost_dict, classes):\n",
    "    n = len(y_true)\n",
    "    df = pd.DataFrame({'y_true': y_true})\n",
    "    for i, class_ in enumerate(classes):\n",
    "        df[f'cost_{class_}'] = df['y_true'].\\\n",
    "            apply(lambda y: (class_, y)).\\\n",
    "            map(cost_dict)\n",
    "        df[f'prob_{class_}'] = y_probs[:,i]\n",
    "\n",
    "        df[f'expected_cost_{class_}'] = df[f'cost_{class_}'] * df[f'prob_{class_}']\n",
    "        df[f'expected_cost_{class_}_squared'] = df[f'cost_{class_}']**2 * df[f'prob_{class_}']\n",
    "\n",
    "    df['expected_cost'] = df[[f'expected_cost_{class_}' for class_ in classes]].sum(axis=1)\n",
    "    df['expected_cost_squared'] = df[[f'expected_cost_{class_}_squared' for class_ in classes]].sum(axis=1)\n",
    "    df['variance'] = df['expected_cost_squared'] - df['expected_cost']**2\n",
    "    total_cost, var = df[['expected_cost', 'variance']].sum().values\n",
    "    \n",
    "    mean_cost = total_cost/n\n",
    "    std = np.sqrt(var)/n\n",
    "    \n",
    "    return mean_cost, std"
   ]
  },
  {
   "cell_type": "code",
   "execution_count": 33,
   "id": "12812567",
   "metadata": {},
   "outputs": [
    {
     "name": "stdout",
     "output_type": "stream",
     "text": [
      "Mean cost MetaCost test: -0.04 +/- 0.041\n",
      "Mean cost MetaCost train: -0.638 +/- 0.048\n",
      "------------------------------\n",
      "Mean cost baseline test: 0.018 +/- 0.044\n",
      "Mean cost baseline train: -0.594 +/- 0.05\n"
     ]
    }
   ],
   "source": [
    "mean_cost, cost_std = total_cost_and_std(y_test, aux.predict_proba(X_test), cost, [0,1])\n",
    "print(f\"Mean cost MetaCost test: {round(mean_cost,3)} +/- {round(cost_std,3)}\")\n",
    "\n",
    "mean_cost, cost_std = total_cost_and_std(y_train, aux.predict_proba(X_train), cost, [0,1])\n",
    "print(f\"Mean cost MetaCost train: {round(mean_cost, 3)} +/- {round(cost_std, 3)}\")\n",
    "\n",
    "print(\"-\"*30)\n",
    "mean_cost, cost_std = total_cost_and_std(y_test, baseline.predict_proba(X_test), cost, [0,1])\n",
    "print(f\"Mean cost baseline test: {round(mean_cost, 3)} +/- {round(cost_std, 3)}\")\n",
    "\n",
    "mean_cost, cost_std = total_cost_and_std(y_train, baseline.predict_proba(X_train), cost, [0,1])\n",
    "print(f\"Mean cost baseline train: {round(mean_cost, 3)} +/- {round(cost_std, 3)}\")"
   ]
  },
  {
   "cell_type": "markdown",
   "id": "95aeda39",
   "metadata": {},
   "source": [
    "So our cost in the cost-sensitive model is significantly lower."
   ]
  },
  {
   "cell_type": "markdown",
   "id": "cf5f420d",
   "metadata": {},
   "source": [
    "### Trying logistic regression"
   ]
  },
  {
   "cell_type": "code",
   "execution_count": 34,
   "id": "bd005c1e",
   "metadata": {},
   "outputs": [],
   "source": [
    "# first index is predicted class, second is real class\n",
    "cost = {\n",
    "    (1,0): 1.0,\n",
    "    (0,1): 50.0,\n",
    "    (1,1): -0.05,\n",
    "    (0,0): 0.0\n",
    "}"
   ]
  },
  {
   "cell_type": "code",
   "execution_count": 35,
   "id": "f068821e",
   "metadata": {},
   "outputs": [
    {
     "name": "stderr",
     "output_type": "stream",
     "text": [
      "/opt/anaconda3/lib/python3.8/site-packages/sklearn/linear_model/_sag.py:352: ConvergenceWarning: The max_iter was reached which means the coef_ did not converge\n",
      "  warnings.warn(\n"
     ]
    }
   ],
   "source": [
    "aux = MetaCost(LogisticRegression(penalty='l1', solver='saga'),\n",
    "                total_bootstrap_samples=20,\n",
    "                frac_samples=0.9,\n",
    "                cost_matrix=cost,\n",
    "                random_state=3,\n",
    "                n_jobs=-1).\\\n",
    "    fit(X_train, y_train)"
   ]
  },
  {
   "cell_type": "code",
   "execution_count": 36,
   "id": "121a9817",
   "metadata": {},
   "outputs": [
    {
     "name": "stdout",
     "output_type": "stream",
     "text": [
      "[22055   445]\n",
      "[15472  7028]\n"
     ]
    }
   ],
   "source": [
    "print(np.bincount(aux.y_))\n",
    "print(np.bincount(aux.y_new_))"
   ]
  },
  {
   "cell_type": "markdown",
   "id": "7981e162",
   "metadata": {},
   "source": [
    "This HEAVILY balances the model, which might be dangerous"
   ]
  },
  {
   "cell_type": "code",
   "execution_count": 37,
   "id": "b8c78d93",
   "metadata": {},
   "outputs": [],
   "source": [
    "baseline = LogisticRegression(penalty='l1', solver='saga', max_iter=500).fit(X_train, y_train)"
   ]
  },
  {
   "cell_type": "code",
   "execution_count": 38,
   "id": "ecb1e6ac",
   "metadata": {},
   "outputs": [
    {
     "name": "stdout",
     "output_type": "stream",
     "text": [
      "Mean cost MetaCost test: 0.689 +/- 0.005\n",
      "Mean cost MetaCost train: 0.668 +/- 0.004\n",
      "------------------------------\n",
      "Mean cost baseline test: 0.934 +/- 0.02\n",
      "Mean cost baseline train: 0.921 +/- 0.012\n"
     ]
    }
   ],
   "source": [
    "mean_cost, cost_std = total_cost_and_std(y_test, aux.predict_proba(X_test), cost, [0,1])\n",
    "print(f\"Mean cost MetaCost test: {round(mean_cost,3)} +/- {round(cost_std,3)}\")\n",
    "\n",
    "mean_cost, cost_std = total_cost_and_std(y_train, aux.predict_proba(X_train), cost, [0,1])\n",
    "print(f\"Mean cost MetaCost train: {round(mean_cost, 3)} +/- {round(cost_std, 3)}\")\n",
    "\n",
    "print(\"-\"*30)\n",
    "mean_cost, cost_std = total_cost_and_std(y_test, baseline.predict_proba(X_test), cost, [0,1])\n",
    "print(f\"Mean cost baseline test: {round(mean_cost, 3)} +/- {round(cost_std, 3)}\")\n",
    "\n",
    "mean_cost, cost_std = total_cost_and_std(y_train, baseline.predict_proba(X_train), cost, [0,1])\n",
    "print(f\"Mean cost baseline train: {round(mean_cost, 3)} +/- {round(cost_std, 3)}\")"
   ]
  },
  {
   "cell_type": "code",
   "execution_count": 39,
   "id": "4f540657",
   "metadata": {},
   "outputs": [
    {
     "data": {
      "image/png": "[encoded data removed]",
      "text/plain": [
       "<Figure size 720x360 with 2 Axes>"
      ]
     },
     "metadata": {
      "needs_background": "light"
     },
     "output_type": "display_data"
    }
   ],
   "source": [
    "fig, ax = plt.subplots(ncols=2, figsize=(10,5))\n",
    "\n",
    "RocCurveDisplay.from_estimator(aux, X_test, y_test, ax=ax[0], name='MetaCost')\n",
    "RocCurveDisplay.from_estimator(baseline, X_test, y_test, ax=ax[0], name='base model')\n",
    "\n",
    "PrecisionRecallDisplay.from_estimator(aux, X_test, y_test, ax=ax[1], name='MetaCost')\n",
    "PrecisionRecallDisplay.from_estimator(baseline, X_test, y_test, ax=ax[1], name='base model')\n",
    "\n",
    "plt.show()"
   ]
  }
 ],
 "metadata": {
  "kernelspec": {
   "display_name": "Python 3",
   "language": "python",
   "name": "python3"
  },
  "language_info": {
   "codemirror_mode": {
    "name": "ipython",
    "version": 3
   },
   "file_extension": ".py",
   "mimetype": "text/x-python",
   "name": "python",
   "nbconvert_exporter": "python",
   "pygments_lexer": "ipython3",
   "version": "3.8.8"
  }
 },
 "nbformat": 4,
 "nbformat_minor": 5
}
