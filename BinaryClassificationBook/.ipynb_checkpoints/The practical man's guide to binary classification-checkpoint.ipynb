{
 "cells": [
  {
   "cell_type": "markdown",
   "id": "41f61b51",
   "metadata": {},
   "source": [
    "# The Practical Man's Guide to Binary Classification"
   ]
  },
  {
   "cell_type": "markdown",
   "id": "f444e1f5",
   "metadata": {},
   "source": [
    "The objective of this book is to guide you through the steps of solving the most common type of problem in applied machine learning: binary classification.\n",
    "\n",
    "It assumes you have a basic understanding of how machine learning works - i.e. you have split a dataset into train/test and trained a model in `sklearn` before - but does not assume you know much about binary classification, the metrics we can use to model it, or the common pitfalls. That is our job to teach you. "
   ]
  },
  {
   "cell_type": "code",
   "execution_count": 1,
   "id": "3c58ed29",
   "metadata": {},
   "outputs": [],
   "source": [
    "import numpy as np\n",
    "import matplotlib.pyplot as plt\n",
    "import pandas as pd"
   ]
  },
  {
   "cell_type": "markdown",
   "id": "57a6718a",
   "metadata": {},
   "source": [
    "### Warning: how much math do I need for this book?"
   ]
  },
  {
   "cell_type": "markdown",
   "id": "90982c9c",
   "metadata": {},
   "source": [
    "To do machine learning, you don't need to know a lot of math. But to do machine learning *well* you certainly need it, and this book assumes you have enough mathematical maturity to understand the notation and logic we employ.\n",
    "\n",
    "You can still profit from the discussion without much math - just focus on the takeaways. However, it is obvious that the reader who has taken mathematical probability or statistics and undergraduate calculus will be able to appreciate the more technical aspects of the explanation. If you can understand the definitions below:\n",
    "* $\\displaystyle \\mathbb P (A|B) = \\frac{\\mathbb P(A \\cap B)}{\\mathbb P (B)}$\n",
    "* $\\displaystyle \\mathbb E[g(X)] = \\int_{-\\infty}^\\infty g(x) f(x) dx$\n",
    "* $F(x) := \\mathbb P (X \\leq x)$\n",
    "* $\\displaystyle f(x) = \\frac{d F(x)}{dx}$"
   ]
  },
  {
   "cell_type": "markdown",
   "id": "963ed7e9",
   "metadata": {},
   "source": [
    "then you are probably good to go. If you need a refresher, http://cs229.stanford.edu/section/cs229-prob.pdf might be a good reference."
   ]
  },
  {
   "cell_type": "markdown",
   "id": "b942ee3b",
   "metadata": {},
   "source": [
    "### Version compatibility"
   ]
  },
  {
   "cell_type": "markdown",
   "id": "1bc62e72",
   "metadata": {},
   "source": [
    "We use `scikit-learn` version 1.0.2. The code here should be replicable with versions 1.0.2 or higher."
   ]
  },
  {
   "cell_type": "code",
   "execution_count": 2,
   "id": "4931dae1",
   "metadata": {},
   "outputs": [
    {
     "name": "stdout",
     "output_type": "stream",
     "text": [
      "1.0.2\n"
     ]
    }
   ],
   "source": [
    "import sklearn\n",
    "print(sklearn.__version__)"
   ]
  },
  {
   "cell_type": "markdown",
   "id": "4ac2dd41",
   "metadata": {},
   "source": [
    "---"
   ]
  },
  {
   "cell_type": "markdown",
   "id": "e0bbe01c",
   "metadata": {},
   "source": [
    "## The standard classification setup"
   ]
  },
  {
   "cell_type": "markdown",
   "id": "48cd4c16",
   "metadata": {},
   "source": [
    "Binary classification is the task of predicting whether a thing belongs to one class or another. For the sake of simplicity, we will call one of them 1 (the **positive class**) and the other one 0 (the **negative class**); sometimes, especially when we discuss imbalanced datasets, class 1 will also be called the **minority class**. We avoid the convention (mostly used when discussing support vector machines) of labelling the classes 1 and -1, although that convention could be used here with simple adaptations of most formulas."
   ]
  },
  {
   "cell_type": "markdown",
   "id": "2e2d978b",
   "metadata": {},
   "source": [
    "The most common situation is that where we have a set of datapoints $\\{x_i,y_i\\}_{i\\in 1:N}$ (where we denote as $1:N$ the set of integers between 1 and N). Here, the **features** $x_i$ are assumed to live in some $d$-dimensional space $\\mathcal{X}$ (which may contain discrete inputs, images, etc) and the **target** $y_i$ (also called **label**) assumes the values 0 or 1."
   ]
  },
  {
   "cell_type": "markdown",
   "id": "025fa29a",
   "metadata": {},
   "source": [
    "Our goal is to train a function which can predict, for a new sample $x$, whether its label should be 0 or 1. \n",
    "> Note on notation: we don't write the features as $\\vec{x}_i$ or $\\mathbf{x}_i$ to explicitly denote they are vectors - the discussion here independs on whether there are 1 or 1000 features and will not depend on the specific vectorial nature of the feature space."
   ]
  },
  {
   "cell_type": "markdown",
   "id": "60a3b77d",
   "metadata": {},
   "source": [
    "## Where does classification go wrong?"
   ]
  },
  {
   "cell_type": "markdown",
   "id": "220c5c12",
   "metadata": {},
   "source": [
    "Binary classification should be the easiest problem in machine learning. It is. But it is also one of the most important as well as one where people make most mistakes. In fact, it is my belief that knowledge on linear regression and classification problems correlates with data science capability. \n",
    "\n",
    "There are three points people often get wrong in classification models:\n",
    "\n",
    "1. **Class imbalance**: when one of the classes is much less represented than the other. For example, in a standard problem in fraud detection, maybe 0.5% of the total points will be labeled as fraudulent ($y=1$) whereas all the others are not frauds $(y=0)$. Class imbalance nearsights most metrics, and makes it hard to say which model is better.\n",
    "\n",
    "2. **Bad choice of metric(s)**. You can find thousands of Medium articles going over all the important classification metrics. This book here is no different. Yet, too many choices usually lead us to make bad choices. It is surprising how hard it can be to choose and interpret metrics in classification problems.\n",
    "\n",
    "3. **Bad problem definition**. In real business problems, the class $y$ is not given to you. You must define a policy or set of rules to establish when a point will be considered a 1 and when it will be considered a 0. This definition might work for a while, but might also be fluid in time. Understanding your choice of target and making sure it is the \"right\" one is a complex business issue."
   ]
  },
  {
   "cell_type": "markdown",
   "id": "ebdf89eb",
   "metadata": {},
   "source": [
    "---"
   ]
  },
  {
   "cell_type": "markdown",
   "id": "ca3bf515",
   "metadata": {},
   "source": [
    "# Classification model theory"
   ]
  },
  {
   "cell_type": "markdown",
   "id": "ceee3818",
   "metadata": {},
   "source": [
    "## The probabilistic point of view"
   ]
  },
  {
   "cell_type": "markdown",
   "id": "f0c707ea",
   "metadata": {},
   "source": [
    "Most (if not all) machine learning problems can be written, and better understood, in the language of probability theory. Since this will be our main language in this document too, we will briefly present the main ingredients, to the necessary degree of mathematical rigor."
   ]
  },
  {
   "cell_type": "markdown",
   "id": "0a86de66",
   "metadata": {},
   "source": [
    "We assume there exist some (unobserved, theoretical) random variables $(X, Y)$ which are jointly distributed (we follow the convention of writing random variables with uppercase letters, and their instances / observations in lowercase), with $Y$ taking values in $\\{0,1\\}$.\n",
    "\n",
    "Our goal is to estimate the so-called **score** of an observation $x$:\n",
    "\n",
    "$$\\boxed{p(x) := \\mathbb{P}(Y=1|X=x)},$$\n",
    "\n",
    "or, translating into words:\n",
    "\n",
    "> Given a set of features $x$, what is the probability that we measure $Y$ to be 1? \n",
    "\n",
    "Notice that $p(x)$ tells the whole story about the distribution of $Y$ given $X$, since $\\mathbb{P}(Y=0|X=x) = 1-p(x)$\n",
    "\n"
   ]
  },
  {
   "cell_type": "markdown",
   "id": "28ff3750",
   "metadata": {},
   "source": [
    "### Bernoulli variables : mathematical coin tosses"
   ]
  },
  {
   "cell_type": "markdown",
   "id": "9086a9b5",
   "metadata": {},
   "source": [
    "An equivalent, rigorous description of the above is that variable $Y|X=x$ (read as \"$Y$ given that $X$ equals $x$\") follows a **Bernoulli distribution** with parameter $p(x)$, which we write\n",
    "$$\n",
    "\\boxed{(Y|X=x) \\sim \\mathrm{Bernoulli}(p(x))}\n",
    "$$"
   ]
  },
  {
   "cell_type": "markdown",
   "id": "f0597b8e",
   "metadata": {},
   "source": [
    "This equation is the basis for everything we do in binary classification (which really amounts to finding $p(x)$ via several methods), so remember it."
   ]
  },
  {
   "cell_type": "markdown",
   "id": "41582c60",
   "metadata": {},
   "source": [
    "> Notice how the rather cumbersome notation \"$Y|X=x$\" denotes a perfectly well-defined random variable: it is the values we observe for $Y$ provided that $X$ has been measured to be $x$. Notationally, if we call $Z \\equiv Y|X=x$, then the statement $\\mathbb{P}(Z=y)$ is equivalent to $\\mathbb{P}(Y=y|X=x)$."
   ]
  },
  {
   "cell_type": "markdown",
   "id": "e26c9142",
   "metadata": {},
   "source": [
    "A variable $Z$ follows a Bernoulli distribution with parameter $p$ (between 0 and 1), which we write as $Z \\sim \\mathrm{Bernoulli}(p)$, if $Z$ takes values in $\\{0,1\\}$ and \n",
    "\n",
    "$$\\mathbb{P}(Z=1) = p,\\qquad \\mathbb{P}(Z=0) = 1-p$$"
   ]
  },
  {
   "cell_type": "markdown",
   "id": "b320018d",
   "metadata": {},
   "source": [
    "or more succinctly,\n",
    "$$\\mathbb{P}(Z=k) = p^k (1-p)^{1-k}, \\qquad k \\in \\{0,1\\}.$$\n",
    "\n",
    "(it is also common to write $\\mathbb{P}(Z=k;p)$ to make explicit that we are using $p$ as a parameter)"
   ]
  },
  {
   "cell_type": "markdown",
   "id": "da04fc03",
   "metadata": {},
   "source": [
    "A Bernoulli trial (which is how a sample from a Bernoulli variable is called) is the equivalent to a coin toss. Letting heads = 1 and tails = 0, then $p$ is the probability of seeing a heads, and $1-p$ is that of seeing a tail.\n",
    "A fair coin has $p=1/2$."
   ]
  },
  {
   "cell_type": "markdown",
   "id": "bc161e8c",
   "metadata": {},
   "source": [
    "Notice how, in our case, $Z(x)\\equiv (Y|X=x)$ is a function of $x$ - that is why we see $p(x)$ entering a parameter. This means that our \"coin\" has a parameter which is not constant, and it changes from point to point in the feature space. That makes sense - consider the problem of predicting if someone has (1) or does not have (0) a car, given their income. Then one would expect $p(\\mbox{high income}) > p(\\mbox{low income})$, for example."
   ]
  },
  {
   "cell_type": "markdown",
   "id": "4ba60b97",
   "metadata": {},
   "source": [
    "### Binary classification is not really that binary"
   ]
  },
  {
   "cell_type": "markdown",
   "id": "543be426",
   "metadata": {},
   "source": [
    "In binary classification we try to predict a score, which is a number $p(x)$ between 0 and 1. It is, for most inputs $x$, neither 0 or 1, but something in between. \n",
    "\n",
    "This means that even though our labels $y$ must be either 0 or 1, what we calculate is a continuous score. If we want to \"binarize\" this output, we need to choose a **threshold** (which we'll write as $\\lambda$) to create a rule:\n",
    "\n",
    "$$\\hat{y}(x) = \\begin{cases}\n",
    "1 & \\mbox{if } f(x) \\geq \\lambda \\\\\n",
    "0 & \\mbox{if } f(x) < \\lambda\n",
    "\\end{cases}\n",
    "$$\n",
    "\n"
   ]
  },
  {
   "cell_type": "markdown",
   "id": "37101c57",
   "metadata": {},
   "source": [
    "Here, $\\hat{y}(x)$ is the **estimator** for $(Y|X=x)$ - it is the value we predict, and this one only takes the value of 0 or 1. What the equation above really means is: if the score is larger than the threshold, set the prediction to 1, otherwise set it to 0.\n",
    "\n",
    "More precisely, we could write $\\hat{y}(x)$ as $\\hat{y}_\\lambda(x)$ since it depends on the choice of the threshold. We will sometimes use this notation."
   ]
  },
  {
   "cell_type": "markdown",
   "id": "95fabed7",
   "metadata": {},
   "source": [
    "### Wrap-up of our ingredients\n",
    "\n",
    "* **Data**: dataset $\\{x_i, y_i\\}_{i\\in 1:N}$ of features and labels, where all labels $y_i$ take values in $\\{0,1\\}$\n",
    "* **Model**: we assume there exists a function $p$ such that $(Y|X=x) \\sim \\mathrm{Bernoulli}(p(x))$. To fully solve the classification problem, we must choose:\n",
    "  * The score function $p(x)$\n",
    "  * The threshold $\\lambda$ to create the estimator $\\hat{y}_\\lambda(x)$"
   ]
  },
  {
   "cell_type": "markdown",
   "id": "2b956c3a",
   "metadata": {},
   "source": [
    "In the next chapters, we focus on methods to find and assess score functions, as well as choosing the best threshold (in some sense)."
   ]
  },
  {
   "cell_type": "markdown",
   "id": "5f69d1fd",
   "metadata": {},
   "source": [
    "___"
   ]
  },
  {
   "cell_type": "markdown",
   "id": "a5cedcd8",
   "metadata": {},
   "source": [
    "# The loss function: binary cross-entropy"
   ]
  },
  {
   "cell_type": "markdown",
   "id": "3c628d18",
   "metadata": {},
   "source": [
    "Not any random score $p(x)$ will do. We want to find the \"best\" score function, but first we must define what that means in the first place.\n",
    "\n",
    "Intuitively, the picture should be clear. Suppose we have a random point in our dataset $(x_{23}, y_{23})$ with $y_{23}=1$. One would expect a good function $p$ to provide a high score for this point, eg. $p(x_{23}) = 0.97$, that is, there is a very high probability that $y_{23}$ is 1. "
   ]
  },
  {
   "cell_type": "markdown",
   "id": "07b4a485",
   "metadata": {},
   "source": [
    "Similarly, for another instance $(x_{8}, y_8)$ with $y_8=0$, one would expect a low score, maybe $p(x_8) = 0.04$."
   ]
  },
  {
   "cell_type": "markdown",
   "id": "728eed04",
   "metadata": {},
   "source": [
    "In machine learning, the process of **training** a model requires us to choose a **loss function**: a function which takes high values for bad models that make lots of mistakes, and takes low values for good models. Then, we can deal with the task of choosing a model that minimizes the loss (I am ignoring matters of model regularization here)."
   ]
  },
  {
   "cell_type": "markdown",
   "id": "381e243a",
   "metadata": {},
   "source": [
    "> (**Review - loss functions & regularization**) *Loss functions* are a common ingredient in machine learning. Basically, they are a means to estimate how far away from a perfect solution we are. More precisely, if we are trying to find a function $f$ (which will be the ground truth), and we estimate that a function $g$ might be a good approximant, then the loss is a function $L[g]$ which is positive, and is minimized for $g=f$. \n",
    "> If one is given a training set $\\{x_i, y_i\\}_{i\\in 1:N}$, the expression for the loss is usually broken down into $N$ separate components: $\\displaystyle L[g] = \\frac{1}{N} \\sum_{i=1}^N l(y_i, g(x_i))$, where $l(y, g(x))$ calculates the error between point $y$ and its estimate $\\hat y = g(x)$. The choice of $l$ is such that $l(y,\\hat y)=0$ if $\\hat y = y$, ie. the model perfectly replicates the training data, and $>0$ otherwise. \n",
    "\n",
    "> In practice, one usually introduces *regularization* to avoid overfitting: this comes from considering a penalized version of the loss which penalizes exceedingly complex function approximants $g$: $$L_\\mathrm{reg}[g] = \\frac{1}{N} \\sum_{i=1}^N l(y_i, g(x_i)) + \\lambda R[g],$$\n",
    "where $R > 0$ is the regularization term and $\\lambda > 0$ is a weight. More explicitly, let $g = g_\\theta$ actually depend on a set of parameters $\\theta$ (which could be the coefficients of a logistic regression, for example). Then one usually sets $R[g]$ to some power of (the norm of) $\\theta$, thus penalizing large values of the parameter."
   ]
  },
  {
   "cell_type": "markdown",
   "id": "01ca4eca",
   "metadata": {},
   "source": [
    "#### Simple case: Bernoulli variable"
   ]
  },
  {
   "cell_type": "markdown",
   "id": "8f5750e6",
   "metadata": {},
   "source": [
    "Forget about features for a second. Suppose we have a sequence of 23 observations \n",
    "\n",
    "$$11011010100010010010111$$ \n",
    "\n",
    "for a Bernoulii variable (eg. a sequence of coin tosses). How can we best estimate $p$ (which here is just a parameter)? More intuitively: given a sequence of heads and tails, how to best estimate the bias of the coin?\n",
    "\n",
    "The solution comes from inferential statistics, via the method of **maximum likelihood estimation** (MLE). The idea is simple: find the parameter which makes it most likely to see this set of observations."
   ]
  },
  {
   "cell_type": "markdown",
   "id": "d8194103",
   "metadata": {},
   "source": [
    "> (**Review - Maximum likelihood estimation**) In statistics, MLE is a method used in the following situation: we are given a set of observations - data - for which we have a hypothesis of the generating distribution. For instance, we might believe that a set of points has come as samples from a normal distribution. Remember: a normal distribution is fully specified by two parameters $\\mu$ and $\\sigma^2$, which describe its mean and variance. In our case, we wish to find which normal distribution - hence which values of $\\mu$ and $\\sigma^2$ - are most appropriate for the data we observe. MLE, as shown below, allows us to find a function (the likelihood) which, when maximized over all possible parameters, give those which best fit our data. Mathematically, if we observe points $x_1, \\ldots, x_n$ which are taken to be iid, and want to fit a distribution $f_\\theta(x)$ to them, then the likelihood is the function $\\ell(\\theta) = \\sum_{i=1}^n \\log f_\\theta(x_i)$; one then finds the maximum likelihood estimate via $\\hat \\theta_{\\mathrm{MLE}} = \\mathrm{arg} \\max_\\theta \\ell(\\theta)$."
   ]
  },
  {
   "cell_type": "markdown",
   "id": "27fd43df",
   "metadata": {},
   "source": [
    "Let's give some names to things. Let $N=23$, and let $Y_i$, for $i \\in 1:N$, be a set of identical and independently distributed (iid) Bernoulli variables with parameter $p$, that is\n",
    "\n",
    "$$Y_i \\sim \\mathrm{Bernoulli}(p)\\qquad\\mbox{ for all $i$, with $Y_i$ independent of $Y_j$ for $i\\neq j$}$$"
   ]
  },
  {
   "cell_type": "markdown",
   "id": "5faef775",
   "metadata": {},
   "source": [
    "Also call $y_1, y_2,\\ldots, y_{23}$ the observed values for each of the $Y_i$, meaning \n",
    "\n",
    "$$y_1 = 1,\\quad y_2 = 1, \\quad y_3=0,\\ldots$$"
   ]
  },
  {
   "cell_type": "markdown",
   "id": "93f509a0",
   "metadata": {},
   "source": [
    "Then, the probability of obtaining the observed sequence is\n",
    "\n",
    "$$\\begin{align}\n",
    "\\mathbb{P}(Y_1=y_1, Y_2=y_2,\\ldots, Y_n=y_n) &= \\mathbb{P}(Y_1=y_1) \\mathbb{P}(Y_2=y_2)\\cdots \\mathbb{P}(Y_N=y_N)\\quad\\mbox{due to independence}\\\\\n",
    "&= \\prod_{i=1}^N \\mathbb{P}(Y_i=y_i)\\quad \\mbox{ simplifying notation}\\\\\n",
    "&= \\prod_{i=1}^N p^{y_i}(1-p)^{1-y_i} =: \\mathrm{likelihood}(p)\n",
    "\\end{align}\n",
    "$$"
   ]
  },
  {
   "cell_type": "markdown",
   "id": "3b120cbb",
   "metadata": {},
   "source": [
    "where we have defined the **likelihood function** of $p$ in the last line. Indeed, notice that since the $y_i$ are fixed, the likelihood is just a function of $p$.\n",
    "\n",
    "A common trick to simplify equations (and to induce convexity) is to take the log of both sides, defining the **log-likelihood**. Then the product simplifies to a sum, and we have\n",
    "\n",
    "$$\\ell(p) \\equiv \\log \\mathrm{likelihood}(p) = \\sum_{i=1}^N \\left[y_i \\log p + (1-y_i) \\log(1-p)\\right]$$"
   ]
  },
  {
   "cell_type": "markdown",
   "id": "62e80315",
   "metadata": {},
   "source": [
    "The MLE method proposes to maximize this quantity. But we can just as well take its negative sign and propose to *minimize* it instead, and name it our loss function!"
   ]
  },
  {
   "cell_type": "markdown",
   "id": "d034c689",
   "metadata": {},
   "source": [
    "$$L(p) = - \\sum_{i=1}^N \\left[y_i \\log p + (1-y_i) \\log(1-p)\\right]$$"
   ]
  },
  {
   "cell_type": "markdown",
   "id": "d88c30d1",
   "metadata": {},
   "source": [
    "Our problem then becomes: find $p$ such that the loss function above is minimized. This can be done via some calculus:"
   ]
  },
  {
   "cell_type": "markdown",
   "id": "fbb5c817",
   "metadata": {},
   "source": [
    "$$L'(p) = - \\sum_{i=1}^N \\left[ \\frac{y_i}{p} - \\frac{1-y_i}{1-p}\\right] = 0 \\Rightarrow \\boxed{\\hat{p} = \\frac{1}{N} \\sum_{i=1}^N y_i}$$"
   ]
  },
  {
   "cell_type": "markdown",
   "id": "8c157735",
   "metadata": {},
   "source": [
    "Thus, the MLE estimator for the Bernoulli problem is extremely simple: just the arithmetic average of the observations. This is indeed what we could intuitively expect. $p$ measures the proportion of times we got a 1 instead of a 0."
   ]
  },
  {
   "cell_type": "code",
   "execution_count": 3,
   "id": "8c252248",
   "metadata": {},
   "outputs": [
    {
     "name": "stdout",
     "output_type": "stream",
     "text": [
      "p_MLE = 0.52\n"
     ]
    }
   ],
   "source": [
    "# Estimate p via MLE for our case\n",
    "y = np.array([1, 1, 0, 1, 1, 0, 1, 0, 1, 0, 0, 0, 1, 0, 0, 1, 0, 0, 1, 0, 1, 1, 1])\n",
    "print(\"p_MLE = %.2f\" % y.mean())"
   ]
  },
  {
   "cell_type": "markdown",
   "id": "ffd8fe93",
   "metadata": {},
   "source": [
    "### Generalizing the Bernoulli result: binary cross-entropy "
   ]
  },
  {
   "cell_type": "markdown",
   "id": "72b6c22b",
   "metadata": {},
   "source": [
    "We can take the reasoning above beyond the \"no-features\" Bernoulli model, simply because the line of thought is exactly the same, changing $p$ for $p(x_i)$ and $Y_i$ for $Y_i|X_i = x_i$. The loss we get this time is\n",
    "\n",
    "$$\\boxed{L = - \\sum_{i=1}^N \\left[y_i \\log p(x_i) + (1-y_i) \\log(1-p(x_i))\\right]}$$"
   ]
  },
  {
   "cell_type": "markdown",
   "id": "7b38d4f6",
   "metadata": {},
   "source": [
    "which is called by the fancy name **binary cross-entropy** or simply **log-loss**."
   ]
  },
  {
   "cell_type": "markdown",
   "id": "2574f8b0",
   "metadata": {},
   "source": [
    "Two important questions appear immediately:\n",
    "  - 1) What is the log-loss a function *of*? With respect to what should we minimize it?\n",
    "\n",
    "  - 2) How good is the log-loss as a choice of a loss function for binary classification?"
   ]
  },
  {
   "cell_type": "markdown",
   "id": "a1b7df40",
   "metadata": {},
   "source": [
    "#### Answer to 1: Parametric models\n",
    "\n",
    "In 99% of the cases, we model the score function $p$ with some set of parameters, which we will collectively denote by $\\theta$, and write as $p_\\theta(x)$. A few examples:\n",
    "\n",
    "* In logistic regression, we explicitly write\n",
    "$$p_\\theta(x) = \\frac{1}{1 + \\exp(-\\theta_0 - \\sum_{a=1}^M \\theta_a x_a)}.$$\n",
    "Here, $\\theta$ is the set of coefficients $\\theta_0, \\theta_1, \\ldots, \\theta_M$.\n",
    "\n",
    "* In a classification tree, we separate the feature space in hypercubes. $\\theta$  are the set of splitting variables and thresholds chosen.\n"
   ]
  },
  {
   "cell_type": "markdown",
   "id": "fceeed9d",
   "metadata": {},
   "source": [
    "In this scenario, one writes $L = L(\\theta)$ and finds (numerically, if needed) the solution to\n",
    "\n",
    "\n",
    "$$\\frac{\\partial L}{\\partial \\theta_a} = 0 \\quad \\mbox{ for all $a$}.$$\n",
    "\n",
    "Once the optimal $\\hat{\\theta}$ has been found via this method, we can explicitly insert them in $p_\\theta$ and our job is done. Some methods to solve equations such as the one above include Newton's method and gradient descent (and its variations)."
   ]
  },
  {
   "cell_type": "markdown",
   "id": "5bc87811",
   "metadata": {},
   "source": [
    "#### Answer to 2: weights"
   ]
  },
  {
   "cell_type": "markdown",
   "id": "83a736c2",
   "metadata": {},
   "source": [
    "The standard log-loss equation weighs all samples $i$ equally. It might happen that one wants to penalize a subset of points more than others; this is usually the case in imbalanced learning, where the number of points with $y=1$ is much smaller than that of $y=0$ (we call $y=1$ the minority class here). Then, one might choose to add more weight to errors in that class, since it is a harder class to predict.\n",
    "\n",
    "The equation gets then modified to\n",
    "\n",
    "$$L = - \\frac{\\sum_{i=1}^N w_i \\left[y_i \\log p(x_i) + (1-y_i) \\log(1-p(x_i))\\right]}{\\sum_{i=1}^N w_i}$$\n",
    "\n",
    "for some set of pre-determined weights $w_i$."
   ]
  },
  {
   "cell_type": "markdown",
   "id": "17445bef",
   "metadata": {},
   "source": [
    "In `scikit-learn`, when choosing to use the log-loss, one can explicitly pass weights via the `sample_weight` attribute (similarly in other libraries, eg. LightGBM has an option `scale_pos_weight` to choose the weight of the positive class). \n",
    "\n",
    "To illustrate this, given our ground truths, suppose that we have built a model with some predictions (for $p(x_i)$!)"
   ]
  },
  {
   "cell_type": "code",
   "execution_count": 4,
   "id": "29b206ba",
   "metadata": {},
   "outputs": [],
   "source": [
    "y      = np.array([1, 1, 0, 1, 1, 0, 1, 0, 1, 0, 0, 0, 1, 0, 0, 1, 0, 0, 1, 0, 1, 1, 1])    # true values\n",
    "y_pred = np.array([0.90, 0.10, 0.05, 0.80, 0.85, 0.03, 0.01, 0.08, 0.88, 0.98, 0.12, 0.20, \n",
    "                   0.10, 0.20, 0.11, 0.79, 0.25, 0.98, 0.16, 0.10, 0.78, 0.98, 0.01])       # our predictions"
   ]
  },
  {
   "cell_type": "markdown",
   "id": "01f782a9",
   "metadata": {},
   "source": [
    "Now we can calculate the standard log-loss, with equal weights:"
   ]
  },
  {
   "cell_type": "code",
   "execution_count": 5,
   "id": "4adb9482",
   "metadata": {},
   "outputs": [
    {
     "name": "stdout",
     "output_type": "stream",
     "text": [
      "Standard log-loss: 1.12\n"
     ]
    }
   ],
   "source": [
    "from sklearn.metrics import log_loss\n",
    "\n",
    "print(\"Standard log-loss: %.2f\" % log_loss(y_true=y, y_pred=y_pred))"
   ]
  },
  {
   "cell_type": "markdown",
   "id": "2a634a1b",
   "metadata": {},
   "source": [
    "If we choose to weigh the $y=1$ class twice as much as the $y=0$ class, we can pass that as an optional argument:"
   ]
  },
  {
   "cell_type": "code",
   "execution_count": 6,
   "id": "84e54216",
   "metadata": {},
   "outputs": [
    {
     "name": "stdout",
     "output_type": "stream",
     "text": [
      "Weighed log-loss: 1.22\n"
     ]
    }
   ],
   "source": [
    "weights = np.where(y==1, 2, 1)  # weight = 2 for y=1, and weight = 1 for y=0\n",
    "print(\"Weighed log-loss: %.2f\" % log_loss(y_true=y, y_pred=y_pred, sample_weight=weights))"
   ]
  },
  {
   "cell_type": "markdown",
   "id": "8fd47986",
   "metadata": {},
   "source": [
    "The value is now higher: our model does a slightly worse job at predicting class 1 than class 0."
   ]
  },
  {
   "cell_type": "markdown",
   "id": "d83c52ee",
   "metadata": {},
   "source": [
    "### Is log-loss the only loss?"
   ]
  },
  {
   "cell_type": "markdown",
   "id": "f30faaa5",
   "metadata": {},
   "source": [
    "No. But it is one of the most useful ones. It is, in particular, the one used in logistic regression and (tree-based) gradient boosting models such as XGBoost or LightGBM - all of these  minimize (weighted) cross-entropy during training.\n",
    "\n",
    "There are others. AdaBoost, for example, minimizes the so-called *exponential loss*\n",
    "\n",
    "$$L_\\mathrm{exp} = \\sum_{i=1}^N e^{-y_i f(x_i)}$$\n",
    "\n",
    "(where $y_i \\in \\{-1,1\\}$ instead of $\\{0,1\\}$ here), whereas (soft-margin, linear) support vector machines minimize the *hinge loss*\n",
    "\n",
    "$$L_\\mathrm{hinge} = \\frac 1N \\sum_{i=1}^N \\max\\left\\{0, 1- y_i (w \\cdot x_i -b)\\right\\}$$\n",
    "\n",
    "(again $y_i \\in \\{-1,1\\}$ here). \n",
    "\n",
    "> There are several *losses*, but ther are perhaps even more *metrics* to assess how good our models are. There are several metrics (ROC AUC, Precision / Recall, $F_1$ to name a few) which can be used to assess how good a model is. "
   ]
  },
  {
   "cell_type": "markdown",
   "id": "5e7ada4f",
   "metadata": {},
   "source": [
    "### Why do we call $p(x)$ the \"score\"?"
   ]
  },
  {
   "cell_type": "markdown",
   "id": "b19151a3",
   "metadata": {},
   "source": [
    "It would be more intuitive, perhaps, to call $p(x)$ a probability. Indeed, it is a type of probability: the probability that $Y=1$ given that $X=x$.\n",
    "\n",
    "The main reason we call it a score is that most algorithms **do not estimate the probability $p(x)$ directly**. Logistic regression is one of the few algorithms which do, but most of the useful ones - random forests, gradient boosted trees, neural networks - do not. In this case, we are actually predicting a modified version of $p(x)$. To make the discussion simpler, we will call everything a score, and leave the discussion of actually estimating probabilities to the chapter on calibration.\n",
    "> Indeed, for many use cases (such as credit scoring, product recommendations, or fraud detection) actual probababilities are not that important; rather, their *ordering* is. So it wouldn't matter that my probability of defaulting on a payment is 15%; what matters is that it is 15% while my friend Bob's is 30%, hence mine is *lower* (by how much, we don't know). This is not the case for insurance, for example, where actual expected values need to be calculated. We will discuss this later.\n"
   ]
  },
  {
   "cell_type": "markdown",
   "id": "6e50a81b",
   "metadata": {},
   "source": [
    "----"
   ]
  },
  {
   "cell_type": "markdown",
   "id": "d100072f",
   "metadata": {},
   "source": [
    "# Classification metrics"
   ]
  },
  {
   "cell_type": "markdown",
   "id": "601027a4",
   "metadata": {},
   "source": [
    "Recall that the threshold is the number $\\lambda$ such that we set the model's prediction to 1 if the score is greater than $\\lambda$, and 0 otherwise.\n",
    "\n",
    "Why do we split our discussion between threshold dependent and independent metrics?\n",
    "\n",
    "There are two reasons:\n",
    "\n",
    "1. In the modelling pipeline, finding a continuous score model comes first - only after that comes defining a threshold. Usually, one picks the best model in a threshold-independent way. If the application requires them to define a binary output (which is not always the case), then one tries to find a good threshold *after* the model has been chosen.\n",
    "\n",
    "2. There is no \"best\" threshold - it will be found as the result of a calculation including trade-offs (between false positives vs false negatives, for example). Because of this, it is better to keep the discussion of how to find a threshold to later.\n",
    "\n",
    "Thus, we start with a good understanding of threshold-independent metrics. These are *usually* the most important, the ones you see published, and that make an actual business impact.\n"
   ]
  },
  {
   "cell_type": "markdown",
   "id": "182161bc",
   "metadata": {},
   "source": [
    "## Our sample data"
   ]
  },
  {
   "cell_type": "markdown",
   "id": "e50de8d4",
   "metadata": {},
   "source": [
    "Throughout this section, we will use the following simulated data with 10 features and 1000 data points, out of which only 8 are meaningful:"
   ]
  },
  {
   "cell_type": "code",
   "execution_count": 7,
   "id": "a39ca529",
   "metadata": {},
   "outputs": [],
   "source": [
    "from sklearn.datasets import make_classification\n",
    "from sklearn.model_selection import train_test_split\n",
    "\n",
    "# create dummy classification problem\n",
    "X, y = make_classification(n_samples=5000, n_features=10, n_informative=8, n_redundant=1, n_repeated=1, \n",
    "                           random_state=10) # for reproducibility\n",
    "\n",
    "# split train test\n",
    "X_train, X_test, y_train, y_test = train_test_split(X, y, test_size=0.3, random_state=10)"
   ]
  },
  {
   "cell_type": "markdown",
   "id": "6ecfd53d",
   "metadata": {},
   "source": [
    "## The base ingredient: confusion matrices"
   ]
  },
  {
   "cell_type": "markdown",
   "id": "960d8993",
   "metadata": {},
   "source": [
    "All metrics will be build from a single fundamental element: the confusion matrix.\n",
    "\n",
    "Basically, assume for a second you have an estimator $\\hat y(x)$. This supposes you have created a score function and chosen a threshold, so that $\\hat y(x)$ will give 1's and 0's. \n",
    "\n",
    "Now, given an observation $(x, y)$ (with $y$ equal to 0 or 1) there are **four possible outcomes** when we compare the real $y$ to the prediction $\\hat y(x)$:\n",
    "\n",
    "1. $y=0$ and $\\hat y = 0$: right prediction. This is called a **true negative (TN)** (since we also call the class 0 the \"negative class\")\n",
    "2. $y=0$ and $\\hat y = 1$: wrong prediction. This is called a **false positive (FP)** (since we falsely predicted the class 1, also known as the positive class)\n",
    "3. $y=1$ and $\\hat y = 0$: wrong prediction. This is called a **false negative (FN)**.\n",
    "4. $y=1$ and $\\hat y = 1$: right prediction. This is called a **true positive (TP)**."
   ]
  },
  {
   "cell_type": "markdown",
   "id": "57549203",
   "metadata": {},
   "source": [
    "These 4 possibilities can be stored in a 2x2 matrix called the **confusion matrix**. We illustrate below how to build one in `scikit-learn`."
   ]
  },
  {
   "cell_type": "code",
   "execution_count": 8,
   "id": "d8422622",
   "metadata": {},
   "outputs": [
    {
     "data": {
      "image/png": "[encoded data removed]",
      "text/plain": [
       "<Figure size 432x288 with 2 Axes>"
      ]
     },
     "metadata": {
      "needs_background": "light"
     },
     "output_type": "display_data"
    }
   ],
   "source": [
    "from sklearn.metrics import confusion_matrix, ConfusionMatrixDisplay\n",
    "import matplotlib.pylab as plt\n",
    "\n",
    "# assume we have a series of observed and predicted labels\n",
    "y_real = [1,1,1,1,0,0,1,0,1,0,1,0,1,1,1,1,0,0]\n",
    "y_pred = [1,1,0,1,0,1,1,0,1,0,1,1,1,0,0,1,0,0]\n",
    "\n",
    "# first we build a confusion matrix object...\n",
    "matrix = confusion_matrix(y_real, y_pred)\n",
    "\n",
    "#... which we then plot\n",
    "ConfusionMatrixDisplay(matrix).plot()\n",
    "plt.show()"
   ]
  },
  {
   "cell_type": "markdown",
   "id": "80d982c9",
   "metadata": {},
   "source": [
    "#### --- Mathematical interlude ---"
   ]
  },
  {
   "cell_type": "markdown",
   "id": "62eea29b",
   "metadata": {},
   "source": [
    "Assume we have $N$ iid observations $\\{x_i, y_i\\}_{i\\in1:N}$. We can define a *normalized estimator* of true positives as\n",
    "\n",
    "$$\\frac{\\mathrm{\\widehat{TP}}}{N} := \\frac{1}{N} \\sum_{i=1}^N \\mathbf{1}_{\\hat{y} (x_i) = 1 \\cap y_i=1}$$\n",
    "\n",
    "where the indicator variable $\\mathbf{1}_A$ is 1 if $A$ is true and 0 if it is false. Here, it will be one if both $y_i$ and the estimate $\\hat{y}(x_i)$ are 1.\n",
    "\n",
    "Why normalized? Because in practice the total amount of true positives (or any other cell of the confusion matrix for that matter) doesn't really matter. What matters are their ratios, and this should stay true as $N$ grows larger. Thus, even though you will see expressions such as $\\mathrm{TP/(TP+FN)}$ below and in many other sources, you should really take them to be $\\mathrm{\\widehat{TP}}/N/(\\mathrm{\\widehat{TP}}/N + \\mathrm{\\widehat{FN}}/N)$.\n",
    "\n",
    "**Proposition**. $\\mathrm{\\widehat{TP}}/N$ is an unbiased estimator of $\\mathbb{P}(\\hat y(x)=1 \\cap y = 1)$.\n",
    "> Proof: taking the expectation, and using that $\\mathbb{E}[\\mathbf{1}_A] = \\mathbb{P}(A)$, we get\n",
    "$$\\mathbb{E} \\left[\\frac{\\mathrm{\\widehat{TP}}}{N} \\right] = \\frac 1N \\sum_{i=1}^N \\mathbb{E}[\\mathbf{1}_{\\hat y(x_i) = 1 \\cap y_i = 1}] = \\frac NN \\mathbb{P} (\\hat y(x_i) = 1 \\cap y_i = 1) = \\mathbb{P} (\\hat y(x_i) = 1 \\cap y_i = 1),$$\n",
    "where we were able to break the sum into $N$ copies of the summand from the hypothesis of independence between the samples.\n",
    "\n",
    "These results will be important when creating metrics from the confusion matrix, in particular in the discussion about ROC AUC.\n",
    "\n",
    "**--- end of interlude ---**"
   ]
  },
  {
   "cell_type": "markdown",
   "id": "5cea86cb",
   "metadata": {},
   "source": [
    "### A quick disclaimer: `predict` vs. `predict_proba`"
   ]
  },
  {
   "cell_type": "markdown",
   "id": "0e3f685b",
   "metadata": {},
   "source": [
    "In `scikit-learn` (and `scikit-learn`-friendly libraries such as XGBoost and LightGBM) all classifiers contain at last two methods: `predict` and `predict_proba`. \n",
    "\n",
    "Their difference is straightforward: `predict` returns the predicted classes (0 or 1 in the binary case) whereas `predict_proba` returns a float between 0 and 1, with the score.\n",
    "> For most models, the output of `predict_proba` is **not** a probability, but simply a score. We will discuss this better in the calibration section."
   ]
  },
  {
   "cell_type": "markdown",
   "id": "c68a9985",
   "metadata": {},
   "source": [
    "To exemplify this, let's use a simple logistic regression model and see how it works."
   ]
  },
  {
   "cell_type": "code",
   "execution_count": 9,
   "id": "555e98ba",
   "metadata": {},
   "outputs": [
    {
     "data": {
      "text/plain": [
       "LogisticRegression()"
      ]
     },
     "execution_count": 9,
     "metadata": {},
     "output_type": "execute_result"
    }
   ],
   "source": [
    "from sklearn.linear_model import LogisticRegression\n",
    "\n",
    "model = LogisticRegression()\n",
    "model.fit(X_train, y_train)"
   ]
  },
  {
   "cell_type": "code",
   "execution_count": 10,
   "id": "a3120a5d",
   "metadata": {},
   "outputs": [
    {
     "data": {
      "text/plain": [
       "array([1])"
      ]
     },
     "execution_count": 10,
     "metadata": {},
     "output_type": "execute_result"
    }
   ],
   "source": [
    "x = X_train[25,:].reshape(1,-1) # take one training sample for us to predict\n",
    "model.predict(x)"
   ]
  },
  {
   "cell_type": "code",
   "execution_count": 11,
   "id": "6ca517fb",
   "metadata": {},
   "outputs": [
    {
     "data": {
      "text/plain": [
       "array([[0.12682433, 0.87317567]])"
      ]
     },
     "execution_count": 11,
     "metadata": {},
     "output_type": "execute_result"
    }
   ],
   "source": [
    "model.predict_proba(x)"
   ]
  },
  {
   "cell_type": "markdown",
   "id": "e36f9741",
   "metadata": {},
   "source": [
    "What `predict_proba` does is output two values: the probability that the $y=0$ given $x$ (12.7% here), and the probability of $y=1$ given $x$ (87.3%). In other words, it outputs $(1-\\mbox{score}, \\mbox{score})$. \n",
    "> Since we are in a binary case, we can just extract the last component via `model.predict_proba(x)[:,1]`, since the 0th component will be fully determined by it. In the multiclass case (with more than two classes) then it is important to have all components given."
   ]
  },
  {
   "cell_type": "markdown",
   "id": "eb96a4b5",
   "metadata": {},
   "source": [
    "What `predict` does is to take the result of `predict_proba` and binarize it - essentially by just **applying a threshold of 0.5**! In order to keep things within our control, we recommend to simply use the predicted score via `predict_proba` and then feed it to different metrics."
   ]
  },
  {
   "cell_type": "code",
   "execution_count": 12,
   "id": "43045d38",
   "metadata": {},
   "outputs": [],
   "source": [
    "y_train_pred = model.predict_proba(X_train)[:,1]\n",
    "y_test_pred = model.predict_proba(X_test)[:,1]"
   ]
  },
  {
   "cell_type": "markdown",
   "id": "d09f4266",
   "metadata": {},
   "source": [
    "### How well did our model do?\n",
    "\n",
    "Looking into the documentation, you might be tempted to use the model's `.score` function:"
   ]
  },
  {
   "cell_type": "code",
   "execution_count": 13,
   "id": "e07115d0",
   "metadata": {},
   "outputs": [
    {
     "name": "stdout",
     "output_type": "stream",
     "text": [
      ">> Don't use this function\n",
      "Train score: 0.6762857142857143\n",
      "Test score: 0.668\n"
     ]
    }
   ],
   "source": [
    "print(\">> Don't use this function\")\n",
    "print(\"Train score: {}\".format(model.score(X_train, y_train)))\n",
    "print(\"Test score: {}\".format(model.score(X_test, y_test)))"
   ]
  },
  {
   "cell_type": "markdown",
   "id": "bd7c60e8",
   "metadata": {},
   "source": [
    "But we recommend you to never use the `score` function - since under the hood it calculates accuracies with the `predict` function, which we don't recommend."
   ]
  },
  {
   "cell_type": "markdown",
   "id": "0c8b9eef",
   "metadata": {},
   "source": [
    "Instead, we will present you with three useful threshold-independent metrics in what follows: the ROC AUC, average precision, and lift/delinquency curves.\n",
    "> We recommend you always use them all for your model assessments"
   ]
  },
  {
   "cell_type": "markdown",
   "id": "30f8b04f",
   "metadata": {},
   "source": [
    "### Ratios of the confusion matrix\n",
    "\n",
    "For now, fix a confusion matrix (this amounts to fixing an estimator $\\hat y(x)$, or equivalently, to training a score function $p(x)$ and fixing a threshold). One could ask questions such as: out of all the real positives, how many did we get right? Or, out of all the positives that we predicted, how many were actually positive? \n",
    "\n",
    "In most references, you will see these *rates* defined in terms of elements of the confusion matrix. Here, in order to keep up with the probabilistic language we have been using, we will define them a bit differently."
   ]
  },
  {
   "cell_type": "markdown",
   "id": "ed7dca84",
   "metadata": {},
   "source": [
    "[**True positive rate / sensitivity / TPR**] The TPR of an estimator is $$\\mathbb{P}(\\hat y(x) = 1 | y = 1),$$ that is, the probability that we predict a positive if that was indeed an element of the positive class.\n",
    "\n",
    "[**False positive rate, FPR**] The FPR of an estimator is $$\\mathbb{P}(\\hat y(x) = 1 | y = 0),$$ that is, the probability that we predict a positive for a member of the negative class."
   ]
  },
  {
   "cell_type": "markdown",
   "id": "e3f4a407",
   "metadata": {},
   "source": [
    "Similar definitions can be made for the true negative rate and false negative rate, although these tend to be less commonly used."
   ]
  },
  {
   "cell_type": "markdown",
   "id": "4062df5f",
   "metadata": {},
   "source": [
    "[**Calculating TPR from the confusion matrix**] TPR can be approximated from the confusion matrix via\n",
    "\n",
    "$$\\widehat{\\mathrm{TPR}} = \\frac{\\mathrm{\\widehat{TP}}}{\\mathrm{\\widehat{TP}+\\widehat{FN}}}$$"
   ]
  },
  {
   "cell_type": "markdown",
   "id": "472357be",
   "metadata": {},
   "source": [
    "> Proof: from the definition of conditional probability,\n",
    "$$\\mathrm{TPR} = \\mathbb{P}(\\hat y(x) = 1 | y = 1) = \\frac{\\mathbb{P}(\\hat y(x) = 1 \\cap y = 1)}{\\mathbb{P}(y=1)}.$$ We can break the denominator into $$\\mathbb{P}(y=1) = \\mathbb{P}(\\hat y(x) = 1 \\cap y =1) + \\mathbb{P}(\\hat y(x)=0 \\cap y=1).$$ (see note below on why) Then $$\\mathrm{TPR} = \\mathbb{P}(\\hat y(x) = 1 | y = 1) = \\frac{\\mathbb{P}(\\hat y(x) = 1 \\cap y = 1)}{\\mathbb{P}(\\hat y(x) = 1 \\cap y =1) + \\mathbb{P}(\\hat y(x)=0 \\cap y=1)} = \\mathrm{\\frac{TP}{TP+FN}}.$$ But we have seen before that $\\mathrm{\\widehat{TP}}/N$ is an unbiased estimator for $\\mathbb{P}(\\hat y(x) = 1 \\cap y = 1)$, and similarly for false negatives, so \"plugging hats\" on all estimators on the right-hand side yields the final result.  <font color='red'> TODO:  is not obvious that the ratio of estimators willalso be unbiased? consistent? etc. I could not find any references on this. </font>\n",
    "\n",
    "\n",
    "\n",
    "> Note: this comes from the general identity $\\mathbb{P}(A) = \\sum_i \\mathbb{P}(A \\cap B_i)$ where each $B_i$ is independent of the others, and together \"reconstruct\" $A$ in the sense that $A = \\cup_i (A \\cap B_i)$. Convince yourself of that drawing a few Venn diagrams"
   ]
  },
  {
   "cell_type": "markdown",
   "id": "99c2ef22",
   "metadata": {},
   "source": [
    "[**Calculating FPR from the confusion matrix**] Similar to TPR, one can calculate\n",
    "\n",
    "$$\\mathrm{\\widehat{FPR} = \\frac{\\widehat{FP}}{\\widehat{FP} + \\widehat{TN}}}$$"
   ]
  },
  {
   "cell_type": "markdown",
   "id": "06a2c68b",
   "metadata": {},
   "source": [
    "## Number 1: The ROC curve and the ROC AUC"
   ]
  },
  {
   "cell_type": "markdown",
   "id": "2fbbfd60",
   "metadata": {},
   "source": [
    "The area under the ROC curve (ROC AUC) is, perhaps surprisingly, both the most used and the least understood metric in machine learning. In what follows we give a mathematically sound treatment of it. The main results will be highlighted, in case you want to skip the heavy math."
   ]
  },
  {
   "cell_type": "markdown",
   "id": "a9a3313a",
   "metadata": {},
   "source": [
    "`scikit-learn` makes everything seem like it is easy. It is literally just one line in order to calculate the ROC AUC of our model:"
   ]
  },
  {
   "cell_type": "code",
   "execution_count": 14,
   "id": "1c05ad9c",
   "metadata": {},
   "outputs": [
    {
     "name": "stdout",
     "output_type": "stream",
     "text": [
      "Train ROC AUC: 0.7614\n",
      "Test ROC AUC: 0.7458\n"
     ]
    }
   ],
   "source": [
    "from sklearn.metrics import roc_auc_score\n",
    "\n",
    "print(\"Train ROC AUC: {0:.4f}\".format(roc_auc_score(y_train, y_train_pred)))\n",
    "print(\"Test ROC AUC: {0:.4f}\".format(roc_auc_score(y_test, y_test_pred)))"
   ]
  },
  {
   "cell_type": "markdown",
   "id": "27f22e8a",
   "metadata": {},
   "source": [
    "But it is another thing to understand what is going on under the hood. We explain this below."
   ]
  },
  {
   "cell_type": "markdown",
   "id": "4c71c052",
   "metadata": {},
   "source": [
    "### Constructing the ROC curve"
   ]
  },
  {
   "cell_type": "markdown",
   "id": "416354f2",
   "metadata": {},
   "source": [
    "From now on, we drop the hats on $\\widehat{\\mathrm{FPR}}, \\widehat{\\mathrm{TPR}}$ etc. "
   ]
  },
  {
   "cell_type": "markdown",
   "id": "a4300894",
   "metadata": {},
   "source": [
    "Notice that the whole discussion so far has considered a fixed estimator $\\hat y$, which in turn means we have a fixed threshold $\\lambda$ such that $\\hat y(x)=1$ if $f(x) \\geq \\lambda$ and 0 otherwise.\n",
    "\n",
    "Now, we **let $\\lambda$ vary from low to high**, and consider what happens to the $(x=\\mathrm{FPR}, y=\\mathrm{TPR})$ plane as $\\lambda$ changes."
   ]
  },
  {
   "cell_type": "markdown",
   "id": "f23ed7c6",
   "metadata": {},
   "source": [
    "[**Definition**] Let $\\mathrm{FPR}(\\lambda)$, $\\mathrm{TPR}(\\lambda)$ denote the false & true positive rates at threshold $\\lambda$. Then, the curve $\\lambda \\mapsto (\\mathrm{FPR}(\\lambda), \\mathrm{TPR}(\\lambda))$ obtained when $\\lambda$ varies between $]-\\infty, \\infty[$ is called the **receiver operating characteristic (ROC) curve**.\n",
    "> This name is historical. I bet 9 out of 10 of your data scientist friends won't know precisely what \"ROC\" stands for. I had to Google it too."
   ]
  },
  {
   "cell_type": "markdown",
   "id": "f8c2ac11",
   "metadata": {},
   "source": [
    "Before we use `scikit-learn` to plot it, let us intuitively understand what behaviors to expect from this curve. Consider the expression\n",
    "\n",
    "$$\\hat{y}(x) = \\begin{cases}\n",
    "1 & \\mbox{if } f(x) \\geq \\lambda \\\\\n",
    "0 & \\mbox{if } f(x) < \\lambda\n",
    "\\end{cases}\n",
    "$$\n",
    "\n",
    "When $\\lambda = - \\infty$ (or just super small), there is no way that $f(x) < \\lambda$, and so we never predict 0's. In other words, our estimator is just $\\hat y(x) \\equiv 1$ for all $x$. This estimator:\n",
    "* Gets all members of the positive class $(y=1)$ correctly, so the true positive rate is maximal\n",
    "* But it gets all members of the negative class $(y=0)$ wrongly. There are no true negatives nor false negatives.\n",
    "\n",
    "Hence it is easy to check that $\\mathrm{FPR} = \\mathrm{TPR} = 1$. This marks the point $(1,1)$ in the $\\mathrm{FPR-TPR}$ plane.\n",
    "\n",
    "Now go to the other extremum when $\\lambda = +\\infty$. Now the situation is reversed: $\\hat y(x) \\equiv 0$ for all $x$. Now there are no true nor false positives, so the numerators of both $\\mathrm{TPR, FPR}$ are 0, and we get the point $(0,0)$. For intermediate values of $\\lambda$, the curve will live inside the unit square:"
   ]
  },
  {
   "cell_type": "code",
   "execution_count": 15,
   "id": "c2500299",
   "metadata": {},
   "outputs": [
    {
     "data": {
      "image/png": "[encoded data removed]",
      "text/plain": [
       "<Figure size 360x360 with 1 Axes>"
      ]
     },
     "metadata": {
      "needs_background": "light"
     },
     "output_type": "display_data"
    }
   ],
   "source": [
    "from sklearn.metrics import RocCurveDisplay\n",
    "\n",
    "fig, ax = plt.subplots(figsize=(5,5))\n",
    "\n",
    "RocCurveDisplay.from_predictions(y_test, y_test_pred, ax=ax, label='Test ROC')\n",
    "RocCurveDisplay.from_predictions(y_train, y_train_pred, ax=ax, label='Train ROC')\n",
    "\n",
    "plt.legend()\n",
    "plt.show()"
   ]
  },
  {
   "cell_type": "markdown",
   "id": "b23154fe",
   "metadata": {},
   "source": [
    "This is the ROC curve. It is a non-decreasing function in the (FPR, TPR) plane, ranging from (0,0) to (1,1). Notice how test and train ROC curves are similar, but different."
   ]
  },
  {
   "cell_type": "markdown",
   "id": "521eabcc",
   "metadata": {},
   "source": [
    "There are **four unique properties satisfied by the ROC curve** which we will discuss going forward:"
   ]
  },
  {
   "cell_type": "markdown",
   "id": "775b7911",
   "metadata": {},
   "source": [
    "1. Interpretable area under the curve (ROC AUC)\n",
    "2. Invariance under class imbalance\n",
    "3. Existence of a universal baseline\n",
    "4. Convexity "
   ]
  },
  {
   "cell_type": "markdown",
   "id": "3f985330",
   "metadata": {},
   "source": [
    "#### 1. Interpretable area under the curve (ROC AUC)"
   ]
  },
  {
   "cell_type": "markdown",
   "id": "b710b357",
   "metadata": {},
   "source": [
    "The area under the ROC curve (usually called ROC AUC or just AUC) is the most used metric in machine learning, yet many data scientists don't know its interpretation. We explain it (and prove why it is so) in what follows.\n",
    "\n",
    "* Randomly take a point of the positive ($y=1$) class, and calculate its score $f(x_1)$\n",
    "* Randomly take a point of the negative ($y=0$) class, and calculate its score $f(x_0)$\n",
    "\n",
    "Claim: $$\\boxed{\\mathrm{ROC\\;AUC} = \\mathbb{P}(f(x_1) \\geq f(x_0))},$$\n",
    "\n",
    "that is: **the ROC AUC measures how likely it is that a point of the positive class scores higher than a point of the negative class**."
   ]
  },
  {
   "cell_type": "markdown",
   "id": "fa8d35cb",
   "metadata": {},
   "source": [
    "More formally, let $Z_0 = (f(X)|Y=0)$ and $Z_1 = (f(X)|Y=1)$. Then $\\mathrm{ROC\\;AUC} = \\mathbb{P}(Z_1 \\geq Z_0)$."
   ]
  },
  {
   "cell_type": "markdown",
   "id": "63e2a876",
   "metadata": {},
   "source": [
    "> Proof: by definition, $$\\mathrm{ROC\\;AUC} = \\int_{\\mathrm{FPR}=0}^{\\mathrm{FPR}=1} \\mathrm{TPR}\\, d\\mathrm{FPR}.$$\n",
    ">It is natural to parameterize FPR and TPR via the threshold $\\lambda$ since $\\mathrm{TPR} = \\mathbb{P}(f(X)\\geq \\lambda | Y=1)$ and $\\mathrm{FPR} = \\mathbb{P}(f(X) \\geq \\lambda | Y=0)$. This motivates us to define the *independent* random variables $$Z_1 = (f(X)|Y=1),\\qquad Z_0 = (f(X)|Y=0),$$ for which $\\mathrm{TPR}(\\lambda) = \\mathbb{P}(Z_1 \\geq \\lambda)$ for instance. This can be written as $$\\mathrm{TPR}(\\lambda) = \\int_\\lambda^\\infty g_1(z) dz,\\qquad \\mathrm{FPR}(\\lambda) = \\int_\\lambda^\\infty g_0(z) dz$$ where $g_0, g_1$ are the PDFs of $Z_0$ and $Z_1$ respectively. Plugging these back into the definition of ROC AUC gives $$\\mathrm{ROC\\,AUC} = \\int_{\\mathrm{FPR}=0}^{\\mathrm{FPR}=1} \\mathrm{TPR}\\, d\\mathrm{FPR} = \\int_{\\lambda=\\infty}^{\\lambda=-\\infty} \\mathrm{TPR}(\\lambda) \\frac{ d \\mathrm{FPR}(\\lambda)}{d\\lambda} d\\lambda = \\int_\\infty^{-\\infty} d\\lambda \\int_\\lambda^\\infty dz\\, g_1(z) (-g_0(\\lambda)),$$\n",
    "where we have used the fundamental theorem of calculus in the last equality. Now one can equivalently write these iterated integrals as\n",
    "$$\\int_{-\\infty}^\\infty \\int_{-\\infty}^\\infty \\mathbf{1}_{z \\geq \\lambda} g_0(\\lambda) g_1(z)\\, dz d\\lambda = \\mathbb{E}[\\mathbf{1}_{Z_1 \\geq Z_0}] = \\mathbb{P}(Z_1 \\geq Z_0),$$\n",
    "where we identify $g_0(\\lambda)g_1(z)$ as the PDF for $(Z_0, Z_1)$ since these are independent variables."
   ]
  },
  {
   "cell_type": "markdown",
   "id": "33711fae",
   "metadata": {},
   "source": [
    "Hence, in our example (where both train & test AUCs are close to 80.3%): there is a probability of 80.3% of a point in the positive class scoring higher than a point in the negative class. This is very good - 4 out of 5 times we will correctly sort them under the score."
   ]
  },
  {
   "cell_type": "markdown",
   "id": "c742bd46",
   "metadata": {},
   "source": [
    "**Numerically testing this claim**: let us run a series of samplings to check if we obtain a similar fraction to the ROC AUC we calculated above."
   ]
  },
  {
   "cell_type": "code",
   "execution_count": 16,
   "id": "bed44418",
   "metadata": {},
   "outputs": [
    {
     "name": "stdout",
     "output_type": "stream",
     "text": [
      "   score  label\n",
      "0  0.059      0\n",
      "1  0.214      0\n",
      "2  0.750      1\n",
      "3  0.636      1\n",
      "4  0.253      0\n",
      "-> Percentage of times score for class 1 was higher than class 0: 74.5%\n"
     ]
    }
   ],
   "source": [
    "import pandas as pd\n",
    "\n",
    "df = pd.DataFrame({'score': y_test_pred, 'label': y_test})\n",
    "print(df.head().round(3).to_string())\n",
    "\n",
    "n_samples = 10000\n",
    "\n",
    "# randomly sample scores from class 1 and 0\n",
    "class_1_score_samples = df[df['label']==1]['score'].sample(n_samples, replace=True, random_state=0)\n",
    "class_0_score_samples = df[df['label']==0]['score'].sample(n_samples, replace=True, random_state=1)\n",
    "\n",
    "# check how many times class 1 score higher\n",
    "total = (class_1_score_samples.values >= class_0_score_samples.values).sum()\n",
    "\n",
    "print(\"-> Percentage of times score for class 1 was higher than class 0: {0:.1f}%\".format(100* total/n_samples))"
   ]
  },
  {
   "cell_type": "markdown",
   "id": "a65c0f73",
   "metadata": {},
   "source": [
    "As we can see, this works - the percentage of times was very close to the 75.6% ROC AUC we got!"
   ]
  },
  {
   "cell_type": "markdown",
   "id": "712e9c5c",
   "metadata": {},
   "source": [
    "**Properties**:\n",
    "* This characterization of the ROC AUC allows one to extract interesting insights on how the AUC will behave under some transformations. For example: given the ROC AUC of a classifier $f(x)$, how will it change if we change the classifier to $10 f(x)$? Or $f(x)^2$?\n",
    "> Answer: it will stay the same. Since $\\mathrm{ROC\\,AUC} = \\mathbb{P}(Z_1 \\geq Z_0)$, any function $\\phi$ applied to both sides of the inequality which does not change it will keep ROC AUC constant: $$(Z_1 \\geq Z_0)\\,=\\,(\\phi(Z_1) \\geq \\phi(Z_0)).$$ In particular this is true for functions like $\\phi(Z) = 10Z$ or $\\phi(Z) = Z^2$, which are monotonic functions. We can also see this numerically:"
   ]
  },
  {
   "cell_type": "code",
   "execution_count": 17,
   "id": "140131e1",
   "metadata": {},
   "outputs": [
    {
     "name": "stdout",
     "output_type": "stream",
     "text": [
      "Original test ROC AUC: 0.7458\n",
      "Applying 10x: 0.7458\n",
      "Applying square: 0.7458\n"
     ]
    }
   ],
   "source": [
    "print(\"Original test ROC AUC: {0:.4f}\".format(roc_auc_score(y_test, y_test_pred)))\n",
    "print(\"Applying 10x: {0:.4f}\".format(roc_auc_score(10*y_test, 10*y_test_pred)))\n",
    "print(\"Applying square: {0:.4f}\".format(roc_auc_score(y_test**2, y_test_pred**2)))"
   ]
  },
  {
   "cell_type": "markdown",
   "id": "da98b1ff",
   "metadata": {},
   "source": [
    "* This also explains why **ROC AUC is the best metric when one is interested in sorting values based on the score**. This is particularly the case in credit scoring, where one usually takes a list of potential individuals, scores them using a classification model, and sorts them (from good scores to bad scores) in order to shortlist those which are creditworthy. Notice that a person's absolute score does not matter - what matters is how high it scores on the list *compared to others*. In this sense, **a good model will have high AUC**, because it **ranks** points well."
   ]
  },
  {
   "cell_type": "markdown",
   "id": "1dc1d052",
   "metadata": {},
   "source": [
    "* **ROC AUC is blind to intra-class score performance**. Suppose we have the following model (based on a real-life buggy model I once built):\n",
    "  * For members of the positive class, it mostly predicts a random score between 70%-100%\n",
    "  * For members of the negative class, it mostly predicts a score of 0%\n",
    "  \n",
    "  This model will have very high AUC, because there is a high chance that a point in the positive class scores higher than one in the negative class. However, this model does a **terrible** job regarding **scoring** within each class, since it is essentially random (for the positive class) and all identical to zero (for the negative class)"
   ]
  },
  {
   "cell_type": "markdown",
   "id": "6dfe7f76",
   "metadata": {},
   "source": [
    "#### 2. Invariance under class imbalance"
   ]
  },
  {
   "cell_type": "markdown",
   "id": "6acc56aa",
   "metadata": {},
   "source": [
    "As we discussed in Chapter 1, class imbalance is one of the biggest sources of complexity in classification problems. We claim that the ROC AUC is \"invariant under\" class imbalance. What does it mean?\n",
    "\n",
    "First, let us clarify one thing. Physicists reading this probably feel like invariance under something is a positive thing, but this is not necessarily true in machine learning.\n",
    "\n",
    "Invariance under class imbalance means that the ROC AUC (and the ROC curve more generally) do not change if we change the relative proportion of the positive and negative classes. To see this, notice how\n",
    "$$\\mathrm{TPR} = \\mathbb{P}(\\hat y(x)=1|y=1) \\approx \\frac{\\mbox{true positives}}{\\mbox{all positives}}$$\n",
    "$$\\mathrm{FPR} = \\mathbb{P}(\\hat y(x)=1|y=0) \\approx \\frac{\\mbox{false positives}}{\\mbox{all negatives}};$$\n",
    "the ratio $\\mbox{all positives/all negatives}$ never appears. FPR and TPR only care about **intra-class ratios, but not inter-class**.\n",
    "\n",
    "* The good thing about this is that AUC analysis works the same for balanced or imbalanced problems...\n",
    "* The bad part is that if you blindly run AUC analysis *alone*, you are shortsighting yourself to class imbalance issues. You might think that a model is very good, when it actually is not!\n",
    "> As a spoiler: metrics such as precision do depend on class imbalance, as we will see further down."
   ]
  },
  {
   "cell_type": "markdown",
   "id": "3eb957a9",
   "metadata": {},
   "source": [
    "#### 3. Existence of a universal baseline"
   ]
  },
  {
   "cell_type": "markdown",
   "id": "6150fa72",
   "metadata": {},
   "source": [
    "It is common knowledge that the **diagonal** line in the ROC plane is the baseline corresponding to a random classifier. More formally, consider that $\\hat y$ is a biased coin toss (Bernoulli trial) with parameter $p$, which does not depend on $x$. Then the probability of $\\hat y$ independs on whether $y=1$ or $0$, and we have\n",
    "\n",
    "$$\\mathrm{TPR} = \\mathbb{P}(\\hat y(x)=1 | y=1) = \\mathbb{P}(\\hat y = 1) = p$$\n",
    "$$\\mathrm{FPR} = \\mathbb{P}(\\hat y(x)=1 | y=0) = \\mathbb{P}(\\hat y = 1) = p$$\n",
    "\n",
    "Thus this random classifier corresponds to the point $(p,p)$ in the plane. If we consider all possible $p$'s between 0 and 1, we get the 45 degree diagonal line."
   ]
  },
  {
   "cell_type": "markdown",
   "id": "1cecf98e",
   "metadata": {},
   "source": [
    "> In practice, this will happen in the case of infinitely large sample size. Below we show the test ROC for the Logistic Regression model; a random classifier; and the theoretical random classifier. Notice how the \"real\" random classifier is noisy."
   ]
  },
  {
   "cell_type": "code",
   "execution_count": 18,
   "id": "ed24d86d",
   "metadata": {},
   "outputs": [
    {
     "data": {
      "image/png": "[encoded data removed]",
      "text/plain": [
       "<Figure size 360x360 with 1 Axes>"
      ]
     },
     "metadata": {
      "needs_background": "light"
     },
     "output_type": "display_data"
    }
   ],
   "source": [
    "fig, ax = plt.subplots(figsize=(5,5))\n",
    "\n",
    "# completely random classifier, generating random scores between [0,1]\n",
    "np.random.seed(123)\n",
    "y_pred_random = np.random.rand(*y_test_pred.shape)\n",
    "\n",
    "# theoretical random classifier\n",
    "p = np.linspace(0,1)\n",
    "\n",
    "RocCurveDisplay.from_predictions(y_test, y_test_pred, ax=ax, label='Logistic regression')\n",
    "RocCurveDisplay.from_predictions(y_test, y_pred_random, ax=ax, label='Random classifier')\n",
    "plt.plot(p,p,linestyle='--', label='Theoretical random clf.')\n",
    "plt.legend()\n",
    "plt.show()"
   ]
  },
  {
   "cell_type": "markdown",
   "id": "44de385b",
   "metadata": {},
   "source": [
    "Because of this baseline, ROC AUC is theoretically bounded between 0.5 (area of the triangle below the 45 degree line) and 1. "
   ]
  },
  {
   "cell_type": "markdown",
   "id": "9f312e56",
   "metadata": {},
   "source": [
    "#### 4. Convexity"
   ]
  },
  {
   "cell_type": "markdown",
   "id": "c004df6f",
   "metadata": {},
   "source": [
    "Convexity is a geometrical property of sets which will allow us to construct new (and better) classifiers based on old ones.\n",
    "\n",
    "Suppose we have two estimators A and B, represented in the FPR/TPR plane as below (A in red, B in blue). Recall that an estimator is a function that outputs either 0 or 1.\n",
    "\n",
    "**Convexity** allows us to build a whole family of estimators in the line segment between A and B (represented in a dotted line)."
   ]
  },
  {
   "cell_type": "code",
   "execution_count": 19,
   "id": "e8ac8d08",
   "metadata": {},
   "outputs": [
    {
     "data": {
      "image/png": "[encoded data removed]",
      "text/plain": [
       "<Figure size 360x360 with 1 Axes>"
      ]
     },
     "metadata": {
      "needs_background": "light"
     },
     "output_type": "display_data"
    }
   ],
   "source": [
    "# THIS CODE CAN BE IGNORED\n",
    "plt.subplots(figsize=(5,5))\n",
    "\n",
    "# Classifier A\n",
    "plt.scatter(x=[0.3], y=[0.4], color='red')\n",
    "\n",
    "# Classifier B\n",
    "plt.scatter(x=[0.6], y=[0.6], color='blue')\n",
    "\n",
    "# All classifiers in-between\n",
    "xx = np.linspace(0.3, 0.6)\n",
    "yy = 2*xx/3 + 0.2\n",
    "plt.plot(xx,yy, linestyle='--', color='gray')\n",
    "\n",
    "# plot settings\n",
    "plt.xlim(0.2, 0.7)\n",
    "plt.ylim(0.3, 0.7)\n",
    "plt.xlabel('FPR')\n",
    "plt.ylabel('TPR')\n",
    "plt.show()"
   ]
  },
  {
   "cell_type": "markdown",
   "id": "03ccef09",
   "metadata": {},
   "source": [
    "The procedure on how to do it (which is not as important as knowing we can do it!) follows below:"
   ]
  },
  {
   "cell_type": "markdown",
   "id": "a5aa64fb",
   "metadata": {},
   "source": [
    "[**Theorem**] Let $c_A, c_B$ be the two binary classifiers (i.e. taking values in $\\{0,1\\}$). Let $(\\mathrm{FPR_A, TPR_A})$ and $(\\mathrm{FPR_B, TPR_B})$ denote the coordinates of the two classifiers. Consider a point $(\\mathrm{FPR_*, TPR_*})$ in the segment between A and B. Let \n",
    "\n",
    "$$p = \\mathrm{\\frac{FPR_*-FPR_A}{FPR_B-FPR_A}}.$$\n",
    "\n",
    "Then the classifier $c_*$ defined as\n",
    "\n",
    "$$c_*(x) = \\begin{cases}\n",
    "c_A(x) & \\mbox{with probability $1-p$}\\\\\n",
    "c_B(x) & \\mbox{with probability $p$}\n",
    "\\end{cases}$$\n",
    "\n",
    "attains a FPR of $\\mathrm{FPR_*}$ and TPR of $\\mathrm{TPR_*}$."
   ]
  },
  {
   "cell_type": "markdown",
   "id": "5b83fec1",
   "metadata": {},
   "source": [
    "> Proof: we do the calculation for FPR; that of TPR follows analogously. By definition, the FPR of $c_*$ is \n",
    "$$\\begin{align}\n",
    "\\mathbb P (c_*(x) = 1 | y = 0) &= p\\, \\mathbb P (c_B(x)=1|y=0) + (1-p) \\,\\mathbb P(c_A(x)=1|y=0) \\\\\n",
    "&= p \\,\\mathrm{FPR_B} + (1-p) \\,\\mathrm{FPR_A} = \\mathrm{FPR}_*\n",
    "\\end{align}$$as claimed."
   ]
  },
  {
   "cell_type": "markdown",
   "id": "f39cec0b",
   "metadata": {},
   "source": [
    "The importance of this result is that it gives an **optimal boundary** for a set of classifiers. Consider the situation below, where a new classifier $C$ (orange) lies in the region below the segment AB. $C$ is, *in any sense*, worse then the projection $C'$ (black) of C onto segment AB, since it has a higher TPR for the \"cost\" of the same FPR. "
   ]
  },
  {
   "cell_type": "code",
   "execution_count": 20,
   "id": "27a8179f",
   "metadata": {},
   "outputs": [
    {
     "data": {
      "image/png": "[encoded data removed]",
      "text/plain": [
       "<Figure size 360x360 with 1 Axes>"
      ]
     },
     "metadata": {
      "needs_background": "light"
     },
     "output_type": "display_data"
    }
   ],
   "source": [
    "# THIS CODE CAN BE IGNORED\n",
    "plt.subplots(figsize=(5,5))\n",
    "\n",
    "plt.scatter(x=[0.3], y=[0.4], color='red')\n",
    "plt.scatter(x=[0.6], y=[0.6], color='blue')\n",
    "\n",
    "# Classifier C and C'\n",
    "plt.scatter(x=[0.5], y=[0.45], color='orange')\n",
    "plt.scatter(x=[0.5], y=[0.533], color='black')\n",
    "\n",
    "\n",
    "# All classifiers in-between\n",
    "xx = np.linspace(0.3, 0.6)\n",
    "yy = 2*xx/3 + 0.2\n",
    "plt.plot(xx,yy, linestyle='--', color='gray')\n",
    "plt.axvline(0.5, ymin=0.40, ymax=0.55, linestyle=':', color='gray')\n",
    "\n",
    "# plot settings\n",
    "plt.xlim(0.2, 0.7)\n",
    "plt.ylim(0.3, 0.7)\n",
    "plt.xlabel('FPR')\n",
    "plt.ylabel('TPR')\n",
    "plt.show()"
   ]
  },
  {
   "cell_type": "markdown",
   "id": "5654fad6",
   "metadata": {},
   "source": [
    "Because of this, when given a classifier $f(x)$, one is allowed to take the **convex hull** of the ROC curve (think of it as \"laying a rubber band\" on top of the your points:"
   ]
  },
  {
   "cell_type": "code",
   "execution_count": 21,
   "id": "ef5784e9",
   "metadata": {},
   "outputs": [
    {
     "data": {
      "text/html": [
       "<img src=\"https://i.stack.imgur.com/QWkFh.png\"/>"
      ],
      "text/plain": [
       "<IPython.core.display.Image object>"
      ]
     },
     "execution_count": 21,
     "metadata": {},
     "output_type": "execute_result"
    }
   ],
   "source": [
    "from IPython.display import Image\n",
    "from IPython.core.display import HTML \n",
    "Image(url=\"https://i.stack.imgur.com/QWkFh.png\")"
   ]
  },
  {
   "cell_type": "markdown",
   "id": "7aa9f48b",
   "metadata": {},
   "source": [
    "We can build a function which creates the convex hull and also computs its AUC as below:"
   ]
  },
  {
   "cell_type": "code",
   "execution_count": 22,
   "id": "49af32bd",
   "metadata": {},
   "outputs": [],
   "source": [
    "def hull_roc_auc(y_true, y_score):\n",
    "    \"\"\"\n",
    "    Computes coordinates (TPR, FPR) and ROC AUC for the convex hull \n",
    "    of a ROC curve built from a ground truth y_true (0s and 1s) and \n",
    "    a vector of scores y_score\n",
    "    \"\"\"\n",
    "\n",
    "    from sklearn.metrics import roc_curve, auc\n",
    "    from scipy.spatial import ConvexHull\n",
    "\n",
    "    fpr, tpr, thresholds = roc_curve(y_true, y_score)\n",
    "\n",
    "    # add artificial vertex at (1,0)\n",
    "    fpr, tpr = np.append(fpr, [1]), np.append(tpr, [0])\n",
    "\n",
    "    points = np.array([fpr, tpr]).T\n",
    "    hull = ConvexHull(points)\n",
    "\n",
    "    # get vertices and remove artificial vertex\n",
    "    vertices = np.array([points[v] for v in hull.vertices if not np.array_equal(points[v],np.array([1., 0.]))])\n",
    "    fpr_hull, tpr_hull = vertices[:,0], vertices[:,1]\n",
    "\n",
    "    # hull AUC\n",
    "    hull_auc = auc(fpr_hull, tpr_hull)\n",
    "    \n",
    "    return hull_auc, fpr_hull, tpr_hull"
   ]
  },
  {
   "cell_type": "code",
   "execution_count": 23,
   "id": "8641cf67",
   "metadata": {},
   "outputs": [
    {
     "data": {
      "image/png": "[encoded data removed]",
      "text/plain": [
       "<Figure size 720x360 with 2 Axes>"
      ]
     },
     "metadata": {
      "needs_background": "light"
     },
     "output_type": "display_data"
    }
   ],
   "source": [
    "# Calculate variables for hull - train/test\n",
    "hull_auc_train, fpr_hull_train, tpr_hull_train = hull_roc_auc(y_train, y_train_pred)\n",
    "hull_auc_test, fpr_hull_test, tpr_hull_test = hull_roc_auc(y_test, y_test_pred)\n",
    "\n",
    "## Plot\n",
    "fig, ax = plt.subplots(figsize=(10,5), ncols=2)\n",
    "\n",
    "# original ROC\n",
    "original_auc_train = roc_auc_score(y_train, y_train_pred)\n",
    "RocCurveDisplay.from_predictions(y_train, y_train_pred, ax=ax[0], \n",
    "                                 label=f'Log. Reg (AUC = {round(original_auc_train, 3)})')\n",
    "\n",
    "original_auc_test = roc_auc_score(y_test, y_test_pred)\n",
    "RocCurveDisplay.from_predictions(y_test, y_test_pred, ax=ax[1], \n",
    "                                 label=f'Log. Reg (AUC = {round(original_auc_test, 3)})')\n",
    "\n",
    "# convex hull\n",
    "ax[0].plot(fpr_hull_train, tpr_hull_train, label=f\"Hull ROC (AUC = {round(hull_auc_train,3)})\", marker='.', color='black')\n",
    "ax[1].plot(fpr_hull_test, tpr_hull_test, label=f\"Hull ROC (AUC = {round(hull_auc_test,3)})\", marker='.', color='black')\n",
    "\n",
    "# legends/labels\n",
    "ax[0].legend(); ax[1].legend()\n",
    "ax[0].set_title(\"Train\"); ax[1].set_title(\"Test\")\n",
    "plt.show()"
   ]
  },
  {
   "cell_type": "markdown",
   "id": "239c5889",
   "metadata": {},
   "source": [
    "### Is this cheating?"
   ]
  },
  {
   "cell_type": "markdown",
   "id": "9bde0437",
   "metadata": {},
   "source": [
    "No. It is a remarkable property of the \"ROC space\" (FPR vs TPR) that linear interpolation between classifiers yields a new classifier. Since we do not have access to the \"true\" distribution of $f(X)|Y$, the best we can do is use its empirical distribution and build the best possible ROC curve out of it."
   ]
  },
  {
   "cell_type": "markdown",
   "id": "d206a5e1",
   "metadata": {},
   "source": [
    "### Takeaways"
   ]
  },
  {
   "cell_type": "markdown",
   "id": "a329079c",
   "metadata": {},
   "source": [
    "* The ROC curve represents a machine learning classifier in the TPR / FPR plane\n",
    "* If it is not convex, it can be made convex by connecting points via line segments. This is equivalent to building new classifiers as probabilistic samplings of the endpoint classifiers\n",
    "* The area under the ROC curve (ROC AUC) represents the likelihood that a point of the positive class scores higher than one in the negative class. It is bound between 0.5 and 1.0\n",
    "* The ROC curve (and thus the ROC AUC) are invariant under rebalancing of the positive / negative classes. This is both good and bad"
   ]
  },
  {
   "cell_type": "markdown",
   "id": "40ff1f56",
   "metadata": {},
   "source": [
    "---"
   ]
  },
  {
   "cell_type": "markdown",
   "id": "5c871c96",
   "metadata": {},
   "source": [
    "#### Appendix: properties of the ROC curve"
   ]
  },
  {
   "cell_type": "markdown",
   "id": "a5c58a8f",
   "metadata": {},
   "source": [
    "There is an interesting characterization of the ROC curve based on the cumulative distribution functions (CDFs) of the variables\n",
    "\n",
    "$$Z_0 = (f(X)|Y=0),\\qquad Z_1 = (f(X)|Y=1)$$"
   ]
  },
  {
   "cell_type": "markdown",
   "id": "f3a643ae",
   "metadata": {},
   "source": [
    "Let $F_i(t) := \\mathbb{P}(Z_i < t)$, for $i \\in \\{1,2\\}$, denote the CDFs. We want to write the false & true positive rates with respect to these CDFs. Notice that, as functions of the threshold $\\lambda$,\n",
    "\n",
    "$$\\begin{align}\n",
    "\\mathrm{TPR}(\\lambda) &= \\mathbb P(\\hat y_\\lambda(X) = 1 | Y = 1)\\\\\n",
    "&= \\mathbb P (f(X) \\geq \\lambda | Y = 1)\\\\\n",
    "&= 1- \\mathbb P (f(X) < \\lambda | Y=1) = 1 - \\mathbb P (Z_1 < \\lambda)\\\\\n",
    "&= 1 - F_1(\\lambda)\n",
    "\\end{align}$$"
   ]
  },
  {
   "cell_type": "markdown",
   "id": "a865e53b",
   "metadata": {},
   "source": [
    "Similarly,\n",
    "$$\\mathrm{FPR}(\\lambda) = 1 - F_0(\\lambda)$$"
   ]
  },
  {
   "cell_type": "markdown",
   "id": "e61fcb65",
   "metadata": {},
   "source": [
    "We can explicitly write $\\mathrm{TPR}$ as a function of $\\mathrm{FPR}$ if we invert the last expression for $\\lambda$, obtaining $\\lambda = F_0^{-1}(1-\\mathrm{FPR})$; then\n",
    "$$\\boxed{\\mathrm{TPR} = 1 - F_1(F_0^{-1}(1-\\mathrm{FPR}))}$$"
   ]
  },
  {
   "cell_type": "markdown",
   "id": "3e9243bb",
   "metadata": {},
   "source": [
    "To simplify notation, call $x \\equiv \\mathrm{FPR}$ and $y \\equiv \\mathrm{TPR}$ (don't confuse with variables $X$ and $Y$; this is just a notation which reminds who goes in the vertical and horizontal axes). We can equivalently write\n",
    "\n",
    "$$\\begin{cases}\n",
    "x &= 1 - F_0(\\lambda)\\\\\n",
    "y &= 1 - F_1(\\lambda)\n",
    "\\end{cases} \\qquad \\mbox{or}\\qquad y = 1 - F_1(F_0^{-1}(1-x))$$"
   ]
  },
  {
   "cell_type": "markdown",
   "id": "11c0c134",
   "metadata": {},
   "source": [
    "From either expression, one can take the derivative and see that (calling $f_i(t) \\equiv F_i'(t)$ the PDFs)\n",
    "\n",
    "$$\\frac{dy}{dx} = \\frac{f_1(F_0^{-1}(1-x))}{f_0(F_0^{-1}(1-x))} \\geq 0$$"
   ]
  },
  {
   "cell_type": "markdown",
   "id": "d4fc7cb4",
   "metadata": {},
   "source": [
    "since the PDFs are always non-negative, and so is their ratio. So we see that the ROC curve is necessarily non-decreasing.\n",
    "\n",
    "It has, however, no obligation of being **concave** (= curved face-down), even if that is how we usually draw it. Taking a second derivative of the expression above yields\n",
    "\n",
    "$$\\frac{d^2y}{dx^2} = - \\frac{f_1'}{f_0^2} + \\frac{f_1 f_0'}{f_0^3}$$\n",
    "\n",
    "where all quantities are calculated at $F_0^{-1}(1-x)$. Since derivatives of both $f_1$ and $f_0$ appear, and they can take any sign, there is no obvious sign for the expression above."
   ]
  },
  {
   "cell_type": "markdown",
   "id": "cdd5f14a",
   "metadata": {},
   "source": [
    "##### References:\n",
    "Peter Flach, Meelis Kull, *Precision-Recall-Gain Curves: PR Analysis Done Right*, NIPS 2015\n",
    "\n",
    "##### Further reading:\n",
    "https://arxiv.org/pdf/1809.04808.pdf on the concavity of ROC curves "
   ]
  },
  {
   "cell_type": "markdown",
   "id": "cadab0ed",
   "metadata": {},
   "source": [
    "---"
   ]
  },
  {
   "cell_type": "markdown",
   "id": "8d4c6166",
   "metadata": {},
   "source": [
    "# A necessary interlude: cross-validation for performance assessment"
   ]
  },
  {
   "cell_type": "markdown",
   "id": "f1a48594",
   "metadata": {},
   "source": [
    "Suppose we have a training set and a test set. We train a model $f$ on the training set and want to evaluate the performance on the test set.\n",
    "\n",
    "Any metric we create will be based on one (or more) confusion matrices - let's go with just one, to simplify, relative to a threshold $\\lambda$. \n",
    "\n",
    "There is an error associated with our random split between train and test here. Had we chosen a different training/test set, we would most likely have obtained a slightly different confusion matrix, so our metrics would be different. \n",
    "\n",
    "The best way to deal with this variability is to use resampling methods: basically, sample different training/test sets, calculate metrics, and average them out as to (hopefully) get a metric closer to the real one.\n",
    "\n",
    "In this section we discuss cross-validation and its variations as methods for estimating model performance. Over the next sections, we apply them to the calculation of different metrics.\n",
    "\n",
    "> Some readers will realize that we chose to not include the bootstrap in our discussion here. It is simpler and more practical to implement (repeated) cross-validation, and both methods tend to converge to similar results. We leave the boostrap for the Appendix in the end of the book."
   ]
  },
  {
   "cell_type": "markdown",
   "id": "7c352127",
   "metadata": {},
   "source": [
    "**Our recommendation** (before we get started in the zoo of different types of cross-validation): use `RepeatedStratifiedKFold`"
   ]
  },
  {
   "cell_type": "markdown",
   "id": "02fa194d",
   "metadata": {},
   "source": [
    "We will use a custom dataset here, which has class imbalance. it is the credit card fraud dataset (https://www.kaggle.com/mlg-ulb/creditcardfraud), which we slightly process to make more amenable to training quickly.\n",
    "\n",
    "```{python}\n",
    "df = pd.read_csv('creditcard.csv')\n",
    "df = df.drop(['Time', 'Amount'], axis=1)\n",
    "\n",
    "# choose how imbalanced we want this to be\n",
    "aux1 = df[df['Class']==1].sample(n=200, random_state=2)\n",
    "aux0 = df[df['Class']==0].sample(n=40000, random_state=1)\n",
    "df_reduce = pd.concat([aux1, aux0]).sample(frac=1.0, random_state=1)\n",
    "\n",
    "# join them together and shuffle\n",
    "df_reduce = pd.concat([aux1, aux0]).sample(frac=1, random_state=1)\n",
    "```"
   ]
  },
  {
   "cell_type": "markdown",
   "id": "6f2d92a6",
   "metadata": {},
   "source": [
    "This dataset has an imbalance rate of 0.49% of $y=1$ against 99.51% of $y=0$."
   ]
  },
  {
   "cell_type": "code",
   "execution_count": 24,
   "id": "8a218834",
   "metadata": {},
   "outputs": [],
   "source": [
    "df = pd.read_parquet('Data/reduced_fraud_dataset.pqt')\n",
    "\n",
    "# split into features and target\n",
    "X_ = df.drop(['Class'], axis=1).values\n",
    "y_ = df['Class'].values"
   ]
  },
  {
   "cell_type": "markdown",
   "id": "e75fa924",
   "metadata": {},
   "source": [
    "### Simple cross-validation (K-fold CV)"
   ]
  },
  {
   "cell_type": "markdown",
   "id": "6a1d920e",
   "metadata": {},
   "source": [
    "In simple cross-validation, we fix a parameter $K$ (called the *number of folds*) which is usually chosen between 5-10. We then split our data into $K$ same-sized \"chunks\". The basic idea behind **K-fold cross-validation (CV)** is:\n",
    "\n",
    "* For $k$ between 1 and $K$:\n",
    "  * Train your data using all but the $k$-th chunk (called a *fold*), ie. using $K-1$ folds \n",
    "  * Test the data on the $k$-th fold alone\n",
    "  * Calculate and store the performance on the $k$-th fold\n",
    "* Read out the mean/error from the list of $K$ metrics you calculated\n"
   ]
  },
  {
   "cell_type": "markdown",
   "id": "69314922",
   "metadata": {},
   "source": [
    "The `scikit-learn` implementation is particularly useful. What it does is that it gives the indices of the Numpy array / Pandas DataFrame which belong to the (test) single fold and the (train) $K-1$ folds:"
   ]
  },
  {
   "cell_type": "code",
   "execution_count": 25,
   "id": "748403ec",
   "metadata": {},
   "outputs": [],
   "source": [
    "from sklearn.model_selection import KFold\n",
    "from sklearn.ensemble import HistGradientBoostingClassifier\n",
    "\n",
    "metrics_list = []  # empty list, will store computed metrics\n",
    "\n",
    "cv = KFold(n_splits=10, shuffle=True, random_state=2)\n",
    "for train_index, test_index in cv.split(X_):\n",
    "    \n",
    "    # split data into train and test\n",
    "    X_train_cv, y_train_cv = X_[train_index], y_[train_index] # use X.iloc[train_index] if X is a DataFrame\n",
    "    X_test_cv, y_test_cv = X_[test_index], y_[test_index]\n",
    "    \n",
    "    # train model\n",
    "    cv_model = HistGradientBoostingClassifier(random_state=1)\n",
    "    cv_model.fit(X_train_cv, y_train_cv)\n",
    "    \n",
    "    # create predictions (with predict_proba)\n",
    "    y_test_pred_cv = cv_model.predict_proba(X_test_cv)[:,1]\n",
    "    \n",
    "    # compute any metric you'd like (we use AUC here for simplicity)\n",
    "    metric = roc_auc_score(y_test_cv, y_test_pred_cv)\n",
    "    metrics_list.append(metric)"
   ]
  },
  {
   "cell_type": "code",
   "execution_count": 26,
   "id": "4863c611",
   "metadata": {},
   "outputs": [
    {
     "name": "stdout",
     "output_type": "stream",
     "text": [
      "Mean test AUC: 0.852, error: 0.090\n"
     ]
    }
   ],
   "source": [
    "print(\"Mean test AUC: {0:.3f}, error: {1:.3f}\".format(np.mean(metrics_list), np.std(metrics_list)))"
   ]
  },
  {
   "cell_type": "markdown",
   "id": "727f7686",
   "metadata": {},
   "source": [
    "### Stratified CV"
   ]
  },
  {
   "cell_type": "markdown",
   "id": "190c1027",
   "metadata": {},
   "source": [
    "It is more common than not to have one (or more) variables which risk being left out during regular CV. A normal case is that of class imbalance, where your target $y$ may be 99% made of 0's and 1% made of 1's. In usual CV, there is a high chance that there will be one or more folds with no 1's appearing whatsoever. In these situations, estimation of AUC, for instance, will throw an error.\n",
    "\n",
    "Stratification is the process by which we force our stratified class ($y$ here) to be evenly split among the folds.\n",
    "\n",
    "> Notice that, despite one usually using the target for stratification, any feature(s) are also possible. This might be useful in cases where one customer segment, for example, is less represented than the others, and we want to ensure all folds have a similar distribution of customer segments."
   ]
  },
  {
   "cell_type": "markdown",
   "id": "ffed8454",
   "metadata": {},
   "source": [
    "The ONLY change to the code above is the parameter $y$ appearing inside the CV split:\n",
    "\n",
    "```{python}\n",
    "for train_index, test_index in cv.split(X, y):\n",
    "```\n",
    "\n",
    "We run a minimal example below:"
   ]
  },
  {
   "cell_type": "code",
   "execution_count": 27,
   "id": "46dab6eb",
   "metadata": {},
   "outputs": [],
   "source": [
    "from sklearn.model_selection import StratifiedKFold\n",
    "\n",
    "metrics_list = []  # empty list, will store computed metrics\n",
    "\n",
    "cv = StratifiedKFold(n_splits=10, shuffle=True, random_state=2)\n",
    "for train_index, test_index in cv.split(X_, y=y_):\n",
    "    \n",
    "    # split data into train and test\n",
    "    X_train_cv, y_train_cv = X_[train_index], y_[train_index] # use X.iloc[train_index] if X is a DataFrame\n",
    "    X_test_cv, y_test_cv = X_[test_index], y_[test_index]\n",
    "    \n",
    "    # train model\n",
    "    cv_model = HistGradientBoostingClassifier(random_state=1)\n",
    "    cv_model.fit(X_train_cv, y_train_cv)\n",
    "    \n",
    "    # create predictions (with predict_proba)\n",
    "    y_test_pred_cv = cv_model.predict_proba(X_test_cv)[:,1]\n",
    "    \n",
    "    # compute any metric you'd like (we use AUC here for simplicity)\n",
    "    metric = roc_auc_score(y_test_cv, y_test_pred_cv)\n",
    "    metrics_list.append(metric)"
   ]
  },
  {
   "cell_type": "code",
   "execution_count": 28,
   "id": "162661b5",
   "metadata": {},
   "outputs": [
    {
     "name": "stdout",
     "output_type": "stream",
     "text": [
      "Mean test AUC: 0.838, error: 0.056\n"
     ]
    }
   ],
   "source": [
    "print(\"Mean test AUC: {0:.3f}, error: {1:.3f}\".format(np.mean(metrics_list), np.std(metrics_list)))"
   ]
  },
  {
   "cell_type": "markdown",
   "id": "d8685dff",
   "metadata": {},
   "source": [
    "### Repeated CV (+ stratified)"
   ]
  },
  {
   "cell_type": "markdown",
   "id": "94dd458b",
   "metadata": {},
   "source": [
    "Instead of splitting the data into $K$ folds and running CV once, one could instead repeat this process $N$ times (each time splitting the data into different folds randomly) in order to sample not from $K$, but $N\\times K$ different folds. This will allow us to hopefully reduce the estimate of error."
   ]
  },
  {
   "cell_type": "markdown",
   "id": "3e00d2da",
   "metadata": {},
   "source": [
    "> Note: this repetition makes this method slower by a factor of $N$ compared to regular K-fold CV. Be careful."
   ]
  },
  {
   "cell_type": "markdown",
   "id": "b3f91967",
   "metadata": {},
   "source": [
    "If we use simple repeated CV, the ONLY change to the code above is the attributes `n_repeats` and `random_state` appearing inside the CV iterator definition:\n",
    "\n",
    "```{python}\n",
    "cv = RepeatedKFold(n_splits=5, n_repeats=10, random_state=123)\n",
    "```\n",
    "\n",
    "We however choose to use the `RepeatedStratifiedKFold` version, which also adds a stratification. Then, we have to add `y` to the `cv.split` method:"
   ]
  },
  {
   "cell_type": "code",
   "execution_count": 29,
   "id": "350a0411",
   "metadata": {},
   "outputs": [],
   "source": [
    "from sklearn.model_selection import RepeatedStratifiedKFold\n",
    "\n",
    "metrics_list = []  # empty list, will store computed metrics\n",
    "\n",
    "cv = RepeatedStratifiedKFold(n_splits=10, n_repeats=10, random_state=123)\n",
    "for train_index, test_index in cv.split(X_, y=y_):\n",
    "    \n",
    "    # split data into train and test\n",
    "    X_train_cv, y_train_cv = X_[train_index], y_[train_index] # use X.iloc[train_index] if X is a DataFrame\n",
    "    X_test_cv, y_test_cv = X_[test_index], y_[test_index]\n",
    "    \n",
    "    # train model\n",
    "    cv_model = HistGradientBoostingClassifier(random_state=1)\n",
    "    cv_model.fit(X_train_cv, y_train_cv)\n",
    "    \n",
    "    # create predictions (with predict_proba)\n",
    "    y_test_pred_cv = cv_model.predict_proba(X_test_cv)[:,1]\n",
    "    \n",
    "    # compute any metric you'd like (we use AUC here for simplicity)\n",
    "    metric = roc_auc_score(y_test_cv, y_test_pred_cv)\n",
    "    metrics_list.append(metric)"
   ]
  },
  {
   "cell_type": "code",
   "execution_count": 30,
   "id": "f914317c",
   "metadata": {},
   "outputs": [
    {
     "name": "stdout",
     "output_type": "stream",
     "text": [
      "Mean test AUC: 0.875, error: 0.080\n"
     ]
    }
   ],
   "source": [
    "print(\"Mean test AUC: {0:.3f}, error: {1:.3f}\".format(np.mean(metrics_list), np.std(metrics_list)))"
   ]
  },
  {
   "cell_type": "markdown",
   "id": "b1bc3443",
   "metadata": {},
   "source": [
    "TODO: add using boostrap here! Also, add a boxplot to compare methods and errors"
   ]
  },
  {
   "cell_type": "code",
   "execution_count": null,
   "id": "7039c1ac",
   "metadata": {},
   "outputs": [],
   "source": []
  },
  {
   "cell_type": "markdown",
   "id": "b6de3bdb",
   "metadata": {},
   "source": [
    "---"
   ]
  },
  {
   "cell_type": "markdown",
   "id": "01c49a95",
   "metadata": {},
   "source": [
    "# A complement to the ROC: the gain curve"
   ]
  },
  {
   "cell_type": "markdown",
   "id": "a6ce0de6",
   "metadata": {},
   "source": [
    "(also called the lift chart; different sources even mix up the names)"
   ]
  },
  {
   "cell_type": "markdown",
   "id": "d83077cf",
   "metadata": {},
   "source": [
    "Despite the ROC AUC having a clear interpretation, it is often hard to interpret the ROC curve itself.\n",
    "In this section we introduce the **gain curve**, which is much easier to interpret and has a clear deterministic relation to the ROC."
   ]
  },
  {
   "cell_type": "markdown",
   "id": "7683be1d",
   "metadata": {},
   "source": [
    "### Problem setup: credit scoring"
   ]
  },
  {
   "cell_type": "markdown",
   "id": "dc1e419c",
   "metadata": {},
   "source": [
    "Suppose you are a bank which has 1 million dollars to lend, in batches of $1000, to 1000 borrowers. These people must pay you that money back after one year. \n",
    "\n",
    "You have, however, 5000 people asking you for money, and you must decide which 1000 to give the money to.\n",
    "\n",
    "The main risk here is that you lend money to someone who, for any reasons, does not pay it back (that is, *defaults on the payment*) after one year. There can be several reasons for a person to default: during that year, they lost their job and could not get the necessary money to pay you back; they work with agriculture, and their crops this year were lower than average due to bad weather, so they could not raise the capital to pay you back; they fled the country; etc. \n",
    "\n",
    "Your job as a bank is to somehow **score the possible borrowers** and only lend money to those individuals who are less likely to default. This is the standard problem in **credit scoring**. You ask the data scientists in your Credit team to build a classification model to help you make the best decision."
   ]
  },
  {
   "cell_type": "markdown",
   "id": "14f28da5",
   "metadata": {},
   "source": [
    "Your data scientists get back to you with a model after one month. Their report says:\n",
    "> \"We have developed a LightGBM model for binary classification. To train this model, we have used our internal database of past loans, over the past 5 years. The target of the model is whether a person has defaulted ($y=1$) on a payment to us during that period or not ($y=0$). There were 38 features employed, which can be split into 3 groups: (1) income & job related (2) previous year financial behavior (on-time payment of credit card bills and other loans) and (3) general personal information. The AUC of the model is 0.77 on the train test and 0.76 on the test set. Our recommendation is to **use the model's output score, sort it from lowest to highest (ie. lowest probability of default to highest probability) and give credit to the 1000 people with lowest score**.\""
   ]
  },
  {
   "cell_type": "markdown",
   "id": "e85480ec",
   "metadata": {},
   "source": [
    "What they recommend is for you to build the following ordered table, and give credit to the top 1000 entries. Call it `df`, a Pandas DataFrame:\n",
    "\n",
    "|index|person_id | name | prob_default | \n",
    "|---|---|---|---|\n",
    "|0|0123|brad pitt|0.010|\n",
    "|1|2056|john williams| 0.020|\n",
    "|2|0091|jackie chan|0.025|\n",
    "|...|...|...|...|\n",
    "|4998|9001|bob junior|0.975|\n",
    "|4999|0918|alice mann|0.982|"
   ]
  },
  {
   "cell_type": "markdown",
   "id": "52b5a274",
   "metadata": {},
   "source": [
    "The model looks promising. However, it does not answer all your questions. You write an email back to the Credit team with one question:"
   ]
  },
  {
   "cell_type": "markdown",
   "id": "759c854b",
   "metadata": {},
   "source": [
    "> Thanks for the good work. If I sort the way you said and only give credit to the first 100 people, how many will I get wrong (defaulted on)? What about the first 500? 1000? Tks"
   ]
  },
  {
   "cell_type": "markdown",
   "id": "7a904c20",
   "metadata": {},
   "source": [
    "In other words: we want to know how many false negatives (people who will default [$y=1$] which we are wrongly saying are likely to not default [$\\hat y =0$]) on the first $n$ people, or equivalently, the percentage of mistakes we will make. \n",
    "\n",
    "The simplest way to answer this is with a curve."
   ]
  },
  {
   "cell_type": "markdown",
   "id": "ee12dced",
   "metadata": {},
   "source": [
    "### The key question to answer before proceeding"
   ]
  },
  {
   "cell_type": "markdown",
   "id": "3921d2c6",
   "metadata": {},
   "source": [
    "In any problem you work on, you must answer the following question to yourself:\n",
    "> Which of my entries [people, clients, products...] are \"good\", and which are \"bad\"?"
   ]
  },
  {
   "cell_type": "markdown",
   "id": "61d46002",
   "metadata": {},
   "source": [
    "In our case, $y=0$ is *good*: no defaults is better than having a default. **This is why we are sorting from low scores (=higher probability of being a 0) to high scores (=higher probability of being a 1)**."
   ]
  },
  {
   "cell_type": "markdown",
   "id": "e2e3481e",
   "metadata": {},
   "source": [
    "In your use case, it could be the opposite:\n",
    "> You might try to be solve the problem of identifying which of your employees is likely to leave the company over the next 3 months, in order to talk to them and provide an alternative (this is called an attrition problem). If $y=1$ represents an employee that is likely to leave, then you want to score from high scores to low scores."
   ]
  },
  {
   "cell_type": "markdown",
   "id": "280af8fe",
   "metadata": {},
   "source": [
    "### Gain curve I: when low scores are better (sorting from low to high scores)"
   ]
  },
  {
   "cell_type": "markdown",
   "id": "48b6317d",
   "metadata": {},
   "source": [
    "Use a slight variation of the table above (we will also add more rows to make the example clearer):\n",
    "\n",
    "|index|person_id | name | prob_default | y_actual|\n",
    "|---|---|---|---|---|\n",
    "|0|0123|brad pitt|0.010|0|\n",
    "|1|2056|john williams| 0.020|0|\n",
    "|2|0091|jackie chan|0.025|1|\n",
    "|3|2221|eddie fung|0.029|0|\n",
    "|4|9301|mark hamill|0.050|1|\n",
    "|5|8913|lucy liu|0.060|0|\n",
    "|...|...|...|...|...|\n",
    "|4998|9001|bob junior|0.975|1|\n",
    "|4999|0918|alice mann|0.982|1|"
   ]
  },
  {
   "cell_type": "markdown",
   "id": "31356efa",
   "metadata": {},
   "source": [
    "Again, recall that this table is ordered by `prob_default` (in ascending order). Notice that we've made two mistakes: for `jackie chan` and `mark hamill`, we are classifying them as \"good payers\" (=low probability of default), but their actual target was a 1, ie. a default. They are false negatives, which is exactly what we wanted to avoid.\n",
    "\n",
    "To account for that mistake, we can build a new columns, called `cumulative_default`, which will simply count the number of defaults acumulated until that row:\n",
    "\n",
    "`df['cumulative_default'] = df['y_actual'].cumsum()`\n",
    "\n",
    "|index|person_id | name | prob_default | y_actual|cumulative_default|\n",
    "|---|---|---|---|---|---|\n",
    "|0|0123|brad pitt|0.010|0|0|\n",
    "|1|2056|john williams| 0.020|0|0|\n",
    "|2|0091|jackie chan|0.025|1|1|\n",
    "|3|2221|eddie fung|0.029|0|1|\n",
    "|4|9301|mark hamill|0.050|1|2|\n",
    "|5|8913|lucy liu|0.060|0|2|\n",
    "|...|...|...|...|...|...|\n",
    "|4998|9001|bob junior|0.975|1|150|\n",
    "|4999|0918|alice mann|0.982|1|151|"
   ]
  },
  {
   "cell_type": "markdown",
   "id": "f08b6351",
   "metadata": {},
   "source": [
    "Notice that the `cumulative_default` column is non-decreasing. "
   ]
  },
  {
   "cell_type": "markdown",
   "id": "101086e0",
   "metadata": {},
   "source": [
    "Notice that there are 151 defaults. We can obtain this number from `df['cumulative_default'].iloc[-1]` directly, or (in a more inefficient, but more robust way) from `df['y_actual'].sum()`. In either case, we can divide the `cumulative_default` by this number to obtain a `gain` column:\n",
    "`df['gain'] = df['cumulative_default']/df['y_actual'].sum()`\n",
    "\n",
    "|index|person_id | name | prob_default | y_actual|cumulative_default|gain|\n",
    "|---|---|---|---|---|---|---|\n",
    "|0|0123|brad pitt|0.010|0|0|0|\n",
    "|1|2056|john williams| 0.020|0|0|0|\n",
    "|2|0091|jackie chan|0.025|1|1|0.0066|\n",
    "|3|2221|eddie fung|0.029|0|1|0.0066|\n",
    "|4|9301|mark hamill|0.050|1|2|0.0132|\n",
    "|5|8913|lucy liu|0.060|0|2|0.0132|\n",
    "|...|...|...|...|...|...|...|\n",
    "|4998|9001|bob junior|0.975|1|150|0.9934|\n",
    "|4999|0918|alice mann|0.982|1|151|1.0000|"
   ]
  },
  {
   "cell_type": "markdown",
   "id": "b798495a",
   "metadata": {},
   "source": [
    "We can also normalize the `index` column (simply dividing each index by the total, 5000) and plot the normalized index vs. the `gain` column on the unit square."
   ]
  },
  {
   "cell_type": "markdown",
   "id": "9767ca95",
   "metadata": {},
   "source": [
    "**Visualizing**: we can use `y_test` and `y_test_pred` from before in order to visualize this curve. Let's pretend this is a credit scoring problem."
   ]
  },
  {
   "cell_type": "code",
   "execution_count": 31,
   "id": "23810cab",
   "metadata": {},
   "outputs": [],
   "source": [
    "def build_gain_curve(y_actual, y_pred, \n",
    "                     ascending=True,\n",
    "                     return_ideal_curve=False):\n",
    "    \n",
    "    \"\"\"\n",
    "    Returns the gain curve from actual (0 or 1) data and\n",
    "    predicted scores.\n",
    "    \n",
    "    Also returns what the ideal gain curve for this problem \n",
    "    would be, if return_ideal_curve = True\n",
    "    \"\"\"\n",
    "    \n",
    "    df = pd.DataFrame({'y_actual': y_actual,\n",
    "                   'prob_default': y_pred})\n",
    "\n",
    "    # sort from low to high scores\n",
    "    df = df.sort_values('prob_default', ascending=ascending)\n",
    "    \n",
    "    # build cumulative_default\n",
    "    df['cumulative_default'] = df['y_actual'].cumsum()\n",
    "    df['gain'] = df['cumulative_default']/df['y_actual'].sum()\n",
    "\n",
    "    # create index starting from 0 and normalize\n",
    "    df = df.reset_index(drop=True).reset_index()\n",
    "    df['index'] = df['index']/(df['index'].iloc[-1])\n",
    "    df = df.set_index('index')\n",
    "    \n",
    "    if return_ideal_curve:\n",
    "        df_perfect = df.sort_values('y_actual', ascending=ascending)\n",
    "        df_perfect['cumulative_default'] = df_perfect['y_actual'].cumsum()\n",
    "        df_perfect['gain'] = df_perfect['cumulative_default']/df_perfect['cumulative_default'].iloc[-1]\n",
    "        df_perfect = df_perfect.reset_index(drop=True).reset_index()\n",
    "        df_perfect['index'] = df_perfect['index']/(df_perfect['index'].iloc[-1])\n",
    "        df_perfect = df_perfect.set_index('index')\n",
    "        \n",
    "        return df['gain'], df_perfect['gain']\n",
    "    \n",
    "    return df['gain']"
   ]
  },
  {
   "cell_type": "code",
   "execution_count": 32,
   "id": "aa67df7a",
   "metadata": {},
   "outputs": [],
   "source": [
    "gain, ideal_gain = build_gain_curve(y_test, y_test_pred, ascending=True, return_ideal_curve=True)"
   ]
  },
  {
   "cell_type": "markdown",
   "id": "c2bf4a19",
   "metadata": {},
   "source": [
    "This is the final table:"
   ]
  },
  {
   "cell_type": "code",
   "execution_count": 33,
   "id": "5f82a3f2",
   "metadata": {},
   "outputs": [
    {
     "data": {
      "text/html": [
       "<div>\n",
       "<style scoped>\n",
       "    .dataframe tbody tr th:only-of-type {\n",
       "        vertical-align: middle;\n",
       "    }\n",
       "\n",
       "    .dataframe tbody tr th {\n",
       "        vertical-align: top;\n",
       "    }\n",
       "\n",
       "    .dataframe thead th {\n",
       "        text-align: right;\n",
       "    }\n",
       "</style>\n",
       "<table border=\"1\" class=\"dataframe\">\n",
       "  <thead>\n",
       "    <tr style=\"text-align: right;\">\n",
       "      <th></th>\n",
       "      <th>gain</th>\n",
       "    </tr>\n",
       "    <tr>\n",
       "      <th>index</th>\n",
       "      <th></th>\n",
       "    </tr>\n",
       "  </thead>\n",
       "  <tbody>\n",
       "    <tr>\n",
       "      <th>0.000000</th>\n",
       "      <td>0.000000</td>\n",
       "    </tr>\n",
       "    <tr>\n",
       "      <th>0.000667</th>\n",
       "      <td>0.000000</td>\n",
       "    </tr>\n",
       "    <tr>\n",
       "      <th>0.001334</th>\n",
       "      <td>0.000000</td>\n",
       "    </tr>\n",
       "    <tr>\n",
       "      <th>0.002001</th>\n",
       "      <td>0.000000</td>\n",
       "    </tr>\n",
       "    <tr>\n",
       "      <th>0.002668</th>\n",
       "      <td>0.000000</td>\n",
       "    </tr>\n",
       "    <tr>\n",
       "      <th>...</th>\n",
       "      <td>...</td>\n",
       "    </tr>\n",
       "    <tr>\n",
       "      <th>0.997332</th>\n",
       "      <td>0.994616</td>\n",
       "    </tr>\n",
       "    <tr>\n",
       "      <th>0.997999</th>\n",
       "      <td>0.995962</td>\n",
       "    </tr>\n",
       "    <tr>\n",
       "      <th>0.998666</th>\n",
       "      <td>0.997308</td>\n",
       "    </tr>\n",
       "    <tr>\n",
       "      <th>0.999333</th>\n",
       "      <td>0.998654</td>\n",
       "    </tr>\n",
       "    <tr>\n",
       "      <th>1.000000</th>\n",
       "      <td>1.000000</td>\n",
       "    </tr>\n",
       "  </tbody>\n",
       "</table>\n",
       "<p>1500 rows × 1 columns</p>\n",
       "</div>"
      ],
      "text/plain": [
       "              gain\n",
       "index             \n",
       "0.000000  0.000000\n",
       "0.000667  0.000000\n",
       "0.001334  0.000000\n",
       "0.002001  0.000000\n",
       "0.002668  0.000000\n",
       "...            ...\n",
       "0.997332  0.994616\n",
       "0.997999  0.995962\n",
       "0.998666  0.997308\n",
       "0.999333  0.998654\n",
       "1.000000  1.000000\n",
       "\n",
       "[1500 rows x 1 columns]"
      ]
     },
     "execution_count": 33,
     "metadata": {},
     "output_type": "execute_result"
    }
   ],
   "source": [
    "pd.DataFrame(gain)"
   ]
  },
  {
   "cell_type": "markdown",
   "id": "1b260de1",
   "metadata": {},
   "source": [
    "#### How would a perfect gain curve be here?"
   ]
  },
  {
   "cell_type": "markdown",
   "id": "8d097a3b",
   "metadata": {},
   "source": [
    "Just before we plot: let us understand how a perfect gain curve would compare to ours. In a perfect gain curve, we would make no mistakes: the accumulated default column would be 0 until we reach the first person with $y=1$, and then grow linearly from there. "
   ]
  },
  {
   "cell_type": "markdown",
   "id": "2a8a3021",
   "metadata": {},
   "source": [
    "#### What about a random classifier?\n",
    "A random classifier, on the other hand, would linearly go from (0,0) to (1,1) (can you see why?)"
   ]
  },
  {
   "cell_type": "code",
   "execution_count": 34,
   "id": "c7019916",
   "metadata": {},
   "outputs": [
    {
     "data": {
      "image/png": "[encoded data removed]",
      "text/plain": [
       "<Figure size 360x360 with 1 Axes>"
      ]
     },
     "metadata": {
      "needs_background": "light"
     },
     "output_type": "display_data"
    }
   ],
   "source": [
    "plt.subplots(figsize=(5,5))\n",
    "\n",
    "# gain curve from the model\n",
    "gain.plot(label='Logistic regression')\n",
    "\n",
    "# perfect gain\n",
    "ideal_gain.plot(xlabel='Index (sorted from lower to higher score)', ylabel='Accumulated defaults', \n",
    "                       label='Perfect gain curve', linestyle='--', color='lightblue')\n",
    "\n",
    "# random gain\n",
    "x = np.linspace(0,1)\n",
    "plt.plot(x,x, linestyle='--', label='Random classifier', color='gray')\n",
    "\n",
    "plt.legend()\n",
    "plt.show()"
   ]
  },
  {
   "cell_type": "markdown",
   "id": "c825d982",
   "metadata": {},
   "source": [
    "**Interpretation**:\n",
    "\n",
    "Notice that the best possible curve is the lowest, whereas the worst one is the 45 degree diagonal. Our model is intermediate, not too low nor too high. The gain curve is monotonic by construction.\n",
    "* Our model is good for *low scores*: the curve starts out flat but quickly starts to grow, meaning our model is making mistakes. \n",
    "* It is worst for *medium scores*, where the curve grows almost parallel to the random classifier one\n",
    "* For high scores, where the ideal curve is slanted, the model performs well - it tends to grow very fast in that area.\n",
    "\n",
    "**The gain curve is useful because it allows us to see how the model behaves across the whole data**. It gives us an interpretable curve which tells us how well we perform for entries with low/medium/high scores."
   ]
  },
  {
   "cell_type": "markdown",
   "id": "19b00b65",
   "metadata": {},
   "source": [
    "### Gain curve II: when high scores are better (sorting from high to low scores)"
   ]
  },
  {
   "cell_type": "markdown",
   "id": "a1aaebad",
   "metadata": {},
   "source": [
    "This case is exactly the opposite from the previous one. \n",
    "\n",
    "> A possible use case is in **product recommendation**. Suppose we have a model for whether a customer will be interested ($y=1$) or not ($y=0$) in a product, which will be recommended to them in our company's homepage. Then, we want to recommend the product to the clients with highest propensity to like the product, ie. those with higher score."
   ]
  },
  {
   "cell_type": "code",
   "execution_count": 35,
   "id": "b28df641",
   "metadata": {},
   "outputs": [],
   "source": [
    "gain, ideal_gain = build_gain_curve(y_test, y_test_pred,\n",
    "                                    ascending=False, # the only change is here\n",
    "                                    return_ideal_curve=True)"
   ]
  },
  {
   "cell_type": "code",
   "execution_count": 36,
   "id": "61d36fb7",
   "metadata": {},
   "outputs": [
    {
     "data": {
      "image/png": "[encoded data removed]",
      "text/plain": [
       "<Figure size 360x360 with 1 Axes>"
      ]
     },
     "metadata": {
      "needs_background": "light"
     },
     "output_type": "display_data"
    }
   ],
   "source": [
    "plt.subplots(figsize=(5,5))\n",
    "\n",
    "# gain curve from the model\n",
    "gain.plot(label='Logistic regression')\n",
    "\n",
    "# perfect gain\n",
    "ideal_gain.plot(xlabel='Index (sorted from higher to lower score)', ylabel='Accumulated defaults', \n",
    "                       label='Perfect gain curve', linestyle='--', color='lightblue')\n",
    "\n",
    "# random gain\n",
    "x = np.linspace(0,1)\n",
    "plt.plot(x,x, linestyle='--', label='Random classifier', color='gray')\n",
    "\n",
    "plt.legend()\n",
    "plt.show()"
   ]
  },
  {
   "cell_type": "markdown",
   "id": "6c832991",
   "metadata": {},
   "source": [
    "**Interpretation**: of course, since we are using the exact same data as before, the conclusions must be the same. This curve is exactly the previous one, upside down."
   ]
  },
  {
   "cell_type": "markdown",
   "id": "a6892479",
   "metadata": {},
   "source": [
    "### Area under the gain curve & its relation to ROC AUC"
   ]
  },
  {
   "cell_type": "markdown",
   "id": "34f01cb4",
   "metadata": {},
   "source": [
    "**The gain curves must be analyzed together with the ROC AUC**. It turns out they are both complementary and interpretable, providing a full picture of what is happening.\n",
    "\n",
    "\"Wait, what about the area under the gain curve?\", one might ask. We now prove a very interesting result relating it to the ROC AUC: **one of them uniquely defines the other**, so the area under the gain curve doesn't really matter. We can use the ROC AUC instead."
   ]
  },
  {
   "cell_type": "markdown",
   "id": "8120d10a",
   "metadata": {},
   "source": [
    "**--- Mathematical interlude---**"
   ]
  },
  {
   "cell_type": "markdown",
   "id": "cb80779a",
   "metadata": {},
   "source": [
    "**Proposition [equivalence of AUG and ROC AUC]**. Consider the gain curve II above (which is sorted from high to low scores). Let $\\mathrm{AUG}$ denote the area under the gain curve, and let $\\mathrm{AUC}$ denote the ROC AUC. Let $\\pi_1 = \\mathbb{P} (y=1)$ denote the fraction of the positive class. Then\n",
    "\n",
    "$$\\boxed{\\mathrm{AUG} = \\frac{\\pi_1}{2} + (1-\\pi_1) \\mathrm{AUC}}\\qquad \\mbox{(high to low scores)}$$"
   ]
  },
  {
   "cell_type": "markdown",
   "id": "4bbb55e4",
   "metadata": {},
   "source": [
    "> Proof: let us translate our construction of the gain curve into the language of probability. The Y axis contains the proportion of points correctly classified as 1, i.e. $\\mathbb P(\\hat y = 1|y=1)$ which is just the true positive rate. We have seen in the Appendix for the ROC curve that, for a fixed threshold $\\lambda$, $$\\mathrm{TPR}(\\lambda) = 1 - F_1(\\lambda)$$ where $F_1(\\lambda) = \\mathbb P (f(X) \\leq \\lambda | Y=1)$ is the CDF for the score $f(X)|Y=1$. Hence, we let $y(\\lambda) = 1 - F_1(\\lambda)$ be our Y axis. For the X axis, it represents the proportion ($\\mathbb P$) of points with decreasing ($\\geq \\lambda$) score ($f(X)$). Hence, $x = \\mathbb P (f(X) \\geq \\lambda) = 1 - F(\\lambda)$ where the CDF $F(\\lambda)$ is that of the unconditional score: $$F(\\lambda) = \\mathbb P (f(X) < \\lambda),$$ which can also be written in terms of the conditionals $F_i$ via $$\\begin{align}F(\\lambda) &=  \\mathbb P (f(X) < \\lambda) = \\mathbb P (f(X) < \\lambda|Y=1) \\mathbb{P} (Y=1) + \\mathbb P (f(X) < \\lambda|Y=0) \\mathbb{P}(Y=0)\\\\\n",
    "&= \\pi_1 F_1(\\lambda) + \\pi_0 F_0 (\\lambda)\\end{align}.$$ Here $\\pi_1 + \\pi_0 = 1$ are the proportions of $Y=1$ and $Y=0$. We have thus written the gain curve as $$\\begin{cases}x(\\lambda) &=& 1 - F(\\lambda) = 1 - \\pi_1 F_1(\\lambda) - \\pi_0 F_0(\\lambda)\\\\\n",
    "y(\\lambda) &=& 1 - F_1(\\lambda)\\end{cases}$$\n",
    "To calculate $\\mathrm{AUG}$, ideally we would like to write $y$ as a function of $x$ and integrate. This is possible if we invert $\\lambda = \\lambda(x)$ and plug it into the expression for $y$. This is hard since $\\lambda$ appears both as the argument of $F_0$ and $F_1$. Instead, what we can do is to *write $x$ as a function of $y$ instead* and calculate the integral $\\int x dy$ instead of $\\int y dx$. These integrals are not the same, but they will be related as we show below. \n",
    "\n",
    "> We have $\\lambda = F_1^{-1}(1-y)$. Plugging this into the equation for $x$ yields (calling $G(x)$ the gain curve and $G^{-1}(y)$ its inverse:\n",
    "$$\\begin{align}\n",
    "x \\equiv G^{-1}(y) &= 1 - \\pi_1 F_1 (F_1^{-1}(1-y)) - \\pi_0 F_0 (F_1^{-1}(1-y)) \\\\\n",
    "&= 1 - \\pi_1(1-y) - \\pi_0 F_0(F_1^{-1}(1-y)).\n",
    "\\end{align}$$\n",
    "In the Appendix for the ROC curve we saw that we could write it as $y = R(x) = 1 - F_1(F_0^{-1}(1-x))$. This is almost what we have, but the roles of $F_1$ and $F_0$ are shifted. We can actually invert this expression to get $$x \\equiv R^{-1}(y) = 1 - F_0(F_1^{-1}(1-y)),$$ which matches nicely with the RHS above. Hence \n",
    "$$\\begin{align}\n",
    "G^{-1}(y) &= 1 - \\pi_1 (1-y) - \\pi_0 (1 - R^{-1}(y))\\\\\n",
    "&=\\pi_1 y + \\pi_0 R^{-1}(y)\\\\\n",
    "\\Rightarrow \\int_0^1 G^{-1}(y)dy  &= \\frac{\\pi_1}{2} + \\pi_0 \\int_0^1R^{-1}(y)dy\n",
    "\\end{align}$$\n",
    "Now, both the ROC and gain curve live inside the unit square $[0,1]\\times[0,1]$, which has area equal to 1, and have endpoints in $(0,0)$ and $(1,1)$. For any such function,\n",
    "$$\\int_0^1 f(x) dx + \\int_0^1 f^{-1}(y) dy = 1.$$\n",
    "We can then rewrite the equality above using $\\mathrm{AUC}$ and $\\mathrm{AUG}$:\n",
    "$$(1-\\mathrm{AUG}) = \\frac{\\pi_1}{2} + \\pi_0 (1-\\mathrm{AUC});$$\n",
    "using that $\\pi_0 = 1 - \\pi_1$ and simplifying yields\n",
    "$$\\mathrm{AUG} = \\frac{\\pi_1}{2} + (1-\\pi_1) \\mathrm{AUC}$$\n",
    "as claimed."
   ]
  },
  {
   "cell_type": "markdown",
   "id": "ba7aa3d3",
   "metadata": {},
   "source": [
    "**Problem**: using the exact same logic as above (or just good old geometry) prove that for the gain curve I it holds that\n",
    "\n",
    "$$\\boxed{\\mathrm{AUG} = 1 - \\left[\\frac{\\pi_1}{2} + (1-\\pi_1) \\mathrm{AUC}\\right]}\\qquad \\mbox{(low to high scores)}$$"
   ]
  },
  {
   "cell_type": "markdown",
   "id": "72984286",
   "metadata": {},
   "source": [
    "**--- end of interlude---**"
   ]
  },
  {
   "cell_type": "markdown",
   "id": "defa34c5",
   "metadata": {},
   "source": [
    "#### Numerically checking this"
   ]
  },
  {
   "cell_type": "markdown",
   "id": "a4cdc629",
   "metadata": {},
   "source": [
    "Let us us the DataFrame defined above (which has the gain with scores from high to low):"
   ]
  },
  {
   "cell_type": "code",
   "execution_count": 37,
   "id": "96120384",
   "metadata": {},
   "outputs": [
    {
     "data": {
      "text/html": [
       "<div>\n",
       "<style scoped>\n",
       "    .dataframe tbody tr th:only-of-type {\n",
       "        vertical-align: middle;\n",
       "    }\n",
       "\n",
       "    .dataframe tbody tr th {\n",
       "        vertical-align: top;\n",
       "    }\n",
       "\n",
       "    .dataframe thead th {\n",
       "        text-align: right;\n",
       "    }\n",
       "</style>\n",
       "<table border=\"1\" class=\"dataframe\">\n",
       "  <thead>\n",
       "    <tr style=\"text-align: right;\">\n",
       "      <th></th>\n",
       "      <th>V1</th>\n",
       "      <th>V2</th>\n",
       "      <th>V3</th>\n",
       "      <th>V4</th>\n",
       "      <th>V5</th>\n",
       "      <th>V6</th>\n",
       "      <th>V7</th>\n",
       "      <th>V8</th>\n",
       "      <th>V9</th>\n",
       "      <th>V10</th>\n",
       "      <th>...</th>\n",
       "      <th>V20</th>\n",
       "      <th>V21</th>\n",
       "      <th>V22</th>\n",
       "      <th>V23</th>\n",
       "      <th>V24</th>\n",
       "      <th>V25</th>\n",
       "      <th>V26</th>\n",
       "      <th>V27</th>\n",
       "      <th>V28</th>\n",
       "      <th>Class</th>\n",
       "    </tr>\n",
       "  </thead>\n",
       "  <tbody>\n",
       "    <tr>\n",
       "      <th>185723</th>\n",
       "      <td>-2.132915</td>\n",
       "      <td>-1.435724</td>\n",
       "      <td>-0.167875</td>\n",
       "      <td>-0.613622</td>\n",
       "      <td>-1.523509</td>\n",
       "      <td>0.702004</td>\n",
       "      <td>3.318497</td>\n",
       "      <td>-0.407880</td>\n",
       "      <td>-0.036720</td>\n",
       "      <td>-1.293947</td>\n",
       "      <td>...</td>\n",
       "      <td>-0.068133</td>\n",
       "      <td>-0.402366</td>\n",
       "      <td>-1.273932</td>\n",
       "      <td>0.686603</td>\n",
       "      <td>-0.426971</td>\n",
       "      <td>-0.304671</td>\n",
       "      <td>-0.970158</td>\n",
       "      <td>0.268611</td>\n",
       "      <td>0.097632</td>\n",
       "      <td>0</td>\n",
       "    </tr>\n",
       "    <tr>\n",
       "      <th>39757</th>\n",
       "      <td>0.254733</td>\n",
       "      <td>1.270708</td>\n",
       "      <td>-0.909430</td>\n",
       "      <td>1.916788</td>\n",
       "      <td>2.456681</td>\n",
       "      <td>4.305723</td>\n",
       "      <td>-1.164007</td>\n",
       "      <td>-1.813797</td>\n",
       "      <td>-1.951456</td>\n",
       "      <td>0.401035</td>\n",
       "      <td>...</td>\n",
       "      <td>0.843244</td>\n",
       "      <td>-1.634035</td>\n",
       "      <td>-0.876942</td>\n",
       "      <td>0.130014</td>\n",
       "      <td>0.950920</td>\n",
       "      <td>0.542166</td>\n",
       "      <td>-0.022867</td>\n",
       "      <td>0.100057</td>\n",
       "      <td>0.256621</td>\n",
       "      <td>0</td>\n",
       "    </tr>\n",
       "    <tr>\n",
       "      <th>189045</th>\n",
       "      <td>2.124338</td>\n",
       "      <td>-0.679729</td>\n",
       "      <td>-1.153490</td>\n",
       "      <td>-0.739702</td>\n",
       "      <td>-0.639216</td>\n",
       "      <td>-0.527015</td>\n",
       "      <td>-0.997817</td>\n",
       "      <td>0.006910</td>\n",
       "      <td>-0.206940</td>\n",
       "      <td>0.241344</td>\n",
       "      <td>...</td>\n",
       "      <td>0.044019</td>\n",
       "      <td>0.273254</td>\n",
       "      <td>0.884667</td>\n",
       "      <td>0.061971</td>\n",
       "      <td>-0.487875</td>\n",
       "      <td>-0.141140</td>\n",
       "      <td>-0.081836</td>\n",
       "      <td>0.030883</td>\n",
       "      <td>-0.026193</td>\n",
       "      <td>0</td>\n",
       "    </tr>\n",
       "    <tr>\n",
       "      <th>82443</th>\n",
       "      <td>-0.593932</td>\n",
       "      <td>1.237201</td>\n",
       "      <td>1.228652</td>\n",
       "      <td>1.720319</td>\n",
       "      <td>1.370083</td>\n",
       "      <td>1.082608</td>\n",
       "      <td>0.892225</td>\n",
       "      <td>0.375500</td>\n",
       "      <td>-1.667653</td>\n",
       "      <td>0.113343</td>\n",
       "      <td>...</td>\n",
       "      <td>-0.260720</td>\n",
       "      <td>0.240098</td>\n",
       "      <td>0.777437</td>\n",
       "      <td>-0.058924</td>\n",
       "      <td>-0.644662</td>\n",
       "      <td>-0.378534</td>\n",
       "      <td>0.091938</td>\n",
       "      <td>0.156481</td>\n",
       "      <td>0.122518</td>\n",
       "      <td>0</td>\n",
       "    </tr>\n",
       "    <tr>\n",
       "      <th>274069</th>\n",
       "      <td>-2.357838</td>\n",
       "      <td>1.374659</td>\n",
       "      <td>0.194077</td>\n",
       "      <td>-0.620863</td>\n",
       "      <td>-0.799228</td>\n",
       "      <td>0.004177</td>\n",
       "      <td>-0.873491</td>\n",
       "      <td>1.684539</td>\n",
       "      <td>-0.046760</td>\n",
       "      <td>-0.508703</td>\n",
       "      <td>...</td>\n",
       "      <td>-0.064811</td>\n",
       "      <td>-0.096609</td>\n",
       "      <td>-0.522473</td>\n",
       "      <td>0.121794</td>\n",
       "      <td>0.655800</td>\n",
       "      <td>-0.250214</td>\n",
       "      <td>-0.015225</td>\n",
       "      <td>0.218985</td>\n",
       "      <td>0.025066</td>\n",
       "      <td>0</td>\n",
       "    </tr>\n",
       "  </tbody>\n",
       "</table>\n",
       "<p>5 rows × 29 columns</p>\n",
       "</div>"
      ],
      "text/plain": [
       "              V1        V2        V3        V4        V5        V6        V7  \\\n",
       "185723 -2.132915 -1.435724 -0.167875 -0.613622 -1.523509  0.702004  3.318497   \n",
       "39757   0.254733  1.270708 -0.909430  1.916788  2.456681  4.305723 -1.164007   \n",
       "189045  2.124338 -0.679729 -1.153490 -0.739702 -0.639216 -0.527015 -0.997817   \n",
       "82443  -0.593932  1.237201  1.228652  1.720319  1.370083  1.082608  0.892225   \n",
       "274069 -2.357838  1.374659  0.194077 -0.620863 -0.799228  0.004177 -0.873491   \n",
       "\n",
       "              V8        V9       V10  ...       V20       V21       V22  \\\n",
       "185723 -0.407880 -0.036720 -1.293947  ... -0.068133 -0.402366 -1.273932   \n",
       "39757  -1.813797 -1.951456  0.401035  ...  0.843244 -1.634035 -0.876942   \n",
       "189045  0.006910 -0.206940  0.241344  ...  0.044019  0.273254  0.884667   \n",
       "82443   0.375500 -1.667653  0.113343  ... -0.260720  0.240098  0.777437   \n",
       "274069  1.684539 -0.046760 -0.508703  ... -0.064811 -0.096609 -0.522473   \n",
       "\n",
       "             V23       V24       V25       V26       V27       V28  Class  \n",
       "185723  0.686603 -0.426971 -0.304671 -0.970158  0.268611  0.097632      0  \n",
       "39757   0.130014  0.950920  0.542166 -0.022867  0.100057  0.256621      0  \n",
       "189045  0.061971 -0.487875 -0.141140 -0.081836  0.030883 -0.026193      0  \n",
       "82443  -0.058924 -0.644662 -0.378534  0.091938  0.156481  0.122518      0  \n",
       "274069  0.121794  0.655800 -0.250214 -0.015225  0.218985  0.025066      0  \n",
       "\n",
       "[5 rows x 29 columns]"
      ]
     },
     "execution_count": 37,
     "metadata": {},
     "output_type": "execute_result"
    }
   ],
   "source": [
    "df.head()"
   ]
  },
  {
   "cell_type": "markdown",
   "id": "6e396410",
   "metadata": {},
   "source": [
    "We want to compare the area under the gain curve with the expression $\\pi_1/2 +(1-\\pi_1) \\mathrm{AUC}$."
   ]
  },
  {
   "cell_type": "code",
   "execution_count": 38,
   "id": "4f0805b8",
   "metadata": {},
   "outputs": [
    {
     "name": "stdout",
     "output_type": "stream",
     "text": [
      "Proportion of positive class (pi1): 0.495\n",
      "\n",
      "Raw metrics:\n",
      " > AUG = 0.624\n",
      " > AUC = 0.746\n",
      "\n",
      "Calculated AUG: 0.624\n",
      " > Difference between AUG and calculated version: 0.0004\n"
     ]
    }
   ],
   "source": [
    "from sklearn.metrics import auc  # this is not roc_auc_score; it is just a function for numerical integration\n",
    "\n",
    "pi1 = y_test.sum()/len(y_test) # proportion of 1's in the test dataset\n",
    "print(\"Proportion of positive class (pi1): {0:.3f}\".format(pi1))\n",
    "aug = auc(x=gain.index, y=gain)\n",
    "auc_ = roc_auc_score(y_test, y_test_pred)\n",
    "print(\"\\nRaw metrics:\\n > AUG = {0:.3f}\\n > AUC = {1:.3f}\".format(aug, auc_))\n",
    "\n",
    "aug_calc = pi1/2 + (1-pi1) * auc_\n",
    "print(\"\\nCalculated AUG: {0:.3f}\".format(aug_calc))\n",
    "print(\" > Difference between AUG and calculated version: {0:.4f}\".format(np.abs(aug-aug_calc)))"
   ]
  },
  {
   "cell_type": "markdown",
   "id": "9016f510",
   "metadata": {},
   "source": [
    "We can see that indeed both are very close (difference in the fourth decimal place), as expected!"
   ]
  },
  {
   "cell_type": "code",
   "execution_count": 39,
   "id": "948cffff",
   "metadata": {},
   "outputs": [],
   "source": [
    "def plot_roc_and_gain(y_true, y_pred, ax, ascending=False):\n",
    "    \n",
    "    from sklearn.metrics import auc\n",
    "    \n",
    "    # gain curve\n",
    "    gain, ideal_gain = build_gain_curve(y_true, y_pred, ascending=ascending, return_ideal_curve=True)\n",
    "    aug = auc(x=gain.index, y=gain)\n",
    "    aug_ideal = auc(x=ideal_gain.index, y=ideal_gain)\n",
    "    gain.plot(ax=ax, label='Gain (area = {0:.2f})'.format(aug), color='blue')\n",
    "    ideal_gain.plot(ax=ax, label='Ideal gain (area = {0:.2f})'.format(aug_ideal), linestyle='-.', color='lightblue')\n",
    "\n",
    "    # roc curve\n",
    "    auc_ = roc_auc_score(y_true, y_pred)\n",
    "    RocCurveDisplay.from_predictions(y_true, y_pred, ax=ax, label='ROC (area = {0:.2f})'.format(auc_), color='orange')\n",
    "\n",
    "    # random classifier\n",
    "    ax.plot(np.linspace(0,1), np.linspace(0,1), linestyle='--', color='gray', label='Random (area = 0.50)')\n",
    "\n",
    "    # plot settings\n",
    "    ax.set_title(\"ROC and Gain curves plot together\")\n",
    "    ax.set_xlabel(\"\")\n",
    "    ax.set_ylabel(\"\")\n",
    "    ax.legend()"
   ]
  },
  {
   "cell_type": "code",
   "execution_count": 40,
   "id": "2c5b18da",
   "metadata": {},
   "outputs": [
    {
     "data": {
      "image/png": "[encoded data removed]",
      "text/plain": [
       "<Figure size 720x360 with 2 Axes>"
      ]
     },
     "metadata": {
      "needs_background": "light"
     },
     "output_type": "display_data"
    }
   ],
   "source": [
    "fig, ax = plt.subplots(figsize=(10,5), ncols=2)\n",
    "plot_roc_and_gain(y_test, y_test_pred, ax=ax[0], ascending=False)\n",
    "plot_roc_and_gain(y_test, y_test_pred, ax=ax[1], ascending=True)\n",
    "plt.show()"
   ]
  },
  {
   "cell_type": "markdown",
   "id": "01a0d676",
   "metadata": {},
   "source": [
    "##### References\n",
    "Chris J. Lloyd, *A Note on the Area under the Gains Chart*. International Journal of Statistics in Medical Research, 2018, 7, 66-69 \n",
    "\n",
    "Max Kuhn, Kjell Johnson, *Applied Predictive Modeling*. Springer, 2016, pp. 265-266"
   ]
  },
  {
   "cell_type": "markdown",
   "id": "e0291446",
   "metadata": {},
   "source": [
    "### Wrap-up"
   ]
  },
  {
   "cell_type": "markdown",
   "id": "cd8d6dd5",
   "metadata": {},
   "source": [
    "We have seen that the gain curve and the ROC are cousins displaying complementary information:\n",
    "\n",
    "| | ROC | Gain|\n",
    "|---|---|---|\n",
    "|Interpretable area| Yes, ROC AUC =$\\mathbb P (Z_1 \\geq Z_0)$ | Yes, but determined by ROC AUC|\n",
    "|Interpretable curve| Hard to interpret | Easy to interpret|"
   ]
  },
  {
   "cell_type": "markdown",
   "id": "2fca7448",
   "metadata": {},
   "source": [
    "It is therefore always recommended to look at the ROC AUC for its capability of showing predictive power (and because it is the industry reference), but at the same time to study the Gain curve to see how the model performs for low / middle / high scores."
   ]
  },
  {
   "cell_type": "markdown",
   "id": "f5716c81",
   "metadata": {},
   "source": [
    "# Number 2. Precision, recall, and $F$-scores"
   ]
  },
  {
   "cell_type": "markdown",
   "id": "f827c061",
   "metadata": {},
   "source": [
    "### Motivation: a Covid test"
   ]
  },
  {
   "cell_type": "markdown",
   "id": "4d5b05b1",
   "metadata": {},
   "source": [
    "What is the difference between\n",
    "\n",
    "$$\\mathbb P (\\hat y = 1|y=1) \\qquad \\mbox{and}\\qquad \\mathbb P(y=1|\\hat y=1)?$$"
   ]
  },
  {
   "cell_type": "markdown",
   "id": "e913eae6",
   "metadata": {},
   "source": [
    "The first one measures, *out of all points in the positive class*, how many we got right. The second one measures, *out of all points predicted to be in the positive class*, how many were actually positives.\n",
    "\n",
    "These quantities are not the same. Writing them like this makes this fact obvious, but it is surprising how many times we can mix them up in conversation. For instance:\n",
    "\n",
    "> I just got a positive in my Covid test. They say that it is right 99% of the time when you are infected, so I am probably infected.\n",
    "\n",
    "The conclusion above is a falacy, because we do not have enough data. Does the person mean\n",
    "\n",
    "$$\\mathbb P (\\mbox{test gives positive | you have Covid}) = 99\\%$$\n",
    "or\n",
    "$$\\mathbb P (\\mbox{ you have Covid | test gives positive}) = 99\\%?$$\n",
    "\n",
    "These two cases are completely different, as we show below."
   ]
  },
  {
   "cell_type": "markdown",
   "id": "ca32b41a",
   "metadata": {},
   "source": [
    "> **(Review: Bayes' rule**). We are entering the domain where Bayes' theorem becomes important. It is the rewriting of the definition of conditional probability as follows:\n",
    "$$\\mathbb P(A|B) = \\frac{\\mathbb P(A\\cap B)}{\\mathbb P(B)} = \\frac{\\mathbb P(B|A) \\mathbb P(A)}{\\mathbb P (B)}$$\n",
    "where one sometimes writes the denominator as a sum over all possible dependencies of $B$: \n",
    "$$\\mathbb P (B) = \\sum_{A'} \\mathbb P(B|A') \\mathbb P(A')$$"
   ]
  },
  {
   "cell_type": "markdown",
   "id": "8ec9ca18",
   "metadata": {},
   "source": [
    "For instance, in the case above, let $y=1$ denote if someone has Covid, and $\\hat y = 1$ denote that they tested positive. \n",
    "\n",
    "Let us assume that \n",
    "\n",
    "$$\\mathbb P (\\hat y=1 | y=1) = 99\\%$$\n",
    "\n",
    "\n",
    "We can write, using Bayes' theorem,\n",
    "\n",
    "$$\\mathbb P(y=1|\\hat y=1) = \\frac{\\mathbb P (\\hat y=1 | y=1) \\mathbb P(y=1)}{\\mathbb P (\\hat y=1)}$$"
   ]
  },
  {
   "cell_type": "markdown",
   "id": "63f358d8",
   "metadata": {},
   "source": [
    "or, expanding the denominator,"
   ]
  },
  {
   "cell_type": "markdown",
   "id": "7222f80b",
   "metadata": {},
   "source": [
    "$$\\begin{align}\n",
    "\\mathbb P(y=1|\\hat y=1) &= \\frac{\\mathbb P (\\hat y=1 | y=1) \\mathbb P(y=1)}{\\mathbb P (\\hat y=1|y=0) \\mathbb P(y=0) + \\mathbb P(\\hat y = 1|y=1) \\mathbb P(y=1)}\\\\\n",
    "&= \\frac{1}{\\displaystyle1 + \\frac{\\mathbb P(\\hat y=1 | y=0) \\mathbb P(y=0)}{\\mathbb P(\\hat y=1|y=1) \\mathbb P(y=1)}}\n",
    "\\end{align}$$"
   ]
  },
  {
   "cell_type": "markdown",
   "id": "85e4e130",
   "metadata": {},
   "source": [
    "Assume that:\n",
    "* 1% of the population is infected, ie. $\\mathbb P(y=1) = 0.01$ and $\\mathbb P(y=0) = 0.99$\n",
    "* If you are infected, there is a 99% chance the test will come back positive: $\\mathbb P(\\hat y=1|y=1) = 0.99$\n",
    "* If you are not infected, there is a 5% chance the test will come back as a (false) positive: $\\mathbb P(\\hat y=1|y=0) = 0.05$"
   ]
  },
  {
   "cell_type": "markdown",
   "id": "46d2668a",
   "metadata": {},
   "source": [
    "Then, from the expression above we get\n",
    "$$\\mathbb P(y=1|\\hat y=1) = \\frac{1}{\\displaystyle 1 + \\frac{0.05 \\times 0.99}{0.99 \\times 0.01}} = \\frac 16 \\approx  16.7\\%$$ "
   ]
  },
  {
   "cell_type": "markdown",
   "id": "e644a5c9",
   "metadata": {},
   "source": [
    "that is, if your test comes back positive, there is only a 16.7% chance that you actually have Covid."
   ]
  },
  {
   "cell_type": "markdown",
   "id": "fbcea986",
   "metadata": {},
   "source": [
    "This is a *significantly* smaller number than the 99% we started with (and also shows why a \"test with 99% confidence\" does not mean much by itself). This is why $\\mathbb P (\\hat y = 1|y=1)$ and $\\mathbb P(y=1|\\hat y=1)$ are *very* different things."
   ]
  },
  {
   "cell_type": "markdown",
   "id": "9402ba4d",
   "metadata": {},
   "source": [
    "> One might argue that the test is bad. It is not. To see why, think about it this way. Without having taken a test, your prior chance of being infected was 1%. Now that you have taken the test, this chance grows by **almost 17 times**. This is a huge growth! It is just not a definitive answer. Indeed, one could **take the test again** and see how much the probability changes. \n",
    "\n",
    "> (**Problem**) Suppose we test again, and again we get a positive. Convince yourself that we can calculate the new probability of being infected by formally starting out from the exact same formula above but changing the prior probability of being infected to $\\mathbb P (y=1) = 1/6$ (which implies $\\mathbb P(y=0) = 5/6$), yielding\n",
    "$$\\mathbb P(y=1|\\hat y_1=1, \\hat y_2 = 1) = \\frac{1}{\\displaystyle 1 + \\frac{0.05\\times 5/6}{0.99 \\times 1/6}} \\approx 80\\%,$$which is now much higher. If we further test again this number increases to 99%, and so on. "
   ]
  },
  {
   "cell_type": "markdown",
   "id": "99a03da9",
   "metadata": {},
   "source": [
    "### Precision and recall"
   ]
  },
  {
   "cell_type": "markdown",
   "id": "f701a6f5",
   "metadata": {},
   "source": [
    "$$\n",
    "\\boxed{\\mathrm{Recall} = \\mathbb P (\\hat y = 1|y=1)}$$\n",
    "$$\\boxed{\\mathrm{Precision} = \\mathbb P(y=1|\\hat y=1)}$$"
   ]
  },
  {
   "cell_type": "markdown",
   "id": "db508001",
   "metadata": {},
   "source": [
    "For the Covid test above, it had a recall of 99% and a precision of 16.7% for the positive class.\n",
    "> For multiclass models (which generalize the binary case we see here), one calculates precision/recall for each class. For instance, if you have an image classification model which classifies an image into $\\{\\mathrm{dog, cat, horse, penguin}\\}$ then you should calculate precision/recall for each class: $$\\mathrm{Recall_{dog}} = \\mathbb P (\\hat y = \\mathrm{dog} | y = \\mathrm{dog}),\\quad \\mathrm{Recall_{cat}} = \\mathbb P (\\hat y = \\mathrm{cat} | y = \\mathrm{cat})$$ and so on."
   ]
  },
  {
   "cell_type": "markdown",
   "id": "193595ed",
   "metadata": {},
   "source": [
    "### The precision & recall (PR) curve "
   ]
  },
  {
   "cell_type": "markdown",
   "id": "6dcbe1a7",
   "metadata": {},
   "source": [
    "Similar to what we did to the ROC curve, we can consider the curve obtained by building a score $f$ and a classifier $\\hat y(x) = 1$ if $f(x) \\geq \\lambda$ and 0 otherwise, and see how precision and recall change as we do that."
   ]
  },
  {
   "cell_type": "markdown",
   "id": "03bdfe2c",
   "metadata": {},
   "source": [
    "For the sample model we have been using so far, the curve can be seen in the curve below."
   ]
  },
  {
   "cell_type": "markdown",
   "id": "4772659b",
   "metadata": {},
   "source": [
    "> We build a custom function which also plots the **percentage of the positive class against the whole dataset**, ie. $\\mathbb P(y=1)$. This is an important quantity, and so we make it explicit here."
   ]
  },
  {
   "cell_type": "code",
   "execution_count": 41,
   "id": "978829b2",
   "metadata": {},
   "outputs": [],
   "source": [
    "def plot_precision_recall(y_true, y_pred, ax):\n",
    "    \n",
    "    from sklearn.metrics import PrecisionRecallDisplay\n",
    "\n",
    "    PrecisionRecallDisplay.from_predictions(y_true, y_pred, ax=ax)\n",
    "    ax.set_ylim(-.05,1.05)\n",
    "    \n",
    "    # prevalence of positive class\n",
    "    p = y_true.sum()/len(y_true)\n",
    "    ax.axhline(p, linestyle='--', color='gray', label=f'Prevalence ({round(p,2)})')\n",
    "    plt.legend()"
   ]
  },
  {
   "cell_type": "code",
   "execution_count": 42,
   "id": "631c52eb",
   "metadata": {},
   "outputs": [
    {
     "data": {
      "image/png": "[encoded data removed]",
      "text/plain": [
       "<Figure size 360x360 with 1 Axes>"
      ]
     },
     "metadata": {
      "needs_background": "light"
     },
     "output_type": "display_data"
    }
   ],
   "source": [
    "fig, ax = plt.subplots(figsize=(5,5))\n",
    "plot_precision_recall(y_test, y_test_pred, ax)\n",
    "plt.title(\"PR curve\")\n",
    "plt.show()"
   ]
  },
  {
   "cell_type": "markdown",
   "id": "de7fb8c9",
   "metadata": {},
   "source": [
    "(this function gives the average precision (AP) metric as well - we shall discuss it later)"
   ]
  },
  {
   "cell_type": "markdown",
   "id": "ce0b5a37",
   "metadata": {},
   "source": [
    "Notes:\n",
    "\n",
    "* For a very small threshold $\\lambda = -\\infty$, we have $$\\mathrm{Recall}(-\\infty) = 1,\\quad \\mathrm{Precision}(-\\infty) = \\pi_1$$ where $\\pi_1 = \\mathbb P(y=1)$ is the prevalence of the positive class (can you see why?);\n",
    "* The curve is indeed bounded below by the prevalence $\\pi_1$;\n",
    "* As we increase the threshold, the curve increases in precision and reduces in recall\n",
    "* For $\\lambda = \\infty$, we should have $$\\mathrm{Recall}(\\infty) = 0,\\quad \\mathrm{Precision}(\\infty) = 1$$ (can you see why?)"
   ]
  },
  {
   "cell_type": "markdown",
   "id": "9136da28",
   "metadata": {},
   "source": [
    "This curve has more interesting properties that we shall see later, after we better understand the geometry of the PR plane."
   ]
  },
  {
   "cell_type": "markdown",
   "id": "ac609f76",
   "metadata": {},
   "source": [
    "### The $F$-scores: joining precision and recall"
   ]
  },
  {
   "cell_type": "markdown",
   "id": "de804613",
   "metadata": {},
   "source": [
    "Recall that, given two numbers $a, b$, their **harmonic mean** is the number $c$ defined via\n",
    "\n",
    "$$\\frac 1c = \\frac 12 \\left( \\frac 1a + \\frac 1b \\right),$$\n",
    "\n",
    "or explicitly\n",
    "\n",
    "$$c = \\frac{2}{1/a + 1/b} = \\frac{2ab}{a+b}$$"
   ]
  },
  {
   "cell_type": "markdown",
   "id": "d7aa9bac",
   "metadata": {},
   "source": [
    "(if any of the numbers is 0, the harmonic mean is undefined; if any of them is infinite, the harmonic mean will be the finite one left, as can be seen by taking the limit in the first definition)"
   ]
  },
  {
   "cell_type": "markdown",
   "id": "c0d8ff46",
   "metadata": {},
   "source": [
    "We define the **$F_1$ score** as the harmonic mean of precision and recall:\n",
    "\n",
    "$$\\boxed{\\frac{1}{F_1} = \\frac 12 \\frac{1}{\\mathrm{Precision}} + \\frac 12 \\frac{1}{\\mathrm{Recall}}}$$"
   ]
  },
  {
   "cell_type": "markdown",
   "id": "b31f7b52",
   "metadata": {},
   "source": [
    "More generally, we define the **$F_\\beta$ score** as a weighted harmonic mean between precision and recall:"
   ]
  },
  {
   "cell_type": "markdown",
   "id": "c165e3de",
   "metadata": {},
   "source": [
    "$$\\boxed{\\frac{1}{F_\\beta} = \\frac{1}{1+\\beta^2} \\frac{1}{\\mathrm{Precision}} + \\frac{\\beta^2}{1+\\beta^2}\\frac{1}{\\mathrm{Recall}}}$$"
   ]
  },
  {
   "cell_type": "markdown",
   "id": "146375e3",
   "metadata": {},
   "source": [
    "or the straighforward version\n",
    "\n",
    "$$F_\\beta = \\frac{(1+\\beta^2) \\mathrm{Recall\\, Precision}}{\\beta^2 \\mathrm{Precision + Recall}}$$"
   ]
  },
  {
   "cell_type": "markdown",
   "id": "cfa2ec80",
   "metadata": {},
   "source": [
    "For $\\beta = 1$ we retrieve $F_1$, which weighs precision and recall equally; for $\\beta > 1$ we give a higher importance to recall, whereas for $\\beta < 1$ we place more importance on precision."
   ]
  },
  {
   "cell_type": "markdown",
   "id": "b8ab0e6c",
   "metadata": {},
   "source": [
    "#### Why do we use a *harmonic* mean for the F-score?"
   ]
  },
  {
   "cell_type": "markdown",
   "id": "744fa70b",
   "metadata": {},
   "source": [
    "One could argue that there is no need to use a harmonic mean of recall and precision to estimate their (weighted) average. It would be enough to calculate a (weighted) simple average $(\\mathrm{precision+recall})/2$, which still captures the trade-off between precision and recall."
   ]
  },
  {
   "cell_type": "markdown",
   "id": "748ffbdb",
   "metadata": {},
   "source": [
    "The advantage of using the harmonic mean comes when considering extremes. A simple average $(x+y)/2$ is forgiving if either $x$ or $y$ become 0 (see the figure below, top-left: there are non-zero simple averages at both the $x=0$ and $y=0$ axes). Harmonic means are not so forgiving: if $x$ or $y$ tend to zero, then their harmonic mean will also go to zero. \n",
    "\n",
    "> Notice that there is always **one choice** of precision and recall that will maximize the simple average: $$\\mathrm{Recall} = 0,\\quad \\mathrm{Precision} =1$$, which corresponds to the trivial $\\lambda=\\infty$ model which labels every point as 0. Thus, if we tried to maximize the simple average, we would just obtain this trivial model."
   ]
  },
  {
   "cell_type": "code",
   "execution_count": 43,
   "id": "3a983cb5",
   "metadata": {},
   "outputs": [
    {
     "data": {
      "image/png": "[encoded data removed]",
      "text/plain": [
       "<Figure size 720x720 with 5 Axes>"
      ]
     },
     "metadata": {
      "needs_background": "light"
     },
     "output_type": "display_data"
    }
   ],
   "source": [
    "## Plotting simple and (weighted) harmonic averages of precision and recall\n",
    "\n",
    "prec = np.linspace(0.001,1, num=20)\n",
    "rec = np.linspace(0.001,1, num=20)\n",
    "\n",
    "rec, prec = np.meshgrid(rec, prec)\n",
    "\n",
    "def f_beta(precision, recall, beta):\n",
    "    return (1+beta**2)*precision*recall/(beta**2 * precision + recall)\n",
    "\n",
    "# simple mean\n",
    "simp = (rec+prec)/2\n",
    "\n",
    "fig, ax = plt.subplots(figsize=(10,10), ncols=2, nrows=2)\n",
    "ax = ax.flatten()\n",
    "\n",
    "# simple mean\n",
    "heatmap = ax[0].contourf(rec, prec, simp)\n",
    "ax[0].set_xlabel(\"Recall\")\n",
    "ax[0].set_ylabel(\"Precision\")\n",
    "ax[0].set_title(\"Simple mean of precision / recall\")\n",
    "cbar = fig.colorbar(heatmap, ax=ax[0])\n",
    "\n",
    "recall_line = np.linspace(0,1)\n",
    "for i, beta in enumerate([1, 3, 0.33]):\n",
    "    k=i+1\n",
    "    ax[k].contourf(rec, prec, f_beta(prec, rec, beta=beta))\n",
    "    ax[k].set_xlabel(\"Recall\")\n",
    "    ax[k].set_ylabel(\"Precision\")\n",
    "    ax[k].set_title(f\"F-{beta} score\")\n",
    "\n",
    "plt.tight_layout()\n",
    "plt.show()"
   ]
  },
  {
   "cell_type": "markdown",
   "id": "55810e8f",
   "metadata": {},
   "source": [
    "### Should I prioritize precision or recall? Which matters most?"
   ]
  },
  {
   "cell_type": "markdown",
   "id": "be7c744c",
   "metadata": {},
   "source": [
    "A rule-of-thumb to keep in mind is:\n",
    "\n",
    "$$\\mathrm{Precision \\sim } \\quad \\mbox{focus on minimizing false positives}$$\n",
    "$$\\mathrm{Recall \\sim } \\quad \\mbox{ focus on minimizing false negatives}$$"
   ]
  },
  {
   "cell_type": "markdown",
   "id": "5d4d537d",
   "metadata": {},
   "source": [
    "False positives and false negatives are never what we wish for, but there is always a trade-off on which is worse for the problem at hand. Consider the situations below:"
   ]
  },
  {
   "cell_type": "markdown",
   "id": "ce0e2129",
   "metadata": {},
   "source": [
    "**Treatment for a disease.**\n",
    "You work in medical research, and you are developing a test for a specific colon disease. This disease is lethal - if a person has it and is not treated there is a high chance they will die. \n",
    "\n",
    "There already exists a very accurate test to diagnose this disease, but it is time-consuming and very uncomfortable for the patient. Your company wants to create a cheaper and less uncomfortable test, which can be done quickly at a doctor's office, but will also be less accurate. The idea here is that, if a patient tests positive under this quicker test, only then will they take the more time-consuming and uncomfortable one, as a means of validation.\n",
    "\n",
    "> **Question**: which do you prioritize, precision or recall?\n",
    "\n",
    "> Solution: consider what happens if you have a false negative (=the patient is sick, but your test returns negative). Since the disease is lethal, this means this patient might die. Now consider a false positive (=patient is not sick, but your test returns positive). Then they will need to go through an uncomfortable test, but they will not die. In this case, **false negatives are much worse than false positives**. Because of this, our focus is on high recall."
   ]
  },
  {
   "cell_type": "markdown",
   "id": "1802b591",
   "metadata": {},
   "source": [
    "**Product recommendation**. You work in an e-commerce company, and are developing a product recommendation model. Basically, when the user enters your homepage, you want to recommend products to them based on their profile, previous purchases etc which will maximize the chances they will buy again. The product recommendations will be displayed, 5 at a time, in a \"Recommended for you\" tab.\n",
    "\n",
    "Usually, product recommendation models are not just binary classifiers, but for the sake of simplicity let's assume they are. Then, our model is a classification model which outputs a score: high scores indicate a user is likely to purchase something, and low scores mean the opposite."
   ]
  },
  {
   "cell_type": "markdown",
   "id": "b9f3f751",
   "metadata": {},
   "source": [
    "> **Question**: which do you prioritize, precision or recall?\n",
    "\n",
    "> Solution: a false positive here means a product which you recommend, but the user is not really likely to buy. A false negative is a product they would have liked, but you don't recommend. If you want to maximize the likelihood a user will buy a product, you want to make sure you only show them the top 5 products they will like: few false positives. It is OK, however, to have products that they would like but you don't end up recommending. What you want to avoid is that they enter the page, don't find anything they like, and leave. **False positives are worse than false negatives here**, so the focus is on high precision."
   ]
  },
  {
   "cell_type": "markdown",
   "id": "07c26070",
   "metadata": {},
   "source": [
    "## Average Precision (AP): very used but questionable metric"
   ]
  },
  {
   "cell_type": "markdown",
   "id": "426459ea",
   "metadata": {},
   "source": [
    "The so-called *average precision* is the **area under the PR curve**:"
   ]
  },
  {
   "cell_type": "code",
   "execution_count": 44,
   "id": "bf47fce5",
   "metadata": {},
   "outputs": [],
   "source": [
    "from sklearn.metrics import auc, average_precision_score, precision_recall_curve"
   ]
  },
  {
   "cell_type": "code",
   "execution_count": 45,
   "id": "60d9fb38",
   "metadata": {},
   "outputs": [
    {
     "name": "stdout",
     "output_type": "stream",
     "text": [
      "Avg. Precision: 0.714\n"
     ]
    }
   ],
   "source": [
    "# Directly using the sklearn implementation\n",
    "print(\"Avg. Precision: {0:.3f}\".format(average_precision_score(y_test, y_test_pred)))"
   ]
  },
  {
   "cell_type": "code",
   "execution_count": 46,
   "id": "069e1af8",
   "metadata": {},
   "outputs": [
    {
     "name": "stdout",
     "output_type": "stream",
     "text": [
      "Avg. Precision: 0.714\n"
     ]
    }
   ],
   "source": [
    "# calculating the curve and using numeric integration\n",
    "prec, rec, thresh = precision_recall_curve(y_test, y_test_pred)\n",
    "\n",
    "# Directly using the sklearn implementation\n",
    "print(\"Avg. Precision: {0:.3f}\".format(auc(rec, prec)))"
   ]
  },
  {
   "cell_type": "markdown",
   "id": "178b9b43",
   "metadata": {},
   "source": [
    "The reasoning behind using this metric is that, since the endpoints of the PR curve are fixed, higher area means a better classifier."
   ]
  },
  {
   "cell_type": "markdown",
   "id": "ce4c7dca",
   "metadata": {},
   "source": [
    "This is true in general. However, it might be problematic to use for several reasons:\n",
    "* If you look at how jagged the PR curve is, it makes you want to \"smoothen it out\" in the same way we do for the ROC curve: by taking its convex hull. However, this is not possible - the PR plane has no convexity properties. Hence the area under the curve would be an integral of a pretty jagged function\n",
    "* Even if you calculate the area well, you have an issue: there is no interpretation for the Average Precision\n",
    "* The PR curve is bound below by $\\mathrm{Precision} = \\pi_1$, the prevalence of the minority class. That means that it has an area of at least $1\\times \\pi_1 = \\pi_1$. This is an issue: suppose you want to consider a model that you trained on two different customer segments, A and B. Even if $\\mathrm{AP}_A \\geq \\mathrm{AP}_B$, this doesn't mean the model works better on A than B, since the prevalence might be different between the classes. If A has higher prevalence, then the area will naturally tend to be greater.\n"
   ]
  },
  {
   "cell_type": "markdown",
   "id": "7e55a533",
   "metadata": {},
   "source": [
    "All these points are tackled in the next section, as well as some proofs."
   ]
  },
  {
   "cell_type": "markdown",
   "id": "77b2bada",
   "metadata": {},
   "source": [
    "---"
   ]
  },
  {
   "cell_type": "markdown",
   "id": "8049d57f",
   "metadata": {},
   "source": [
    "# A complement to the PR: harmonic PR"
   ]
  },
  {
   "cell_type": "markdown",
   "id": "5081eb56",
   "metadata": {},
   "source": [
    "**For this section, assume that we want to find the model with the best $F_1$ score**"
   ]
  },
  {
   "cell_type": "markdown",
   "id": "65e7183c",
   "metadata": {},
   "source": [
    "A common question among data scientists is - which should I use to assess my model, the ROC curve or the PR curve?"
   ]
  },
  {
   "cell_type": "markdown",
   "id": "03c8f8f1",
   "metadata": {},
   "source": [
    "The answer is of course to use both, since they tell different stories. Mathematically, however, the ROC is definitely \"nicer\":"
   ]
  },
  {
   "cell_type": "markdown",
   "id": "828872c1",
   "metadata": {},
   "source": [
    "|Features of the ROC | Feature of PR|\n",
    "|---|---|\n",
    "|Interpretable area under the curve ROC AUC = $\\mathbb P (Z_1 \\geq Z_0)$|**AUC PR** not interpretable|\n",
    "|Invariant under class imbalance|The whole curve shifts when the imbalance ratio shifts|\n",
    "|Universal baseline: 45 degree line|No universal baseline|\n",
    "|Meaningful convex hull|Not linear - cannot take convex hull|"
   ]
  },
  {
   "cell_type": "markdown",
   "id": "6a6d577f",
   "metadata": {},
   "source": [
    "**Why is the curve not invariant under imbalance?**"
   ]
  },
  {
   "cell_type": "markdown",
   "id": "a4abb8f5",
   "metadata": {},
   "source": [
    "Recall from our discussion of the ROC curve that its $x$ and $y$ axes (FPR and TPR, respectively) do not change, mathematically speaking, if the ratio \n",
    "\n",
    "$$r = \\mbox{total positives / total negatives} = \\mathbb P (Y=1)/\\mathbb P(Y=0)$$\n",
    "\n",
    "changes. *This will not be the case for precision and recall*. To see this, let \n",
    "\n",
    "$$\\mathrm{ROC}:\\quad \\begin{align}\n",
    "\\mathbf x &= \\mbox{FPR} = \\mathbb P (\\hat y = 1|y = 0)\\\\\n",
    "\\mathbf y &= \\mbox{TPR} = \\mathbb P(\\hat y =1|y=1)\n",
    "\\end{align}$$\n",
    "\n",
    "be the coordinates of the ROC curve, and let \n",
    "\n",
    "$$\\mathrm{PR}:\\quad \\begin{align}\n",
    "\\mathbf x' &= \\mathrm{Recall} = \\mathbb P(\\hat y =1|y=1)\\\\\n",
    "\\mathbf y' &= \\mathrm{Precision} = \\mathbb P(y =1|\\hat y=1)\n",
    "\\end{align}$$"
   ]
  },
  {
   "cell_type": "markdown",
   "id": "ea85c37b",
   "metadata": {},
   "source": [
    "be those of the PR curve. \n",
    "\n",
    "Here, $\\mathbf x$ and $\\mathbf y$ are invariant under changes. Our goal is to express the primed coordinates in terms of the unprimed ones."
   ]
  },
  {
   "cell_type": "markdown",
   "id": "b9febf33",
   "metadata": {},
   "source": [
    "**Claim:** the precision and recall curve can be expressed as a *change of coordinates* of the ROC curve via\n",
    "\n",
    "$$\\boxed{\\begin{align}\n",
    "\\mathbf x' &= \\mathbf y\\\\\n",
    "\\mathbf y'&= \\frac{\\mathbf y}{\\mathbf y+ \\mathbf x/r}\n",
    "\\end{align}}$$"
   ]
  },
  {
   "cell_type": "markdown",
   "id": "296402d6",
   "metadata": {},
   "source": [
    "Then: all else being equal, recall is invariant under shifts in $r$, but **precision decreases**."
   ]
  },
  {
   "cell_type": "markdown",
   "id": "59840cc7",
   "metadata": {},
   "source": [
    "> Proof: there is nothing to prove regarding recall $\\mathbf x'$. For precision, we use Bayes' rule:\n",
    "$$\\begin{align}\n",
    "\\mathbf y'&= \\mathbb P(y =1|\\hat y=1)\\\\\n",
    "&= \\frac{\\mathbb P(\\hat y =1| y=1) \\mathbb P (y=1)}{\\mathbb P(\\hat y =1| y=1) \\mathbb P (y=1)+\\mathbb P(\\hat y =1| y=0) \\mathbb P (y=0)}\\\\\n",
    "&= \\frac{\\mathbf y \\mathbb P (y=1)}{\\mathbf{y} \\mathbb P (y=1)+ \\mathbf x \\mathbb P (y=0)}\\\\\n",
    "&= \\frac{\\mathbf y }{\\displaystyle \\mathbf{y} + \\mathbf x  \\frac{\\mathbb P (y=0)}{\\mathbb P (y=1)}}\\\\\n",
    "&= \\frac{\\mathbf y }{\\displaystyle \\mathbf{y} + \\frac{\\mathbf x}{r}}\n",
    "\\end{align}$$"
   ]
  },
  {
   "cell_type": "markdown",
   "id": "1c5594ee",
   "metadata": {},
   "source": [
    "Therefore, if $r$ shifts, \n",
    "* The precision curve naturally goes down\n",
    "* The area under the precision curve also goes down\n",
    "* Since (prove it)\n",
    "$$F_\\beta = \\frac{(1+\\beta^2) \\mathbf{y}}{\\displaystyle \\mathbf{y} + \\frac{\\mathbf x}{r} +\\beta^2}$$\n",
    "  then $F$-scores suffer from the same problem as precision.\n"
   ]
  },
  {
   "cell_type": "markdown",
   "id": "bba9527c",
   "metadata": {},
   "source": [
    "#### Visual proof of non-convexity in PR space"
   ]
  },
  {
   "cell_type": "markdown",
   "id": "bc435ab8",
   "metadata": {},
   "source": [
    "We have claimed above that a convex hull makes no sense in the PR space. We show this intuitively now.\n",
    "\n"
   ]
  },
  {
   "cell_type": "markdown",
   "id": "8696d645",
   "metadata": {},
   "source": [
    "We have previously created a function to calculate the convex hull of the ROC curve:"
   ]
  },
  {
   "cell_type": "code",
   "execution_count": 129,
   "id": "4d0eac0a",
   "metadata": {},
   "outputs": [],
   "source": [
    "from sklearn.metrics import roc_curve\n",
    "\n",
    "_, fpr_hull, tpr_hull = hull_roc_auc(y_test, y_test_pred)\n",
    "fpr, tpr, _ = roc_curve(y_test, y_test_pred)"
   ]
  },
  {
   "cell_type": "markdown",
   "id": "b9dc532a",
   "metadata": {},
   "source": [
    "We use the transformation derived above to plot these points on the PR plane. Technically speaking, we only have the vertices of the hull, so we need to create a linear interpolation to have more points to plot."
   ]
  },
  {
   "cell_type": "code",
   "execution_count": 130,
   "id": "2a5f5c77",
   "metadata": {},
   "outputs": [],
   "source": [
    "from scipy.interpolate import interp1d  # for 1d interpolation"
   ]
  },
  {
   "cell_type": "code",
   "execution_count": 131,
   "id": "a03bec7b",
   "metadata": {},
   "outputs": [],
   "source": [
    "pr_interp = interp1d(fpr_hull, tpr_hull)"
   ]
  },
  {
   "cell_type": "code",
   "execution_count": 132,
   "id": "3f965b22",
   "metadata": {},
   "outputs": [],
   "source": [
    "x_hull = np.linspace(0,1,num=500)\n",
    "y_hull = pr_interp(x_hull) "
   ]
  },
  {
   "cell_type": "markdown",
   "id": "66eb95cc",
   "metadata": {},
   "source": [
    "Now we apply the transformation and plot both the original ROC and its hull in the PR planme"
   ]
  },
  {
   "cell_type": "code",
   "execution_count": 133,
   "id": "243bd00d",
   "metadata": {},
   "outputs": [],
   "source": [
    "r = (y_test==1).sum()/(y_test==0).sum()"
   ]
  },
  {
   "cell_type": "code",
   "execution_count": 134,
   "id": "55995867",
   "metadata": {},
   "outputs": [],
   "source": [
    "def from_roc_to_pr(x, y, r):\n",
    "\n",
    "    from warnings import catch_warnings, simplefilter\n",
    "    \n",
    "    with catch_warnings():\n",
    "        simplefilter(\"ignore\")\n",
    "        return y, y/(y+x/r)"
   ]
  },
  {
   "cell_type": "code",
   "execution_count": 135,
   "id": "6cae521f",
   "metadata": {},
   "outputs": [],
   "source": [
    "rec, prec = from_roc_to_pr(fpr, tpr, r)\n",
    "rec_hull, prec_hull = from_roc_to_pr(x_hull, y_hull, r)\n",
    "rec_hull_markers, prec_hull_markers = from_roc_to_pr(fpr_hull, tpr_hull, r)"
   ]
  },
  {
   "cell_type": "code",
   "execution_count": 136,
   "id": "cf5d6737",
   "metadata": {},
   "outputs": [
    {
     "data": {
      "image/png": "[encoded data removed]",
      "text/plain": [
       "<Figure size 720x360 with 2 Axes>"
      ]
     },
     "metadata": {
      "needs_background": "light"
     },
     "output_type": "display_data"
    }
   ],
   "source": [
    "fig, ax = plt.subplots(figsize=(10,5), ncols=2)\n",
    "\n",
    "import string\n",
    "\n",
    "ax[0].plot(fpr, tpr, label='ROC')\n",
    "ax[0].plot(fpr_hull, tpr_hull, label='ROC hull', marker='o', linestyle='--', color='orange')\n",
    "ax[0].legend()\n",
    "ax[0].set_title(\"ROC curve and convex hull\")\n",
    "ax[0].set_xlabel(\"FPR\")\n",
    "ax[0].set_ylabel(\"TPR\")\n",
    "\n",
    "for letter, i in zip(string.ascii_uppercase, range(len(fpr_hull))):\n",
    "    ax[0].annotate(letter, (fpr_hull[i]*1.02, tpr_hull[i]*0.96))\n",
    "\n",
    "\n",
    "ax[1].plot(rec, prec, label='Original')\n",
    "ax[1].plot(rec_hull, prec_hull, label='PR hull', linestyle='--', color='orange')\n",
    "ax[1].scatter(rec_hull_markers, prec_hull_markers, marker='o', color='orange')\n",
    "\n",
    "for letter, i in zip(string.ascii_uppercase, range(len(rec_hull_markers))):\n",
    "    ax[1].annotate(letter, (rec_hull_markers[i]*1.02, prec_hull_markers[i]))\n",
    "    \n",
    "ax[1].legend()\n",
    "ax[1].set_title(\"Same model curves, PR plane\")\n",
    "ax[1].set_xlabel(\"Recall\")\n",
    "ax[1].set_ylabel(\"Precision\")\n",
    "\n",
    "plt.tight_layout()\n",
    "plt.show()"
   ]
  },
  {
   "cell_type": "markdown",
   "id": "30921a23",
   "metadata": {},
   "source": [
    "As you can see, the hull is mapped to a very non-convex shape; the part between points M and N shows clearly that the hull becomes curved in this new space. Therefore, starting out from the PR curve, there is no simple linear structure as the one we had in the ROC plane.\n",
    "> Indeed, since the mapping is $x'= y$ and $y'= y/(y+x/r)$, any straight line $y = ax+ b$ becomes, in primed variables,\n",
    "$$y'= \\frac{x'}{\\displaystyle x'+ \\frac 1r (\\frac ya - b)} =  \\frac{1}{\\displaystyle 1+ \\frac 1{ra} - \\frac{b}{rx'}}$$"
   ]
  },
  {
   "cell_type": "markdown",
   "id": "86225f17",
   "metadata": {},
   "source": [
    "### What is a baseline to compare models?"
   ]
  },
  {
   "cell_type": "markdown",
   "id": "5b7b7826",
   "metadata": {},
   "source": [
    "In the ROC case, the family of random classifiers corresponds to the 45 degree line and it is a universal baseline.\n",
    "\n",
    "In the PR case, we don't have that. Instead, we know the \"worst\" classifier is the one in the bottom right-hand corner of the PR plane, namely the \"all-positives\" model predicting $\\hat y=1$ for all $x$, which has recall equal to 1 and precision equal to $\\pi_1 = \\mathbb P(Y=1)$. This model has an $F_1$ score of\n",
    "\n",
    "$$(F_1)_\\mathrm{baseline} = \\frac{2\\pi_1}{1+\\pi_1}$$"
   ]
  },
  {
   "cell_type": "markdown",
   "id": "eacd5b8b",
   "metadata": {},
   "source": [
    "**If the metric we care the most about is $F_1$**, (as is the assumption in this section), then there is no point in choosing a model with $F_1 < (F_1)_\\mathrm{baseline}$. This constraint actually splits the PR plane into two components, separated by\n",
    "\n",
    "$$F_1 = (F_1)_\\mathrm{baseline}\\quad \\Rightarrow\\quad \\frac{1}{\\mathrm{Precision}} + \\frac{1}{\\mathrm{Recall}} = 1 + \\frac{1}{\\pi_1}$$"
   ]
  },
  {
   "cell_type": "code",
   "execution_count": 137,
   "id": "61691675",
   "metadata": {},
   "outputs": [
    {
     "name": "stderr",
     "output_type": "stream",
     "text": [
      "<ipython-input-137-e47806ebc338>:13: RuntimeWarning: divide by zero encountered in true_divide\n",
      "  frontier = np.where(xaxis < pi,1, 1/(1 + 1/pi - 1/xaxis))\n"
     ]
    },
    {
     "data": {
      "image/png": "[encoded data removed]",
      "text/plain": [
       "<Figure size 360x360 with 1 Axes>"
      ]
     },
     "metadata": {
      "needs_background": "light"
     },
     "output_type": "display_data"
    }
   ],
   "source": [
    "plt.subplots(figsize=(5,5))\n",
    "\n",
    "plt.plot(rec, prec, label='Test PR')\n",
    "\n",
    "# build baseline model\n",
    "pi = y_test.mean()\n",
    "\n",
    "baseline_rec = np.linspace(pi, 1)\n",
    "baseline_prec =  1/(1 + 1/pi - 1/baseline_rec)\n",
    "\n",
    "# for plotting purposes\n",
    "xaxis = np.linspace(0,1)\n",
    "frontier = np.where(xaxis < pi,1, 1/(1 + 1/pi - 1/xaxis))\n",
    "\n",
    "plt.fill_between(xaxis, 1, frontier, color='green', alpha=0.1, label='High F1')\n",
    "plt.fill_between(xaxis, 0, frontier, color='red', alpha=0.1, label='Low F1')\n",
    "\n",
    "plt.plot(baseline_rec, baseline_prec, label='Iso-F1 frontier', linestyle='--', color='black')\n",
    "plt.legend(loc='lower left')\n",
    "\n",
    "plt.xlabel(\"Recall\")\n",
    "plt.ylabel(\"Precision\")\n",
    "plt.show()"
   ]
  },
  {
   "cell_type": "markdown",
   "id": "8a127dd0",
   "metadata": {},
   "source": [
    "In this sense, all classifiers lying in the red zone are worse than the all-positive one. We want to find models which somehow maximize our \"presence\" in the green region."
   ]
  },
  {
   "cell_type": "markdown",
   "id": "7af16b19",
   "metadata": {},
   "source": [
    "> This discussion assumes we want to maximize $F_1$. One could define analogous Iso-$F_\\beta$ curves for other use cases."
   ]
  },
  {
   "cell_type": "markdown",
   "id": "0762f573",
   "metadata": {},
   "source": [
    "> By symmetry of the hyperbola, we see that models with $\\mathrm{Recall} < \\pi_1$ are completely excluded, because all of them have $F_1$ smaller than the baseline one."
   ]
  },
  {
   "cell_type": "markdown",
   "id": "853d4c72",
   "metadata": {},
   "source": [
    "### How can we fix the imbalance problem?\n"
   ]
  },
  {
   "cell_type": "markdown",
   "id": "125b2a32",
   "metadata": {},
   "source": [
    "The main issue that PR has is imbalance. Somehow we want to create a universal baseline which allows us to compare eg. areas under the curve across datasets in a meaningful way. It turns out we can do this with a proper **rescaling** of the precision and recall metrics."
   ]
  },
  {
   "cell_type": "markdown",
   "id": "01e77396",
   "metadata": {},
   "source": [
    "**Def [harmonic rescaling]**. Let $a, b$ with $b>a>0$ be two real paramters. The harmonic rescaling of a number $x \\neq 0$ betweeen $a$ and $b$ is\n",
    "\n",
    "$$\\mathrm{hScale}(x; a, b) = \\frac{1/x-1/a}{1/b-1/a}$$"
   ]
  },
  {
   "cell_type": "markdown",
   "id": "e48018a4",
   "metadata": {},
   "source": [
    "Notice that this is different from a linear rescaling $(x-a)/(b-a)$ (in fact, the harmonically scaled variable is larger than its linear counterpart) but both make it so that the variable takes the value 0 at $x=a$ and 1 at $x=b$."
   ]
  },
  {
   "cell_type": "code",
   "execution_count": 138,
   "id": "2ee8aa59",
   "metadata": {},
   "outputs": [
    {
     "data": {
      "image/png": "[encoded data removed]",
      "text/plain": [
       "<Figure size 432x288 with 1 Axes>"
      ]
     },
     "metadata": {
      "needs_background": "light"
     },
     "output_type": "display_data"
    }
   ],
   "source": [
    "a, b = 6, 12\n",
    "x = np.linspace(a, b)\n",
    "plt.plot(x, (x-a)/(b-a), label='Linar rescaling')\n",
    "plt.plot(x, (1/x-1/a)/(1/b-1/a), label='Harmonic rescaling')\n",
    "plt.legend()\n",
    "plt.show()"
   ]
  },
  {
   "cell_type": "markdown",
   "id": "1a5c59e4",
   "metadata": {},
   "source": [
    "**Def [harmonic precision & recall]** Let $\\pi_1 = \\mathbb P (y=1)$ be the prevalence of class 1. The harmonic precision and recall are defined as\n",
    "\n",
    "$$\\boxed{\\mathrm{hPrecision} := \\mathrm{hScale}(\\mathrm{Precision}; a=\\pi_1, b=1)}$$\n",
    "$$\\boxed{\\mathrm{hRecall} := \\mathrm{hScale}(\\mathrm{Recall}; a=\\pi_1, b=1)}$$"
   ]
  },
  {
   "cell_type": "markdown",
   "id": "750b8e1e",
   "metadata": {},
   "source": [
    "Notice that this will map precision from $[\\pi_1,1]$ into $[0,1]$ perfectly. For recall, there are two domains: the part with recall in $[0, \\pi_1]$ will be mapped to negative harmonic recall, whereas the region $[\\pi_1, 1]$ will be mapped to positive harmonic recalls."
   ]
  },
  {
   "cell_type": "markdown",
   "id": "fd71ce76",
   "metadata": {},
   "source": [
    "> Again, in the situation where $F_1$ is our reference metric, it is OK to ignore the negative harmonic recall region, since all models in this region perform worse than the baseline model."
   ]
  },
  {
   "cell_type": "markdown",
   "id": "e646ef21",
   "metadata": {},
   "source": [
    "Because of that, the $y$-axis intercept (ie. the point where $\\mathrm{hRecall}=0$) happens not at $\\mathrm{hPrecision} = 1$, but at some point between 0 and 1."
   ]
  },
  {
   "cell_type": "code",
   "execution_count": 139,
   "id": "9310c53a",
   "metadata": {},
   "outputs": [],
   "source": [
    "def harm_scale(x, a, b):\n",
    "\n",
    "    from warnings import catch_warnings, simplefilter\n",
    "    \n",
    "    with catch_warnings():\n",
    "        simplefilter(\"ignore\")\n",
    "        res = (x-a)*b/(x* (b-a))\n",
    "    return res\n",
    "\n",
    "def from_pr_to_harmonic_pr(rec, prec, r):\n",
    "    \n",
    "    pi1 = r/(r+1)\n",
    "    hprec = harm_scale(prec, pi1, 1)\n",
    "    hrec  = harm_scale(rec, pi1, 1)\n",
    "    \n",
    "    # restrict to [0,1]\n",
    "    restriction = hrec >= 0\n",
    "    hrec, hprec = hrec[restriction], hprec[restriction]\n",
    "    \n",
    "    return hrec, hprec\n",
    "\n",
    "\n",
    "def from_roc_to_harmonic_pr(fpr, tpr, r):\n",
    "    \n",
    "    rec, prec = from_roc_to_pr(fpr, tpr, r)\n",
    "\n",
    "    return from_pr_to_harmonic_pr(rec, prec, r)\n",
    "\n",
    "\n",
    "def harmonic_precision_recall(y_true, y_pred):\n",
    "    \n",
    "    from sklearn.metrics import roc_curve, precision_recall_curve\n",
    "    \n",
    "    prec, rec, thresh = precision_recall_curve(y_true, y_pred)\n",
    "\n",
    "    r = (y_true==1).sum()/(y_true==0).sum()\n",
    "    pi1 = r/(r+1)\n",
    "    \n",
    "    hprec = harm_scale(prec, pi1, 1)\n",
    "    hrec  = harm_scale(rec, pi1, 1)\n",
    "    \n",
    "    # restrict to [0,1]\n",
    "    restriction = hrec >= 0\n",
    "    hrec, hprec, thresh = hrec[restriction], hprec[restriction], thresh[restriction[:-1]]\n",
    "    \n",
    "    return hprec, hrec, thresh\n",
    "\n",
    "def plot_harmonic_precision_recall(y_true, y_pred, ax, label=False):\n",
    "    \n",
    "    from sklearn.metrics import auc\n",
    "    \n",
    "    hprec, hrec, _ = harmonic_precision_recall(y_true, y_pred)\n",
    "    area = auc(hrec, hprec)\n",
    "    \n",
    "    ax.plot(hrec,hprec, label='hPR (area={0:.2f})'.format(area))\n",
    "    \n",
    "    x = np.linspace(0,1)\n",
    "    if label:\n",
    "        ax.plot(x,1-x, linestyle='--', color= 'gray', label='All-positive')\n",
    "    else:\n",
    "        ax.plot(x,1-x, linestyle='--', color= 'gray')\n",
    "    ax.set_xlim(-0.05,1.05)"
   ]
  },
  {
   "cell_type": "code",
   "execution_count": 140,
   "id": "442cf3cb",
   "metadata": {},
   "outputs": [
    {
     "data": {
      "image/png": "[encoded data removed]",
      "text/plain": [
       "<Figure size 360x360 with 1 Axes>"
      ]
     },
     "metadata": {
      "needs_background": "light"
     },
     "output_type": "display_data"
    }
   ],
   "source": [
    "plt.subplots(figsize=(5,5))\n",
    "\n",
    "# calculate harmonic PR\n",
    "hrec, hprec = from_roc_to_harmonic_pr(fpr, tpr, r)\n",
    "hrec_hull, hprec_hull = from_roc_to_harmonic_pr(fpr_hull, tpr_hull, r)\n",
    "hrec_hull_interp, hprec_hull_interp = from_roc_to_harmonic_pr(x_hull, y_hull, r)\n",
    "\n",
    "plt.plot(hrec, hprec, label='Original')\n",
    "plt.scatter(hrec_hull, hprec_hull, color='orange', marker='o')\n",
    "plt.plot(hrec_hull_interp, hprec_hull_interp, color='orange', linestyle='--', label='PR hull')\n",
    "\n",
    "plt.xlabel('Harmonic recall'); plt.ylabel('Harmonic precision')\n",
    "plt.title('Harmonic PR curve')\n",
    "plt.legend()\n",
    "plt.show()"
   ]
  },
  {
   "cell_type": "markdown",
   "id": "3e4c090e",
   "metadata": {},
   "source": [
    "We find a very interesting fact: in this plane, **the (ROC) convex hull is mapped to the (harmonic PR) convex hull!** This is a consequence of the more general fact that **straight lines in the ROC plane are straight lines in the harmonic PR plane**."
   ]
  },
  {
   "cell_type": "markdown",
   "id": "c558f658",
   "metadata": {},
   "source": [
    "We prove this in the Theorem below:\n"
   ]
  },
  {
   "cell_type": "markdown",
   "id": "90907577",
   "metadata": {},
   "source": [
    "**[Theorem]** Consider two classifiers $c_A$ and $c_B$ with coordinates $(\\mathrm{hRecall_A, hPrecision_A})$ and $(\\mathrm{hRecall_B, hPrecision_B})$ in the harmonic PR plane. Then, for any point in the segment between $c_A$ and $c_B$, with coordinates $(\\mathrm{hRecall_*, hPrecision_*})$, there is a classifier $c_*$ which can be obtained as follows.\n",
    "\n",
    "First, let \n",
    "\n",
    "$$\\displaystyle \\mu = \\mathrm{\\frac{hRecall_*-hRecall_B}{hRecall_A - hRecall_B}} = \\mathrm{\\frac{hPrecision_*-hPrecision_B}{hPrecision_A - hPrecision_B}}$$ \n",
    "\n",
    "(so that $c_*$ is at a normalized distance $\\mu$ from $c_B$ and $1-\\mu$ from $c_A$). Also let \n",
    "\n",
    "$$\\lambda = \\frac{\\mu \\mathrm{TPR_B}}{\\mu \\mathrm{TPR_B} + (1-\\mu) \\mathrm{TPR_A}}$$\n",
    "\n",
    "Then, the classifier given by\n",
    "\n",
    "$$c_*(x) = \\begin{cases}\n",
    "c_A(x) & \\mbox{with probability}\\; \\lambda\\\\\n",
    "c_B(x) & \\mbox{with probability}\\;1-\\lambda\n",
    "\\end{cases}$$\n",
    "\n",
    "has the desired values for $\\mathrm{hRecall, hPrecision}$. As we saw in the ROC session, the classifier above is one in the straight line segment between $c_A$ and $c_B$ in the ROC plane."
   ]
  },
  {
   "cell_type": "markdown",
   "id": "6c3cf56f",
   "metadata": {},
   "source": [
    "> Proof: we start by noticing that $$\\mathrm{hPrecision = 1 - \\frac{FPR}{TPR}},$$ which is easy to prove by using the fact that\n",
    "$$\\mathrm{Precision} = \\frac{\\mathrm{TPR}}{\\mathrm{TPR}+\\mathrm{FPR}/r}$$\n",
    "(where $r = \\mathbb P(Y=1)/\\mathbb P(Y=0) = \\pi/(1-\\pi)$ is the imbalance ratio and  $\\pi = \\mathbb P(Y=1)$ is the prevalence).\n",
    "Now, from our discussion on the ROC curve, we know the classifier $c_*$ built above has a false positive rate of $$\\mathrm{FPR}[c_*] = \\lambda \\mathrm{FPR_A} + (1-\\lambda) \\mathrm{ FPR_B},$$ and analogously for the true positive rate. Then, its harmonic precision equals (we will only do the derivation for precision; that of recall follows analogously)\n",
    "$$\\begin{align}\n",
    "\\mathrm{hPrecision}[c_*] &= 1 - \\frac{\\mathrm{TPR}[c_*]}{\\mathrm{FPR}[c_*]}\\\\\n",
    "&= 1 - \\frac{\\lambda \\mathrm{FPR_A} + (1-\\lambda) \\mathrm{FPR_B}}{\\lambda \\mathrm{TPR_A} + (1-\\lambda) \\mathrm{TPR_B}}\\\\\n",
    "&=\\frac{\\lambda \\mathrm{TPR_A} + (1-\\lambda) \\mathrm{TPR_B} -\\lambda \\mathrm{FPR_A} - (1-\\lambda) \\mathrm{FPR_B}}{\\lambda \\mathrm{TPR_A} + (1-\\lambda) \\mathrm{TPR_B}}\\\\\n",
    "&= \\frac{1}{\\lambda \\mathrm{TPR_A} + (1-\\lambda) \\mathrm{TPR_B}} \\left[ \\lambda \\mathrm{TPR_A} \\left( 1 - \\mathrm{\\frac{TPR_A}{FPR_A}} \\right) + (1-\\lambda) \\mathrm{TPR_B} \\left( 1 - \\mathrm{\\frac{TPR_B}{FPR_B}} \\right) \\right]\\\\\n",
    "&= \\frac{\\lambda \\mathrm{TPR_A}}{\\lambda \\mathrm{TPR_A} + (1-\\lambda) \\mathrm{TPR_B}} \\mathrm{hPrecision_A} + \\frac{(1-\\lambda) \\mathrm{TPR_B}}{\\lambda \\mathrm{TPR_A} + (1-\\lambda) \\mathrm{TPR_B}} \\mathrm{hPrecision_B}\\\\\n",
    "&= \\mu \\, \\mathrm{hPrecision_A} + (1-\\mu) \\, \\mathrm{hPrecision_B}\n",
    "\\end{align}$$\n",
    "where we have inverted the definition of $\\lambda$ to give \n",
    "$$\\mu = \\frac{\\lambda \\mathrm{TPR_A}}{\\lambda \\mathrm{TPR_A} + (1-\\lambda) \\mathrm{TPR_B}}.$$\n",
    "Finally, applying the original definition of $\\mu$, we find $\\mathrm{hPrecision}[c_*] = \\mathrm{hPrecision}_*$ as claimed."
   ]
  },
  {
   "cell_type": "markdown",
   "id": "4c9c2644",
   "metadata": {},
   "source": [
    "The cool thing about this is that we can construct hulls in the harmonic PR plane in the exact same way we do for the ROC plane, and they will still be meaningful."
   ]
  },
  {
   "cell_type": "markdown",
   "id": "2fd1ded0",
   "metadata": {},
   "source": [
    "#### Baseline for the harmonic PR plane"
   ]
  },
  {
   "cell_type": "markdown",
   "id": "c0960ed0",
   "metadata": {},
   "source": [
    "It becomes clear from the previous discussion that, **in the scenario we want to find classifiers which maximize $F_1$**, our baseline is the all-positive classifier lying in the bottom right corner of the PR plane, as well as all classifiers in the boundary parabola which share the same $F_1$ value with it."
   ]
  },
  {
   "cell_type": "markdown",
   "id": "32c7456b",
   "metadata": {},
   "source": [
    "Below, we plot our old friend, the logistic regression model; an improved gradient boosting model; and the baseline."
   ]
  },
  {
   "cell_type": "code",
   "execution_count": 141,
   "id": "d81d7241",
   "metadata": {},
   "outputs": [],
   "source": [
    "# Train better model for the sake of comparison\n",
    "hist_model = HistGradientBoostingClassifier()\n",
    "hist_model.fit(X_train, y_train)\n",
    "y_test_pred_hist = hist_model.predict_proba(X_test)[:,1]"
   ]
  },
  {
   "cell_type": "code",
   "execution_count": 142,
   "id": "77e4dcbb",
   "metadata": {},
   "outputs": [
    {
     "data": {
      "image/png": "[encoded data removed]",
      "text/plain": [
       "<Figure size 864x288 with 3 Axes>"
      ]
     },
     "metadata": {
      "needs_background": "light"
     },
     "output_type": "display_data"
    }
   ],
   "source": [
    "fig, ax = plt.subplots(figsize=(12,4), ncols=3)\n",
    "\n",
    "## ROC plane\n",
    "RocCurveDisplay.from_predictions(y_test, y_test_pred, ax=ax[0], name='Log. Reg.')\n",
    "RocCurveDisplay.from_predictions(y_test, y_test_pred_hist, ax=ax[0], name='Boosting')\n",
    "x = np.linspace(0,1)\n",
    "ax[0].plot(x,x, linestyle='--', color='gray', label='Baseline random model' )\n",
    "ax[0].set_title(\"ROC curve\")\n",
    "ax[0].legend()\n",
    "\n",
    "## PR plane\n",
    "# PR curve\n",
    "prec, rec, _ = precision_recall_curve(y_test, y_test_pred)\n",
    "prec_hist, rec_hist, _ = precision_recall_curve(y_test, y_test_pred_hist)\n",
    "\n",
    "# baseline curve\n",
    "pi = y_test.mean()\n",
    "x = np.linspace(pi,1)\n",
    "y = 1/(-1/x + (1+1/pi))\n",
    "\n",
    "ax[1].plot(rec, prec, label='Log. Reg.')\n",
    "ax[1].plot(rec_hist, prec_hist, label='Boosting')\n",
    "ax[1].plot(x, y, linestyle='--', color='gray', label='Baseline F1 model')\n",
    "ax[1].set_title(\"PR curve\")\n",
    "ax[1].set_xlabel(\"Recall\"); ax[1].set_ylabel(\"Precision\")\n",
    "ax[1].legend()\n",
    "\n",
    "## harmonic PR plane\n",
    "plot_harmonic_precision_recall(y_test, y_test_pred, ax[2])\n",
    "plot_harmonic_precision_recall(y_test, y_test_pred_hist, ax[2])\n",
    "ax[2].set_title(\"Harmonic PR curve\")\n",
    "ax[2].set_xlabel(\"Harmonic recall\"); ax[2].set_ylabel(\"Harmonic precision\")\n",
    "ax[2].legend()\n",
    "\n",
    "plt.tight_layout()\n",
    "plt.show()"
   ]
  },
  {
   "cell_type": "markdown",
   "id": "0d799e06",
   "metadata": {},
   "source": [
    "Notice how the gradient boosting model is evidently superior to the logistic regression model, and how the analysis is simpler in the harmonic PR plane. In fact, its area is about twice as large as that of the logistic regression - which leads us to our next discussion, the interpretation of this area."
   ]
  },
  {
   "cell_type": "markdown",
   "id": "a98f2ff8",
   "metadata": {},
   "source": [
    "> Before we finish: we leave a `sklearn`-friendly metric which can be used for model evaluation"
   ]
  },
  {
   "cell_type": "code",
   "execution_count": 165,
   "id": "f3d46979",
   "metadata": {},
   "outputs": [],
   "source": [
    "def harmonic_auc(y_true, y_probs):\n",
    "    \"\"\"Calculates the area under the harmonic PR curve\"\"\"\n",
    "    from sklearn.metrics import auc\n",
    "    \n",
    "    hprec, hrec, _ = harmonic_precision_recall(y_true, y_probs)\n",
    "    return auc(hrec, hprec)"
   ]
  },
  {
   "cell_type": "markdown",
   "id": "21c212db",
   "metadata": {},
   "source": [
    "### Area under the harmonic PR curve"
   ]
  },
  {
   "cell_type": "markdown",
   "id": "632c3ec7",
   "metadata": {},
   "source": [
    "TODO: falar de $\\mathbb{E}[FG_\\beta]$"
   ]
  },
  {
   "cell_type": "markdown",
   "id": "d083b2cf",
   "metadata": {},
   "source": [
    "### References\n",
    "\n",
    "\n",
    "Peter A. Flach and Meelis Kull, *Precision-Recall-Gain Curves: PR Analysis Done Right*, NeurIPS 2015. http://people.cs.bris.ac.uk/~flach/PRGcurves//\n",
    "* In this original paper the authors present what they call the precision/recall-gain (which we have renamed to harmonic precision/recall). Our Theorem in this section follows from their Theorem 1, adapted."
   ]
  },
  {
   "cell_type": "markdown",
   "id": "3f8d264d",
   "metadata": {},
   "source": [
    "---"
   ]
  },
  {
   "cell_type": "markdown",
   "id": "e61f18c8",
   "metadata": {},
   "source": [
    "# Finding optimal thresholds: from math to business"
   ]
  },
  {
   "cell_type": "markdown",
   "id": "3b0b2390",
   "metadata": {},
   "source": [
    "Recall that a threshold is what converts a score into a binary classification: if $f$ is our score function and $\\lambda$ is the threshold, then\n",
    "\n",
    "$$\\hat{y}(x) = \\begin{cases}\n",
    "1 & \\mbox{if } f(x) \\geq \\lambda \\\\\n",
    "0 & \\mbox{if } f(x) < \\lambda\n",
    "\\end{cases}$$\n",
    "is a binary classifier.\n",
    "\n",
    "The `scikit-learn` library uses 0.5 as its standard threshold, but in reality, we more than often need to choose the best threshold in a customized way. This of course requires us to define what \"best\" means."
   ]
  },
  {
   "cell_type": "markdown",
   "id": "bb211f29",
   "metadata": {},
   "source": [
    "Why discuss thresholds? Because real-life business decisions often require our data science model to answer yes or no. Should we give credit to this customer - yes or no? Should this person take this medication - yes or no? In these situations, continuous scores are not enough, and we must find a threshold allowing to convert them into 0s and 1s."
   ]
  },
  {
   "cell_type": "markdown",
   "id": "b2eebe01",
   "metadata": {},
   "source": [
    "**The basic philosophy is to pick a threshold such that some metric is maximized or minimized**. Indeed, we have already seen a zoo of metrics:"
   ]
  },
  {
   "cell_type": "markdown",
   "id": "0ee48132",
   "metadata": {},
   "source": [
    "* Some, like the ROC AUC or PR AUC do not depend on the threshold. They solely depend on the model $f$\n",
    "* Some, like precision, recall, true positive rate, do depend on the threshold. They depend on both $f$ and $\\lambda$."
   ]
  },
  {
   "cell_type": "markdown",
   "id": "4b926a1e",
   "metadata": {},
   "source": [
    "There is a third class of metrics that we have not discussed, but which are as (if not more) important:\n",
    "* Business metrics, which calculate how much money / users / new customers etc will be created or destroyed depending on the metric."
   ]
  },
  {
   "cell_type": "markdown",
   "id": "2c22303a",
   "metadata": {},
   "source": [
    "Business metrics are very important, because in the end of the day, your machine learning model will be used in the real world and whatever recommendations it gives will impact business metrics. "
   ]
  },
  {
   "cell_type": "markdown",
   "id": "00e75ccc",
   "metadata": {},
   "source": [
    "Therefore, we will split our analysis in two: we start with the simpler, more universal and more familiar **mathematical metrics**, which will set the stage for the discussion of **business metrics** afterwards."
   ]
  },
  {
   "cell_type": "markdown",
   "id": "73c46aac",
   "metadata": {},
   "source": [
    "## Mathematical metrics"
   ]
  },
  {
   "cell_type": "markdown",
   "id": "c95a84cf",
   "metadata": {},
   "source": [
    "First, assume that $f$ is fixed (which is equivalent to having a fixed list of predicted scores from a single machine learning model).\n",
    "\n",
    "Then, a threshold-dependent metric such as $F_\\beta$ (which we will use as our example in this section) is a function of $\\lambda$ alone, and we can find the optimal threshold $\\lambda^*$ via standard calculus:\n",
    "\n",
    "$$\\lambda^* = \\mathrm{arg} \\max_\\lambda F_1(\\lambda)$$"
   ]
  },
  {
   "cell_type": "markdown",
   "id": "caca1526",
   "metadata": {},
   "source": [
    "In practice, we create a list of values $\\{\\lambda_1,\\ldots,\\lambda_n\\}$ and calculate $F_1(\\lambda)$ at each of them. Then we select the value $\\lambda_i$ which maximizes $F_1$."
   ]
  },
  {
   "cell_type": "code",
   "execution_count": 60,
   "id": "71d917c1",
   "metadata": {},
   "outputs": [],
   "source": [
    "def binarize(y_probs, thresh):\n",
    "    \"\"\"\n",
    "    Returns a 0/1 array from an array of probabilities\n",
    "    given a threshold\n",
    "    \"\"\"\n",
    "    return np.where(y_probs >= thresh, 1, 0)\n",
    "\n",
    "def metric_over_thresholds(metric, y_true, y_probs, num_partition=100, optimal='max'):\n",
    "    \n",
    "    \"\"\"\n",
    "    Calculates a metric over several different threshold values\n",
    "    metric must be able to received a named field y_true, y_pred\n",
    "    \n",
    "    If the optimal metric is that with maximum value, set optimal=max,\n",
    "    otherwise set optimal=min.\n",
    "    \"\"\"\n",
    "    \n",
    "    assert optimal in ['max', 'min'], \"Parameter optimal must be max or min\"\n",
    "    \n",
    "    thresholds = np.linspace(0, 1, num=num_partition)\n",
    "    metrics = np.array([metric(y_true, binarize(y_probs, t)) for t in thresholds])\n",
    "    \n",
    "    if optimal == 'max':\n",
    "        optimal_thresh = thresholds[np.argmax(metrics)]\n",
    "    else:\n",
    "        optimal_thresh = thresholds[np.argmin(metrics)]\n",
    "    \n",
    "    return thresholds, metrics, optimal_thresh"
   ]
  },
  {
   "cell_type": "markdown",
   "id": "b38e5160",
   "metadata": {},
   "source": [
    "Having defined the necessary functions, we calculate threshold curves for different metrics: here, we shall use MCC, F1, F2.\n",
    "> Notice that F2 requires us to pass `beta` separately, so we use the `partial` method from `functools`; one could equivalently define F2 as `lambda y_true, y_pred: fbeta_score(y_true, y_pred, beta=2)`\n",
    "\n"
   ]
  },
  {
   "cell_type": "code",
   "execution_count": 155,
   "id": "bb74b4f9",
   "metadata": {},
   "outputs": [],
   "source": [
    "from sklearn.metrics import matthews_corrcoef, f1_score, fbeta_score\n",
    "from sklearn.metrics import precision_score, recall_score, accuracy_score,log_loss\n",
    "from functools import partial\n",
    "\n",
    "_, mcc, best_thresh_mcc = metric_over_thresholds(matthews_corrcoef, y_test, y_test_pred)\n",
    "_, f1, best_thresh_f1 = metric_over_thresholds(f1_score, y_test, y_test_pred)\n",
    "thresh, f2, best_thresh_f2 = metric_over_thresholds(partial(fbeta_score, beta=2), y_test, y_test_pred)"
   ]
  },
  {
   "cell_type": "code",
   "execution_count": 156,
   "id": "ce593f97",
   "metadata": {},
   "outputs": [
    {
     "data": {
      "image/png": "[encoded data removed]",
      "text/plain": [
       "<Figure size 720x360 with 1 Axes>"
      ]
     },
     "metadata": {
      "needs_background": "light"
     },
     "output_type": "display_data"
    }
   ],
   "source": [
    "import matplotlib.ticker as plticker\n",
    "\n",
    "fig, ax = plt.subplots(figsize=(10,5))\n",
    "\n",
    "# MCC plot\n",
    "ax.plot(thresh, mcc, label='MCC', color='orange')\n",
    "ax.axvline(best_thresh_mcc, linestyle='--', color='orange',label= \"Best MCC (@{0:.2f})\".format(best_thresh_mcc))\n",
    "\n",
    "# F1 plot\n",
    "ax.plot(thresh, f1, label='F1', color='blue')\n",
    "ax.axvline(best_thresh_f1, linestyle='--', color='blue',label= \"Best F1 (@{0:.2f})\".format(best_thresh_f1))\n",
    "\n",
    "# F2 plot\n",
    "ax.plot(thresh, f2, label='F2', color='green')\n",
    "ax.axvline(best_thresh_f2, linestyle='--', color='green',label= \"Best F2 (@{0:.2f})\".format(best_thresh_f2))\n",
    "\n",
    "# plot settings\n",
    "ax.set_xlabel('Threshold')\n",
    "ax.set_ylabel('Metrics')\n",
    "loc = plticker.MultipleLocator(base=0.1) # this locator puts ticks at regular intervals\n",
    "ax.xaxis.set_major_locator(loc)\n",
    "plt.title(\"Selected metrics as functions of threshold\")\n",
    "plt.legend()\n",
    "plt.show()"
   ]
  },
  {
   "cell_type": "markdown",
   "id": "0c1259f2",
   "metadata": {},
   "source": [
    "We can also plot several metrics of interest, when using the optimal threshold we just found:"
   ]
  },
  {
   "cell_type": "code",
   "execution_count": 63,
   "id": "487094e8",
   "metadata": {},
   "outputs": [],
   "source": [
    "def plot_point_metrics(list_of_metrics, metric_names, y_true, y_pred, ax):\n",
    "    \"\"\"\n",
    "    Given a list of sklearn threshold-dependent metrics, a list of \n",
    "    trye labels y_true, and binary predictions y_pred, compute and plot the metrics\n",
    "    \"\"\"\n",
    "    y = [metric(y_true, y_pred) for metric in list_of_metrics]\n",
    "    x = metric_names\n",
    "    \n",
    "    bar = ax.bar(x, y, color='orange')\n",
    "    \n",
    "    ax.set_xticks(x)\n",
    "    ax.set_xticklabels(x, rotation=40)\n",
    "    ax.set_ylim(0, 1.05)\n",
    "    loc = plticker.MultipleLocator(base=0.1) # this locator puts ticks at regular intervals\n",
    "    ax.yaxis.set_major_locator(loc)\n",
    "\n",
    "    for rect in bar:\n",
    "        height = rect.get_height()\n",
    "        ax.text(rect.get_x() + rect.get_width() / 2.0, height, f'{height:.2f}', ha='center', va='bottom')\n"
   ]
  },
  {
   "cell_type": "code",
   "execution_count": 64,
   "id": "a6d47bbe",
   "metadata": {},
   "outputs": [
    {
     "data": {
      "image/png": "[encoded data removed]",
      "text/plain": [
       "<Figure size 432x288 with 1 Axes>"
      ]
     },
     "metadata": {
      "needs_background": "light"
     },
     "output_type": "display_data"
    }
   ],
   "source": [
    "fig, ax = plt.subplots()\n",
    "plot_point_metrics([matthews_corrcoef, f1_score, partial(fbeta_score, beta=2)],\n",
    "                   metric_names=['MCC', 'F1', 'F2'],\n",
    "                  y_true=y_test,\n",
    "                  y_pred=binarize(y_test_pred, thresh=best_thresh_mcc),\n",
    "                  ax=ax)"
   ]
  },
  {
   "cell_type": "markdown",
   "id": "078748c0",
   "metadata": {},
   "source": [
    "Notice that both MCC and F1 select $\\lambda^* = 0.29$ as the optimal threshold. F2 selects a lower threshold of 0.25 (which is expected), but due to the shape of the curve one might argue it would make little difference. In this case, one could choose to go ahead with a threshold of 0.29 for predictions."
   ]
  },
  {
   "cell_type": "markdown",
   "id": "ce7be07f",
   "metadata": {},
   "source": [
    "Finally, given a model (=score function), we can create a binary classifier from it:"
   ]
  },
  {
   "cell_type": "code",
   "execution_count": 65,
   "id": "ec98b5a1",
   "metadata": {},
   "outputs": [],
   "source": [
    "def predictor(model, threshold):\n",
    "    def classifier(X):\n",
    "        return binarize(y_probs=model.predict_proba(X)[:,1], thresh=threshold)\n",
    "    return classifier"
   ]
  },
  {
   "cell_type": "markdown",
   "id": "b563a3d1",
   "metadata": {},
   "source": [
    "We show how to use this in the next subsection."
   ]
  },
  {
   "cell_type": "markdown",
   "id": "f2716e63",
   "metadata": {},
   "source": [
    "### Worked example"
   ]
  },
  {
   "cell_type": "markdown",
   "id": "649e7385",
   "metadata": {},
   "source": [
    "The code below goes through a worked example, with the same data as before. The only thing we don't do is hyperparameter optimization.\n",
    "\n",
    "We decide to choose the model which maximizes MCC, and want to obtain the optimal threshold to create a decision-making binary choice model. We also want to see the threshold-dependent metrics in a bar chart."
   ]
  },
  {
   "cell_type": "code",
   "execution_count": 66,
   "id": "4481e450",
   "metadata": {},
   "outputs": [],
   "source": [
    "# assumes a dataset X, y is given\n",
    "X, y = make_classification(n_samples=5000, n_features=10, n_informative=8, n_redundant=1, n_repeated=1, \n",
    "                           random_state=10) \n",
    "\n",
    "# separate train and test\n",
    "X_train, X_test, y_train, y_test = train_test_split(X, y, test_size=0.3, random_state=10)\n",
    "\n",
    "# assume we have tested which model works best, \n",
    "# and decided for a baseline  HistGradientBoostingClassifier \n",
    "score_model = HistGradientBoostingClassifier(random_state=123)\n",
    "score_model.fit(X_train, y_train)\n",
    "\n",
    "# create scores\n",
    "y_train_probs = score_model.predict_proba(X_train)[:,1]\n",
    "y_test_probs = score_model.predict_proba(X_test)[:,1]"
   ]
  },
  {
   "cell_type": "code",
   "execution_count": 170,
   "id": "76e3c1e5",
   "metadata": {},
   "outputs": [
    {
     "name": "stderr",
     "output_type": "stream",
     "text": [
      "No handles with labels found to put in legend.\n"
     ]
    },
    {
     "data": {
      "image/png": "[encoded data removed]",
      "text/plain": [
       "<Figure size 864x288 with 3 Axes>"
      ]
     },
     "metadata": {
      "needs_background": "light"
     },
     "output_type": "display_data"
    }
   ],
   "source": [
    "# Plot THRESHOLD-INDEPENDENT metrics on test set\n",
    "fig, ax = plt.subplots(figsize=(12,4), ncols=3)\n",
    "\n",
    "# using our custom functions\n",
    "plot_roc_and_gain(y_test, y_test_probs, ax=ax[0], ascending=False)\n",
    "plot_precision_recall(y_test, y_test_probs, ax=ax[1])\n",
    "plot_harmonic_precision_recall(y_test, y_test_probs, ax=ax[2])\n",
    "\n",
    "# plot settings\n",
    "ax[1].set_title(\"PR curve\")\n",
    "ax[2].legend()\n",
    "ax[2].set_title(\"Harmonic PR curve\")\n",
    "plt.tight_layout()\n",
    "plt.show()"
   ]
  },
  {
   "cell_type": "code",
   "execution_count": 68,
   "id": "8c3ad582",
   "metadata": {},
   "outputs": [
    {
     "data": {
      "image/png": "[encoded data removed]",
      "text/plain": [
       "<Figure size 720x360 with 2 Axes>"
      ]
     },
     "metadata": {
      "needs_background": "light"
     },
     "output_type": "display_data"
    }
   ],
   "source": [
    "# Obtain THRESHOLD-DEPENDENT metrics by choosing optimal MCC\n",
    "thresh, mcc_curve, best_thresh_mcc = metric_over_thresholds(matthews_corrcoef, y_test, y_test_probs)\n",
    "\n",
    "# get binary outputs\n",
    "y_test_binary = binarize(y_test_probs, best_thresh_mcc)\n",
    "\n",
    "# plot\n",
    "fig, ax = plt.subplots(figsize=(10,5), ncols=2)\n",
    "\n",
    "# plot curve to find optimal threshold\n",
    "ax[0].plot(thresh, mcc_curve, label='MCC')\n",
    "ax[0].axvline(best_thresh_mcc, linestyle='--', color='orange',label= \"Best MCC (@{0:.2f})\".format(best_thresh_mcc))\n",
    "\n",
    "# plot all metrics of interest\n",
    "plot_point_metrics([f1_score, precision_score, recall_score, matthews_corrcoef, accuracy_score], \n",
    "                   ['F1', 'Precision', 'Recall', 'MCC', \"Accuracy\"],\n",
    "                   y_test, y_test_binary, ax=ax[1])\n",
    "\n",
    "ax[0].legend()\n",
    "plt.show()"
   ]
  },
  {
   "cell_type": "code",
   "execution_count": 69,
   "id": "445edb3f",
   "metadata": {},
   "outputs": [
    {
     "data": {
      "text/plain": [
       "array([0, 0, 1, ..., 0, 0, 1])"
      ]
     },
     "execution_count": 69,
     "metadata": {},
     "output_type": "execute_result"
    }
   ],
   "source": [
    "# define a classifier\n",
    "classifier = predictor(score_model, threshold=best_thresh_mcc)\n",
    "\n",
    "# then classifier works like a model.predict:\n",
    "classifier(X_test)"
   ]
  },
  {
   "cell_type": "markdown",
   "id": "098409f3",
   "metadata": {},
   "source": [
    "## Business metrics"
   ]
  },
  {
   "cell_type": "markdown",
   "id": "f9f7cda7",
   "metadata": {},
   "source": [
    "In business, machine learning metrics don't usually translate too well. It is hard to argue with a senior VP of marketing that they should change their strategy because your model has an AUC 10 points higher than the baseline model. \n",
    "\n",
    "Executives in particular are not convinced by technical metrics (and many of them have a hard time dealing with technical people who don't know how to \"translate into business\"). Because of that, we have to convert our metrics into business gain - usually **profit**."
   ]
  },
  {
   "cell_type": "markdown",
   "id": "2e272426",
   "metadata": {},
   "source": [
    "> Don't neglect how hard it might be to convince business leaders using data science. Sometimes, the simplest step on making change happen in organizations is to build a good model; the hardest step is to convince the leadership that the model is useful for something."
   ]
  },
  {
   "cell_type": "markdown",
   "id": "8e6c70a2",
   "metadata": {},
   "source": [
    "There are several approaches to **translate math into business**, some simpler and some more complex:\n",
    "* High-level proxies, eg. argue that an increase in AUC by $x$ percentage points will lead to profit increases by $y$%. This kind of argument usually requires some back-of-the-envelope rough estimates on how the company makes (and loses) money\n",
    "* Low-level proxies, eg. argue that a true positive leads to an increase in sales of $x$ dollars, a false positive leads to a loss of $y$ dollars, etc."
   ]
  },
  {
   "cell_type": "markdown",
   "id": "28164745",
   "metadata": {},
   "source": [
    "High-level proxies are usually case-by-case, and we shall leave them for now. Let's focus on the (arguably more generalizable) low-level proxies."
   ]
  },
  {
   "cell_type": "markdown",
   "id": "d02248b6",
   "metadata": {},
   "source": [
    "> Any conversion of mathematical metrics to business metrics will require approximations and generalizations. Don't be afraid of that; the idea is to have a rough estimate on the correct order of magnitude only."
   ]
  },
  {
   "cell_type": "markdown",
   "id": "dc53ba55",
   "metadata": {},
   "source": [
    "#### The payoff matrix"
   ]
  },
  {
   "cell_type": "markdown",
   "id": "47399ea8",
   "metadata": {},
   "source": [
    "Consider the case of a marketing strategy aimed at recommending a product to a user in a company's website. To make it simple, we assume the case where we only recommend the product once, and don't recommend any other products. This is a one-shot attempt to convert a user."
   ]
  },
  {
   "cell_type": "markdown",
   "id": "1d97854d",
   "metadata": {},
   "source": [
    "How much money do we make, on average, if we get our recommendation right? How much do we lose if we get it wrong?"
   ]
  },
  {
   "cell_type": "markdown",
   "id": "1a10079e",
   "metadata": {},
   "source": [
    "#### Approach #1: single-purchase profit estimation"
   ]
  },
  {
   "cell_type": "markdown",
   "id": "d85a7b50",
   "metadata": {},
   "source": [
    "Let us assume we are given the following statistics:\n",
    "* Our cost of operating the website is on average \\\\$1 per customer.\n",
    "* If we recommend a product ($\\hat y=1$) which the user actually likes ($y=1$), then there is an 80% chance they will buy it. An average product in our website costs \\\\$ 10. Hence, our revenue here is $0.8 \\times 10 = \\$ 8$. Subtracting the cost of \\\\$1, we get a profit of \\\\$7.\n",
    "* If we recommend product ($\\hat y=1$) which the user doesn't like ($y=0$) then there is still a 5% chance they will buy it. Following the logic above, our revenue here is \\\\$0.50, and our profit will be -\\\\$ 0.5.\n",
    "* If we don't recommend ($\\hat y=0$) a product that our user might have liked ($y=1$), we lose the cost *and the opportunity cost of the sale*: our profit is -\\\\$1 - \\\\$8 = -\\\\$9.\n",
    "* If we don't recommend ($\\hat y = 0$) a product that our user wouldn't have liked ($y=0$), then we only incur the cost, and our profit is -\\\\$1."
   ]
  },
  {
   "cell_type": "markdown",
   "id": "8143d0bf",
   "metadata": {},
   "source": [
    "<font color='red'> TODO: change these numbers - you can only havee **positives** on TP/TN and **negatives** on FP/FN. </font>"
   ]
  },
  {
   "cell_type": "markdown",
   "id": "eaf4a4ed",
   "metadata": {},
   "source": [
    "Let $P$ denote the payoff random variable, and write $$P_{ij} \\equiv \\mathbb{E}[P | \\hat y = j , y = i]$$\n",
    "as the expected payoff. \n",
    "> Each element of $P$ can be thought of \"how much do we profit, on average, in the case of a true positive / true negative / false positive / false negative?\"\n",
    "> An important mathematical constraint: **all true (positive/negative) entries must be non-negative**; **all false (positive/negative) entries must be non-positive**. \n",
    "\n",
    "Notice we can write this as a matrix\n",
    "\n",
    "$$\\begin{align}\n",
    "[P] &= \\begin{pmatrix}\n",
    "\\mathbb{E}[P | \\hat y = 0 | y = 0] & \\mathbb{E}[P | \\hat y = 1 | y = 0]\\\\\n",
    "\\mathbb{E}[P | \\hat y = 0 | y = 1] & \\mathbb{E}[P | \\hat y = 1 | y = 1]\\\\\n",
    "\\end{pmatrix}\\\\\n",
    "&= \\begin{pmatrix}\n",
    "-1 & -0.5\\\\\n",
    "-9 & 7\\\\\n",
    "\\end{pmatrix}\n",
    "\\end{align}$$\n",
    "\n",
    "We have chosen the position of the payoffs to match those of the confusion matrix, which we shall now employ."
   ]
  },
  {
   "cell_type": "markdown",
   "id": "8abdcc22",
   "metadata": {},
   "source": [
    "Notice that the **expected payoff** (per customer) is, by conditional expectation,\n",
    "\n",
    "$$\\begin{align}\n",
    "\\mathbb E[P] &= \\sum_{i\\in \\{0,1\\}} \\sum_{j\\in \\{0,1\\}} \\mathbb{E}[P|\\hat y = j, y = i] \\mathbb P (\\hat y = j, y=i)\\\\\n",
    "\\Rightarrow \\mathbb E[P] &= \\sum_{i,j} P_{ij} C_{ij}\n",
    "\\end{align}$$\n",
    "\n",
    "where $C_{ij}$ is the confusion matrix (normalized by the total number of points, eg. $C_{11} = \\widehat{\\mathrm{TPR}}/N$).\n",
    "\n",
    "> **(Review: conditional expectation)**. It always holds that $$\\mathbb E[X] = \\sum_Y \\mathbb E[X|Y]\\mathbb P(Y),$$ which one also writes as $$\\mathbb E[X] = \\mathbb E [\\mathbb E[X|Y]]$$\n",
    "\n",
    "In `numpy`, given two matrices `P` and `C`, we could calculate the sum above using the `.trace()` method of arrays, since $$\\sum_{i,j} P_{ij} C_{ij} = \\mathrm{Tr}(PC^T);$$ however, we can more simply write down the component-wise product and then sum:"
   ]
  },
  {
   "cell_type": "code",
   "execution_count": 70,
   "id": "d0d24cf4",
   "metadata": {},
   "outputs": [
    {
     "name": "stdout",
     "output_type": "stream",
     "text": [
      "Payoff: $ 1.28 per customer\n"
     ]
    }
   ],
   "source": [
    "from sklearn.metrics import confusion_matrix\n",
    "\n",
    "# example of real data and predictions\n",
    "y_real = [1,1,1,1,0,0,1,0,1,0,1,0,1,1,1,1,0,0]\n",
    "y_pred = [1,1,0,1,0,1,1,0,1,0,1,1,1,0,0,1,0,0]\n",
    "\n",
    "# confusion matrix (normalized)\n",
    "matrix = confusion_matrix(y_real, y_pred)/len(y_real)\n",
    "\n",
    "# payoff matrix\n",
    "payoffs = np.array([\n",
    "    [-1, -0.5],\n",
    "    [-9, 7]\n",
    "])\n",
    "\n",
    "expected_payoff = np.sum(matrix * payoffs)\n",
    "print(\"Payoff: $ {0:.2f} per customer\".format(expected_payoff))"
   ]
  },
  {
   "cell_type": "markdown",
   "id": "ccb9b8e8",
   "metadata": {},
   "source": [
    "**We can use this formalism to find an optimal threshold as that which maximizes the payoff**. Specifically, instead of considering the ratios of the confusion matrix as fixed, we can take them to be functions of the threshold $\\lambda$; then expected payoff $\\mathbb E[P]$ will actually be a function of $\\lambda$ too:\n",
    "\n",
    "$$\\boxed{\\mathbb E[P;\\lambda] = \\sum_{i,j} P_{ij} C_{ij}(\\lambda)}$$\n",
    "\n",
    "and the optimal threshold can be found as the one which maximizes the payoff: $\\lambda^*$ such that\n",
    "\n",
    "$$\\lambda^* = \\mathrm{arg}\\max_\\lambda \\mathbb E[P;\\lambda]$$"
   ]
  },
  {
   "cell_type": "markdown",
   "id": "f175b80f",
   "metadata": {},
   "source": [
    "Again, similar to the \"pure math\" metrics, this is usually done by calculating the expected payoff for several thresholds and finding one which maximizes it."
   ]
  },
  {
   "cell_type": "markdown",
   "id": "6a68d3f6",
   "metadata": {},
   "source": [
    "Consider the exact same dataset we used for the previous section:"
   ]
  },
  {
   "cell_type": "code",
   "execution_count": 71,
   "id": "1df451a8",
   "metadata": {},
   "outputs": [],
   "source": [
    "# assumes a dataset X, y is given\n",
    "X, y = make_classification(n_samples=5000, n_features=10, n_informative=8, n_redundant=1, n_repeated=1, \n",
    "                           random_state=10) \n",
    "\n",
    "# separate train and test\n",
    "X_train, X_test, y_train, y_test = train_test_split(X, y, test_size=0.3, random_state=10)\n",
    "\n",
    "# assume we have tested which model works best, \n",
    "# and decided for a baseline  HistGradientBoostingClassifier \n",
    "score_model = HistGradientBoostingClassifier(random_state=123)\n",
    "score_model.fit(X_train, y_train)\n",
    "\n",
    "# create scores\n",
    "y_train_probs = score_model.predict_proba(X_train)[:,1]\n",
    "y_test_probs = score_model.predict_proba(X_test)[:,1]"
   ]
  },
  {
   "cell_type": "markdown",
   "id": "dee32120",
   "metadata": {},
   "source": [
    "Let us build a function that takes a threshold and gives back an expected payoff:"
   ]
  },
  {
   "cell_type": "code",
   "execution_count": 72,
   "id": "8078765e",
   "metadata": {},
   "outputs": [],
   "source": [
    "def payoff_matrix(tp, tn, fp, fn):\n",
    "    \"\"\"\n",
    "    Returns matrix with payoffs for different ratios of the confusion matrix.\n",
    "    This matrix is formatted in the same shape as sklearn's native confusion \n",
    "    matrix method\n",
    "    \"\"\"\n",
    "\n",
    "    return np.array([\n",
    "        [tn, fp],\n",
    "        [fn, tp]\n",
    "    ])\n",
    "\n",
    "def expected_payoff_metric(payoff_mat):\n",
    "    \"\"\"\n",
    "    y_true: binary true values\n",
    "    y_pred: binary predictions\n",
    "    payoff_mat: payoff matrix\n",
    "    \"\"\"\n",
    "    \n",
    "    def payoff_metric(y_true, y_pred):\n",
    "        from sklearn.metrics import confusion_matrix\n",
    "        \n",
    "        normalized_conf = confusion_matrix(y_true, y_pred)/len(y_true)\n",
    "        payoff = np.sum(normalized_conf * payoff_mat)\n",
    "        return payoff\n",
    "\n",
    "    return payoff_metric"
   ]
  },
  {
   "cell_type": "code",
   "execution_count": 73,
   "id": "0843c888",
   "metadata": {},
   "outputs": [],
   "source": [
    "import matplotlib.pyplot as plt\n",
    "\n",
    "# built payoff matrix and metric-like function for the payoff\n",
    "payoff_mat = payoff_matrix(tp=10, tn=100, fp=-1, fn=-1)\n",
    "my_payoff = expected_payoff_metric(payoff_mat)"
   ]
  },
  {
   "cell_type": "markdown",
   "id": "e2a63c45",
   "metadata": {},
   "source": [
    "<font color='red'> TODO: change these numbers to match above </font>"
   ]
  },
  {
   "cell_type": "code",
   "execution_count": 74,
   "id": "6040e1f8",
   "metadata": {},
   "outputs": [
    {
     "data": {
      "image/png": "[encoded data removed]",
      "text/plain": [
       "<Figure size 432x288 with 1 Axes>"
      ]
     },
     "metadata": {
      "needs_background": "light"
     },
     "output_type": "display_data"
    }
   ],
   "source": [
    "thresh, profit, best_thresh_profit = metric_over_thresholds(my_payoff, y_test, y_test_probs)\n",
    "\n",
    "# MCC plot\n",
    "plt.plot(thresh, profit, label='Profit (per user)', color='orange')\n",
    "plt.axvline(best_thresh_profit, linestyle='--', color='orange',label= \"Best profit (@{0:.2f})\".format(best_thresh_profit))\n",
    "\n",
    "# plot settings\n",
    "plt.xlabel('Threshold')\n",
    "plt.title(\"Payoff as functions of threshold\")\n",
    "plt.legend()\n",
    "plt.show()"
   ]
  },
  {
   "cell_type": "markdown",
   "id": "ab5f47aa",
   "metadata": {},
   "source": [
    "#### Approach #2: lifetime value calculation"
   ]
  },
  {
   "cell_type": "markdown",
   "id": "dfe414db",
   "metadata": {},
   "source": [
    "TODO: write"
   ]
  },
  {
   "cell_type": "code",
   "execution_count": 75,
   "id": "cb8abb93",
   "metadata": {},
   "outputs": [],
   "source": [
    "## "
   ]
  },
  {
   "cell_type": "markdown",
   "id": "454a72fb",
   "metadata": {},
   "source": [
    "To-dos:\n",
    "    \n",
    "* Threshold-independent metrics\n",
    "* Threshold-dependent metrics\n",
    "* Finding optimal thresholds\n",
    "* Do we really use the convex hull?\n",
    "* Three important models\n",
    "\t- Logistic regression\n",
    "\t- XGBoost / LightGBM / GradientBoostingClassifier\n",
    "\t- Neural nets\n",
    "* Model calibration\n",
    "* Defining a target\n",
    "* Uncertainty measures (CV / bootstrap)\n",
    "* Interpretability (SHAP with logits)\n",
    "\t"
   ]
  },
  {
   "cell_type": "code",
   "execution_count": null,
   "id": "6740db49",
   "metadata": {},
   "outputs": [],
   "source": []
  },
  {
   "cell_type": "code",
   "execution_count": null,
   "id": "f157f2dc",
   "metadata": {},
   "outputs": [],
   "source": []
  },
  {
   "cell_type": "markdown",
   "id": "ed5fa897",
   "metadata": {},
   "source": [
    "# Further readings "
   ]
  },
  {
   "cell_type": "markdown",
   "id": "b808064c",
   "metadata": {},
   "source": [
    "## Bootstrap for model assessment"
   ]
  },
  {
   "cell_type": "markdown",
   "id": "6ed32862",
   "metadata": {},
   "source": [
    "Suppose you have the following dataset with 20 observations:"
   ]
  },
  {
   "cell_type": "code",
   "execution_count": 76,
   "id": "8f44fa9e",
   "metadata": {},
   "outputs": [
    {
     "data": {
      "text/plain": [
       "array([ 1.78862847,  0.43650985,  0.09649747, -1.8634927 , -0.2773882 ,\n",
       "       -0.35475898, -0.08274148, -0.62700068, -0.04381817, -0.47721803,\n",
       "       -1.31386475,  0.88462238,  0.88131804,  1.70957306,  0.05003364,\n",
       "       -0.40467741, -0.54535995, -1.54647732,  0.98236743, -1.10106763])"
      ]
     },
     "execution_count": 76,
     "metadata": {},
     "output_type": "execute_result"
    }
   ],
   "source": [
    "np.random.seed(3)\n",
    "x = np.random.randn(20)\n",
    "x"
   ]
  },
  {
   "cell_type": "markdown",
   "id": "4396eba7",
   "metadata": {},
   "source": [
    "As we can see, this data was actually generated from a normal distribution centered in zero (with unit variance), but let us suppose we don't know this. We might ask two relevant questions:\n",
    "* What is a good estimate for the *mean value* of the data?\n",
    "* What is a good estimate for the *error* on that estimate of the mean?"
   ]
  },
  {
   "cell_type": "markdown",
   "id": "ccccede7",
   "metadata": {},
   "source": [
    "The naive answer is: calculate the mean and standard deviation, done:"
   ]
  },
  {
   "cell_type": "code",
   "execution_count": 77,
   "id": "0b6aa40d",
   "metadata": {},
   "outputs": [
    {
     "name": "stdout",
     "output_type": "stream",
     "text": [
      "Mean: -0.09, std: 0.97\n"
     ]
    }
   ],
   "source": [
    "print(\"Mean: {0:.2f}, std: {1:.2f}\".format(x.mean(), x.std()))"
   ]
  },
  {
   "cell_type": "markdown",
   "id": "243916fb",
   "metadata": {},
   "source": [
    "Ideally, we would like to get more data to reduce the variance - we know from the central limit theorem that, whatever the distribution that generated the data, the mean will asymptotically (as $n\\to\\infty$ where $n$ is the total amount of data) behave as a normal variable with variance decreasing as $1/n$."
   ]
  },
  {
   "cell_type": "markdown",
   "id": "a127d687",
   "metadata": {},
   "source": [
    "If we cannot get more data, what else can we do? It turns out that, if we **sample $n$ points (with replacement) from the original data**, this new dataset (called a **boostrap sample**) will be distributed equally to the original data. In other words, this \"new\" dataset can be used as an equivalent (but different) to the \"old\" one, on an equal footing.\n",
    "\n",
    "The **boostrap method** consists of creating many (say, thousands) such boostrap samples, and using the average calculated on each one of them as an estimate of the true average - in other words, using an average of averages."
   ]
  },
  {
   "cell_type": "markdown",
   "id": "459804f1",
   "metadata": {},
   "source": [
    "> One might wonder: why do we need to introduce random samplings? Couldn't we just calculate all possible boostrap samples and average out? In practice no - this is an exponentially large set. If you have $n$ data points, there will be $n^n$ boostrap samples. In our $n=20$ case, $$n^n = 20^{20} = 10^{20 \\log_{10} 20} \\approx 10^{26}$$ is a tremendously large, and computationally infeasible, number."
   ]
  },
  {
   "cell_type": "markdown",
   "id": "40d70001",
   "metadata": {},
   "source": [
    "We can use the `resample` method in scikit-learn to calculate boostrap samples:"
   ]
  },
  {
   "cell_type": "code",
   "execution_count": 78,
   "id": "9b801ecb",
   "metadata": {},
   "outputs": [
    {
     "data": {
      "text/plain": [
       "array([-0.35475898,  0.88462238,  0.88131804, -0.04381817, -0.47721803,\n",
       "        0.88462238, -0.35475898, -0.40467741,  1.78862847, -0.54535995,\n",
       "        0.43650985,  0.88131804, -0.62700068,  1.70957306, -0.08274148,\n",
       "        0.98236743, -0.35475898,  0.98236743,  0.88462238, -1.31386475])"
      ]
     },
     "execution_count": 78,
     "metadata": {},
     "output_type": "execute_result"
    }
   ],
   "source": [
    "from sklearn.utils import resample\n",
    "\n",
    "resample(x, random_state=1)"
   ]
  },
  {
   "cell_type": "markdown",
   "id": "bd8eb9ea",
   "metadata": {},
   "source": [
    "Let us show how boostrap samples can be used to better estimate the sample mean and error. We will create $N = 5000$ samples:"
   ]
  },
  {
   "cell_type": "code",
   "execution_count": 79,
   "id": "d6447623",
   "metadata": {},
   "outputs": [],
   "source": [
    "means = np.array([resample(x, random_state=seed).mean() for seed in range(5000)])"
   ]
  },
  {
   "cell_type": "code",
   "execution_count": 80,
   "id": "c5562b52",
   "metadata": {},
   "outputs": [
    {
     "data": {
      "image/png": "[encoded data removed]",
      "text/plain": [
       "<Figure size 720x360 with 2 Axes>"
      ]
     },
     "metadata": {
      "needs_background": "light"
     },
     "output_type": "display_data"
    }
   ],
   "source": [
    "# plot original data and boostrapped data\n",
    "fig, ax = plt.subplots(figsize=(10,5), ncols=2)\n",
    "\n",
    "# original data\n",
    "ax[0].hist(x, bins=5)\n",
    "ax[0].set_title(\"Histogram of original data\")\n",
    "ax[0].axvline(x.mean(), linestyle='--', color='red')\n",
    "ax[0].axvline(x.mean()+x.std(), linestyle='--', color='black')\n",
    "ax[0].axvline(x.mean()-x.std(), linestyle='--', color='black')\n",
    "\n",
    "\n",
    "# boostrapped data\n",
    "ax[1].hist(means, bins=100)\n",
    "ax[1].set_title(\"Histogram of boostrapped data\")\n",
    "ax[1].axvline(means.mean(), linestyle='--', color='red')\n",
    "ax[1].axvline(means.mean()+means.std(), linestyle='--', color='black')\n",
    "ax[1].axvline(means.mean()-means.std(), linestyle='--', color='black')\n",
    "\n",
    "plt.show()"
   ]
  },
  {
   "cell_type": "code",
   "execution_count": 81,
   "id": "94300b75",
   "metadata": {},
   "outputs": [
    {
     "name": "stdout",
     "output_type": "stream",
     "text": [
      "Mean: -0.09, std: 0.22\n"
     ]
    }
   ],
   "source": [
    "print(\"Mean: {0:.2f}, std: {1:.2f}\".format(means.mean(), means.std()))"
   ]
  },
  {
   "cell_type": "markdown",
   "id": "adbd9b85",
   "metadata": {},
   "source": [
    "Notice how, despite the mean itself not changing, the standard deviation is much smaller than that of the original data! "
   ]
  },
  {
   "cell_type": "markdown",
   "id": "7c198529",
   "metadata": {},
   "source": [
    "### The boostrap in machine learning"
   ]
  },
  {
   "cell_type": "markdown",
   "id": "a2c01285",
   "metadata": {},
   "source": [
    "One could consider using boostrap in machine learning in the following (naive) way:\n",
    "* Create empty list\n",
    "* For *i* between 0 and N:\n",
    "  * Create a bootstrap sample X_boot, y_boot\n",
    "  * Split into train and test sets (say, test size 30%)\n",
    "  * Instantiate classifier and train on X_train, y_train\n",
    "  * Calculate metrics from X_test, y_test\n",
    "  * Append metrics to list\n",
    "* Compute average / standard deviation of metrics"
   ]
  },
  {
   "cell_type": "markdown",
   "id": "bfcf4d57",
   "metadata": {},
   "source": [
    "The problem of this approach is that, since boostrap works with sampling *with replacement*, it is likely that there will be points which are simultaneously in the training and the test set. These points will make the model performance appear to be higher than it actually is."
   ]
  },
  {
   "cell_type": "markdown",
   "id": "aed0d1d7",
   "metadata": {},
   "source": [
    "TODO - continue this session"
   ]
  },
  {
   "cell_type": "code",
   "execution_count": null,
   "id": "e871693c",
   "metadata": {},
   "outputs": [],
   "source": []
  }
 ],
 "metadata": {
  "kernelspec": {
   "display_name": "Python 3",
   "language": "python",
   "name": "python3"
  },
  "language_info": {
   "codemirror_mode": {
    "name": "ipython",
    "version": 3
   },
   "file_extension": ".py",
   "mimetype": "text/x-python",
   "name": "python",
   "nbconvert_exporter": "python",
   "pygments_lexer": "ipython3",
   "version": "3.8.8"
  }
 },
 "nbformat": 4,
 "nbformat_minor": 5
}
