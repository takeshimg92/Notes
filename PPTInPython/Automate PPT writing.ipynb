{
 "cells": [
  {
   "cell_type": "markdown",
   "id": "c86d57e7",
   "metadata": {},
   "source": [
    "# References:\n",
    "\n",
    "Use `pip install python-pptx` to install the library.\n",
    "\n",
    "Tutorial on how to use the `pptx` library:\n",
    "https://towardsdatascience.com/use-python-to-automate-the-powerpoint-update-4a385acf1243 \n",
    "\n",
    "Full documentation:\n",
    "https://python-pptx.readthedocs.io/en/latest/#user-guide"
   ]
  },
  {
   "cell_type": "markdown",
   "id": "373cbce7",
   "metadata": {},
   "source": [
    "**Before you get started here, open the PPT file and see what will change.**"
   ]
  },
  {
   "cell_type": "code",
   "execution_count": 1,
   "id": "dfd1e593",
   "metadata": {},
   "outputs": [],
   "source": [
    "import matplotlib.pyplot as plt\n",
    "import numpy as np\n",
    "import pandas as pd\n",
    "\n",
    "# for writing ppt\n",
    "from pptx import Presentation\n",
    "import os"
   ]
  },
  {
   "cell_type": "markdown",
   "id": "06691896",
   "metadata": {},
   "source": [
    "# Open file"
   ]
  },
  {
   "cell_type": "code",
   "execution_count": 2,
   "id": "a9998031",
   "metadata": {},
   "outputs": [],
   "source": [
    "## Make sure the PPT file is closed BEFORE OPENING!\n",
    "report_ppt = Presentation('template.pptx')"
   ]
  },
  {
   "cell_type": "markdown",
   "id": "2314896e",
   "metadata": {},
   "source": [
    "## Understand what goes in each slide"
   ]
  },
  {
   "cell_type": "code",
   "execution_count": 3,
   "id": "d8b45cc6",
   "metadata": {},
   "outputs": [],
   "source": [
    "first_slide = report_ppt.slides[0]"
   ]
  },
  {
   "cell_type": "code",
   "execution_count": 4,
   "id": "76fae73e",
   "metadata": {},
   "outputs": [],
   "source": [
    "shapes = first_slide.shapes"
   ]
  },
  {
   "cell_type": "markdown",
   "id": "ce44d300",
   "metadata": {},
   "source": [
    "`shapes` is a vector containing several shapes"
   ]
  },
  {
   "cell_type": "code",
   "execution_count": 5,
   "id": "5e3badfd",
   "metadata": {},
   "outputs": [
    {
     "name": "stdout",
     "output_type": "stream",
     "text": [
      "TEXT_BOX (17) : title_first_slide_to_edit\n",
      "TEXT_BOX (17) : add_numbers_here\n",
      "AUTO_SHAPE (1) : rectangle_to_delete\n"
     ]
    }
   ],
   "source": [
    "for shape in shapes:\n",
    "    print(shape.shape_type,\":\", shape.name)"
   ]
  },
  {
   "cell_type": "markdown",
   "id": "a156a615",
   "metadata": {},
   "source": [
    "Where do these names come from? In PPT, in the Shape Format > Arrange tab, there is a **Selection Pane**. Clicking on it will show all variables, and clicking on each variable allows us to change its name. Give it a try."
   ]
  },
  {
   "cell_type": "markdown",
   "id": "f91a9305",
   "metadata": {},
   "source": [
    "This is how, on my template, I gave all objects specific names. This is the equivalent of picking good names for your variablers in code."
   ]
  },
  {
   "cell_type": "markdown",
   "id": "c997dc41",
   "metadata": {},
   "source": [
    "# Editing contents"
   ]
  },
  {
   "cell_type": "markdown",
   "id": "c198851b",
   "metadata": {},
   "source": [
    "There are three things we can do:\n",
    "1. Delete existing shapes\n",
    "2. Create new shapes\n",
    "3. Edit current shapes"
   ]
  },
  {
   "cell_type": "markdown",
   "id": "a99ed824",
   "metadata": {},
   "source": [
    "For the first slide, we want to:\n",
    "* Delete a rectange\n",
    "* Edit title\n",
    "* Edit one text box"
   ]
  },
  {
   "cell_type": "markdown",
   "id": "c45870c7",
   "metadata": {},
   "source": [
    "## Delete rectangle"
   ]
  },
  {
   "cell_type": "code",
   "execution_count": 6,
   "id": "b820edd4",
   "metadata": {},
   "outputs": [],
   "source": [
    "for shape in shapes:\n",
    "    if shape.name == 'rectangle_to_delete':\n",
    "        shapes.element.remove(shape.element)"
   ]
  },
  {
   "cell_type": "code",
   "execution_count": 7,
   "id": "f1886ce4",
   "metadata": {},
   "outputs": [
    {
     "name": "stdout",
     "output_type": "stream",
     "text": [
      "TEXT_BOX (17) : title_first_slide_to_edit\n",
      "TEXT_BOX (17) : add_numbers_here\n"
     ]
    }
   ],
   "source": [
    "# Check that it has been removed:\n",
    "for shape in shapes:\n",
    "    print(shape.shape_type,\":\", shape.name)"
   ]
  },
  {
   "cell_type": "markdown",
   "id": "9cfaa661",
   "metadata": {},
   "source": [
    "## Edit title"
   ]
  },
  {
   "cell_type": "code",
   "execution_count": 8,
   "id": "09017320",
   "metadata": {},
   "outputs": [
    {
     "name": "stdout",
     "output_type": "stream",
     "text": [
      "Previous title: This is my presentation template. This title, by the way, will be edited!\n"
     ]
    }
   ],
   "source": [
    "for shape in shapes:\n",
    "    if shape.name == 'title_first_slide_to_edit':\n",
    "        paragraph = shape.text_frame.paragraphs[0]\n",
    "        \n",
    "        # print old text\n",
    "        print(\"Previous title:\", paragraph.runs[0].text)\n",
    "        \n",
    "        # edit title\n",
    "        paragraph.runs[0].text = \"New, completely original title\""
   ]
  },
  {
   "cell_type": "markdown",
   "id": "c062f8a5",
   "metadata": {},
   "source": [
    "## Edit text box"
   ]
  },
  {
   "cell_type": "code",
   "execution_count": 9,
   "id": "e5a8b478",
   "metadata": {},
   "outputs": [
    {
     "name": "stdout",
     "output_type": "stream",
     "text": [
      "Previous content: In this box there will be some new with numbers\n"
     ]
    }
   ],
   "source": [
    "for shape in shapes:\n",
    "    if shape.name == 'add_numbers_here':\n",
    "        paragraph = shape.text_frame.paragraphs[0]\n",
    "        \n",
    "        # print old text\n",
    "        print(\"Previous content:\", paragraph.runs[0].text)\n",
    "        \n",
    "        # edit content\n",
    "        paragraph.runs[0].text = f\"Adding a randomly generated number here: {np.random.randn()}\""
   ]
  },
  {
   "cell_type": "markdown",
   "id": "964cfa2e",
   "metadata": {},
   "source": [
    "# Next slide"
   ]
  },
  {
   "cell_type": "code",
   "execution_count": 10,
   "id": "991208f5",
   "metadata": {},
   "outputs": [
    {
     "name": "stdout",
     "output_type": "stream",
     "text": [
      "TEXT_BOX (17) : TextBox 3\n",
      "TEXT_BOX (17) : TextBox 4\n",
      "AUTO_SHAPE (1) : Placeholder_1\n",
      "TEXT_BOX (17) : TextBox 1\n",
      "PICTURE (13) : Picture 7\n",
      "AUTO_SHAPE (1) : Rectangle 8\n"
     ]
    }
   ],
   "source": [
    "second_slide = report_ppt.slides[1]\n",
    "shapes_ = second_slide.shapes\n",
    "\n",
    "for shape in shapes_:\n",
    "    print(shape.shape_type,\":\", shape.name)"
   ]
  },
  {
   "cell_type": "markdown",
   "id": "71fd9bfc",
   "metadata": {},
   "source": [
    "## Delete placeholder and add a matplotlib plot there"
   ]
  },
  {
   "cell_type": "markdown",
   "id": "4f6a3efd",
   "metadata": {},
   "source": [
    "### Create plot: create and save to PNG"
   ]
  },
  {
   "cell_type": "code",
   "execution_count": 11,
   "id": "fea1f016",
   "metadata": {},
   "outputs": [],
   "source": [
    "x = np.linspace(0, 2*np.pi)\n",
    "y = np.sin(x)+ 0.1* np.random.randn(len(x))"
   ]
  },
  {
   "cell_type": "markdown",
   "id": "edd55ac8",
   "metadata": {},
   "source": [
    "#### Attention: save the figure before you show it with `plt.show()`!!"
   ]
  },
  {
   "cell_type": "code",
   "execution_count": 12,
   "id": "f9d989ad",
   "metadata": {},
   "outputs": [
    {
     "data": {
      "image/png": "[encoded data removed]",
      "text/plain": [
       "<Figure size 432x288 with 1 Axes>"
      ]
     },
     "metadata": {
      "needs_background": "light"
     },
     "output_type": "display_data"
    }
   ],
   "source": [
    "fig, ax = plt.subplots()\n",
    "ax.plot(x,y, label='Crazy sine function')\n",
    "ax.set_xlabel(\"X axis\")\n",
    "ax.set_ylabel(\"Y axis\")\n",
    "plt.legend()\n",
    "plt.savefig(\"Outputs/my_plot.png\")\n",
    "plt.show()"
   ]
  },
  {
   "cell_type": "markdown",
   "id": "57ee3dfb",
   "metadata": {},
   "source": [
    "You might sometimes need need the figure size (in inches) to plot it:"
   ]
  },
  {
   "cell_type": "code",
   "execution_count": 13,
   "id": "a71466f3",
   "metadata": {},
   "outputs": [
    {
     "data": {
      "text/plain": [
       "array([6., 4.])"
      ]
     },
     "execution_count": 13,
     "metadata": {},
     "output_type": "execute_result"
    }
   ],
   "source": [
    "fig.get_size_inches()"
   ]
  },
  {
   "cell_type": "markdown",
   "id": "92ae1abd",
   "metadata": {},
   "source": [
    "But for now it's OK\n",
    "\n",
    "### Add to PPT"
   ]
  },
  {
   "cell_type": "code",
   "execution_count": 14,
   "id": "4bdf3274",
   "metadata": {},
   "outputs": [],
   "source": [
    "from pptx.util import Cm, Inches"
   ]
  },
  {
   "cell_type": "markdown",
   "id": "33da3a69",
   "metadata": {},
   "source": [
    "Getting the coordinates correctly might require some trial and error:"
   ]
  },
  {
   "cell_type": "code",
   "execution_count": 15,
   "id": "b8d12b1d",
   "metadata": {},
   "outputs": [],
   "source": [
    "new_pic = second_slide.shapes.add_picture(\"Outputs/my_plot.png\", left=Cm(0.40), top=Cm(7.8))"
   ]
  },
  {
   "cell_type": "markdown",
   "id": "8865a16c",
   "metadata": {},
   "source": [
    "### Delete placeholder"
   ]
  },
  {
   "cell_type": "code",
   "execution_count": 16,
   "id": "f9b77116",
   "metadata": {},
   "outputs": [],
   "source": [
    "for shape in shapes_:\n",
    "    if shape.name == 'Placeholder_1':\n",
    "        shapes_.element.remove(shape.element)"
   ]
  },
  {
   "cell_type": "markdown",
   "id": "6b87739a",
   "metadata": {},
   "source": [
    "# Save new presentation"
   ]
  },
  {
   "cell_type": "markdown",
   "id": "a3187828",
   "metadata": {},
   "source": [
    "We would like to add today's date to the file's name"
   ]
  },
  {
   "cell_type": "code",
   "execution_count": 17,
   "id": "67722a0b",
   "metadata": {},
   "outputs": [
    {
     "name": "stdout",
     "output_type": "stream",
     "text": [
      "2022-01-25\n"
     ]
    }
   ],
   "source": [
    "today = pd.to_datetime('now').strftime(\"%Y-%m-%d\")\n",
    "print(today)"
   ]
  },
  {
   "cell_type": "code",
   "execution_count": 18,
   "id": "6636d1d0",
   "metadata": {},
   "outputs": [],
   "source": [
    "report_ppt.save(f'Outputs/New report {today}.pptx')"
   ]
  },
  {
   "cell_type": "markdown",
   "id": "688ec54b",
   "metadata": {},
   "source": [
    "# Stop kernel to exit PPT"
   ]
  },
  {
   "cell_type": "code",
   "execution_count": null,
   "id": "47ca8c7f",
   "metadata": {},
   "outputs": [],
   "source": [
    "os._exit(00)"
   ]
  },
  {
   "cell_type": "code",
   "execution_count": null,
   "id": "df93bb8f",
   "metadata": {},
   "outputs": [],
   "source": []
  }
 ],
 "metadata": {
  "kernelspec": {
   "display_name": "Python 3",
   "language": "python",
   "name": "python3"
  },
  "language_info": {
   "codemirror_mode": {
    "name": "ipython",
    "version": 3
   },
   "file_extension": ".py",
   "mimetype": "text/x-python",
   "name": "python",
   "nbconvert_exporter": "python",
   "pygments_lexer": "ipython3",
   "version": "3.7.9"
  },
  "toc": {
   "base_numbering": 1,
   "nav_menu": {},
   "number_sections": true,
   "sideBar": true,
   "skip_h1_title": false,
   "title_cell": "Table of Contents",
   "title_sidebar": "Contents",
   "toc_cell": false,
   "toc_position": {},
   "toc_section_display": true,
   "toc_window_display": false
  }
 },
 "nbformat": 4,
 "nbformat_minor": 5
}
