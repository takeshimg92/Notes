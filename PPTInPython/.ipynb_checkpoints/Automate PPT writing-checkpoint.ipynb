{
 "cells": [
  {
   "cell_type": "markdown",
   "id": "dcb3eda3",
   "metadata": {},
   "source": [
    "# References:\n",
    "\n",
    "Use `pip install python-pptx` to install the library.\n",
    "\n",
    "Tutorial on how to use the `pptx` library:\n",
    "https://towardsdatascience.com/use-python-to-automate-the-powerpoint-update-4a385acf1243 \n",
    "\n",
    "Full documentation:\n",
    "https://python-pptx.readthedocs.io/en/latest/#user-guide"
   ]
  },
  {
   "cell_type": "markdown",
   "id": "0b09c0c2",
   "metadata": {},
   "source": [
    "**Before you get started here, open the PPT file and see what will change.**"
   ]
  },
  {
   "cell_type": "code",
   "execution_count": 1,
   "id": "de0af32c",
   "metadata": {},
   "outputs": [],
   "source": [
    "import matplotlib.pyplot as plt\n",
    "import numpy as np\n",
    "import pandas as pd\n",
    "\n",
    "# for writing ppt\n",
    "from pptx import Presentation\n",
    "import os"
   ]
  },
  {
   "cell_type": "markdown",
   "id": "e1a2d56e",
   "metadata": {},
   "source": [
    "# Open file"
   ]
  },
  {
   "cell_type": "code",
   "execution_count": 2,
   "id": "b0eaa482",
   "metadata": {},
   "outputs": [],
   "source": [
    "## Make sure the PPT file is closed BEFORE OPENING!\n",
    "report_ppt = Presentation('template.pptx')"
   ]
  },
  {
   "cell_type": "markdown",
   "id": "c341f06c",
   "metadata": {},
   "source": [
    "## Understand what goes in each slide"
   ]
  },
  {
   "cell_type": "code",
   "execution_count": 3,
   "id": "6c717043",
   "metadata": {},
   "outputs": [],
   "source": [
    "first_slide = report_ppt.slides[0]"
   ]
  },
  {
   "cell_type": "code",
   "execution_count": 4,
   "id": "f9069b6f",
   "metadata": {},
   "outputs": [],
   "source": [
    "shapes = first_slide.shapes"
   ]
  },
  {
   "cell_type": "markdown",
   "id": "7fb8a9e5",
   "metadata": {},
   "source": [
    "`shapes` is a vector containing several shapes"
   ]
  },
  {
   "cell_type": "code",
   "execution_count": 5,
   "id": "9f082250",
   "metadata": {},
   "outputs": [
    {
     "name": "stdout",
     "output_type": "stream",
     "text": [
      "TEXT_BOX (17) : title_first_slide_to_edit\n",
      "TEXT_BOX (17) : add_numbers_here\n",
      "AUTO_SHAPE (1) : rectangle_to_delete\n"
     ]
    }
   ],
   "source": [
    "for shape in shapes:\n",
    "    print(shape.shape_type,\":\", shape.name)"
   ]
  },
  {
   "cell_type": "markdown",
   "id": "604678fb",
   "metadata": {},
   "source": [
    "Where do these names come from? In PPT, in the Shape Format > Arrange tab, there is a **Selection Pane**. Clicking on it will show all variables, and clicking on each variable allows us to change its name. Give it a try."
   ]
  },
  {
   "cell_type": "markdown",
   "id": "ab7e634a",
   "metadata": {},
   "source": [
    "This is how, on my template, I gave all objects specific names. This is the equivalent of picking good names for your variablers in code."
   ]
  },
  {
   "cell_type": "markdown",
   "id": "6636b351",
   "metadata": {},
   "source": [
    "# Editing contents"
   ]
  },
  {
   "cell_type": "markdown",
   "id": "b86df3e4",
   "metadata": {},
   "source": [
    "There are three things we can do:\n",
    "1. Delete existing shapes\n",
    "2. Create new shapes\n",
    "3. Edit current shapes"
   ]
  },
  {
   "cell_type": "markdown",
   "id": "d1076eab",
   "metadata": {},
   "source": [
    "For the first slide, we want to:\n",
    "* Delete a rectange\n",
    "* Edit title\n",
    "* Edit one text box"
   ]
  },
  {
   "cell_type": "markdown",
   "id": "6a67af3c",
   "metadata": {},
   "source": [
    "## Delete rectangle"
   ]
  },
  {
   "cell_type": "code",
   "execution_count": 6,
   "id": "eb1b2913",
   "metadata": {},
   "outputs": [],
   "source": [
    "for shape in shapes:\n",
    "    if shape.name == 'rectangle_to_delete':\n",
    "        shapes.element.remove(shape.element)"
   ]
  },
  {
   "cell_type": "code",
   "execution_count": 7,
   "id": "1c36960b",
   "metadata": {},
   "outputs": [
    {
     "name": "stdout",
     "output_type": "stream",
     "text": [
      "TEXT_BOX (17) : title_first_slide_to_edit\n",
      "TEXT_BOX (17) : add_numbers_here\n"
     ]
    }
   ],
   "source": [
    "# Check that it has been removed:\n",
    "for shape in shapes:\n",
    "    print(shape.shape_type,\":\", shape.name)"
   ]
  },
  {
   "cell_type": "markdown",
   "id": "ee912850",
   "metadata": {},
   "source": [
    "## Edit title"
   ]
  },
  {
   "cell_type": "code",
   "execution_count": 8,
   "id": "e95db644",
   "metadata": {},
   "outputs": [
    {
     "name": "stdout",
     "output_type": "stream",
     "text": [
      "Previous title: This is my presentation template. This title, by the way, will be edited!\n"
     ]
    }
   ],
   "source": [
    "for shape in shapes:\n",
    "    if shape.name == 'title_first_slide_to_edit':\n",
    "        paragraph = shape.text_frame.paragraphs[0]\n",
    "        \n",
    "        # print old text\n",
    "        print(\"Previous title:\", paragraph.runs[0].text)\n",
    "        \n",
    "        # edit title\n",
    "        paragraph.runs[0].text = \"New, completely original title\""
   ]
  },
  {
   "cell_type": "markdown",
   "id": "a2077539",
   "metadata": {},
   "source": [
    "## Edit text box"
   ]
  },
  {
   "cell_type": "code",
   "execution_count": 9,
   "id": "0a5ff33a",
   "metadata": {},
   "outputs": [
    {
     "name": "stdout",
     "output_type": "stream",
     "text": [
      "Previous content: In this box there will be some new with numbers\n"
     ]
    }
   ],
   "source": [
    "for shape in shapes:\n",
    "    if shape.name == 'add_numbers_here':\n",
    "        paragraph = shape.text_frame.paragraphs[0]\n",
    "        \n",
    "        # print old text\n",
    "        print(\"Previous content:\", paragraph.runs[0].text)\n",
    "        \n",
    "        # edit content\n",
    "        paragraph.runs[0].text = f\"Adding a randomly generated number here: {np.random.randn()}\""
   ]
  },
  {
   "cell_type": "markdown",
   "id": "aba8702f",
   "metadata": {},
   "source": [
    "# Next slide"
   ]
  },
  {
   "cell_type": "code",
   "execution_count": 10,
   "id": "8b4887b7",
   "metadata": {},
   "outputs": [
    {
     "name": "stdout",
     "output_type": "stream",
     "text": [
      "TEXT_BOX (17) : TextBox 3\n",
      "TEXT_BOX (17) : TextBox 4\n",
      "AUTO_SHAPE (1) : Placeholder_1\n",
      "TEXT_BOX (17) : TextBox 1\n",
      "PICTURE (13) : Picture 7\n",
      "AUTO_SHAPE (1) : Rectangle 8\n"
     ]
    }
   ],
   "source": [
    "second_slide = report_ppt.slides[1]\n",
    "shapes_ = second_slide.shapes\n",
    "\n",
    "for shape in shapes_:\n",
    "    print(shape.shape_type,\":\", shape.name)"
   ]
  },
  {
   "cell_type": "markdown",
   "id": "8d79095e",
   "metadata": {},
   "source": [
    "## Delete placeholder and add a matplotlib plot there"
   ]
  },
  {
   "cell_type": "markdown",
   "id": "4828f630",
   "metadata": {},
   "source": [
    "### Create plot: create and save to PNG"
   ]
  },
  {
   "cell_type": "code",
   "execution_count": 11,
   "id": "2a662f66",
   "metadata": {},
   "outputs": [],
   "source": [
    "x = np.linspace(0, 2*np.pi)\n",
    "y = np.sin(x)+ 0.1* np.random.randn(len(x))"
   ]
  },
  {
   "cell_type": "markdown",
   "id": "23b10c34",
   "metadata": {},
   "source": [
    "#### Attention: save the figure before you show it with `plt.show()`!!"
   ]
  },
  {
   "cell_type": "code",
   "execution_count": 12,
   "id": "587bf787",
   "metadata": {},
   "outputs": [
    {
     "data": {
      "image/png": "[encoded data removed]",
      "text/plain": [
       "<Figure size 432x288 with 1 Axes>"
      ]
     },
     "metadata": {
      "needs_background": "light"
     },
     "output_type": "display_data"
    }
   ],
   "source": [
    "fig, ax = plt.subplots()\n",
    "ax.plot(x,y, label='Crazy sine function')\n",
    "ax.set_xlabel(\"X axis\")\n",
    "ax.set_ylabel(\"Y axis\")\n",
    "plt.legend()\n",
    "plt.savefig(\"my_plot.png\")\n",
    "plt.show()"
   ]
  },
  {
   "cell_type": "markdown",
   "id": "fdde4a77",
   "metadata": {},
   "source": [
    "You might sometimes need need the figure size (in inches) to plot it:"
   ]
  },
  {
   "cell_type": "code",
   "execution_count": 13,
   "id": "411896b4",
   "metadata": {},
   "outputs": [
    {
     "data": {
      "text/plain": [
       "array([6., 4.])"
      ]
     },
     "execution_count": 13,
     "metadata": {},
     "output_type": "execute_result"
    }
   ],
   "source": [
    "fig.get_size_inches()"
   ]
  },
  {
   "cell_type": "markdown",
   "id": "39096b8c",
   "metadata": {},
   "source": [
    "But for now it's OK\n",
    "\n",
    "### Add to PPT"
   ]
  },
  {
   "cell_type": "code",
   "execution_count": 14,
   "id": "0897df19",
   "metadata": {},
   "outputs": [],
   "source": [
    "from pptx.util import Cm, Inches"
   ]
  },
  {
   "cell_type": "markdown",
   "id": "052b6122",
   "metadata": {},
   "source": [
    "Getting the coordinates correctly might require some trial and error:"
   ]
  },
  {
   "cell_type": "code",
   "execution_count": 15,
   "id": "a901c396",
   "metadata": {},
   "outputs": [],
   "source": [
    "new_pic = second_slide.shapes.add_picture(\"my_plot.png\", left=Cm(0.40), top=Cm(2.8))"
   ]
  },
  {
   "cell_type": "markdown",
   "id": "20d24b9c",
   "metadata": {},
   "source": [
    "### Delete placeholder"
   ]
  },
  {
   "cell_type": "code",
   "execution_count": 16,
   "id": "06d5e8ec",
   "metadata": {},
   "outputs": [],
   "source": [
    "for shape in shapes_:\n",
    "    if shape.name == 'Placeholder_1':\n",
    "        shapes_.element.remove(shape.element)"
   ]
  },
  {
   "cell_type": "markdown",
   "id": "be95662e",
   "metadata": {},
   "source": [
    "# Save new presentation"
   ]
  },
  {
   "cell_type": "markdown",
   "id": "c1fef912",
   "metadata": {},
   "source": [
    "We would like to add today's date to the file's name"
   ]
  },
  {
   "cell_type": "code",
   "execution_count": 17,
   "id": "b9fce3d2",
   "metadata": {},
   "outputs": [
    {
     "name": "stdout",
     "output_type": "stream",
     "text": [
      "2022-01-25\n"
     ]
    }
   ],
   "source": [
    "today = pd.to_datetime('now').strftime(\"%Y-%m-%d\")\n",
    "print(today)"
   ]
  },
  {
   "cell_type": "code",
   "execution_count": 18,
   "id": "18274ab0",
   "metadata": {},
   "outputs": [],
   "source": [
    "report_ppt.save(f'New report {today}.pptx')"
   ]
  },
  {
   "cell_type": "markdown",
   "id": "8654e2da",
   "metadata": {},
   "source": [
    "# Stop kernel to exit PPT"
   ]
  },
  {
   "cell_type": "code",
   "execution_count": null,
   "id": "50c2cf25",
   "metadata": {},
   "outputs": [],
   "source": [
    "os._exit(00)"
   ]
  },
  {
   "cell_type": "code",
   "execution_count": null,
   "id": "2db74308",
   "metadata": {},
   "outputs": [],
   "source": []
  }
 ],
 "metadata": {
  "kernelspec": {
   "display_name": "Python 3",
   "language": "python",
   "name": "python3"
  },
  "language_info": {
   "codemirror_mode": {
    "name": "ipython",
    "version": 3
   },
   "file_extension": ".py",
   "mimetype": "text/x-python",
   "name": "python",
   "nbconvert_exporter": "python",
   "pygments_lexer": "ipython3",
   "version": "3.7.9"
  },
  "toc": {
   "base_numbering": 1,
   "nav_menu": {},
   "number_sections": true,
   "sideBar": true,
   "skip_h1_title": false,
   "title_cell": "Table of Contents",
   "title_sidebar": "Contents",
   "toc_cell": false,
   "toc_position": {},
   "toc_section_display": true,
   "toc_window_display": false
  }
 },
 "nbformat": 4,
 "nbformat_minor": 5
}
