{
 "cells": [
  {
   "cell_type": "markdown",
   "id": "9a0c1e6f",
   "metadata": {},
   "source": [
    "# ELBO (evidence lower bound)"
   ]
  },
  {
   "cell_type": "markdown",
   "id": "5365ab48",
   "metadata": {},
   "source": [
    "* Assume you have a model whose log-likelihood you want to maximize.\n",
    "* Further assume you have **latent variables** being used for something (some lower dimensional representation for example)"
   ]
  },
  {
   "cell_type": "markdown",
   "id": "10db1ae3",
   "metadata": {},
   "source": [
    "It then *always* holds that\n",
    "\n",
    "$$\\log P(\\mathbf X) \\geq \\mathbb E_{\\mathbf Z \\sim Q} \\left[ \\log \\frac{P(\\mathbf X, \\mathbf Z)}{Q(\\mathbf Z)}\\right]$$"
   ]
  },
  {
   "cell_type": "markdown",
   "id": "5063849f",
   "metadata": {},
   "source": [
    "In variational Bayesian methods, this is useful when:\n",
    "* We want to obtain the true postrior $P(\\mathbf Z|\\mathbf X)$, which is hard to calculate;\n",
    "* We have a simpler, usually parametric, approximation $Q$ for it"
   ]
  },
  {
   "cell_type": "markdown",
   "id": "a7fde3da",
   "metadata": {},
   "source": [
    "> Proof: use the fact that $D_{\\mathrm{KL}}(Q(\\mathbf Z) \\| P(\\mathbf Z|\\mathbf X) ) \\geq 0$, and expand this expression. This is useful to approximate the actual posterior, by finding the \"closest\" (in the sense of the KL divergence) approximation in the $Q$ space"
   ]
  },
  {
   "cell_type": "code",
   "execution_count": null,
   "id": "7e057b74",
   "metadata": {},
   "outputs": [],
   "source": []
  }
 ],
 "metadata": {
  "kernelspec": {
   "display_name": "Python 3",
   "language": "python",
   "name": "python3"
  },
  "language_info": {
   "codemirror_mode": {
    "name": "ipython",
    "version": 3
   },
   "file_extension": ".py",
   "mimetype": "text/x-python",
   "name": "python",
   "nbconvert_exporter": "python",
   "pygments_lexer": "ipython3",
   "version": "3.8.8"
  }
 },
 "nbformat": 4,
 "nbformat_minor": 5
}
