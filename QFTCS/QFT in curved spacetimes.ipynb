{
 "cells": [
  {
   "cell_type": "markdown",
   "id": "5d88640a",
   "metadata": {},
   "source": [
    "# Motivation"
   ]
  },
  {
   "cell_type": "markdown",
   "id": "6a454202",
   "metadata": {},
   "source": [
    "Poincaré invariance appears naturally and leads Hilbert space hosting irreducibe representations of the Poincaré group (=particle states)\n",
    "\n",
    "In GR, we no longer have Poincare invariance. We need to \"unlearn\" QFT and re-build it from scratch."
   ]
  },
  {
   "cell_type": "markdown",
   "id": "daefdc82",
   "metadata": {},
   "source": [
    "Assumptions:\n",
    "* Fixed background metric $g_{\\mu \\nu}$\n",
    "* Globally hyperbolic spacetimes\n",
    "* Linear fields (i.e. Hamiltonians are at most quadratic)\n",
    "* No interactions, backreaction, anomalies..."
   ]
  },
  {
   "cell_type": "markdown",
   "id": "4755a5dc",
   "metadata": {},
   "source": [
    "# From classical to quantum mechanics"
   ]
  },
  {
   "cell_type": "markdown",
   "id": "8e395f12",
   "metadata": {},
   "source": [
    "In what follows we will only consider linear systems, i.e. **quadratic Hamiltonians**: a Hamiltonian $H$ which is a quadratic polynomial of generalized coordinates and momenta.\n",
    "\n",
    "## A quick review of Hamiltonian mechanics\n",
    "\n",
    "Recall that one builds Hamiltonian mechanics via the following procedure (sum over repeated $i$ implied):\n",
    "* Start with a Lagrangian $L(q_i, \\dot q_i)$ which is a function of generalized coordinates and velocities;\n",
    "* Define generalized momenta $p_i$ via\n",
    "$$p_i \\equiv \\frac{\\partial L}{\\partial \\dot q_i}$$\n",
    "* Construct the Hamiltonian via the Legendre transform\n",
    "$$H(q_i, p_i) := \\dot q_i p_i - L$$\n",
    "> $H$ is not a function of $\\dot q_i$ anymore, as we can see by direct differentiation: $$dH = p_i d\\dot q_i + \\dot q_i dp_i - \\frac{\\partial L}{\\partial q_i} dq_i - \\frac{\\partial L}{\\partial \\dot q_i} d\\dot q_i = \\left(p_i - \\frac{\\partial L}{\\partial \\dot q_i} \\right) d\\dot q_i + \\dot q dp - \\frac{\\partial L}{\\partial q_i} dq_i = \\dot q dp - \\frac{\\partial L}{\\partial q_i} dq_i.$$ It assumes we can write $\\dot q_i = \\dot q_i(q_i, p_i)$.\n",
    "\n",
    "* Then one has Hamilton's equations:\n",
    "$$\\frac{dp_i}{dt} = - \\frac{\\partial H}{\\partial q_i},\\quad \\frac{dq_i}{dt} = + \\frac{\\partial H}{\\partial p_i}.$$"
   ]
  },
  {
   "cell_type": "markdown",
   "id": "72da8501",
   "metadata": {},
   "source": [
    "## Classical mechanics"
   ]
  },
  {
   "cell_type": "markdown",
   "id": "a6fbac98",
   "metadata": {},
   "source": [
    "We need 3 geometric ingredients + 1 physical one:\n",
    "\n",
    "(1) A **phase space**: real vector space $\\Gamma$ of dimension $2N$ ($N$ for positions, $N$ for momenta)\n",
    "   - We denote $\\gamma^a \\in \\Gamma$ using abstract index notation\n",
    "\n",
    "(2) **Observables**: real functions $O = \\{f: \\Gamma \\to \\mathbb{R}\\}$ (i.e. functions of positions and momenta)\n",
    "   - An important subset are linear observables, in the dual space $\\Gamma^*$ - denote $\\eta_a \\in \\Gamma^*$\n",
    "   - If we construct a basis in the dual space $(q_a^1, p_a^1, q_a^2, p_a^2,\\cdots)$, which we collectively write as $r_a^i$, then we can express any dual vector as $\\eta_a = \\eta_i r^i_a$\n",
    "\n",
    "(3) A **symplectic form** $\\Omega_{ab}$ on $\\Gamma$, i.e. a bilinear form which is:\n",
    "   - Anti-symmetric: $\\Omega_{ab} = \\Omega_{[ab]}$\n",
    "   - Non-degenerate (hence invertible): denoting its inverse by $\\Omega^{ab}$ we have $\\Omega^{ac}\\Omega_{cb} = \\delta^a_b$\n",
    "\n",
    "*Properties*:\n",
    "* Technically $\\Omega_{ab}$ is defined on $T\\Gamma$, but since $\\Gamma$ is a vector space, we can identify $T\\Gamma \\cong \\Gamma$\n",
    "* One can always (via a suitable Gram-Schmidt-like process) choose a so-called **Darboux basis** for the phase space where $\\Omega_{ab}$ takes the simple block-matrix form\n",
    "$$\\Omega_{ab} = \\oplus_{i =1}^N \\begin{pmatrix}\n",
    "0 & 1 \\\\\n",
    "-1 & 0 \n",
    "\\end{pmatrix}, \\qquad \n",
    "\\Omega^{ab} = \\oplus_{i =1}^N \\begin{pmatrix}\n",
    "0 & -1 \\\\\n",
    "1 & 0 \n",
    "\\end{pmatrix}$$\n",
    "\n",
    "> Obs: in some references like [1] below you will see the choice of matrices with the sign changed - this will affect all formulas below. We have changed to the most commonly seen sign convention.\n",
    "\n",
    "* $\\Omega_{ab}$ provides an isomorphism between the phase space and its dual:\n",
    "$$\\gamma_a := \\Omega_{ab} \\gamma^b$$\n",
    "is a well-defined index raising/lowering process. \n",
    "\n",
    "> Notice that, having defined $u_a = \\Omega_{ab} u^b$ (in this order) for any vector, we automatically know how to lower indices for higher-order tensors. For instance, given $G^{ab}$, we calculate $G_{ab}$ by using the invariance of  $$G_{ab} u^a v^b = G^{ab} u_a v_b \\Rightarrow G_{ab} = G^{cd} \\Omega_{ca} \\Omega_{db},$$ and similarly for other tensors.\n",
    "> We can also use the same procedure to learn how to raise indices: the result is $\\gamma^a = \\Omega^{ab} \\gamma_b$.\n",
    "\n",
    "> **Careful**: raising/lowering index requires attention to index ordering since $\\Omega$ is antisymmetric. You will lose minus signs here and there if you don't consistently place the contracted indices in the correct positions!"
   ]
  },
  {
   "cell_type": "markdown",
   "id": "cd1508db",
   "metadata": {},
   "source": [
    "\n",
    "* **Poisson brackets**: $\\Omega_{ab}$ introduces an algebraic structure in the set of observables: \n",
    "\n",
    "$$\n",
    "\\{\\cdot, \\cdot\\}: O \\times O \\to O\\\\\n",
    "\\{O_1, O_2\\} := \\Omega^{ab} \\nabla_a O_1 \\nabla_b O_2 = \\Omega^{ij} \\frac{\\partial O_1}{\\partial r_i} \\frac{\\partial O_2}{\\partial r_j}\n",
    "$$\n",
    "\n",
    "Using a Darboux basis as above, one can write\n",
    "\n",
    "$$\\{O_1, O_2\\} = \\sum_N \\frac{\\partial O_1}{\\partial q_i} \\frac{\\partial O_2}{\\partial p^i} - \\frac{\\partial O_1}{\\partial p_i} \\frac{\\partial O_2}{\\partial q_i}$$\n",
    "\n",
    "which coincides with the standard expression for Poisson brackets.\n",
    "\n",
    "* **Symplectic group**: the set of linear transformations $M^a_{\\;b}: \\Gamma \\to \\Gamma$ which preserve the symplectic form, i.e.\n",
    "\n",
    "$$M^c_{\\;a} \\Omega_{cd} M^d_{\\;b} = \\Omega_{ab}$$\n",
    "\n",
    "define the symplectic group $Sp(2N,\\mathbb{R})$. This is a subset of more general symplectomorphisms. \n",
    "\n",
    "(4) **Dynamics** given by a (quadratic) Hamiltonian\n",
    "$$H = \\frac 12 h_{ij} r^i r^j$$\n",
    "\n",
    "(notice that this is without loss of generality. Suppose the Hamiltonian had a $f_i r^i$ linear term; then by re-defining the coordinates $r_i$ we could eliminate it. Also constant terms in the Hamiltonian don't affect the dynamics. Thus, this is general enough for us)\n",
    "\n",
    "We know that observables now evolve according to Hamilton's equations:\n",
    "\n",
    "$$\\frac{d}{dt} O = \\{O, H\\}$$\n",
    "\n",
    "> Proof: direct application of Hamilton's equations over a curve on phase space parameterized by $t$: $$\\frac{d O}{dt} = \\sum_i \\left(\\frac{\\partial O}{\\partial q_i} \\frac{d q_i}{dt} + \\frac{\\partial O}{\\partial p_i} \\frac{d p_i}{dt} \\right) = \\sum_i \\left(\\frac{\\partial O}{\\partial q_i} \\frac{\\partial H}{\\partial p_i} - \\frac{\\partial O}{\\partial p_i} \\frac{\\partial H}{\\partial q_i} \\right) =: \\{O, H\\}.$$\n",
    "\n",
    "In particlar, for elementary observables (the position and momenta), their time evolution is a linear transformation:\n",
    "\n",
    "$$r^i(t) = S^i_j(t) r^i(0) = \\exp[\\Omega^{ij}h_{ij}t]$$\n",
    "\n",
    "where the last equality is valid for time-independent Hamiltonians.\n",
    "\n",
    "  * Time-evolution is always a symplectic transformation!"
   ]
  },
  {
   "cell_type": "markdown",
   "id": "54c142be",
   "metadata": {},
   "source": [
    "## The road to quantization"
   ]
  },
  {
   "cell_type": "markdown",
   "id": "c1228dba",
   "metadata": {},
   "source": [
    "Starting from $(\\Gamma, O, \\{\\cdot,\\cdot\\})$, how do we go to a quantum theory defined on a Hilbert space whose observables are self-adjoint operators?\n",
    "\n",
    "> Specifically, we want to \"substitute\" $\\Gamma$ by $\\mathcal{H}$ in some way. Plus, we want to write linear observables via a representation $R(\\hat\\eta)$ such that\n",
    "\n",
    "$$[R(\\hat\\eta), R(\\hat\\zeta)] = i \\Omega^{ab}\\eta_a \\zeta_b \\hat{\\mathbb{I}}$$\n",
    "\n",
    "Naively, one could take $\\Gamma$ and promote it to a complex vector space $\\Gamma_\\mathbb{C}$, and extend $\\Omega^{ab}$ to it by linearity. Defining\n",
    "\n",
    "$$\\langle u,b \\rangle := - i \\Omega_{ab} \\bar{u}^a v^b \\qquad\\mbox{(symplectic product)}$$\n",
    "\n",
    "one could expect it to be the inner product necessary to build the Hilbert space structure. However, this procedure does not yield a positive definite inner product. <span style=\"color:red\">prove this - not obvious</span> \n",
    "> It does, however, satisfy (1) sesquilinearity and (2) $\\langle u,v\\rangle = \\overline{\\langle v, u \\rangle}$"
   ]
  },
  {
   "cell_type": "markdown",
   "id": "62df60a5",
   "metadata": {},
   "source": [
    "### Kähler vector spaces\n",
    "The stage we need for quantization is more specific than a (vector) phase space - we need it to have a Kähler structure.\n",
    "\n",
    "A real vector space $V$ is said to be Kähler if it is equipped with 3 structures (out of which only two are independent)\n",
    "1. A **symplectic form** $\\Omega_{ab}$ (bilinear, antisymmetric, non-degenerate) and its inverse $\\Omega^{ab}$\n",
    "2. A **metric tensor** $G^{ab}$ (bilinear, symmetric, positive definite)\n",
    "3. A **complex structure** $J^a_{\\;b}$, ie. a linear map such that $J^2 = - \\mathbb{1}$ (ie $J^a_{\\;c} J^c_{\\;b} = - \\delta^a_b$).\n",
    "\n",
    "We also need to impose that either $G$ or $\\Omega$ *preserve the complex structure* $J$, ie. in the case of $\\Omega$:\n",
    "\n",
    "$$\\Omega_{ab}J^a_{\\;c} J^b_{\\;d} = \\Omega_{cd}, \\quad\\mbox{ or index-free: }\\quad \\Omega(J u, J v) = \\Omega(u,v) \\quad \\forall u, v \\in V$$\n",
    "\n",
    "> As \"back-of-the-envelope\" 2D examples, keep the following in mind: $$\\Omega_{ij} = - \\Omega^{ij} = \\begin{pmatrix}\n",
    "0 & 1\\\\\n",
    "-1 & 0\n",
    "\\end{pmatrix},\\quad \n",
    "J^i_{\\;j} = \\begin{pmatrix}\n",
    "0 & -1\\\\\n",
    "1 & 0\n",
    "\\end{pmatrix},\\quad\n",
    "G^{ij} = G_{ij} = \\begin{pmatrix}\n",
    "1 & 0\\\\\n",
    "0 & 1\n",
    "\\end{pmatrix}.$$ You can check that $J^2 = -1$, $\\Omega^T J \\Omega = J$. These representations are useful since one can always choose coordinates to be Darboux coordinates where $\\Omega$ takes a block-diagonal form. In this case, it is enough to set $J = -\\Omega$ in these coordinates, and $G$ will simply be the identity matrix.\n",
    "\n",
    "[*Proposition*] **From any two out of the three one can build the other**. For instance, let $\\Omega, J$ be given (here, $\\Omega$ must preserve the complex structure, so $\\Omega(J u, J v) = \\Omega(u, v)$). Then we can construct the (downstairs) metric via \n",
    "\n",
    "$$\\boxed{G(u,v) = \\Omega(u, J v)}$$\n",
    "\n",
    "(or, in index notation, $G_{ab} = \\Omega_{ac} J^c_{\\;b}$). Similarly, let $G$ and $J$ be given (here $G(J u, J v) = G(u, v)$); then one can define\n",
    "\n",
    "$$\\boxed{\\Omega(u,v) = G(Ju, v)}$$\n",
    "\n",
    "(in indices: $\\Omega_{ab} = G_{cb} J^c_{\\;a}$).\n",
    "Finally, assuming $G$ and $\\Omega$ are given, one can find a complex structure via\n",
    "\n",
    "$$\\boxed{J^a_{\\; b} = - G^{ac}\\Omega_{cb}}$$"
   ]
  },
  {
   "cell_type": "markdown",
   "id": "f466fc9d",
   "metadata": {},
   "source": [
    "> Proof: assume $\\Omega$, $J$ are given. First we show that $G$ thus defined is symmetric. Using that $\\Omega(a,b) = \\Omega(J a, J b)$ yields$$G(u,v) = \\Omega(u, J v) = \\Omega(J u, J^2 v) = -\\Omega(J u, v) = +\\Omega(v, J u) = G(v,u)$$\n",
    "> so $G$ is symmetric. It is non-degenerate since it can be made into the identity in choosing Darboux coordinates. We have proven that it is a well-defined metric. It obviously preserves the complex structure since $G(J u, J v) = \\Omega(J u, J J v) = \\Omega(u, J v) = G(u,v)$.\n",
    "\n",
    "> We now prove that $\\Omega$ defined via $\\Omega(u,v) = G(J u, v)$ is a well-defined symplectic form. It is bilinear and non-degenerate; to see that it is antisymmetric, do\n",
    "$$\\Omega(u, v) = G(J u, v) = G(v, J u) = G (J v, J^2 u) = - G(J v, u) = - \\Omega(v, u)$$\n",
    "> where we used that $G$ preserves the complex structure.\n",
    "\n",
    "> Finally, we assume the case when $G$ and $\\Omega$ are given. Letting $J^a_{\\; b} = - G^{ac}\\Omega_{cb}$ we show that $J^2 = -\\mathbb{I}$:\n",
    "$$J^{a}_{\\;b} J^b_{\\; d} = G^{ac} \\Omega_{cb} G^{be} \\Omega_{ed} = G^{ac} (-\\Omega_{cb} \\Omega_{de} G^{be}) = -G^{ac} G_{cd} = - \\delta^a_d.$$\n",
    ">We further need to show that $J$ thus defined is preserved by $\\Omega$ and $G$. Doing this for $\\Omega$:\n",
    "$$\\Omega_{ab} J^a_{\\;c} J^b_{\\;d} = \\Omega_{ab} G^{ae} \\Omega_{ec} G^{bf} \\Omega_{fd} = (\\Omega_{ba} \\Omega_{ce} G^{ae}) \\Omega_{fd} G^{bf} = G_{bc} G^{bf} \\Omega_{fd} = \\delta^f_c \\Omega_{fd} = \\Omega_{cd}.$$\n",
    "So indeed it is preserved."
   ]
  },
  {
   "cell_type": "markdown",
   "id": "812ef72c",
   "metadata": {},
   "source": [
    "#### Notes on the complex structure $J$ and complexification"
   ]
  },
  {
   "cell_type": "markdown",
   "id": "20b1ff4b",
   "metadata": {},
   "source": [
    "(From [3] page 11)\n",
    "Let $V$ be a vector space over $\\mathbb{R}$. A complex structure on $V$ is an endomorphism $J: V \\to V$ such that $J^2 =−1$. Such a structure turns $V$ into a complex vector space by defining multiplication with $i$ by $iv := Jv$."
   ]
  },
  {
   "cell_type": "markdown",
   "id": "6d929e02",
   "metadata": {},
   "source": [
    "For instance, take $V = \\mathbb{R}^4$, with coordinates $(x_1, y_1, x_2, y_2)$. We can define a complex structure $J: V\\to V$ as \n",
    "\n",
    "$$J(x_1, y_1, x_2, y_2) := (-y_1, x_1, -y_2, x_2)$$\n",
    "\n",
    "This actually creates an identification with a *complexified* version of $\\mathbb{R}^4$ which is $V_\\mathbb{C} = \\mathbb{C}^2$, whose coordinates are $(x_1 + i y_1, x_2 + i y_2)$. How? By making the operation of multiplying by $i$ in the complexified space be equivalent to applying $J$ in the non-complexified one. \n",
    "\n",
    "To see this, let $u_\\mathbb{C} = (u_1, u_2)$ where $u_i \\in \\mathbb C$. There is a 1-1 identification between $\\mathbb{C}^2$ and $\\mathbb{R}^4$ via\n",
    "\n",
    "$$(u_1, u_2) \\mapsto (\\mathrm{Re\\;}{u_1}, \\mathrm{Im\\;}{u_1}, \\mathrm{Re\\;}{u_2}, \\mathrm{Im\\;}{u_2})$$\n",
    "\n",
    "Writing $u_j = x_j + i y_j$, this map yields $(x_1, y_1, x_2, y_2)$. Now, if we multiply the original coordinates by $i$, we get\n",
    "\n",
    "$$i(u_1, u_2) = (-y_1 + i x_1, y_2 + i x_2)$$\n",
    "\n",
    "which, when mapped back to $\\mathbb{R}^4$, gives $(-y_1, x_1, -y_2, x_2)$ - exactly what we have when applying $J$ to the original vector."
   ]
  },
  {
   "cell_type": "markdown",
   "id": "355b3933",
   "metadata": {},
   "source": [
    "### Quantization procedure"
   ]
  },
  {
   "cell_type": "markdown",
   "id": "2c94d2e3",
   "metadata": {},
   "source": [
    "We assume a Kähler vector space representing our phase space has been given, with $\\Gamma$ the (real) vector space, $\\Omega$ its symplectic form, and $J$ a complex structure.\n",
    "> We haven't discussed **how** to obtain a complex structure - this will be done later. For now we assume we have it.\n",
    "\n",
    "Then, we:\n",
    "\n",
    "1. Complexify $\\Gamma$ into $\\Gamma_{\\mathbb C}$ and extend $\\Omega, J$ to $\\Gamma_{\\mathbb{C}}$ by linearity\n",
    "2. Since $J^2 = -\\mathbb{I}$, its eigenvalues are $\\pm i$, and we can split the space into the sum of the eigenspaces.\n",
    "> Letting $Ju = \\lambda u$, we do $J^2 u = \\lambda J u = \\lambda^2 u$, but $J^2 u = - u $, hence we get $(\\lambda^2+1)u=0$. If $u \\neq 0$ then this implies $\\lambda  = \\pm i$.\n",
    "\n",
    "Let $\\Gamma_J^+$ be the eigenspace associated with the value $+i$ and analogously for $-i$. We may write\n",
    "\n",
    "$$\\boxed{\\Gamma_\\mathbb{C} = \\Gamma_J^+ \\oplus \\Gamma_J^-}$$\n",
    "\n",
    "Notice that one subspace is mapped to the other via complex conjugation.\n",
    "\n",
    "[**Projectors**] $\\displaystyle P_J^\\pm = \\frac{\\mathbb{I} \\mp i J}{2}$ are the orthogonal projectors onto the $\\Gamma_J^\\pm$ subspaces."
   ]
  },
  {
   "cell_type": "markdown",
   "id": "876955be",
   "metadata": {},
   "source": [
    "> To see this, let $u \\in \\Gamma_\\mathbb{C}$ and write $u = u_+ + u_-$ with $u_\\pm \\in \\Gamma_J^\\pm$. Applyig $P_J^+$, for instance, yields\n",
    "$$P^+_J u = \\left(\\frac{\\mathbb{I} - i J}{2} \\right)(u_+ + u_-) = \\frac{u_+ + u_i - i J u_+ - i J u_-}{2} = \\frac{u_+ + u_- + u_+ - u_-}{2} = u_+.$$\n",
    "It is also trivial to check that $(P_J^\\pm)^2 = P_J^\\pm$, so they are indeed projectors."
   ]
  },
  {
   "cell_type": "markdown",
   "id": "fbf666c9",
   "metadata": {},
   "source": [
    "[**Inner product**] The symplectic product\n",
    "\n",
    "$$\\boxed{\\langle u, v \\rangle := + i \\Omega_{ab} \\bar{u}^a v^b}$$\n",
    "\n",
    "is positive-definite when restricted to $\\Gamma_J^+$ regardless of the choice of $J$ (and negative definite for $\\Gamma_J^-$).\n",
    "\n",
    "> Note: in [1] the sign before $i$ is negative. I changed it to $+$ to make it match our symplectic form, which has an opposite sign from his. Equivalently, we keep the minus sign but throw the complex conjugate to $v$ instead of $u$. That works too.\n",
    "\n",
    "> Proof: recall that, for fixed $J$, one can write the symplectic form as $\\Omega(u,v) = G(Ju, v)$. Now, let $u \\in \\Gamma_J^+$. Then $\\bar u \\in \\Gamma_J^-$ and thus $\\Omega(\\bar u, v) = G(-i \\bar u, v) = - i G(\\bar u, v)$. Now $$\\langle u, v \\rangle = i \\Omega(\\bar u, v) = i (-i) G(\\bar u, v) = + G(\\bar u, v).$$ Setting $u=v$ yields $$\\langle u, u\\rangle = G(\\bar u, u) > 0 \\mbox { if } u \\neq 0$$ since $G$ is a positive-definite quadratic form."
   ]
  },
  {
   "cell_type": "markdown",
   "id": "b82eb10e",
   "metadata": {},
   "source": [
    "# References\n",
    "[1] https://www.youtube.com/watch?v=J_UHNmxxw7U&list=PLwLvxaPjGHxRdLln32e5ZFECpaCeqG7Zt&index=2&t=7042s\n",
    "\n",
    "[2] https://ncatlab.org/nlab/show/K%C3%A4hler+vector+space\n",
    "\n",
    "[3] http://people.mpim-bonn.mpg.de/hwbllmnn/archiv/kaehler0609.pdf\n"
   ]
  },
  {
   "cell_type": "code",
   "execution_count": null,
   "id": "78c45eb3",
   "metadata": {},
   "outputs": [],
   "source": []
  }
 ],
 "metadata": {
  "kernelspec": {
   "display_name": "Python 3",
   "language": "python",
   "name": "python3"
  },
  "language_info": {
   "codemirror_mode": {
    "name": "ipython",
    "version": 3
   },
   "file_extension": ".py",
   "mimetype": "text/x-python",
   "name": "python",
   "nbconvert_exporter": "python",
   "pygments_lexer": "ipython3",
   "version": "3.7.9"
  },
  "toc": {
   "base_numbering": 1,
   "nav_menu": {},
   "number_sections": true,
   "sideBar": true,
   "skip_h1_title": false,
   "title_cell": "Table of Contents",
   "title_sidebar": "Contents",
   "toc_cell": false,
   "toc_position": {},
   "toc_section_display": true,
   "toc_window_display": false
  }
 },
 "nbformat": 4,
 "nbformat_minor": 5
}
