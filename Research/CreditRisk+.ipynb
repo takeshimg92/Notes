{
 "cells": [
  {
   "cell_type": "markdown",
   "id": "6345b1e6",
   "metadata": {},
   "source": [
    "# Overview"
   ]
  },
  {
   "cell_type": "markdown",
   "id": "9c9a0db1",
   "metadata": {},
   "source": [
    "* Launched in 1996 by CreditSuisse.\n",
    "* Objective: **model risk on a portfolio basis**\n",
    "\n",
    "Three main models:\n",
    "\n",
    "* The structural models: there are two models of management of credit  portfolio who are supplied in the literature: Moody's KMV model (Portfolio Model) and CreditMetrics model by JPMorgan.\n",
    "* The Macro-factors model (Econometric model): The Credit Portfolio View model introduces in 1998 by Mckinsey.\n",
    "* The actuarial models CSFP (Credit Suisse First Boston): this model (CreditRisk+) is developed in 1997.\n",
    "## Variables\n",
    "\n",
    "* **Size** and **maturity** of a debt exposure\n",
    "  * A credit exposure is how much a debt is worth (eg. $10000), or in other words the maximum potential loss in case of default\n",
    "* Credit quality (i.e. **default rates**)\n",
    "  * Here, observed credit spreads and ratings (AAA, AA, etc) can be used\n",
    "  * Default rates are modelled as continuous random variables, incorporating their volatility and background effects: default rate volatilities and sector analysis.\n",
    "  * Correlations are not used directly, and does not consider causes for default\n",
    "* **Default rate volatilities**\n",
    "* **Recovery rates**: how much a company reduces their losses after a default, considering foreclosure, liquidation or restructuring of the debt. In other words, \n",
    "$$\\mathrm{Loss = Exposure - Recovery}$$\n",
    "\n",
    "\n",
    "## Main considerations\n",
    "* Insurance (a few sudden events) vs. financial (continuous time series) techniques for modelling\n",
    "* Only consider credit default risk\n",
    "\n",
    "Note: in theory, we could also consider **credit spread risk** on top of credit default. This is a quantity only exhibited in mark-to-market scenarios, where actions of the counterparty may reduce their credit rating and thus make the debt less valuabe.\n",
    "* Example: consider a corporate bond (debenture). If the issuer's credit rating goes down, the bond is less valuable. This is an opportunity cost risk.\n",
    "\n",
    "# Technical considerations\n",
    "The CreditRisk+ presents four hypotheses:\n",
    "* Every individual credit presents only two possible states: failures or no failures.\n",
    "* The default probability of an individual credit is low.\n",
    "* The default probability for a big group of borrowers is very low.\n",
    "* The number of default over a period is independent from that of any\n",
    "other period.\n",
    "\n",
    "From a modelling perspective, this can be translated into the following chain of reasoning:\n",
    "* For a rare set of events, we can show that a **Poisson distribution** is good at modelling the **count** of default events, if **each default is considered as a Bernoulli variable**\n",
    "* However, since $E[\\mathrm{Total\\;loss}] = \\mathrm{Default\\;probability} \\times \\mathrm{Lost\\;amount}$, the loss distribution will not be Poisson\n",
    "* Common workaround in insurance: model the loss per default as an **exponential distribution**\n",
    "* Workaround here: model each loss individually and consider not the probability, but the **probability generating function**. This allows for a recursive calculation of the loss distribution\n"
   ]
  },
  {
   "cell_type": "markdown",
   "id": "0764b588",
   "metadata": {},
   "source": [
    "---"
   ]
  },
  {
   "cell_type": "markdown",
   "id": "e921675f",
   "metadata": {},
   "source": [
    "# Default event modelling"
   ]
  },
  {
   "cell_type": "markdown",
   "id": "848099a3",
   "metadata": {},
   "source": [
    "#### Prop. [Sum of multiple rare Bernoulli variables is Poisson]\n",
    "> Let $X_A \\sim \\mathrm{Bernoulli}(p_A)$ be the default event for a single individual. Let $$X = \\sum_A X_A$$ be the total amount of defaults across all $N$ individuals, where we assume all $X_A$'s are independent, for all $A$. If $p_A \\ll 1$ for all $A$, then approximately it holds $$ X \\sim \\mathrm{Poisson}(\\mu),\\quad \\mu \\equiv \\sum_A p_A$$ where $\\mathrm{Poisson}(\\mu)$ denotes a discrete random variable with PMF $${P}(X=k) = e^{-\\mu} \\frac{\\mu^k}{k!} 1_{k \\in \\mathbb{Z}_+}$$"
   ]
  },
  {
   "cell_type": "markdown",
   "id": "2a9a527f",
   "metadata": {},
   "source": [
    "Proof:\n",
    "> Let $F_A(z)$ be the probability generating function (PGF) for $X_A$, namely $F_A(z) = \\sum_{n \\geq 0} P(n\\mbox{ defaults}) z^n$. For a Bernoully variable, this is equivalent to $F_A(z) = 1-p_A + p_A z$.  Now consider the PGF for $X$, $F_X(z) = \\sum_{n \\geq 0} P(n\\mbox{ defaults}) z^n$. Since all $X_A$'s are independent, we can write $$F_X(z) = \\prod_A F_A(z) = \\prod_A [1 + p_A (z-1)].$$ Taking the log we have $$\\log F_X(z) = \\sum_A \\log(1 + p_A (z-1)) \\approx \\sum_A p_A (z-1)$$ where we used that $p_A \\ll 1$ to approximate $\\log(1+x) \\approx x + O(x^2)$. Exponentiating back we get $$F_X(z) \\approx e^{(z-1) \\sum_A p_A} =: e^{\\mu (z-1)} = e^{-\\mu} \\sum_{n\\geq 0} \\frac{\\mu^n}{n!} z^n.$$ Comparing this with the definition of $F_X$ gives $P(n\\mbox{ defaults}) = e^{-\\mu} \\mu^n/n!$, which is the probability mass for a Poisson variable. $\\mathrm{\\square}$"
   ]
  },
  {
   "cell_type": "markdown",
   "id": "9b8e868f",
   "metadata": {},
   "source": [
    "Under this model, one would expect a standard deviation of $\\sqrt{\\mu}$ for the total defaults, but historical errors are much larger. This suggestes that there are background factors or variations of observed default rates over time which increase the overall uncertainty."
   ]
  },
  {
   "cell_type": "markdown",
   "id": "e3d3a791",
   "metadata": {},
   "source": [
    "Notice that, had we not been able to identify the probabilities directly by inspection of the formula, one could use that $$F_X(z) = \\sum_{n\\geq 0} P(X=n)z^n$$ and invert it: $$P(X=n) = \\frac{1}{n!}\\left.\\frac{d^n F_X}{dz^n}\\right|_{z=0}$$"
   ]
  },
  {
   "cell_type": "markdown",
   "id": "9dee0e0b",
   "metadata": {},
   "source": [
    "This will be useful below."
   ]
  },
  {
   "cell_type": "markdown",
   "id": "29f0f1b0",
   "metadata": {},
   "source": [
    "---"
   ]
  },
  {
   "cell_type": "markdown",
   "id": "813a9339",
   "metadata": {},
   "source": [
    "# Insurance modelling: Poisson processes and compound processes\n",
    "#### (Not part of the CreditRisk+ paper)"
   ]
  },
  {
   "cell_type": "markdown",
   "id": "096fbb15",
   "metadata": {},
   "source": [
    "We could stop the core modelling process here. There would only be one additional ingredient: how to transform a count of default events into dollar losses. This can be done (as it is, in the insurance setting) according to the recipe below."
   ]
  },
  {
   "cell_type": "markdown",
   "id": "69bc1089",
   "metadata": {},
   "source": [
    "#### Def. [Poisson process]\n",
    "A stochastic process $N(t)$ is a Poisson process with rate $\\lambda(t)$ if:\n",
    "* $N(t)$ is a counting process, namely $N(0) = 0$, $N(t)$ takes values in $\\{0,1,2,\\ldots\\}$, and the map $t \\mapsto N(t)$ is non-decreasing with probability 1;\n",
    "* $N$ is $(\\mathcal{F}_t)_{t\\geq 0}$-adapted, i.e. $N(t)$ is $\\mathcal{F}_t$-measurable\n",
    "* For any $t \\geq 0$ and $h > 0$, one has that $N(t+h)-N(t)$ is independent of $\\mathcal{F}_t$\n",
    "* For any $t \\geq 0$ and $h > 0$, one has\n",
    "\n",
    "$$N(t+h) - N(t) \\sim \\mathrm{Poisson}\\left(\\mu=\\int_t^{t+h} \\lambda(s)ds \\right)$$\n",
    "where $\\mathrm{Poisson}(\\mu)$ denotes a discrete random variable with PMF\n",
    "$$\\mathbb{P}(X=k) = e^{-\\mu} \\frac{\\mu^k}{k!} 1_{k \\in \\mathbb{Z}_+}$$"
   ]
  },
  {
   "cell_type": "markdown",
   "id": "8d129066",
   "metadata": {},
   "source": [
    "> A Poisson process is a stochastic process (in fact, a Markov process) which either grows or stays the same over time, with the number of events happening in a given interval independent of how many happened before, and following a Poisson distribution.\n",
    "\n",
    "> Note that a Poisson process is **not** a martingale, but the so-called **compensated Poisson process** $$M(t) := N(t) - \\int_0^t \\lambda(s)ds$$ is, namely $E[M(t)|\\mathcal{F}_s] = M(s)$. This shows that $N$ is in fact a submartingale."
   ]
  },
  {
   "cell_type": "markdown",
   "id": "8699d73e",
   "metadata": {},
   "source": [
    "The main tool to mix **frequency** with **severity** for a Poisson process is the one below:"
   ]
  },
  {
   "cell_type": "markdown",
   "id": "8f7fd0c2",
   "metadata": {},
   "source": [
    "#### Def. [Compound Poisson process]\n",
    "A stochastic process $S(t)$ is a compound Poisson process if one can write\n",
    "\n",
    "$$S(t) = \\sum_{j=0}^{N(t)} X_j$$\n",
    "where:\n",
    "* $N$ is a Poisson process with rate $\\lambda(t)$\n",
    "* All $X_j$ are iid (but otherwise freely chosen)\n",
    "* For all $t$, $N(t)$ is independent of all the $X_i$'s."
   ]
  },
  {
   "cell_type": "markdown",
   "id": "f117ca94",
   "metadata": {},
   "source": [
    "> Application: insurance. Let $N$ denote the default Poisson process and $X$ be the loss per default. We model $$N \\sim \\mathrm{PoissonProcess}(\\lambda(t)),\\quad X \\sim \\mathrm{Exponential}(\\theta)$$ If we can further assume $N(t)$ to be big (which is likely to happen after sufficient time), then $S(t)$ will be basically the sum of many iid variables and, from the CLT, can be approximated as a normal variable.\n",
    "\n",
    "> Recall that an exponential variable is a continous one with PDF\n",
    "$$p(x|\\theta) = \\theta e^{-\\theta x} 1_{x \\geq 0}$$"
   ]
  },
  {
   "cell_type": "markdown",
   "id": "015666fc",
   "metadata": {},
   "source": [
    "#### Prop. [statistics for a Compound Poisson process]\n",
    "$$E[S(t)] = E[N(t)]E[X]\\quad \\mbox{(aka Wald's equation)}$$\n",
    "$$\\mathrm{Var}[S(t)] = E[N(t)] E[X^2] = E[N(t)]\\mathrm{Var}[X] + \\mathrm{Var}[N(t)] E[X]^2$$"
   ]
  },
  {
   "cell_type": "markdown",
   "id": "794e9351",
   "metadata": {},
   "source": [
    "> Application (continuation of the one before). Let $N \\sim \\mathrm{PoissonProcess}(\\lambda=20\\mbox{ claims/day})$ and $X \\sim \\mathrm{Exponential}(\\theta=\\$500)$. We can then calculate the amount of losses in the first 10 days, $S(10)$: $$E[S(10)] = E[N(10)] E[X];$$ now $N(10) = N(10)-N(0) \\sim \\mathrm{Poisson}(20\\times10) = \\mathrm{Poisson}(200)$ and $E[X] = \\theta = 500$, so $$E[S(10)] = 200\\times 500 = \\$100k.$$ Its variance can be calculated with the formulae above as $\\$10k$, and if we assume a sufficiently high number of defaults, we can approximate $$S(10) \\sim \\mathcal{N}(\\mu=\\$100k, \\sigma=\\$10k).$$"
   ]
  },
  {
   "cell_type": "markdown",
   "id": "b60a1320",
   "metadata": {},
   "source": [
    "The CreditRisk+ model goes beyond independent modelling of default events and losses, and instead considers known exposures to each obligor in the portfolio. We analyze this approch in what follows."
   ]
  },
  {
   "cell_type": "markdown",
   "id": "214f555f",
   "metadata": {},
   "source": [
    "# Distribution of losses in the CreditRisk+ model"
   ]
  },
  {
   "cell_type": "markdown",
   "id": "7d7912d9",
   "metadata": {},
   "source": [
    "This discussion above (in the simplified insurance setting) assumes independent laws for the default count and each default's financial impact (loss). In what follows, we use **explicit modelling of each obligor's total exposure** to derive the **distribution of total losses**."
   ]
  },
  {
   "cell_type": "markdown",
   "id": "66deb519",
   "metadata": {},
   "source": [
    "#### Key variables:\n",
    "* Exposure [unit: currency] of obligor $A$: $e_A$\n",
    "* Default probability of obligor $A$: $p_A$ as before\n",
    "* Expected loss [unit: currency] for obligor $A$: $\\ell_A$\n",
    "\n",
    "For consistency, it must hold that $$\\ell_A = p_A e_A$$.\n",
    "\n",
    "Obs: in the original paper, $e_A$ is called $v_A$ and $\\ell_A$ is $\\epsilon_A$."
   ]
  },
  {
   "cell_type": "markdown",
   "id": "09391c37",
   "metadata": {},
   "source": [
    "To simplify the notation of the paper, we assume a base currency that is kept fixed."
   ]
  },
  {
   "cell_type": "markdown",
   "id": "5f848b3c",
   "metadata": {},
   "source": [
    "### Key variables"
   ]
  },
  {
   "cell_type": "markdown",
   "id": "51ec1b07",
   "metadata": {},
   "source": [
    "An analytic expression for the loss can be obtained by **discretizing the losses into integer intervals** (in units of the base currency). That is, we map $$e_A \\mapsto \\left\\lfloor e_A \\right\\rfloor$$\n",
    "so that we can consider a integer-valued (and thus discrete) version of the theoretical loss random variable."
   ]
  },
  {
   "cell_type": "markdown",
   "id": "17a9170f",
   "metadata": {},
   "source": [
    "We can now consider our exposures to be in a set $\\{e_j\\}_{j\\in \\mathbb{Z}_+}$ where every $e_j$ is an integer. This way, obligors with the same exposure will be grouped together. \n",
    "\n",
    "For every band $j$, we then define\n",
    "* $\\ell_j$ [unit: currency] as the expected loss for band $j$, i.e. the one associated with the obligors with exposure $e_j$. We can also write $$\\ell_j = \\sum_{A: e_A = e_j} {\\ell_A}$$\n",
    "* $\\mu_j$, the expected **number of defaults** in band $j$. It is defined via $$\\ell_j =: e_j \\mu_j$$"
   ]
  },
  {
   "cell_type": "markdown",
   "id": "67dcce4c",
   "metadata": {},
   "source": [
    "Recall, from that the total amount of defaults (either in a band or in general) are given by a Poisson variable with a parameter equal to the sum of default probabilities of each individual in the portfolio. For a Poisson variable $X \\sim \\mathrm{Poisson}(\\lambda)$, it holds that $E[X] = \\lambda$, so the expected amount of defaults is exactly the sum of the individual probabilities. Thus, it must hold that $$\\mu := \\sum_{j\\geq 0} \\mu_j$$ is equal to $\\mu$ as defined in the first section, $$\\mu = \\sum_A p_A$$."
   ]
  },
  {
   "cell_type": "markdown",
   "id": "a5119534",
   "metadata": {},
   "source": [
    "### Obtaining the loss distribution"
   ]
  },
  {
   "cell_type": "markdown",
   "id": "18ed2961",
   "metadata": {},
   "source": [
    "As before, let us define a probability-generating function $z\\mapsto G(z)$ for the aggregate loss, via $$G(z) = \\sum_{n\\geq 0} P(\\mbox{aggregate loss = $n$ units of currency}) z^n.$$ Notice here that we are considering $n$ to have units of currency (so, theoretically, $n = n_{unitless} \\times \\mathrm{USD}$ for example), which is different from the previous case where it measured the (dimensionless) count of defaults."
   ]
  },
  {
   "cell_type": "markdown",
   "id": "35c362fe",
   "metadata": {},
   "source": [
    "Assuming independence among different bands, we can again decompose $$G(z) = \\prod_{j\\geq 0} G_j(z)$$ where $$G_j(z) = \\sum_{m \\geq 0} P(m\\mbox{ defaults in band }j) z^{m e_j}.$$ Here, notice that $m$ is a counter for defaults, so to make the exponent emulate the dollar loss in $G$, we need to multiply by the band's exposure.\n",
    "\n",
    "We can now consider each band $j$ as its own separate world, where $$P(\\mbox{$m$ defaults in band $j$}) = e^{-\\mu_j} \\mu_j^m/m! $$"
   ]
  },
  {
   "cell_type": "markdown",
   "id": "2215f3ef",
   "metadata": {},
   "source": [
    "Plugging this back into $G_j$ yields $$G_j(z) = \\exp(-\\mu_j + \\mu_j z^{e_j}),$$ and so the full probability-generating function is just $$G(z) = \\prod_{j \\geq 0} \\exp(-\\mu_j + \\mu_j z^{e_j}) = \\exp\\left(-\\sum_{j\\geq 0} \\mu_j + \\sum_{j\\geq 0} \\mu_j z^{e_j} \\right)$$"
   ]
  },
  {
   "cell_type": "markdown",
   "id": "822fa6d6",
   "metadata": {},
   "source": [
    "To extract the actual probabilities\n",
    "$$P(\\mbox{aggregate loss = $n$}) = \\left.\\frac{1}{n!} \\frac{d^n G}{dz^n}\\right|_{z=0} := P_n$$"
   ]
  },
  {
   "cell_type": "markdown",
   "id": "428a9f9b",
   "metadata": {},
   "source": [
    "we can actually iteratively differentiate the equation above, and make it into a recurrence relation. The result is:\n",
    "$$\\boxed{\\begin{cases}\n",
    "P_0 &= e^{-\\mu} = \\exp\\left(-\\sum_{j\\geq 0} \\frac{\\ell_j}{e_j}\\right)\\\\\n",
    "P_n &= \\sum_{j: e_j \\leq n} \\frac{\\ell_j}{n} P_{n-e_j}\n",
    "\\end{cases}}$$"
   ]
  },
  {
   "cell_type": "markdown",
   "id": "c76961da",
   "metadata": {},
   "source": [
    "We have now all we need:\n",
    "* As a portfolio holder, we have access to all the exposures $e_A$ and probabilities $p_A$ of the obligors, so we can easily calculate $\\mu_j = \\sum_{A: e_A = e_j} p_A$ and $\\ell_j = e_j \\mu_j$. \n",
    "* This allows us to calculate $P_0$. \n",
    "* With it, we can then recursively calculate all other probabilities"
   ]
  },
  {
   "cell_type": "markdown",
   "id": "d15c24cd",
   "metadata": {},
   "source": [
    "## Implementation"
   ]
  },
  {
   "cell_type": "code",
   "execution_count": 145,
   "id": "e6b7f5dd",
   "metadata": {},
   "outputs": [],
   "source": [
    "import numpy as np\n",
    "import matplotlib.pyplot as plt\n",
    "import scipy.stats\n",
    "from tqdm.notebook import tqdm"
   ]
  },
  {
   "cell_type": "code",
   "execution_count": 212,
   "id": "c0f46f43",
   "metadata": {},
   "outputs": [],
   "source": [
    "np.random.seed(2)\n",
    "n_borrowers = 2000\n",
    "p_A = np.random.uniform(low=0.0, high=0.005, size=n_borrowers)  # create p_A's from a uniform distribution\n",
    "e_A = 1+np.random.exponential(scale=1000, size=n_borrowers)      # create e_A's from an exponential distribution"
   ]
  },
  {
   "cell_type": "code",
   "execution_count": 213,
   "id": "0210ef4d",
   "metadata": {},
   "outputs": [],
   "source": [
    "# Check that total defaults follow a Poisson distribution via Monte-Carlo simulation\n",
    "n_mc = 10000\n",
    "\n",
    "total_defaults = (np.random.uniform(0,1, size=(10000, n_borrowers)) <= np.broadcast_to(p_A, (10000, n_borrowers))).\\\n",
    "    sum(axis=1)"
   ]
  },
  {
   "cell_type": "code",
   "execution_count": 214,
   "id": "fd71656e",
   "metadata": {},
   "outputs": [
    {
     "data": {
      "image/png": "[encoded data removed]",
      "text/plain": [
       "<Figure size 432x288 with 1 Axes>"
      ]
     },
     "metadata": {
      "needs_background": "light"
     },
     "output_type": "display_data"
    }
   ],
   "source": [
    "plt.hist(total_defaults, density=True, label=\"Empirical histogram\")\n",
    "k=np.array(range(total_defaults.min(),total_defaults.max()))\n",
    "plt.plot(k, scipy.stats.poisson.pmf(k, mu=p_A.sum()), label=\"Theoretical Poisson distribution\")\n",
    "plt.title(\"Check of approximation with $\\mu = $\"+str(round(p_A.sum(),2)))\n",
    "plt.show()"
   ]
  },
  {
   "cell_type": "markdown",
   "id": "a0ff536f",
   "metadata": {},
   "source": [
    "Conclusion: the Poisson distribution works well here!"
   ]
  },
  {
   "cell_type": "code",
   "execution_count": 215,
   "id": "f9a20083",
   "metadata": {},
   "outputs": [
    {
     "name": "stdout",
     "output_type": "stream",
     "text": [
      "The vector e_j has 1323 unique components\n"
     ]
    }
   ],
   "source": [
    "# create e_j by rounding\n",
    "e_j = np.floor(e_A).astype(int)\n",
    "e_j_unique = np.sort(np.unique(e_j))\n",
    "print(f\"The vector e_j has {len(e_j_unique)} unique components\")"
   ]
  },
  {
   "cell_type": "code",
   "execution_count": 219,
   "id": "a305fe90",
   "metadata": {},
   "outputs": [
    {
     "data": {
      "application/vnd.jupyter.widget-view+json": {
       "model_id": "7bcb1aa6f4424b1ca6722f93bde56a95",
       "version_major": 2,
       "version_minor": 0
      },
      "text/plain": [
       "  0%|          | 0/1323 [00:00<?, ?it/s]"
      ]
     },
     "metadata": {},
     "output_type": "display_data"
    }
   ],
   "source": [
    "mu_j = []\n",
    "for ej in tqdm(e_j_unique):\n",
    "    temp_mu_j = 0\n",
    "    for pa, ea in zip(p_A, e_j):\n",
    "        if ea == ej:\n",
    "            temp_mu_j += pa\n",
    "    mu_j.append(temp_mu_j)\n",
    "mu_j = np.array(mu_j)"
   ]
  },
  {
   "cell_type": "code",
   "execution_count": 220,
   "id": "dd16524d",
   "metadata": {},
   "outputs": [],
   "source": [
    "l_j = mu_j * e_j_unique"
   ]
  },
  {
   "cell_type": "code",
   "execution_count": 221,
   "id": "8352ef2a",
   "metadata": {},
   "outputs": [],
   "source": [
    "# recurrence relation\n",
    "p = {i: np.nan for i in range(0, e_j_unique.max())}\n",
    "p[0] = np.exp(-mu_j.sum())"
   ]
  },
  {
   "cell_type": "code",
   "execution_count": 222,
   "id": "4f3b3d51",
   "metadata": {},
   "outputs": [
    {
     "data": {
      "application/vnd.jupyter.widget-view+json": {
       "model_id": "f6de6498c9e1472ab47b975c8821481d",
       "version_major": 2,
       "version_minor": 0
      },
      "text/plain": [
       "  0%|          | 0/7094 [00:00<?, ?it/s]"
      ]
     },
     "metadata": {},
     "output_type": "display_data"
    }
   ],
   "source": [
    "for n in tqdm(range(1, e_j_unique.max())):\n",
    "    p[n] = 1/n * np.sum([lj * p[n-ej]  for lj, ej in zip(l_j, e_j_unique) if ej <= n])"
   ]
  },
  {
   "cell_type": "markdown",
   "id": "57cb138b",
   "metadata": {},
   "source": [
    "# References\n",
    "https://hal.archives-ouvertes.fr/hal-01696011/document"
   ]
  },
  {
   "cell_type": "markdown",
   "id": "ae1df285",
   "metadata": {},
   "source": [
    "Solução usando while"
   ]
  }
 ],
 "metadata": {
  "kernelspec": {
   "display_name": "Python 3",
   "language": "python",
   "name": "python3"
  },
  "language_info": {
   "codemirror_mode": {
    "name": "ipython",
    "version": 3
   },
   "file_extension": ".py",
   "mimetype": "text/x-python",
   "name": "python",
   "nbconvert_exporter": "python",
   "pygments_lexer": "ipython3",
   "version": "3.8.8"
  }
 },
 "nbformat": 4,
 "nbformat_minor": 5
}
