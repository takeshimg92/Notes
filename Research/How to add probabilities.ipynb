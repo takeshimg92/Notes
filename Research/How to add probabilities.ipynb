{
 "cells": [
  {
   "cell_type": "markdown",
   "id": "90ff5c01",
   "metadata": {},
   "source": [
    "# The vector structure of probability spaces"
   ]
  },
  {
   "cell_type": "markdown",
   "id": "a63c553a",
   "metadata": {},
   "source": [
    "Based on:\n",
    "https://www.ncbi.nlm.nih.gov/pmc/articles/PMC2423493/"
   ]
  },
  {
   "cell_type": "markdown",
   "id": "b8b787bf",
   "metadata": {},
   "source": [
    "How to add two probabilities? Does it even make sense?"
   ]
  },
  {
   "cell_type": "markdown",
   "id": "117536e3",
   "metadata": {},
   "source": [
    "Let $\\Delta_{K}$ be the $K+1$-dimensional probability simplex,\n",
    "\n",
    "$$\\Delta_K := \\left\\{ p \\in [0,1]^{K+1}: \\sum_{k=1}^{K+1} p_k = 1 \\right\\}$$"
   ]
  },
  {
   "cell_type": "markdown",
   "id": "a3853cb9",
   "metadata": {},
   "source": [
    "Define the **logit function** as the map $\\phi: \\Delta_K \\to \\mathbb R^{K}$ such that, if $p_i$ is the $i$-th component of $p$, then\n",
    "\n",
    "$$\\boxed{\\phi(p)_i = \\log \\frac{p_i}{p_{K+1}}}\\quad\\mbox{(logit function)}$$"
   ]
  },
  {
   "cell_type": "markdown",
   "id": "38862b4b",
   "metadata": {},
   "source": [
    "where the last component $p_{K+1}$ is equal to $1 - \\sum_{k=1}^K p_k$."
   ]
  },
  {
   "cell_type": "markdown",
   "id": "aff75976",
   "metadata": {},
   "source": [
    "Similarly, we can compute its inverse as\n",
    "\n",
    "$$\\phi^{-1}(x)_i = \\begin{cases}\n",
    "\\displaystyle \\frac{e^{x_i}}{Z} & \\mbox{ if } i \\in \\{1,\\cdots,K\\}\\\\\n",
    "\\displaystyle \\frac{1}{Z} & \\mbox{ if } i = K+1\n",
    "\\end{cases}$$\n",
    "\n",
    "where the normalization is\n",
    "\n",
    "$$Z = 1 + \\sum_{k=1}^K e^{x_k}$$"
   ]
  },
  {
   "cell_type": "markdown",
   "id": "9639abc1",
   "metadata": {},
   "source": [
    "We *define* the sum of two points in the simplex as\n",
    "\n",
    "$$\\boxed{|p\\rangle + |q\\rangle := \\phi^{-1}(\\phi(p) + \\phi(q))}$$"
   ]
  },
  {
   "cell_type": "markdown",
   "id": "e0485348",
   "metadata": {},
   "source": [
    "and the multiplication by scalar $\\cdot$ as\n",
    "\n",
    "$$\\boxed{\\alpha |p\\rangle := \\phi^{-1}(\\alpha\\, \\phi(p))}$$"
   ]
  },
  {
   "cell_type": "markdown",
   "id": "a53dc060",
   "metadata": {},
   "source": [
    "It is easy to show that these two yield\n",
    "\n",
    "$$\\boxed{|p\\rangle+|q\\rangle = \\frac{1}{ \\sum_{k=1}^{K+1} p_k q_k} \\sum_i p_i q_i |i\\rangle}$$\n",
    "\n",
    "$$\\boxed{\\alpha | p\\rangle = \\frac{1}{\\sum_{k=1}^{K+1} p_k^\\alpha} \\sum_i p_i^\\alpha |i\\rangle}$$"
   ]
  },
  {
   "cell_type": "markdown",
   "id": "fedcd4a6",
   "metadata": {},
   "source": [
    "Some important results:\n",
    "    \n",
    "* The **null vector** in $\\Delta_K$ is the one relative to the uniform distribution:\n",
    "  $$|0\\rangle= \\sum_{i=1}^{K+1} \\frac{1}{K+1} |i\\rangle $$\n",
    "  \n",
    "  It is easy to show that $|p\\rangle + | 0\\rangle = |p\\rangle$ for any $p$.\n",
    "  \n",
    "* The **additive inverse**, which we call $|- p\\rangle$, is exactly $(-1)| p\\rangle$:\n",
    "  \n",
    "  $$|- p\\rangle_i = (-1 |p\\rangle)_i = \\frac{1/p_i}{\\sum_{k=1}^{K+1} 1/p_k}$$"
   ]
  },
  {
   "cell_type": "markdown",
   "id": "cf78aca1",
   "metadata": {},
   "source": [
    "With these operations, $(\\Delta_K, +, \\cdot)$ is a real vector space!"
   ]
  },
  {
   "cell_type": "code",
   "execution_count": 2,
   "id": "0405b21c",
   "metadata": {},
   "outputs": [],
   "source": [
    "import numpy as np\n",
    "import matplotlib.pyplot as plt"
   ]
  },
  {
   "cell_type": "code",
   "execution_count": 94,
   "id": "bb5377f6",
   "metadata": {},
   "outputs": [],
   "source": [
    "from __future__ import annotations\n",
    "\n",
    "class Prob:\n",
    "    \n",
    "    def __init__(self, \n",
    "                coords: np.array):\n",
    "        \n",
    "        self.p = np.array(coords)\n",
    "    \n",
    "    def __add__(self, q: Prob):\n",
    "        summ = self.p * q.p\n",
    "        summ /= summ.sum()\n",
    "        \n",
    "        return Prob(coords=summ)\n",
    "    \n",
    "    def __sub__(self, q: Prob):\n",
    "        return self.__add__(q.scalar(-1))\n",
    "    \n",
    "    def __mul__(self, a: float):\n",
    "        \n",
    "        return self.scalar(a)\n",
    "    \n",
    "    def scalar(self, a: float):\n",
    "        \n",
    "        coords = (self.p)**a\n",
    "        coords /= coords.sum()\n",
    "        return Prob(coords=coords)\n",
    "    \n",
    "    def __repr__(self):\n",
    "        return \"(\"+ \", \".join([str(round(p,4)) for p in self.p]) + \")\"\n",
    "    \n",
    "    @classmethod\n",
    "    def zero(clf):\n",
    "        return Prob(1/3*np.ones((3)))"
   ]
  },
  {
   "cell_type": "code",
   "execution_count": 95,
   "id": "d01dca70",
   "metadata": {},
   "outputs": [],
   "source": [
    "z = Prob.zero()"
   ]
  },
  {
   "cell_type": "code",
   "execution_count": 96,
   "id": "f3624ba8",
   "metadata": {},
   "outputs": [
    {
     "data": {
      "text/plain": [
       "(0.3333, 0.3333, 0.3333)"
      ]
     },
     "execution_count": 96,
     "metadata": {},
     "output_type": "execute_result"
    }
   ],
   "source": [
    "p = Prob([0.3, 0.3, 0.4])\n",
    "q = Prob([0.2, 0.1, 0.7])\n",
    "\n",
    "zero = Prob.zero()\n",
    "zero"
   ]
  },
  {
   "cell_type": "code",
   "execution_count": 97,
   "id": "dede87e8",
   "metadata": {},
   "outputs": [
    {
     "data": {
      "text/plain": [
       "(0.3, 0.3, 0.4)"
      ]
     },
     "execution_count": 97,
     "metadata": {},
     "output_type": "execute_result"
    }
   ],
   "source": [
    "p+zero # zero doesn't do anything"
   ]
  },
  {
   "cell_type": "code",
   "execution_count": 98,
   "id": "88c26946",
   "metadata": {},
   "outputs": [
    {
     "data": {
      "text/plain": [
       "(0.3636, 0.3636, 0.2727)"
      ]
     },
     "execution_count": 98,
     "metadata": {},
     "output_type": "execute_result"
    }
   ],
   "source": [
    "p_bar = p * (-1) # how does the additive inverse look like?\n",
    "p_bar"
   ]
  },
  {
   "cell_type": "code",
   "execution_count": 93,
   "id": "5e095bd3",
   "metadata": {},
   "outputs": [
    {
     "data": {
      "text/plain": [
       "(0.3333, 0.3333, 0.3333)"
      ]
     },
     "execution_count": 93,
     "metadata": {},
     "output_type": "execute_result"
    }
   ],
   "source": [
    "p+p_bar # should give the zero vector"
   ]
  },
  {
   "cell_type": "code",
   "execution_count": 110,
   "id": "5217546f",
   "metadata": {},
   "outputs": [],
   "source": [
    "def plot_simplex(probs_list, ax=None):\n",
    "    \n",
    "    simplex_coords = lambda x, y, z:  ((-x+y)/np.sqrt(2), (-x-y+2*z+1)/np.sqrt(6))\n",
    "    \n",
    "    coords = np.array([simplex_coords(*p.p) for p in probs_list])\n",
    "    xs, ys = coords[:,0], coords[:,1]\n",
    "    \n",
    "    if ax is None:\n",
    "        plt.plot(xs, ys, alpha=0.9)\n",
    "        plt.show()\n",
    "    else:\n",
    "        ax.plot(xs, ys, alpha=0.9)"
   ]
  },
  {
   "cell_type": "code",
   "execution_count": 116,
   "id": "b613c723",
   "metadata": {},
   "outputs": [
    {
     "data": {
      "text/plain": [
       "1.04"
      ]
     },
     "execution_count": 116,
     "metadata": {},
     "output_type": "execute_result"
    }
   ],
   "source": [
    "w.p.sum()"
   ]
  },
  {
   "cell_type": "code",
   "execution_count": 122,
   "id": "e75e2ec3",
   "metadata": {},
   "outputs": [
    {
     "data": {
      "text/plain": [
       "[<matplotlib.lines.Line2D at 0x7fb122d9c8b0>]"
      ]
     },
     "execution_count": 122,
     "metadata": {},
     "output_type": "execute_result"
    },
    {
     "data": {
      "image/png": "[encoded data removed]",
      "text/plain": [
       "<Figure size 432x288 with 1 Axes>"
      ]
     },
     "metadata": {
      "needs_background": "light"
     },
     "output_type": "display_data"
    }
   ],
   "source": [
    "fig, ax = plt.subplots()\n",
    "p_list = [p * a for a in np.arange(-3, 3, 0.01)]\n",
    "plot_simplex(p_list, ax=ax)\n",
    "    \n",
    "q_list = [q * a for a in np.arange(-3, 3, 0.01)]\n",
    "plot_simplex(q_list, ax=ax)\n",
    "\n",
    "w = Prob([0.1, 0.3, 0.6])\n",
    "w_list = [w * a for a in np.arange(-3,3, 0.01)]\n",
    "plot_simplex(w_list, ax=ax)\n",
    "\n",
    "w = Prob([0.18, 0.35, 0.47])\n",
    "w_list = [w * a for a in np.arange(-3,3, 0.01)]\n",
    "plot_simplex(w_list, ax=ax)\n",
    "\n",
    "w = p+q*0.01\n",
    "w_list = [w * a for a in np.arange(-3,3, 0.01)]\n",
    "plot_simplex(w_list, ax=ax)\n",
    "\n",
    "\n",
    "\n",
    "ax.plot([-1/np.sqrt(2), 0], [0, np.sqrt(3/2)], color='gray')\n",
    "ax.plot([0, 1/np.sqrt(2) ], [np.sqrt(3/2), 0], color='gray')\n",
    "ax.plot([-1/np.sqrt(2), 1/np.sqrt(2)], [0, 0], color='gray')"
   ]
  },
  {
   "cell_type": "code",
   "execution_count": 190,
   "id": "b74e3246",
   "metadata": {},
   "outputs": [],
   "source": [
    "def plot_simplex(y_true, y_probs, ax=None):\n",
    "    \n",
    "    simplex_coords = lambda x, y, z:  ((-x+y)/np.sqrt(2), (-x-y+2*z+1)/np.sqrt(6))\n",
    "    xs, ys = simplex_coords(y_probs[:,0], y_probs[:,1], y_probs[:,2])\n",
    "    if ax is None:\n",
    "        plt.plot(xs, ys, c=y_true, alpha=0.5, marker='.')\n",
    "        plt.show()\n",
    "    else:\n",
    "        ax.plot(xs, ys, c=y_true, alpha=0.5, marker='.')"
   ]
  },
  {
   "cell_type": "code",
   "execution_count": 186,
   "id": "e0ab33e8",
   "metadata": {},
   "outputs": [],
   "source": [
    "from sklearn.datasets import make_classification\n",
    "from sklearn.model_selection import train_test_split\n",
    "from sklearn.metrics import roc_auc_score\n",
    "from sklearn.linear_model import LogisticRegression\n",
    "from sklearn.ensemble import RandomForestClassifier\n",
    "\n",
    "X, y = make_classification(n_classes=3,\n",
    "                           n_samples=3000,\n",
    "                           random_state=2, \n",
    "                           n_features=10,\n",
    "                           n_informative=10,\n",
    "                           n_redundant=0,\n",
    "                           n_repeated=0)\n",
    "\n",
    "X_train, X_test, y_train, y_test = train_test_split(X, y, random_state=23)\n",
    "\n",
    "model = RandomForestClassifier(random_state=3)\n",
    "model.fit(X_train, y_train)\n",
    "\n",
    "y_probs_rf = model.predict_proba(X_test)\n",
    "y_probs_train_rf = model.predict_proba(X_train)\n"
   ]
  },
  {
   "cell_type": "code",
   "execution_count": 187,
   "id": "30c01e00",
   "metadata": {},
   "outputs": [],
   "source": [
    "def logit2(p):\n",
    "    p1, p2, p3 = p[0], p[1], p[2]\n",
    "    \n",
    "    return np.array([np.log(p1/p3), np.log(p2/p3)])\n",
    "\n",
    "def inv_logit2(x):\n",
    "    xx = np.append(x,0)\n",
    "    Z = 1 + np.exp(x).sum()\n",
    "    return 1/Z * np.exp(xx)\n",
    "\n",
    "p = np.array([0.3, 0.1, 0.6])\n",
    "assert np.all(inv_logit2(logit2(p)) == p)"
   ]
  },
  {
   "cell_type": "code",
   "execution_count": 188,
   "id": "ae67166e",
   "metadata": {},
   "outputs": [],
   "source": [
    "def rot(theta):\n",
    "    c, s = np.cos(theta), np.sin(theta)\n",
    "    return np.array([[c, s],[-s,c]])"
   ]
  },
  {
   "cell_type": "code",
   "execution_count": 191,
   "id": "0c42659e",
   "metadata": {},
   "outputs": [
    {
     "data": {
      "text/plain": [
       "[<matplotlib.lines.Line2D at 0x7fb125fd5910>]"
      ]
     },
     "execution_count": 191,
     "metadata": {},
     "output_type": "execute_result"
    },
    {
     "data": {
      "image/png": "[encoded data removed]",
      "text/plain": [
       "<Figure size 432x288 with 1 Axes>"
      ]
     },
     "metadata": {
      "needs_background": "light"
     },
     "output_type": "display_data"
    }
   ],
   "source": [
    "fig, ax = plt.subplots()\n",
    "\n",
    "for p in [\n",
    "    np.array([0.9, 0.05, 0.05]),\n",
    "    np.array([0.99, 0.005, 0.005]),\n",
    "    np.array([0.33, 0.33, 0.34]),\n",
    "    np.array([0.6, 0.2, 0.2]),\n",
    "#    np.array([0.2, 0.2, 0.6]),\n",
    "#    np.array([0.2, 0.6, 0.2]),\n",
    "]: \n",
    "    rotated_x = [rot(theta) @ logit2(p) for theta in np.arange(0, 6.28, 0.01)]\n",
    "    rotate_p = [inv_logit2(xx) for xx in rotated_x]\n",
    "    plot_simplex(None, np.array(rotate_p), ax)\n",
    "    \n",
    "ax.plot([-1/np.sqrt(2), 0], [0, np.sqrt(3/2)], color='gray')\n",
    "ax.plot([0, 1/np.sqrt(2) ], [np.sqrt(3/2), 0], color='gray')\n",
    "ax.plot([-1/np.sqrt(2), 1/np.sqrt(2)], [0, 0], color='gray')"
   ]
  },
  {
   "cell_type": "code",
   "execution_count": null,
   "id": "f1988624",
   "metadata": {},
   "outputs": [],
   "source": []
  },
  {
   "cell_type": "code",
   "execution_count": null,
   "id": "8d52c89c",
   "metadata": {},
   "outputs": [],
   "source": []
  }
 ],
 "metadata": {
  "kernelspec": {
   "display_name": "Python 3",
   "language": "python",
   "name": "python3"
  },
  "language_info": {
   "codemirror_mode": {
    "name": "ipython",
    "version": 3
   },
   "file_extension": ".py",
   "mimetype": "text/x-python",
   "name": "python",
   "nbconvert_exporter": "python",
   "pygments_lexer": "ipython3",
   "version": "3.8.8"
  }
 },
 "nbformat": 4,
 "nbformat_minor": 5
}
